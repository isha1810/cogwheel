{
 "cells": [
  {
   "cell_type": "code",
   "execution_count": null,
   "id": "c2c435de",
   "metadata": {},
   "outputs": [],
   "source": [
    "# Prior - cubes in lambda space\n",
    "# Likelihood - \n",
    "# Posterior - \n",
    "\n",
    "# maybe define population model as a \"Combined prior\"??? but too confusing"
   ]
  },
  {
   "cell_type": "code",
   "execution_count": null,
   "id": "6211cd00",
   "metadata": {},
   "outputs": [],
   "source": [
    "# define a prior class for lambdas\n",
    "# define a prior class for population_model\n",
    "# likelihood\n"
   ]
  }
 ],
 "metadata": {
  "kernelspec": {
   "display_name": "Python 3 (ipykernel)",
   "language": "python",
   "name": "python3"
  },
  "language_info": {
   "codemirror_mode": {
    "name": "ipython",
    "version": 3
   },
   "file_extension": ".py",
   "mimetype": "text/x-python",
   "name": "python",
   "nbconvert_exporter": "python",
   "pygments_lexer": "ipython3",
   "version": "3.8.16"
  }
 },
 "nbformat": 4,
 "nbformat_minor": 5
}
