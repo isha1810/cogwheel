{
 "cells": [
  {
   "cell_type": "markdown",
   "id": "bfd8137a",
   "metadata": {},
   "source": [
    "# Sampling a posterior distribution\n",
    "\n",
    "This notebook shows how to instantiate a posterior and sample from it."
   ]
  },
  {
   "cell_type": "raw",
   "id": "b4c55ce1",
   "metadata": {},
   "source": [
    "%matplotlib notebook\n",
    "%config Completer.use_jedi = False"
   ]
  },
  {
   "cell_type": "code",
   "execution_count": null,
   "id": "94d6b09b",
   "metadata": {},
   "outputs": [],
   "source": [
    "import itertools\n",
    "import os\n",
    "import sys\n",
    "import numpy as np\n",
    "import pandas as pd\n",
    "import matplotlib.pyplot as plt\n",
    "import pathlib\n",
    "\n",
    "sys.path.append('..')\n",
    "import cogwheel\n",
    "from cogwheel import posterior, sampling, utils"
   ]
  },
  {
   "cell_type": "code",
   "execution_count": null,
   "id": "b50c34fd",
   "metadata": {},
   "outputs": [],
   "source": [
    "from IPython.display import IFrame"
   ]
  },
  {
   "cell_type": "code",
   "execution_count": null,
   "id": "783d85c1",
   "metadata": {},
   "outputs": [],
   "source": [
    "all_events = [name.rstrip('.npz') for name in os.listdir(cogwheel.data.DATADIR)]"
   ]
  },
  {
   "cell_type": "code",
   "execution_count": null,
   "id": "090c19cb",
   "metadata": {},
   "outputs": [],
   "source": [
    "parentdir = NotImplemented  # Set to a path to save output\n",
    "eventnames = ['GW151226', 'GW190521']  # Pick from `all_events` \n",
    "approximant = 'IMRPhenomXPHM'  # See cogwheel.waveform.APPROXIMANTS for options\n",
    "prior_class = 'IASPrior'  # See `cogwheel.prior.prior_registry` for options\n",
    "\n",
    "assert parentdir is not NotImplemented, 'But I told you to set `parentdir` to a path!'"
   ]
  },
  {
   "cell_type": "markdown",
   "id": "915d206f",
   "metadata": {},
   "source": [
    "## Set up `Posterior` objects\n",
    "\n",
    "For each event, we need to find a waveform with good likelihood to set as reference for relative binning.\n",
    "This is managed from the `Posterior` class.\n",
    "\n",
    "Below, we submit this task to the cluster for each event. This may take ~ 10 min. At the end, subdirectories for each event will be created inside `parentdir` and each will contain a `Posterior.json` file from which we can instatiate a `Posterior`."
   ]
  },
  {
   "cell_type": "code",
   "execution_count": null,
   "id": "770f12fe",
   "metadata": {},
   "outputs": [],
   "source": [
    "posterior.initialize_posteriors_slurm(eventnames, approximant, prior_class, parentdir)"
   ]
  },
  {
   "cell_type": "code",
   "execution_count": null,
   "id": "900e75e7",
   "metadata": {},
   "outputs": [],
   "source": [
    "#... Wait for completion...\n",
    "incomplete = [eventname for eventname in eventnames\n",
    "              if not (utils.get_eventdir(parentdir, prior_class, eventname)\n",
    "                      /'Posterior.json').exists()]\n",
    "if incomplete:\n",
    "    print(', '.join(incomplete), 'did not complete yet. Wait and rerun this cell.')\n",
    "else:\n",
    "    print('All completed, good to go!')"
   ]
  },
  {
   "cell_type": "markdown",
   "id": "a2c3f6bd",
   "metadata": {},
   "source": [
    "## Run PyMultinest"
   ]
  },
  {
   "cell_type": "markdown",
   "id": "dd44f0c3",
   "metadata": {},
   "source": [
    "For each event we will make several parameter estimation runs, with different sampler settings.\n",
    "Here we construct a table of such settings. Its columns should be keywords to `pymultinest.run`."
   ]
  },
  {
   "cell_type": "code",
   "execution_count": null,
   "id": "f667c150",
   "metadata": {},
   "outputs": [],
   "source": [
    "nlives = 512 * 2**np.arange(4)[::-1]\n",
    "tols = (1/8, 1/2)\n",
    "importance_nested_samplings = (True, False)\n",
    "\n",
    "table = pd.DataFrame(\n",
    "    itertools.product(nlives, tols, importance_nested_samplings),\n",
    "    columns=['n_live_points', 'evidence_tolerance', 'importance_nested_sampling'])\n",
    "table"
   ]
  },
  {
   "cell_type": "markdown",
   "id": "475e5c43",
   "metadata": {},
   "source": [
    "Once the table looks good, we submit to the cluster.\n",
    "\n",
    "For each event we load the `Posterior` previously saved and submit as many runs as rows in the table. "
   ]
  },
  {
   "cell_type": "code",
   "execution_count": null,
   "id": "29e25628",
   "metadata": {
    "scrolled": true
   },
   "outputs": [],
   "source": [
    "print(f'About to submit {len(eventnames) * len(table)} jobs...')"
   ]
  },
  {
   "cell_type": "code",
   "execution_count": null,
   "id": "7e464d75",
   "metadata": {},
   "outputs": [],
   "source": [
    "for eventname in eventnames:\n",
    "    post = utils.read_json(utils.get_eventdir(parentdir, prior_class, eventname))\n",
    "    pym = sampling.PyMultiNest(post)\n",
    "    \n",
    "    for _, run_kwargs in table.iterrows():\n",
    "        pym.run_kwargs |= run_kwargs\n",
    "        pym.submit_slurm(pym.get_rundir(parentdir))"
   ]
  },
  {
   "cell_type": "markdown",
   "id": "3f62b105",
   "metadata": {},
   "source": [
    "... wait for completion and\n",
    "## Plot samples\n",
    "We can use `Samplings.diagnostics` to make diagnostic plots and save them to pdf format."
   ]
  },
  {
   "cell_type": "code",
   "execution_count": null,
   "id": "ba2bd7b1",
   "metadata": {},
   "outputs": [],
   "source": [
    "for eventname in eventnames:\n",
    "    sampling.diagnostics(utils.get_eventdir(parentdir, prior_class, eventname))"
   ]
  },
  {
   "cell_type": "markdown",
   "id": "0eeb1cf2",
   "metadata": {},
   "source": [
    "Now we create a symlink to `parentdir` in the working directory.\n",
    "(Needed because `IFrame` can only show pdfs that are in subdirectories of the working directory)"
   ]
  },
  {
   "cell_type": "code",
   "execution_count": null,
   "id": "f4dd9b7f",
   "metadata": {},
   "outputs": [],
   "source": [
    "! ln -s {parentdir} parentdir"
   ]
  },
  {
   "cell_type": "markdown",
   "id": "88a323cb",
   "metadata": {},
   "source": [
    "Visualize the pdf plots"
   ]
  },
  {
   "cell_type": "code",
   "execution_count": null,
   "id": "48380ce2",
   "metadata": {
    "scrolled": false
   },
   "outputs": [],
   "source": [
    "IFrame(utils.get_eventdir('parentdir', prior_class, eventnames[0])/'diagnostics.pdf',\n",
    "       width=950, height=800)"
   ]
  }
 ],
 "metadata": {
  "kernelspec": {
   "display_name": "Python 3 (ipykernel)",
   "language": "python",
   "name": "python3"
  },
  "language_info": {
   "codemirror_mode": {
    "name": "ipython",
    "version": 3
   },
   "file_extension": ".py",
   "mimetype": "text/x-python",
   "name": "python",
   "nbconvert_exporter": "python",
   "pygments_lexer": "ipython3",
   "version": "3.9.7"
  }
 },
 "nbformat": 4,
 "nbformat_minor": 5
}
