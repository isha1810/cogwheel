{
 "cells": [
  {
   "cell_type": "code",
   "execution_count": null,
   "id": "82a93fd0",
   "metadata": {
    "ExecuteTime": {
     "end_time": "2022-11-04T00:52:11.302362Z",
     "start_time": "2022-11-04T00:52:06.187464Z"
    }
   },
   "outputs": [],
   "source": [
    "import os\n",
    "os.environ[\"OMP_NUM_THREADS\"] = \"1\"\n",
    "\n",
    "import sys\n",
    "sys.path.append('..')\n",
    "\n",
    "from pathlib import Path\n",
    "import pandas as pd\n",
    "\n",
    "from cogwheel import posterior\n",
    "from cogwheel import sampling\n",
    "from cogwheel import data\n",
    "from cogwheel import likelihood\n",
    "from cogwheel import gw_plotting\n"
   ]
  },
  {
   "cell_type": "code",
   "execution_count": null,
   "id": "751057eb",
   "metadata": {
    "ExecuteTime": {
     "end_time": "2022-11-04T00:52:13.815915Z",
     "start_time": "2022-11-04T00:52:13.813672Z"
    }
   },
   "outputs": [],
   "source": [
    "parentdir = Path('pe')  # SET ME"
   ]
  },
  {
   "cell_type": "code",
   "execution_count": null,
   "id": "39cc8a4c",
   "metadata": {
    "ExecuteTime": {
     "end_time": "2022-11-04T00:52:15.429064Z",
     "start_time": "2022-11-04T00:52:15.423558Z"
    }
   },
   "outputs": [],
   "source": [
    "mchirp_guesses = data.EVENTS_METADATA['mchirp']"
   ]
  },
  {
   "cell_type": "code",
   "execution_count": null,
   "id": "5b9f7e23",
   "metadata": {
    "ExecuteTime": {
     "end_time": "2022-11-04T00:52:17.937591Z",
     "start_time": "2022-11-04T00:52:17.887997Z"
    }
   },
   "outputs": [],
   "source": [
    "eventname = 'GW190412'"
   ]
  },
  {
   "cell_type": "code",
   "execution_count": null,
   "id": "fd72c80d",
   "metadata": {
    "ExecuteTime": {
     "end_time": "2022-11-04T00:46:28.382129Z",
     "start_time": "2022-11-04T00:17:49.625212Z"
    }
   },
   "outputs": [],
   "source": [
    "post = posterior.Posterior.from_event(eventname,\n",
    "                                      mchirp_guesses[eventname],\n",
    "                                      'IMRPhenomXPHM',\n",
    "                                      prior_class='IntrinsicIASPrior',\n",
    "                                      likelihood_class=likelihood.MarginalizedExtrinsicLikelihood)"
   ]
  },
  {
   "cell_type": "code",
   "execution_count": null,
   "id": "113b4112",
   "metadata": {
    "ExecuteTime": {
     "end_time": "2022-11-04T00:46:28.382129Z",
     "start_time": "2022-11-04T00:17:49.625212Z"
    }
   },
   "outputs": [],
   "source": [
    "pym = sampling.PyMultiNest(post)\n",
    "pym.run_kwargs['n_live_points'] = 1024\n",
    "rundir = pym.get_rundir(parentdir)\n",
    "pym.run(rundir)"
   ]
  },
  {
   "cell_type": "code",
   "execution_count": null,
   "id": "73cc3bb7",
   "metadata": {},
   "outputs": [],
   "source": [
    "samples = pd.read_feather(rundir/'samples.feather')"
   ]
  },
  {
   "cell_type": "code",
   "execution_count": null,
   "id": "2c914090",
   "metadata": {},
   "outputs": [],
   "source": [
    "params = [\n",
    "    'mchirp',\n",
    "    'lnq',\n",
    "    'chieff',\n",
    "    'cumchidiff',\n",
    "    'costheta_jn',\n",
    "    'phi_jl_hat',\n",
    "    'phi12',\n",
    "    'cums1r_s1z',\n",
    "    'cums2r_s2z',\n",
    "    'd_luminosity',\n",
    "    'dec',\n",
    "    'phi_ref',\n",
    "    'psi',\n",
    "    't_geocenter',\n",
    "    'lnl_marginalized',\n",
    "    'lnl',\n",
    "    'ra'\n",
    "]"
   ]
  },
  {
   "cell_type": "code",
   "execution_count": null,
   "id": "2fdae76f",
   "metadata": {},
   "outputs": [],
   "source": [
    "gw_plotting.CornerPlot(samples[params]).plot()"
   ]
  }
 ],
 "metadata": {
  "kernelspec": {
   "display_name": "Python 3 (ipykernel)",
   "language": "python",
   "name": "python3"
  },
  "language_info": {
   "codemirror_mode": {
    "name": "ipython",
    "version": 3
   },
   "file_extension": ".py",
   "mimetype": "text/x-python",
   "name": "python",
   "nbconvert_exporter": "python",
   "pygments_lexer": "ipython3",
   "version": "3.9.7"
  }
 },
 "nbformat": 4,
 "nbformat_minor": 5
}
