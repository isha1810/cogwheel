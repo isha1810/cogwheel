{
 "cells": [
  {
   "cell_type": "markdown",
   "id": "057fe006",
   "metadata": {},
   "source": [
    "# Generate `EventData` files\n",
    "using the pipeline's `TriggerList`s and the `cogwheel._private_ias` module.\n",
    "\n",
    "Note that for this to work one needs to create a `_private_ias.EventMetadata` instance, see examples at the end of `cogwheel/_private_ias.py`."
   ]
  },
  {
   "cell_type": "code",
   "execution_count": null,
   "id": "0c9622d3",
   "metadata": {
    "ExecuteTime": {
     "end_time": "2022-03-16T22:21:06.430297Z",
     "start_time": "2022-03-16T22:21:02.597350Z"
    }
   },
   "outputs": [],
   "source": [
    "import sys\n",
    "sys.path.append('..')\n",
    "\n",
    "from _private_scratch import _private_ias"
   ]
  },
  {
   "cell_type": "code",
   "execution_count": null,
   "id": "623b07ec",
   "metadata": {
    "ExecuteTime": {
     "end_time": "2022-03-16T22:23:27.330435Z",
     "start_time": "2022-03-16T22:23:24.159358Z"
    }
   },
   "outputs": [],
   "source": [
    "eventname = 'GW151226'\n",
    "\n",
    "event_data = _private_ias.get_event_data(eventname)"
   ]
  },
  {
   "cell_type": "markdown",
   "id": "527b6fe1",
   "metadata": {},
   "source": [
    "Save to `npz`. This file can go to the repo so people without access to the pipeline can still use the code."
   ]
  },
  {
   "cell_type": "code",
   "execution_count": null,
   "id": "e3a62182",
   "metadata": {},
   "outputs": [],
   "source": [
    "event_data.to_npz()"
   ]
  }
 ],
 "metadata": {
  "kernelspec": {
   "display_name": "Python 3",
   "language": "python",
   "name": "python3"
  },
  "language_info": {
   "codemirror_mode": {
    "name": "ipython",
    "version": 3
   },
   "file_extension": ".py",
   "mimetype": "text/x-python",
   "name": "python",
   "nbconvert_exporter": "python",
   "pygments_lexer": "ipython3",
   "version": "3.9.7"
  }
 },
 "nbformat": 4,
 "nbformat_minor": 5
}
