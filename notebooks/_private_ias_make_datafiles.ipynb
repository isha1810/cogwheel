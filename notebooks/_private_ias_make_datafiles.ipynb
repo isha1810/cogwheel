{
 "cells": [
  {
   "cell_type": "markdown",
   "id": "057fe006",
   "metadata": {},
   "source": [
    "# Generate `EventData` files\n",
    "using the pipeline's `TriggerList`s and the `cogwheel._private_ias` module"
   ]
  },
  {
   "cell_type": "code",
   "execution_count": null,
   "id": "0c9622d3",
   "metadata": {},
   "outputs": [],
   "source": [
    "import sys\n",
    "sys.path.append('..')\n",
    "\n",
    "from cogwheel import _private_ias"
   ]
  },
  {
   "cell_type": "code",
   "execution_count": null,
   "id": "623b07ec",
   "metadata": {},
   "outputs": [],
   "source": [
    "eventname = 'GW151226'"
   ]
  },
  {
   "cell_type": "code",
   "execution_count": null,
   "id": "0314bb6b",
   "metadata": {},
   "outputs": [],
   "source": [
    "event_metadata = _private_ias.event_registry[eventname]"
   ]
  },
  {
   "cell_type": "code",
   "execution_count": null,
   "id": "f6de17f9",
   "metadata": {},
   "outputs": [],
   "source": [
    "event_data = event_metadata.get_event_data()"
   ]
  },
  {
   "cell_type": "markdown",
   "id": "527b6fe1",
   "metadata": {},
   "source": [
    "Save to `npz`. This file can go to the repo so people without access to the pipeline can still use the code."
   ]
  },
  {
   "cell_type": "code",
   "execution_count": null,
   "id": "e3a62182",
   "metadata": {},
   "outputs": [],
   "source": [
    "event_data.to_npz()"
   ]
  }
 ],
 "metadata": {
  "kernelspec": {
   "display_name": "Python 3 (ipykernel)",
   "language": "python",
   "name": "python3"
  },
  "language_info": {
   "codemirror_mode": {
    "name": "ipython",
    "version": 3
   },
   "file_extension": ".py",
   "mimetype": "text/x-python",
   "name": "python",
   "nbconvert_exporter": "python",
   "pygments_lexer": "ipython3",
   "version": "3.9.7"
  }
 },
 "nbformat": 4,
 "nbformat_minor": 5
}
