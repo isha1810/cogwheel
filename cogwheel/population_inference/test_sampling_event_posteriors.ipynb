{
 "cells": [
  {
   "cell_type": "code",
   "execution_count": 1,
   "id": "c6b2267d",
   "metadata": {},
   "outputs": [],
   "source": [
    "path_to_cogwheel = '/home/isha/PopulationSelectionEffects/cogwheel'\n",
    "\n",
    "import sys\n",
    "sys.path.append(path_to_cogwheel)\n",
    "\n",
    "import pandas as pd\n",
    "\n",
    "from cogwheel import data\n",
    "from cogwheel import gw_prior\n",
    "from cogwheel import likelihood\n",
    "from cogwheel import sampling\n",
    "from cogwheel import waveform\n",
    "from cogwheel.posterior import Posterior\n",
    "\n",
    "\n",
    "import subprocess\n",
    "from matplotlib import pyplot as plt\n",
    "import gwosc\n",
    "from cogwheel import data"
   ]
  },
  {
   "cell_type": "code",
   "execution_count": 2,
   "id": "27a8ba29",
   "metadata": {},
   "outputs": [
    {
     "name": "stdout",
     "output_type": "stream",
     "text": [
      "Available eventnames:\n"
     ]
    },
    {
     "data": {
      "text/plain": [
       "86"
      ]
     },
     "execution_count": 2,
     "metadata": {},
     "output_type": "execute_result"
    }
   ],
   "source": [
    "eventnames = sorted(path.name.removesuffix('.npz')\n",
    "                    for path in data.DATADIR.glob('*.npz'))\n",
    "print('Available eventnames:')\n",
    "len(eventnames)"
   ]
  },
  {
   "cell_type": "code",
   "execution_count": 3,
   "id": "52c8faf2",
   "metadata": {},
   "outputs": [
    {
     "data": {
      "text/plain": [
       "{'IMRPhenomD_NRTidalv2': Approximant(harmonic_modes=[(2, 2)], aligned_spins=True, tides=True),\n",
       " 'IMRPhenomD_NRTidal': Approximant(harmonic_modes=[(2, 2)], aligned_spins=True, tides=True),\n",
       " 'SEOBNRv4_ROM_NRTidal': Approximant(harmonic_modes=[(2, 2)], aligned_spins=True, tides=True),\n",
       " 'SEOBNRv4_ROM_NRTidalv2': Approximant(harmonic_modes=[(2, 2)], aligned_spins=True, tides=True),\n",
       " 'TaylorF2NLTides': Approximant(harmonic_modes=[(2, 2)], aligned_spins=True, tides=True),\n",
       " 'IMRPhenomD': Approximant(harmonic_modes=[(2, 2)], aligned_spins=True, tides=False),\n",
       " 'IMRPhenomXPHM': Approximant(harmonic_modes=[(2, 2), (2, 1), (3, 3), (3, 2), (4, 4)], aligned_spins=False, tides=False),\n",
       " 'IMRPhenomXAS': Approximant(harmonic_modes=[(2, 2)], aligned_spins=True, tides=False),\n",
       " 'IMRPhenomXP': Approximant(harmonic_modes=[(2, 2)], aligned_spins=False, tides=False)}"
      ]
     },
     "execution_count": 3,
     "metadata": {},
     "output_type": "execute_result"
    }
   ],
   "source": [
    "waveform.APPROXIMANTS"
   ]
  },
  {
   "cell_type": "code",
   "execution_count": 4,
   "id": "0056a097",
   "metadata": {},
   "outputs": [
    {
     "name": "stdout",
     "output_type": "stream",
     "text": [
      "IASPrior:\n",
      "    Precessing, flat in chieff, uniform luminosity volume.\n",
      "\n",
      "AlignedSpinIASPrior:\n",
      "    Aligned spin, flat in chieff, uniform luminosity volume.\n",
      "\n",
      "TidalIASPrior:\n",
      "    Aligned spin, flat in tidal parameters, flat in chieff, uniform luminosity volume\n",
      "\n",
      "LVCPrior:\n",
      "    Precessing, isotropic spins, uniform luminosity volume.\n",
      "\n",
      "AlignedSpinLVCPrior:\n",
      "    Aligned spin components from isotropic distribution, uniform\n",
      "    luminosity volume.\n",
      "\n",
      "IASPriorComovingVT:\n",
      "    Precessing, flat in chieff, uniform comoving VT.\n",
      "\n",
      "AlignedSpinIASPriorComovingVT:\n",
      "    Aligned spin, flat in chieff, uniform comoving VT.\n",
      "\n",
      "LVCPriorComovingVT:\n",
      "    Precessing, isotropic spins, uniform comoving VT.\n",
      "\n",
      "AlignedSpinLVCPriorComovingVT:\n",
      "    Aligned spins from isotropic distribution, uniform comoving VT.\n",
      "\n",
      "ExtrinsicParametersPrior:\n",
      "    Uniform luminosity volume, fixed intrinsic parameters.\n",
      "\n",
      "MarginalizedDistanceIASPrior:\n",
      "    Prior for usage with ``MarginalizedDistanceLikelihood``.\n",
      "    Similar to ``IASPrior`` except it does not include distance.\n",
      "    Uniform in effective spin and detector-frame component masses.\n",
      "\n",
      "MarginalizedDistanceLVCPrior:\n",
      "    Prior for usage with ``MarginalizedDistanceLikelihood``.\n",
      "    Similar to ``LVCPrior`` except it does not include distance.\n",
      "    Isotropic spin orientations, uniform in component spin magnitudes\n",
      "    and detector-frame component masses.\n",
      "\n"
     ]
    }
   ],
   "source": [
    "for prior_name, prior_class in gw_prior.prior_registry.items():\n",
    "    print(f'{prior_name}:\\n    {prior_class.__doc__}\\n'\n",
    "          .replace('\\n    \\n', '\\n'))"
   ]
  },
  {
   "cell_type": "code",
   "execution_count": null,
   "id": "aea1e3ca",
   "metadata": {},
   "outputs": [],
   "source": []
  },
  {
   "cell_type": "code",
   "execution_count": 5,
   "id": "fd6767eb",
   "metadata": {},
   "outputs": [],
   "source": [
    "metadata = pd.read_csv(data.DATADIR/'events_metadata.csv', index_col=0)  # Chirp mass guesses"
   ]
  },
  {
   "cell_type": "code",
   "execution_count": 6,
   "id": "59182e46",
   "metadata": {},
   "outputs": [
    {
     "name": "stdout",
     "output_type": "stream",
     "text": [
      "Searching incoherent solution for GW150914\n",
      "Set intrinsic parameters, lnL = 294.1985459035243\n",
      "Set time, lnL(H) = 204.09501966595323\n",
      "Set sky location, lnL = 290.55209012224213\n",
      "Set phase and distance, lnL = 290.55209012224213\n",
      "Set mchirp_range = (25.663617075515507, 41.98824075412525)\n"
     ]
    }
   ],
   "source": [
    "# Choose from the above options:\n",
    "eventname = eventnames[0]\n",
    "mchirp_guess = metadata['mchirp'][eventname]\n",
    "approximant = 'IMRPhenomXPHM'\n",
    "prior_name = 'IASPrior'\n",
    "\n",
    "post = Posterior.from_event(eventname, mchirp_guess, approximant, prior_name)"
   ]
  },
  {
   "cell_type": "code",
   "execution_count": 7,
   "id": "c303c8e7",
   "metadata": {},
   "outputs": [],
   "source": [
    "pym = sampling.PyMultiNest(post)"
   ]
  },
  {
   "cell_type": "code",
   "execution_count": 8,
   "id": "60724d69",
   "metadata": {},
   "outputs": [],
   "source": [
    "pym.run_kwargs['n_live_points'] = 512"
   ]
  },
  {
   "cell_type": "code",
   "execution_count": 9,
   "id": "7ba58b35",
   "metadata": {},
   "outputs": [],
   "source": [
    "parentdir = '/home/isha/PopulationSelectionEffects/cogwheel_population_inference/cogwheel/cogwheel/example'\n",
    "sampler = pym  # or `dyn`\n",
    "rundir = sampler.get_rundir(parentdir)"
   ]
  },
  {
   "cell_type": "code",
   "execution_count": 10,
   "id": "547c6d69",
   "metadata": {},
   "outputs": [
    {
     "name": "stdout",
     "output_type": "stream",
     "text": [
      "Submitted batch job 379150\n",
      "Submitted job 'run_2_GW150914_IASPrior_PyMultiNest'.\n"
     ]
    }
   ],
   "source": [
    "# Run \"live\" (will take a while):\n",
    "sampler.submit_slurm(rundir)"
   ]
  }
 ],
 "metadata": {
  "kernelspec": {
   "display_name": "Python 3 (ipykernel)",
   "language": "python",
   "name": "python3"
  },
  "language_info": {
   "codemirror_mode": {
    "name": "ipython",
    "version": 3
   },
   "file_extension": ".py",
   "mimetype": "text/x-python",
   "name": "python",
   "nbconvert_exporter": "python",
   "pygments_lexer": "ipython3",
   "version": "3.9.7"
  }
 },
 "nbformat": 4,
 "nbformat_minor": 5
}
