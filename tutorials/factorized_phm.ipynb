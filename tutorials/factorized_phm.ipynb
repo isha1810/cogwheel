{
 "cells": [
  {
   "cell_type": "code",
   "execution_count": null,
   "id": "82a93fd0",
   "metadata": {
    "ExecuteTime": {
     "end_time": "2022-11-04T00:52:11.302362Z",
     "start_time": "2022-11-04T00:52:06.187464Z"
    }
   },
   "outputs": [],
   "source": [
    "# Ensure only one CPU is used:\n",
    "import os\n",
    "os.environ[\"OMP_NUM_THREADS\"] = \"1\"\n",
    "\n",
    "import sys\n",
    "sys.path.append('..')\n",
    "\n",
    "from pathlib import Path\n",
    "import pandas as pd\n",
    "\n",
    "from cogwheel import posterior\n",
    "from cogwheel import sampling\n",
    "from cogwheel import data\n",
    "from cogwheel import likelihood\n",
    "from cogwheel import gw_plotting"
   ]
  },
  {
   "cell_type": "code",
   "execution_count": null,
   "id": "751057eb",
   "metadata": {
    "ExecuteTime": {
     "end_time": "2022-11-04T00:52:13.815915Z",
     "start_time": "2022-11-04T00:52:13.813672Z"
    }
   },
   "outputs": [],
   "source": [
    "parentdir = Path('example')  # PE runs will be saved here"
   ]
  },
  {
   "cell_type": "code",
   "execution_count": null,
   "id": "5b9f7e23",
   "metadata": {
    "ExecuteTime": {
     "end_time": "2022-11-04T00:52:17.937591Z",
     "start_time": "2022-11-04T00:52:17.887997Z"
    }
   },
   "outputs": [],
   "source": [
    "eventname = 'GW190412'"
   ]
  },
  {
   "cell_type": "code",
   "execution_count": null,
   "id": "fd72c80d",
   "metadata": {
    "ExecuteTime": {
     "end_time": "2022-11-04T00:46:28.382129Z",
     "start_time": "2022-11-04T00:17:49.625212Z"
    },
    "scrolled": true
   },
   "outputs": [],
   "source": [
    "%%time\n",
    "# Find reference waveform and compute summary data:\n",
    "post = posterior.Posterior.from_event(\n",
    "    eventname,\n",
    "    data.EVENTS_METADATA['mchirp'][eventname],\n",
    "    'IMRPhenomXPHM',\n",
    "    prior_class='IntrinsicIASPrior',\n",
    "    likelihood_class=likelihood.MarginalizedExtrinsicLikelihood)"
   ]
  },
  {
   "cell_type": "code",
   "execution_count": null,
   "id": "113b4112",
   "metadata": {
    "ExecuteTime": {
     "end_time": "2022-11-04T00:46:28.382129Z",
     "start_time": "2022-11-04T00:17:49.625212Z"
    },
    "scrolled": false
   },
   "outputs": [],
   "source": [
    "%%time\n",
    "# Run sampler:\n",
    "pym = sampling.PyMultiNest(post)\n",
    "pym.run_kwargs['n_live_points'] = 128\n",
    "rundir = pym.get_rundir(parentdir)\n",
    "pym.run(rundir)"
   ]
  },
  {
   "cell_type": "code",
   "execution_count": null,
   "id": "88e3470a",
   "metadata": {
    "scrolled": true
   },
   "outputs": [],
   "source": [
    "samples = pd.read_feather(rundir/sampling.SAMPLES_FILENAME)\n",
    "\n",
    "params = [\n",
    "    'mchirp',\n",
    "    'lnq',\n",
    "    'chieff',\n",
    "    'cumchidiff',\n",
    "    'costheta_jn',\n",
    "    'phi_jl_hat',\n",
    "    'phi12',\n",
    "    'cums1r_s1z',\n",
    "    'cums2r_s2z',\n",
    "    'd_luminosity',\n",
    "    'dec',\n",
    "    'phi_ref',\n",
    "    'psi',\n",
    "    't_geocenter',\n",
    "    'lnl_marginalized',\n",
    "    'lnl',\n",
    "    'ra'\n",
    "]\n",
    "\n",
    "gw_plotting.CornerPlot(samples[params]).plot()"
   ]
  }
 ],
 "metadata": {
  "kernelspec": {
   "display_name": "Python 3 (ipykernel)",
   "language": "python",
   "name": "python3"
  },
  "language_info": {
   "codemirror_mode": {
    "name": "ipython",
    "version": 3
   },
   "file_extension": ".py",
   "mimetype": "text/x-python",
   "name": "python",
   "nbconvert_exporter": "python",
   "pygments_lexer": "ipython3",
   "version": "3.9.7"
  }
 },
 "nbformat": 4,
 "nbformat_minor": 5
}
