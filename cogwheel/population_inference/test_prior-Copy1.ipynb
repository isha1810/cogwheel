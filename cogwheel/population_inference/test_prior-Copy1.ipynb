{
 "cells": [
  {
   "cell_type": "markdown",
   "id": "4d43d430-d5f1-43e6-adca-2f477e2b203e",
   "metadata": {},
   "source": [
    "## Imports"
   ]
  },
  {
   "cell_type": "code",
   "execution_count": 1,
   "id": "344e5052",
   "metadata": {
    "scrolled": true
   },
   "outputs": [
    {
     "name": "stderr",
     "output_type": "stream",
     "text": [
      "/home/isha/miniconda3/envs/cogwheel_pop_latest/lib/python3.9/site-packages/gwpy/time/__init__.py:36: UserWarning: Wswiglal-redir-stdio:\n",
      "\n",
      "SWIGLAL standard output/error redirection is enabled in IPython.\n",
      "This may lead to performance penalties. To disable locally, use:\n",
      "\n",
      "with lal.no_swig_redirect_standard_output_error():\n",
      "    ...\n",
      "\n",
      "To disable globally, use:\n",
      "\n",
      "lal.swig_redirect_standard_output_error(False)\n",
      "\n",
      "Note however that this will likely lead to error messages from\n",
      "LAL functions being either misdirected or lost when called from\n",
      "Jupyter notebooks.\n",
      "\n",
      "To suppress this warning, use:\n",
      "\n",
      "import warnings\n",
      "warnings.filterwarnings(\"ignore\", \"Wswiglal-redir-stdio\")\n",
      "import lal\n",
      "\n",
      "  from lal import LIGOTimeGPS\n"
     ]
    }
   ],
   "source": [
    "import sys, os, glob, time , corner\n",
    "import numpy as np\n",
    "import pandas as pd\n",
    "import matplotlib.pyplot as plt\n",
    "\n",
    "sys.path.insert(0,'/home/isha/gw_detection_ias')\n",
    "import utils as pipeline_utils\n",
    "import time\n",
    "\n",
    "from importlib import reload\n",
    "\n",
    "# cogwheel imports\n",
    "sys.path.append('/home/isha/PopulationSelectionEffects/cogwheel_population_inference/cogwheel')\n",
    "import cogwheel\n",
    "from cogwheel import utils , data, sampling, gw_plotting, posterior, prior\n",
    "\n",
    "# from cogwheel.factorized_qas import IntrinsicParametersPrior, MarginalizedRelativeBinningLikelihood\n",
    "# from cogwheel.population_inference.test_combined_priors import TestPrior\n",
    "# from cogwheel.population_inference.test_combined_priors import FixedTestPopulationPrior, FixedTestPrior, TestingGaussianChieff, GaussianChieff\n",
    "# from cogwheel.population_inference.test_combined_priors import FixedDistancePrior, FixedInclinationPrior, GaussianTestPrior\n",
    "\n",
    "from cogwheel.population_inference.injection_priors import InjectionPrior\n",
    "from cogwheel.population_inference.parametrized_prior import ParametrizedPrior, CombinedParametrizedPrior\n",
    "from cogwheel.population_inference.population_likelihood import PopulationLikelihood\n",
    "from cogwheel.gw_prior import extrinsic\n",
    "\n",
    "from cogwheel.population_inference.population_posterior import PopulationPosterior\n",
    "\n",
    "from cogwheel.prior import Prior, UniformPriorMixin, IdentityTransformMixin, CombinedPrior"
   ]
  },
  {
   "cell_type": "code",
   "execution_count": 2,
   "id": "01f2c9c8-5154-4b1f-bbae-21c54b3ffd3f",
   "metadata": {},
   "outputs": [],
   "source": [
    "# #!/usr/bin/env python\n",
    "# import psutil\n",
    "# # gives a single float value\n",
    "# psutil.cpu_percent()\n",
    "# # gives an object with many fields\n",
    "# psutil.virtual_memory()\n",
    "# # you can convert that object to a dictionary \n",
    "# dict(psutil.virtual_memory()._asdict())"
   ]
  },
  {
   "cell_type": "code",
   "execution_count": 3,
   "id": "991f60d7-ecd1-4353-b57d-59ea91edc980",
   "metadata": {},
   "outputs": [],
   "source": [
    "# import os\n",
    "# print(os.environ['CONDA_DEFAULT_ENV'])"
   ]
  },
  {
   "cell_type": "markdown",
   "id": "6f17e8ea-a620-4acb-b3b0-fccd9e4e6f62",
   "metadata": {},
   "source": [
    "## Load injection summary data"
   ]
  },
  {
   "cell_type": "code",
   "execution_count": 28,
   "id": "cf089165",
   "metadata": {},
   "outputs": [],
   "source": [
    "injs_summary = pd.read_pickle('data/injections_summary.pkl')"
   ]
  },
  {
   "cell_type": "code",
   "execution_count": 29,
   "id": "a680819f",
   "metadata": {},
   "outputs": [
    {
     "data": {
      "text/plain": [
       "Index(['t_rec_h', 't_rec_l', 'rhosq_rec_h', 'rhosq_rec_l', 'normfac_h',\n",
       "       'normfac_l', 'dphi_rec', 'sb_rec', 'inds', 'cosiota', 'costhetanet',\n",
       "       'phinet_hat', 't_refdet', 'psi', 'phi_ref_hat', 'm1_source', 'cum_q',\n",
       "       'd_hat', 'chieff', 'cumchidiff', 'iota', 'ra', 'dec', 't_geocenter',\n",
       "       'phi_ref', 'm1', 'm2', 'd_luminosity', 's1z', 's2z', 's1x', 's1y',\n",
       "       's2x', 's2y', 'l1', 'l2', 'f_ref', 'm2_source', 'q', 'mchirp', 'mtot',\n",
       "       'lnq', 'q1', 'eta', 'chia', 's1', 's1costheta', 's1theta', 's1phi',\n",
       "       's2', 's2costheta', 's2theta', 's2phi', 'chip', 'phi_H', 'tgps',\n",
       "       'mchirp_id', 'dt_linfree', 'ln_pdet_fid', 'campaign', 'pdet_fid',\n",
       "       'dt_closest_inj', 'ifar', 'ifar_no_coherent_score',\n",
       "       'comoving_to_luminosity_diff_vt_ratio', 's1x_n', 's1y_n', 's2x_n',\n",
       "       's2y_n'],\n",
       "      dtype='object')"
      ]
     },
     "execution_count": 29,
     "metadata": {},
     "output_type": "execute_result"
    }
   ],
   "source": [
    "injs_summary.keys()"
   ]
  },
  {
   "cell_type": "markdown",
   "id": "ecba012b-12dd-41a4-84a2-51a430e7abcb",
   "metadata": {
    "jp-MarkdownHeadingCollapsed": true
   },
   "source": [
    "### testing dataframe -> dictionary "
   ]
  },
  {
   "cell_type": "code",
   "execution_count": 5,
   "id": "fd2f4741",
   "metadata": {},
   "outputs": [
    {
     "data": {
      "text/html": [
       "<div>\n",
       "<style scoped>\n",
       "    .dataframe tbody tr th:only-of-type {\n",
       "        vertical-align: middle;\n",
       "    }\n",
       "\n",
       "    .dataframe tbody tr th {\n",
       "        vertical-align: top;\n",
       "    }\n",
       "\n",
       "    .dataframe thead th {\n",
       "        text-align: right;\n",
       "    }\n",
       "</style>\n",
       "<table border=\"1\" class=\"dataframe\">\n",
       "  <thead>\n",
       "    <tr style=\"text-align: right;\">\n",
       "      <th></th>\n",
       "      <th>a</th>\n",
       "      <th>b</th>\n",
       "      <th>c</th>\n",
       "    </tr>\n",
       "  </thead>\n",
       "  <tbody>\n",
       "    <tr>\n",
       "      <th>0</th>\n",
       "      <td>1</td>\n",
       "      <td>6</td>\n",
       "      <td>11</td>\n",
       "    </tr>\n",
       "    <tr>\n",
       "      <th>1</th>\n",
       "      <td>2</td>\n",
       "      <td>7</td>\n",
       "      <td>12</td>\n",
       "    </tr>\n",
       "    <tr>\n",
       "      <th>2</th>\n",
       "      <td>3</td>\n",
       "      <td>8</td>\n",
       "      <td>13</td>\n",
       "    </tr>\n",
       "    <tr>\n",
       "      <th>3</th>\n",
       "      <td>4</td>\n",
       "      <td>9</td>\n",
       "      <td>14</td>\n",
       "    </tr>\n",
       "    <tr>\n",
       "      <th>4</th>\n",
       "      <td>5</td>\n",
       "      <td>10</td>\n",
       "      <td>15</td>\n",
       "    </tr>\n",
       "  </tbody>\n",
       "</table>\n",
       "</div>"
      ],
      "text/plain": [
       "   a   b   c\n",
       "0  1   6  11\n",
       "1  2   7  12\n",
       "2  3   8  13\n",
       "3  4   9  14\n",
       "4  5  10  15"
      ]
     },
     "metadata": {},
     "output_type": "display_data"
    },
    {
     "name": "stdout",
     "output_type": "stream",
     "text": [
      "{'a': array([1, 2, 3, 4, 5]), 'b': array([ 6,  7,  8,  9, 10]), 'c': array([11, 12, 13, 14, 15])}\n"
     ]
    }
   ],
   "source": [
    "dict_example = {'a':np.asarray([1,2,3,4,5]), 'b':np.asarray([6,7,8,9,10]), 'c':np.asarray([11,12,13,14, 15])}\n",
    "df_example = pd.DataFrame(dict_example)\n",
    "df_example[np.array(['a','b'])]\n",
    "\n",
    "dict_of_arrays = {col: df_example[col].to_numpy() for col in df_example.columns}\n",
    "display(df_example)\n",
    "print(dict_of_arrays)"
   ]
  },
  {
   "cell_type": "code",
   "execution_count": 6,
   "id": "1e1aab4e-6dbf-4ea9-96c6-cffb98defba0",
   "metadata": {},
   "outputs": [
    {
     "data": {
      "text/html": [
       "<div>\n",
       "<style scoped>\n",
       "    .dataframe tbody tr th:only-of-type {\n",
       "        vertical-align: middle;\n",
       "    }\n",
       "\n",
       "    .dataframe tbody tr th {\n",
       "        vertical-align: top;\n",
       "    }\n",
       "\n",
       "    .dataframe thead th {\n",
       "        text-align: right;\n",
       "    }\n",
       "</style>\n",
       "<table border=\"1\" class=\"dataframe\">\n",
       "  <thead>\n",
       "    <tr style=\"text-align: right;\">\n",
       "      <th></th>\n",
       "      <th>a</th>\n",
       "      <th>b</th>\n",
       "      <th>c</th>\n",
       "    </tr>\n",
       "  </thead>\n",
       "  <tbody>\n",
       "    <tr>\n",
       "      <th>0</th>\n",
       "      <td>1</td>\n",
       "      <td>6</td>\n",
       "      <td>11</td>\n",
       "    </tr>\n",
       "    <tr>\n",
       "      <th>1</th>\n",
       "      <td>2</td>\n",
       "      <td>7</td>\n",
       "      <td>12</td>\n",
       "    </tr>\n",
       "    <tr>\n",
       "      <th>2</th>\n",
       "      <td>3</td>\n",
       "      <td>8</td>\n",
       "      <td>13</td>\n",
       "    </tr>\n",
       "    <tr>\n",
       "      <th>3</th>\n",
       "      <td>4</td>\n",
       "      <td>9</td>\n",
       "      <td>14</td>\n",
       "    </tr>\n",
       "    <tr>\n",
       "      <th>4</th>\n",
       "      <td>5</td>\n",
       "      <td>10</td>\n",
       "      <td>15</td>\n",
       "    </tr>\n",
       "  </tbody>\n",
       "</table>\n",
       "</div>"
      ],
      "text/plain": [
       "   a   b   c\n",
       "0  1   6  11\n",
       "1  2   7  12\n",
       "2  3   8  13\n",
       "3  4   9  14\n",
       "4  5  10  15"
      ]
     },
     "execution_count": 6,
     "metadata": {},
     "output_type": "execute_result"
    }
   ],
   "source": [
    "df_example"
   ]
  },
  {
   "cell_type": "code",
   "execution_count": 8,
   "id": "9911459c-2007-4b63-b488-d442bd0859b2",
   "metadata": {},
   "outputs": [],
   "source": [
    "dict_example2 = {'v':np.asarray([1,2,3,4,5]), 'w':np.asarray([6,7,8,9,10]), 'f':np.asarray([11,12,13,14, 15])}\n",
    "df_example2 = pd.DataFrame(dict_example2)\n",
    "# df_example2[np.array(['a','b'])]\n",
    "\n",
    "# dict_of_arrays = {col: df_example[col].to_numpy() for col in df_example.columns}\n",
    "# display(df_example)\n",
    "# print(dict_of_arrays)"
   ]
  },
  {
   "cell_type": "code",
   "execution_count": 10,
   "id": "2d316e37-e9d8-4738-a35a-4c90b83c33e7",
   "metadata": {},
   "outputs": [
    {
     "data": {
      "text/html": [
       "<div>\n",
       "<style scoped>\n",
       "    .dataframe tbody tr th:only-of-type {\n",
       "        vertical-align: middle;\n",
       "    }\n",
       "\n",
       "    .dataframe tbody tr th {\n",
       "        vertical-align: top;\n",
       "    }\n",
       "\n",
       "    .dataframe thead th {\n",
       "        text-align: right;\n",
       "    }\n",
       "</style>\n",
       "<table border=\"1\" class=\"dataframe\">\n",
       "  <thead>\n",
       "    <tr style=\"text-align: right;\">\n",
       "      <th></th>\n",
       "      <th>a</th>\n",
       "      <th>b</th>\n",
       "      <th>c</th>\n",
       "      <th>v</th>\n",
       "      <th>w</th>\n",
       "      <th>f</th>\n",
       "    </tr>\n",
       "  </thead>\n",
       "  <tbody>\n",
       "    <tr>\n",
       "      <th>0</th>\n",
       "      <td>1</td>\n",
       "      <td>6</td>\n",
       "      <td>11</td>\n",
       "      <td>1</td>\n",
       "      <td>6</td>\n",
       "      <td>11</td>\n",
       "    </tr>\n",
       "    <tr>\n",
       "      <th>1</th>\n",
       "      <td>2</td>\n",
       "      <td>7</td>\n",
       "      <td>12</td>\n",
       "      <td>2</td>\n",
       "      <td>7</td>\n",
       "      <td>12</td>\n",
       "    </tr>\n",
       "    <tr>\n",
       "      <th>2</th>\n",
       "      <td>3</td>\n",
       "      <td>8</td>\n",
       "      <td>13</td>\n",
       "      <td>3</td>\n",
       "      <td>8</td>\n",
       "      <td>13</td>\n",
       "    </tr>\n",
       "    <tr>\n",
       "      <th>3</th>\n",
       "      <td>4</td>\n",
       "      <td>9</td>\n",
       "      <td>14</td>\n",
       "      <td>4</td>\n",
       "      <td>9</td>\n",
       "      <td>14</td>\n",
       "    </tr>\n",
       "    <tr>\n",
       "      <th>4</th>\n",
       "      <td>5</td>\n",
       "      <td>10</td>\n",
       "      <td>15</td>\n",
       "      <td>5</td>\n",
       "      <td>10</td>\n",
       "      <td>15</td>\n",
       "    </tr>\n",
       "  </tbody>\n",
       "</table>\n",
       "</div>"
      ],
      "text/plain": [
       "   a   b   c  v   w   f\n",
       "0  1   6  11  1   6  11\n",
       "1  2   7  12  2   7  12\n",
       "2  3   8  13  3   8  13\n",
       "3  4   9  14  4   9  14\n",
       "4  5  10  15  5  10  15"
      ]
     },
     "execution_count": 10,
     "metadata": {},
     "output_type": "execute_result"
    }
   ],
   "source": [
    "df_example.join(df_example2)"
   ]
  },
  {
   "cell_type": "markdown",
   "id": "4558da7e-8897-4f5d-a89e-4600e4dbb523",
   "metadata": {
    "jp-MarkdownHeadingCollapsed": true
   },
   "source": [
    "## Creating Prior Class Instances"
   ]
  },
  {
   "cell_type": "code",
   "execution_count": 5,
   "id": "b52f454a",
   "metadata": {},
   "outputs": [],
   "source": [
    "parentdir = '/home/isha/PopulationSelectionEffects/output/'\n",
    "\n",
    "# grab the psds from any exisiting event - we will chnage the event name later\n",
    "eventname = 'GW190521'\n",
    "\n",
    "combined_pop_prior = FixedTestPopulationPrior(f_ref=20) # combined prior\n",
    "pop_prior = GaussianTestPopulationPrior() # population prior\n",
    "#test_prior = TestPrior(detector_pair='HL', tgps=0.0, ref_det_name='H1', f_avg='10',f_ref=20)\n",
    "#fixed_test_prior = FixedTestPrior(f_ref=20)\n",
    "#inj_prior=InjectionPrior(detector_pair='HL', tgps=0.0, ref_det_name='H1', f_avg='10', m1_source_range=(3,10))\n",
    "#,f_ref=20)\n",
    "#inj_mass_prior = InjectionMassPrior(tgps=0.0, ref_det_name='H1',m1_source_range=(3,10))\n",
    "inj_prior=InjectionPrior(detector_pair='HL', tgps=0.0, ref_det_name='H', f_avg=10, m1_source_range=(3,10),f_ref=20)"
   ]
  },
  {
   "cell_type": "code",
   "execution_count": 6,
   "id": "230e3b89",
   "metadata": {},
   "outputs": [
    {
     "data": {
      "text/plain": [
       "{'lambda1': (10, 10), 'lambda2': (-10, 10)}"
      ]
     },
     "execution_count": 6,
     "metadata": {},
     "output_type": "execute_result"
    }
   ],
   "source": [
    "pop_prior.hyperparam_range_dic"
   ]
  },
  {
   "cell_type": "code",
   "execution_count": 7,
   "id": "a69aa8c6",
   "metadata": {},
   "outputs": [
    {
     "data": {
      "text/plain": [
       "(FixedTestPopulationPrior(m1, m2) → [iota, ra, dec, t_geocenter, psi, phi_ref, m1, m2, s1z, s2z, s1x_n, s1y_n, s2x_n, s2y_n, l1, l2, f_ref, d_luminosity],\n",
       " GaussianTestPopulationPrior(m1, m2) → [m1, m2])"
      ]
     },
     "execution_count": 7,
     "metadata": {},
     "output_type": "execute_result"
    }
   ],
   "source": [
    "# display the pop objects\n",
    "combined_pop_prior, pop_prior"
   ]
  },
  {
   "cell_type": "code",
   "execution_count": 8,
   "id": "e0286598-1d76-499c-b2c3-6cc9cef525ab",
   "metadata": {},
   "outputs": [
    {
     "data": {
      "text/plain": [
       "[IsotropicInclinationPrior(cosiota) → [iota],\n",
       " IsotropicSkyLocationPrior(costhetanet, phinet_hat | iota) → [ra, dec],\n",
       " UniformTimePrior(t_refdet | ra, dec) → [t_geocenter],\n",
       " UniformPolarizationPrior(psi) → [psi],\n",
       " UniformPhasePrior(phi_ref_hat | iota, ra, dec, psi, t_geocenter) → [phi_ref],\n",
       " InjectionMassPrior(m1_source, cum_q, d_hat | ra, dec, psi, iota) → [m1, m2, d_luminosity],\n",
       " UniformEffectiveSpinPrior(chieff, cumchidiff | m1, m2) → [s1z, s2z],\n",
       " ZeroInplaneSpinsPrior() → [s1x_n, s1y_n, s2x_n, s2y_n],\n",
       " ZeroTidalDeformabilityPrior() → [l1, l2],\n",
       " FixedReferenceFrequencyPrior() → [f_ref]]"
      ]
     },
     "execution_count": 8,
     "metadata": {},
     "output_type": "execute_result"
    }
   ],
   "source": [
    "inj_prior.subpriors"
   ]
  },
  {
   "cell_type": "markdown",
   "id": "b8cbcc83-9c74-495c-b159-e6546f4796ed",
   "metadata": {},
   "source": [
    "## Load PE samples"
   ]
  },
  {
   "cell_type": "raw",
   "id": "66ebd90f-77cd-41c3-8c43-c31cef93b695",
   "metadata": {
    "scrolled": true
   },
   "source": [
    "#load pe samples data\n",
    "samples_root_dir = \"/home/teja/Work/MarginalizedDistanceIASPrior\"\n",
    "list_events = ['GW150914', 'GW151012', 'GW151216', 'GW151226', 'GW170104', 'GW170121', 'GW170202', 'GW170304', 'GW170403', 'GW170425']\n",
    "\n",
    "t1 = time.time()\n",
    "all_events_pe = []\n",
    "for event in list_events:\n",
    "    event_dir = os.path.join(samples_root_dir, event)\n",
    "    latest_run_dir_path = os.path.join(event_dir, 'run_0') # only picking the 0th run right now!!!!\n",
    "    samples = pd.read_feather(os.path.join(latest_run_dir_path, 'samples.feather'))\n",
    "    #Add columns of sampled params\n",
    "    inj_prior.subpriors[0].inverse_transform_samples(samples) #(cosiota)\n",
    "    inj_prior.subpriors[1].inverse_transform_samples(samples) #(costhetanet, phinet_hat)\n",
    "    inj_prior.subpriors[2].inverse_transform_samples(samples) #(t_refdet)\n",
    "    inj_prior.subpriors[4].inverse_transform_samples(samples) #(phi_ref_hat)\n",
    "    inj_prior.subpriors[5].inverse_transform_samples(samples) #(m1_source, cum_q, d_hat)\n",
    "    inj_prior.subpriors[6].inverse_transform_samples(samples) #(chieff, cumchidiff)\n",
    "    #append to list\n",
    "    all_events_pe.append(samples)\n",
    "t2=time.time()\n",
    "\n",
    "print((t2 - t1)/60)"
   ]
  },
  {
   "cell_type": "code",
   "execution_count": 30,
   "id": "9a0b9a7a-a881-43bb-b964-58ae095b1021",
   "metadata": {},
   "outputs": [],
   "source": [
    "#read pe samples from saved \n",
    "samples_root_dir = '/home/isha/PopulationSelectionEffects/cogwheel_population_inference/cogwheel/cogwheel/population_inference/data/PE_samples_all_jacobian'\n",
    "list_events = ['GW150914', 'GW151012', 'GW151216', \n",
    "               'GW151226', 'GW170104', 'GW170121', 'GW170202', 'GW170304', 'GW170403', 'GW170425']\n",
    "all_events_pe = []\n",
    "for event in list_events:\n",
    "    event_file_name = os.path.join(samples_root_dir, event+'.feather')\n",
    "    samples = pd.read_feather(event_file_name)\n",
    "    all_events_pe.append(samples)"
   ]
  },
  {
   "cell_type": "code",
   "execution_count": 5,
   "id": "5a65e170-89f4-4dea-ad68-a02400af1e0e",
   "metadata": {},
   "outputs": [
    {
     "data": {
      "text/plain": [
       "Index(['mchirp', 'lnq', 'chieff', 'cumchidiff', 'costheta_jn', 'phi_jl_hat',\n",
       "       'phi12', 'cums1r_s1z', 'cums2r_s2z', 'psi', 'costhetanet', 'phinet_hat',\n",
       "       't_refdet', 'phi_ref_hat', 'weights', 'f_ref', 'm1', 'm2', 's1z', 's2z',\n",
       "       'iota', 's1x_n', 's1y_n', 's2x_n', 's2y_n', 'ra', 'dec', 't_geocenter',\n",
       "       'phi_ref', 'l1', 'l2', 'd_luminosity', 'lnl', 'lnl_aux_H', 'lnl_aux_L',\n",
       "       'cosiota', 'm1_source', 'cum_q', 'd_hat'],\n",
       "      dtype='object')"
      ]
     },
     "execution_count": 5,
     "metadata": {},
     "output_type": "execute_result"
    }
   ],
   "source": [
    "all_events_pe[0].keys()\n",
    "#all_events_pe[0]['lnl']"
   ]
  },
  {
   "cell_type": "markdown",
   "id": "5858c00a-84d7-410f-9c6e-91a53fcfb5df",
   "metadata": {
    "jp-MarkdownHeadingCollapsed": true
   },
   "source": [
    "## Compute Likelihood"
   ]
  },
  {
   "cell_type": "code",
   "execution_count": 17,
   "id": "531015e4-a3fa-4903-b097-da08fe141298",
   "metadata": {},
   "outputs": [],
   "source": [
    "# now compute likelihood\n",
    "injections_summary_dict = {'Ninj':20000, 'recovered_injections':injs_summary, 'pastro_func':np.ones(10)}\n",
    "R0 = 70\n",
    "\n",
    "likelihood_object = PopulationLikelihood(combined_pop_prior, injections_summary_dict, all_events_pe, R0, injection_population_model=inj_prior)"
   ]
  },
  {
   "cell_type": "code",
   "execution_count": 15,
   "id": "b0e25f52-52b6-449c-83cc-dd2452e96b81",
   "metadata": {},
   "outputs": [
    {
     "ename": "NameError",
     "evalue": "name 'hyperparams_range_dic' is not defined",
     "output_type": "error",
     "traceback": [
      "\u001b[0;31m---------------------------------------------------------------------------\u001b[0m",
      "\u001b[0;31mNameError\u001b[0m                                 Traceback (most recent call last)",
      "Cell \u001b[0;32mIn[15], line 1\u001b[0m\n\u001b[0;32m----> 1\u001b[0m \u001b[43mcombined_pop_prior\u001b[49m\u001b[38;5;241;43m.\u001b[39;49m\u001b[43mprior_classes\u001b[49m\u001b[43m[\u001b[49m\u001b[38;5;241;43m5\u001b[39;49m\u001b[43m]\u001b[49m\u001b[38;5;241;43m.\u001b[39;49m\u001b[43mget_init_dict\u001b[49m\u001b[43m(\u001b[49m\u001b[43m)\u001b[49m\n",
      "File \u001b[0;32m~/PopulationSelectionEffects/cogwheel_population_inference/cogwheel/cogwheel/population_inference/test_combined_priors.py:144\u001b[0m, in \u001b[0;36mget_init_dict\u001b[0;34m()\u001b[0m\n\u001b[1;32m    142\u001b[0m ZeroInplaneSpinsPrior,\n\u001b[1;32m    143\u001b[0m ZeroTidalDeformabilityPrior,\n\u001b[0;32m--> 144\u001b[0m FixedReferenceFrequencyPrior,\n\u001b[1;32m    145\u001b[0m FixedDistancePrior]\n\u001b[1;32m    146\u001b[0m \n",
      "\u001b[0;31mNameError\u001b[0m: name 'hyperparams_range_dic' is not defined"
     ]
    }
   ],
   "source": [
    "combined_pop_prior.prior_classes[5].get_init_dict()"
   ]
  },
  {
   "cell_type": "code",
   "execution_count": 10,
   "id": "5af40882-d277-4c0f-a856-b74c824372fa",
   "metadata": {
    "scrolled": true
   },
   "outputs": [
    {
     "ename": "KeyboardInterrupt",
     "evalue": "",
     "output_type": "error",
     "traceback": [
      "\u001b[0;31m---------------------------------------------------------------------------\u001b[0m",
      "\u001b[0;31mKeyboardInterrupt\u001b[0m                         Traceback (most recent call last)",
      "Cell \u001b[0;32mIn[10], line 1\u001b[0m\n\u001b[0;32m----> 1\u001b[0m \u001b[43mlikelihood_object\u001b[49m\u001b[38;5;241;43m.\u001b[39;49m\u001b[43mw_i\u001b[49m\u001b[43m(\u001b[49m\u001b[43mhyperparams_dic\u001b[49m\u001b[38;5;241;43m=\u001b[39;49m\u001b[43m{\u001b[49m\u001b[38;5;124;43m'\u001b[39;49m\u001b[38;5;124;43mlambda1\u001b[39;49m\u001b[38;5;124;43m'\u001b[39;49m\u001b[43m:\u001b[49m\u001b[38;5;241;43m1\u001b[39;49m\u001b[43m,\u001b[49m\u001b[43m \u001b[49m\u001b[38;5;124;43m'\u001b[39;49m\u001b[38;5;124;43mlambda2\u001b[39;49m\u001b[38;5;124;43m'\u001b[39;49m\u001b[43m:\u001b[49m\u001b[38;5;241;43m1\u001b[39;49m\u001b[43m,\u001b[49m\u001b[43m \u001b[49m\u001b[38;5;124;43m'\u001b[39;49m\u001b[38;5;124;43mR\u001b[39;49m\u001b[38;5;124;43m'\u001b[39;49m\u001b[43m:\u001b[49m\u001b[38;5;241;43m100\u001b[39;49m\u001b[43m}\u001b[49m\u001b[43m)\u001b[49m\n",
      "File \u001b[0;32m~/PopulationSelectionEffects/cogwheel_population_inference/cogwheel/cogwheel/population_inference/population_likelihood.py:69\u001b[0m, in \u001b[0;36mPopulationLikelihood.w_i\u001b[0;34m(self, hyperparams_dic)\u001b[0m\n\u001b[1;32m     64\u001b[0m     pe_inj_params_df \u001b[38;5;241m=\u001b[39m pe_samples[inj_param_keys]\n\u001b[1;32m     65\u001b[0m     inj_params_dict \u001b[38;5;241m=\u001b[39m {col: pe_inj_params_df[col]\u001b[38;5;241m.\u001b[39mto_numpy() \u001b[38;5;28;01mfor\u001b[39;00m col \u001b[38;5;129;01min\u001b[39;00m pe_inj_params_df\u001b[38;5;241m.\u001b[39mcolumns}\n\u001b[1;32m     67\u001b[0m     w_arr[i] \u001b[38;5;241m=\u001b[39m (np\u001b[38;5;241m.\u001b[39msum(np\u001b[38;5;241m.\u001b[39mexp(vectorized_population_lnprior(\u001b[38;5;241m*\u001b[39m\u001b[38;5;241m*\u001b[39mmodel_params_dict) \u001b[38;5;241m-\u001b[39m \n\u001b[1;32m     68\u001b[0m                           pe_samples[\u001b[38;5;124m'\u001b[39m\u001b[38;5;124mlnl\u001b[39m\u001b[38;5;124m'\u001b[39m]))\u001b[38;5;241m/\u001b[39m\n\u001b[0;32m---> 69\u001b[0m              np\u001b[38;5;241m.\u001b[39msum(np\u001b[38;5;241m.\u001b[39mexp(\u001b[43mvectorized_injection_population_lnprior\u001b[49m\u001b[43m(\u001b[49m\u001b[38;5;241;43m*\u001b[39;49m\u001b[38;5;241;43m*\u001b[39;49m\u001b[43minj_params_dict\u001b[49m\u001b[43m)\u001b[49m \u001b[38;5;241m-\u001b[39m \n\u001b[1;32m     70\u001b[0m                           pe_samples[\u001b[38;5;124m'\u001b[39m\u001b[38;5;124mlnl\u001b[39m\u001b[38;5;124m'\u001b[39m])))\n\u001b[1;32m     71\u001b[0m \u001b[38;5;28;01mreturn\u001b[39;00m w_arr\n",
      "File \u001b[0;32m~/miniconda3/envs/cogwheel_pop_latest/lib/python3.9/site-packages/numpy/lib/function_base.py:2372\u001b[0m, in \u001b[0;36mvectorize.__call__\u001b[0;34m(self, *args, **kwargs)\u001b[0m\n\u001b[1;32m   2369\u001b[0m     \u001b[38;5;28mself\u001b[39m\u001b[38;5;241m.\u001b[39m_init_stage_2(\u001b[38;5;241m*\u001b[39margs, \u001b[38;5;241m*\u001b[39m\u001b[38;5;241m*\u001b[39mkwargs)\n\u001b[1;32m   2370\u001b[0m     \u001b[38;5;28;01mreturn\u001b[39;00m \u001b[38;5;28mself\u001b[39m\n\u001b[0;32m-> 2372\u001b[0m \u001b[38;5;28;01mreturn\u001b[39;00m \u001b[38;5;28;43mself\u001b[39;49m\u001b[38;5;241;43m.\u001b[39;49m\u001b[43m_call_as_normal\u001b[49m\u001b[43m(\u001b[49m\u001b[38;5;241;43m*\u001b[39;49m\u001b[43margs\u001b[49m\u001b[43m,\u001b[49m\u001b[43m \u001b[49m\u001b[38;5;241;43m*\u001b[39;49m\u001b[38;5;241;43m*\u001b[39;49m\u001b[43mkwargs\u001b[49m\u001b[43m)\u001b[49m\n",
      "File \u001b[0;32m~/miniconda3/envs/cogwheel_pop_latest/lib/python3.9/site-packages/numpy/lib/function_base.py:2365\u001b[0m, in \u001b[0;36mvectorize._call_as_normal\u001b[0;34m(self, *args, **kwargs)\u001b[0m\n\u001b[1;32m   2362\u001b[0m     vargs \u001b[38;5;241m=\u001b[39m [args[_i] \u001b[38;5;28;01mfor\u001b[39;00m _i \u001b[38;5;129;01min\u001b[39;00m inds]\n\u001b[1;32m   2363\u001b[0m     vargs\u001b[38;5;241m.\u001b[39mextend([kwargs[_n] \u001b[38;5;28;01mfor\u001b[39;00m _n \u001b[38;5;129;01min\u001b[39;00m names])\n\u001b[0;32m-> 2365\u001b[0m \u001b[38;5;28;01mreturn\u001b[39;00m \u001b[38;5;28;43mself\u001b[39;49m\u001b[38;5;241;43m.\u001b[39;49m\u001b[43m_vectorize_call\u001b[49m\u001b[43m(\u001b[49m\u001b[43mfunc\u001b[49m\u001b[38;5;241;43m=\u001b[39;49m\u001b[43mfunc\u001b[49m\u001b[43m,\u001b[49m\u001b[43m \u001b[49m\u001b[43margs\u001b[49m\u001b[38;5;241;43m=\u001b[39;49m\u001b[43mvargs\u001b[49m\u001b[43m)\u001b[49m\n",
      "File \u001b[0;32m~/miniconda3/envs/cogwheel_pop_latest/lib/python3.9/site-packages/numpy/lib/function_base.py:2455\u001b[0m, in \u001b[0;36mvectorize._vectorize_call\u001b[0;34m(self, func, args)\u001b[0m\n\u001b[1;32m   2452\u001b[0m \u001b[38;5;66;03m# Convert args to object arrays first\u001b[39;00m\n\u001b[1;32m   2453\u001b[0m inputs \u001b[38;5;241m=\u001b[39m [asanyarray(a, dtype\u001b[38;5;241m=\u001b[39m\u001b[38;5;28mobject\u001b[39m) \u001b[38;5;28;01mfor\u001b[39;00m a \u001b[38;5;129;01min\u001b[39;00m args]\n\u001b[0;32m-> 2455\u001b[0m outputs \u001b[38;5;241m=\u001b[39m \u001b[43mufunc\u001b[49m\u001b[43m(\u001b[49m\u001b[38;5;241;43m*\u001b[39;49m\u001b[43minputs\u001b[49m\u001b[43m)\u001b[49m\n\u001b[1;32m   2457\u001b[0m \u001b[38;5;28;01mif\u001b[39;00m ufunc\u001b[38;5;241m.\u001b[39mnout \u001b[38;5;241m==\u001b[39m \u001b[38;5;241m1\u001b[39m:\n\u001b[1;32m   2458\u001b[0m     res \u001b[38;5;241m=\u001b[39m asanyarray(outputs, dtype\u001b[38;5;241m=\u001b[39motypes[\u001b[38;5;241m0\u001b[39m])\n",
      "File \u001b[0;32m~/miniconda3/envs/cogwheel_pop_latest/lib/python3.9/site-packages/numpy/lib/function_base.py:2360\u001b[0m, in \u001b[0;36mvectorize._call_as_normal.<locals>.func\u001b[0;34m(*vargs)\u001b[0m\n\u001b[1;32m   2358\u001b[0m     the_args[_i] \u001b[38;5;241m=\u001b[39m vargs[_n]\n\u001b[1;32m   2359\u001b[0m kwargs\u001b[38;5;241m.\u001b[39mupdate(\u001b[38;5;28mzip\u001b[39m(names, vargs[\u001b[38;5;28mlen\u001b[39m(inds):]))\n\u001b[0;32m-> 2360\u001b[0m \u001b[38;5;28;01mreturn\u001b[39;00m \u001b[38;5;28;43mself\u001b[39;49m\u001b[38;5;241;43m.\u001b[39;49m\u001b[43mpyfunc\u001b[49m\u001b[43m(\u001b[49m\u001b[38;5;241;43m*\u001b[39;49m\u001b[43mthe_args\u001b[49m\u001b[43m,\u001b[49m\u001b[43m \u001b[49m\u001b[38;5;241;43m*\u001b[39;49m\u001b[38;5;241;43m*\u001b[39;49m\u001b[43mkwargs\u001b[49m\u001b[43m)\u001b[49m\n",
      "File \u001b[0;32m~/PopulationSelectionEffects/cogwheel_population_inference/cogwheel/cogwheel/prior.py:564\u001b[0m, in \u001b[0;36mCombinedPrior.__init_subclass__.<locals>.lnprior\u001b[0;34m(self, *par_vals, **par_dic)\u001b[0m\n\u001b[1;32m    558\u001b[0m \u001b[38;5;28;01mdef\u001b[39;00m \u001b[38;5;21mlnprior\u001b[39m(\u001b[38;5;28mself\u001b[39m, \u001b[38;5;241m*\u001b[39mpar_vals, \u001b[38;5;241m*\u001b[39m\u001b[38;5;241m*\u001b[39mpar_dic):\n\u001b[1;32m    559\u001b[0m \u001b[38;5;250m    \u001b[39m\u001b[38;5;124;03m\"\"\"\u001b[39;00m\n\u001b[1;32m    560\u001b[0m \u001b[38;5;124;03m    Natural logarithm of the prior probability density.\u001b[39;00m\n\u001b[1;32m    561\u001b[0m \u001b[38;5;124;03m    Take `self.sampled_params + self.conditioned_on` parameters\u001b[39;00m\n\u001b[1;32m    562\u001b[0m \u001b[38;5;124;03m    and return a float.\u001b[39;00m\n\u001b[1;32m    563\u001b[0m \u001b[38;5;124;03m    \"\"\"\u001b[39;00m\n\u001b[0;32m--> 564\u001b[0m     \u001b[38;5;28;01mreturn\u001b[39;00m \u001b[38;5;28;43mself\u001b[39;49m\u001b[38;5;241;43m.\u001b[39;49m\u001b[43mlnprior_and_transform\u001b[49m\u001b[43m(\u001b[49m\u001b[38;5;241;43m*\u001b[39;49m\u001b[43mpar_vals\u001b[49m\u001b[43m,\u001b[49m\u001b[43m \u001b[49m\u001b[38;5;241;43m*\u001b[39;49m\u001b[38;5;241;43m*\u001b[39;49m\u001b[43mpar_dic\u001b[49m\u001b[43m)\u001b[49m[\u001b[38;5;241m0\u001b[39m]\n",
      "File \u001b[0;32m~/PopulationSelectionEffects/cogwheel_population_inference/cogwheel/cogwheel/prior.py:547\u001b[0m, in \u001b[0;36mCombinedPrior.__init_subclass__.<locals>.lnprior_and_transform\u001b[0;34m(self, *par_vals, **par_dic)\u001b[0m\n\u001b[1;32m    538\u001b[0m \u001b[38;5;250m\u001b[39m\u001b[38;5;124;03m\"\"\"\u001b[39;00m\n\u001b[1;32m    539\u001b[0m \u001b[38;5;124;03mTake sampled and conditioned-on parameters, and return a\u001b[39;00m\n\u001b[1;32m    540\u001b[0m \u001b[38;5;124;03m2-element tuple with the log of the prior and a dictionary\u001b[39;00m\n\u001b[0;32m   (...)\u001b[0m\n\u001b[1;32m    544\u001b[0m \u001b[38;5;124;03mboth are wanted it is efficient to compute them at once.\u001b[39;00m\n\u001b[1;32m    545\u001b[0m \u001b[38;5;124;03m\"\"\"\u001b[39;00m\n\u001b[1;32m    546\u001b[0m par_dic\u001b[38;5;241m.\u001b[39mupdate(\u001b[38;5;28mdict\u001b[39m(\u001b[38;5;28mzip\u001b[39m(direct_params, par_vals)))\n\u001b[0;32m--> 547\u001b[0m standard_par_dic \u001b[38;5;241m=\u001b[39m \u001b[38;5;28;43mself\u001b[39;49m\u001b[38;5;241;43m.\u001b[39;49m\u001b[43mtransform\u001b[49m\u001b[43m(\u001b[49m\u001b[38;5;241;43m*\u001b[39;49m\u001b[38;5;241;43m*\u001b[39;49m\u001b[43mpar_dic\u001b[49m\u001b[43m)\u001b[49m\n\u001b[1;32m    548\u001b[0m par_dic\u001b[38;5;241m.\u001b[39mupdate(standard_par_dic)\n\u001b[1;32m    550\u001b[0m lnp \u001b[38;5;241m=\u001b[39m \u001b[38;5;241m0\u001b[39m\n",
      "File \u001b[0;32m~/PopulationSelectionEffects/cogwheel_population_inference/cogwheel/cogwheel/prior.py:520\u001b[0m, in \u001b[0;36mCombinedPrior.__init_subclass__.<locals>.transform\u001b[0;34m(self, *par_vals, **par_dic)\u001b[0m\n\u001b[1;32m    516\u001b[0m \u001b[38;5;28;01mfor\u001b[39;00m subprior \u001b[38;5;129;01min\u001b[39;00m \u001b[38;5;28mself\u001b[39m\u001b[38;5;241m.\u001b[39msubpriors:\n\u001b[1;32m    517\u001b[0m     input_dic \u001b[38;5;241m=\u001b[39m {par: par_dic[par]\n\u001b[1;32m    518\u001b[0m                  \u001b[38;5;28;01mfor\u001b[39;00m par \u001b[38;5;129;01min\u001b[39;00m (subprior\u001b[38;5;241m.\u001b[39msampled_params\n\u001b[1;32m    519\u001b[0m                              \u001b[38;5;241m+\u001b[39m subprior\u001b[38;5;241m.\u001b[39mconditioned_on)}\n\u001b[0;32m--> 520\u001b[0m     par_dic\u001b[38;5;241m.\u001b[39mupdate(\u001b[43msubprior\u001b[49m\u001b[38;5;241;43m.\u001b[39;49m\u001b[43mtransform\u001b[49m\u001b[43m(\u001b[49m\u001b[38;5;241;43m*\u001b[39;49m\u001b[38;5;241;43m*\u001b[39;49m\u001b[43minput_dic\u001b[49m\u001b[43m)\u001b[49m)\n\u001b[1;32m    521\u001b[0m \u001b[38;5;28;01mreturn\u001b[39;00m {par: par_dic[par] \u001b[38;5;28;01mfor\u001b[39;00m par \u001b[38;5;129;01min\u001b[39;00m \u001b[38;5;28mself\u001b[39m\u001b[38;5;241m.\u001b[39mstandard_params}\n",
      "File \u001b[0;32m~/PopulationSelectionEffects/cogwheel_population_inference/cogwheel/cogwheel/gw_prior/extrinsic.py:104\u001b[0m, in \u001b[0;36mUniformPhasePrior.transform\u001b[0;34m(self, phi_ref_hat, iota, ra, dec, psi, t_geocenter)\u001b[0m\n\u001b[1;32m    101\u001b[0m \u001b[38;5;129m@utils\u001b[39m\u001b[38;5;241m.\u001b[39mlru_cache()\n\u001b[1;32m    102\u001b[0m \u001b[38;5;28;01mdef\u001b[39;00m \u001b[38;5;21mtransform\u001b[39m(\u001b[38;5;28mself\u001b[39m, phi_ref_hat, iota, ra, dec, psi, t_geocenter):\n\u001b[1;32m    103\u001b[0m \u001b[38;5;250m    \u001b[39m\u001b[38;5;124;03m\"\"\"phi_ref_hat to phi_ref.\"\"\"\u001b[39;00m\n\u001b[0;32m--> 104\u001b[0m     phase_refdet \u001b[38;5;241m=\u001b[39m \u001b[38;5;28;43mself\u001b[39;49m\u001b[38;5;241;43m.\u001b[39;49m\u001b[43m_phase_refdet\u001b[49m\u001b[43m(\u001b[49m\u001b[43miota\u001b[49m\u001b[43m,\u001b[49m\u001b[43m \u001b[49m\u001b[43mra\u001b[49m\u001b[43m,\u001b[49m\u001b[43m \u001b[49m\u001b[43mdec\u001b[49m\u001b[43m,\u001b[49m\u001b[43m \u001b[49m\u001b[43mpsi\u001b[49m\u001b[43m,\u001b[49m\u001b[43m \u001b[49m\u001b[43mt_geocenter\u001b[49m\u001b[43m,\u001b[49m\n\u001b[1;32m    105\u001b[0m \u001b[43m                                      \u001b[49m\u001b[43mphi_ref\u001b[49m\u001b[38;5;241;43m=\u001b[39;49m\u001b[38;5;241;43m0\u001b[39;49m\u001b[43m)\u001b[49m\n\u001b[1;32m    106\u001b[0m     phi_ref \u001b[38;5;241m=\u001b[39m (phi_ref_hat\n\u001b[1;32m    107\u001b[0m                \u001b[38;5;241m-\u001b[39m (phase_refdet \u001b[38;5;241m-\u001b[39m \u001b[38;5;28mself\u001b[39m\u001b[38;5;241m.\u001b[39m_phase_refdet_0) \u001b[38;5;241m/\u001b[39m \u001b[38;5;241m2\u001b[39m) \u001b[38;5;241m%\u001b[39m (\u001b[38;5;241m2\u001b[39m\u001b[38;5;241m*\u001b[39mnp\u001b[38;5;241m.\u001b[39mpi)\n\u001b[1;32m    108\u001b[0m     \u001b[38;5;28;01mreturn\u001b[39;00m {\u001b[38;5;124m'\u001b[39m\u001b[38;5;124mphi_ref\u001b[39m\u001b[38;5;124m'\u001b[39m: phi_ref}\n",
      "File \u001b[0;32m~/PopulationSelectionEffects/cogwheel_population_inference/cogwheel/cogwheel/gw_prior/extrinsic.py:97\u001b[0m, in \u001b[0;36mUniformPhasePrior._phase_refdet\u001b[0;34m(self, iota, ra, dec, psi, t_geocenter, phi_ref)\u001b[0m\n\u001b[1;32m     90\u001b[0m \u001b[38;5;28;01mdef\u001b[39;00m \u001b[38;5;21m_phase_refdet\u001b[39m(\u001b[38;5;28mself\u001b[39m, iota, ra, dec, psi, t_geocenter, phi_ref):\n\u001b[1;32m     91\u001b[0m \u001b[38;5;250m    \u001b[39m\u001b[38;5;124;03m\"\"\"\u001b[39;00m\n\u001b[1;32m     92\u001b[0m \u001b[38;5;124;03m    Return the well-measurable overall phase at the reference\u001b[39;00m\n\u001b[1;32m     93\u001b[0m \u001b[38;5;124;03m    detector. The intuition is that all allowed values of\u001b[39;00m\n\u001b[1;32m     94\u001b[0m \u001b[38;5;124;03m    (phi_ref, iota, ra, dec, psi, t_geocenter) would have a\u001b[39;00m\n\u001b[1;32m     95\u001b[0m \u001b[38;5;124;03m    consistent value of phase_refdet.\u001b[39;00m\n\u001b[1;32m     96\u001b[0m \u001b[38;5;124;03m    \"\"\"\u001b[39;00m\n\u001b[0;32m---> 97\u001b[0m     t_refdet \u001b[38;5;241m=\u001b[39m t_geocenter \u001b[38;5;241m+\u001b[39m \u001b[38;5;28;43mself\u001b[39;49m\u001b[38;5;241;43m.\u001b[39;49m\u001b[43mtime_delay_refdet\u001b[49m\u001b[43m(\u001b[49m\u001b[43mra\u001b[49m\u001b[43m,\u001b[49m\u001b[43m \u001b[49m\u001b[43mdec\u001b[49m\u001b[43m)\u001b[49m\n\u001b[1;32m     98\u001b[0m     \u001b[38;5;28;01mreturn\u001b[39;00m (np\u001b[38;5;241m.\u001b[39mangle(\u001b[38;5;28mself\u001b[39m\u001b[38;5;241m.\u001b[39mgeometric_factor_refdet(ra, dec, psi, iota))\n\u001b[1;32m     99\u001b[0m             \u001b[38;5;241m+\u001b[39m \u001b[38;5;241m2\u001b[39m\u001b[38;5;241m*\u001b[39mphi_ref \u001b[38;5;241m-\u001b[39m \u001b[38;5;241m2\u001b[39m\u001b[38;5;241m*\u001b[39mnp\u001b[38;5;241m.\u001b[39mpi\u001b[38;5;241m*\u001b[39m\u001b[38;5;28mself\u001b[39m\u001b[38;5;241m.\u001b[39mf_avg\u001b[38;5;241m*\u001b[39mt_refdet) \u001b[38;5;241m%\u001b[39m (\u001b[38;5;241m2\u001b[39m\u001b[38;5;241m*\u001b[39mnp\u001b[38;5;241m.\u001b[39mpi)\n",
      "File \u001b[0;32m~/PopulationSelectionEffects/cogwheel_population_inference/cogwheel/cogwheel/gw_prior/extrinsic.py:33\u001b[0m, in \u001b[0;36mReferenceDetectorMixin.time_delay_refdet\u001b[0;34m(self, ra, dec)\u001b[0m\n\u001b[1;32m     31\u001b[0m \u001b[38;5;28;01mdef\u001b[39;00m \u001b[38;5;21mtime_delay_refdet\u001b[39m(\u001b[38;5;28mself\u001b[39m, ra, dec):\n\u001b[1;32m     32\u001b[0m \u001b[38;5;250m    \u001b[39m\u001b[38;5;124;03m\"\"\"Time delay from Earth center to the reference detector.\"\"\"\u001b[39;00m\n\u001b[0;32m---> 33\u001b[0m     \u001b[38;5;28;01mreturn\u001b[39;00m \u001b[43mlal\u001b[49m\u001b[38;5;241;43m.\u001b[39;49m\u001b[43mTimeDelayFromEarthCenter\u001b[49m\u001b[43m(\u001b[49m\u001b[38;5;28;43mself\u001b[39;49m\u001b[38;5;241;43m.\u001b[39;49m\u001b[43mref_det_location\u001b[49m\u001b[43m,\u001b[49m\u001b[43m \u001b[49m\u001b[43mra\u001b[49m\u001b[43m,\u001b[49m\u001b[43m \u001b[49m\u001b[43mdec\u001b[49m\u001b[43m,\u001b[49m\n\u001b[1;32m     34\u001b[0m \u001b[43m                                        \u001b[49m\u001b[38;5;28;43mself\u001b[39;49m\u001b[38;5;241;43m.\u001b[39;49m\u001b[43mtgps\u001b[49m\u001b[43m)\u001b[49m\n",
      "\u001b[0;31mKeyboardInterrupt\u001b[0m: "
     ]
    }
   ],
   "source": [
    "likelihood_object.w_i(hyperparams_dic={'lambda1':1, 'lambda2':1, 'R':100})"
   ]
  },
  {
   "cell_type": "code",
   "execution_count": 18,
   "id": "612a270f-4061-47d2-8d2c-9ddd9ed6c256",
   "metadata": {
    "scrolled": true
   },
   "outputs": [
    {
     "ename": "KeyboardInterrupt",
     "evalue": "",
     "output_type": "error",
     "traceback": [
      "\u001b[0;31m---------------------------------------------------------------------------\u001b[0m",
      "\u001b[0;31mKeyboardInterrupt\u001b[0m                         Traceback (most recent call last)",
      "Cell \u001b[0;32mIn[18], line 1\u001b[0m\n\u001b[0;32m----> 1\u001b[0m \u001b[43mlikelihood_object\u001b[49m\u001b[38;5;241;43m.\u001b[39;49m\u001b[43mlnlike\u001b[49m\u001b[43m(\u001b[49m\u001b[43mhyperparams_dic\u001b[49m\u001b[38;5;241;43m=\u001b[39;49m\u001b[43m{\u001b[49m\u001b[38;5;124;43m'\u001b[39;49m\u001b[38;5;124;43mlambda1\u001b[39;49m\u001b[38;5;124;43m'\u001b[39;49m\u001b[43m:\u001b[49m\u001b[38;5;241;43m1\u001b[39;49m\u001b[43m,\u001b[49m\u001b[43m \u001b[49m\u001b[38;5;124;43m'\u001b[39;49m\u001b[38;5;124;43mlambda2\u001b[39;49m\u001b[38;5;124;43m'\u001b[39;49m\u001b[43m:\u001b[49m\u001b[38;5;241;43m1\u001b[39;49m\u001b[43m,\u001b[49m\u001b[43m \u001b[49m\u001b[38;5;124;43m'\u001b[39;49m\u001b[38;5;124;43mR\u001b[39;49m\u001b[38;5;124;43m'\u001b[39;49m\u001b[43m:\u001b[49m\u001b[38;5;241;43m100\u001b[39;49m\u001b[43m}\u001b[49m\u001b[43m)\u001b[49m\n",
      "File \u001b[0;32m~/PopulationSelectionEffects/cogwheel_population_inference/cogwheel/cogwheel/population_inference/population_likelihood.py:39\u001b[0m, in \u001b[0;36mPopulationLikelihood.lnlike\u001b[0;34m(self, hyperparams_dic)\u001b[0m\n\u001b[1;32m     34\u001b[0m \u001b[38;5;28;01mdef\u001b[39;00m \u001b[38;5;21mlnlike\u001b[39m(\u001b[38;5;28mself\u001b[39m, hyperparams_dic):\n\u001b[1;32m     35\u001b[0m \u001b[38;5;250m    \u001b[39m\u001b[38;5;124;03m\"\"\"\u001b[39;00m\n\u001b[1;32m     36\u001b[0m \u001b[38;5;124;03m    Returns the log likelihood of population model (Eq. 16)\u001b[39;00m\n\u001b[1;32m     37\u001b[0m \u001b[38;5;124;03m    \"\"\"\u001b[39;00m\n\u001b[1;32m     38\u001b[0m     lnlike \u001b[38;5;241m=\u001b[39m (\u001b[38;5;241m-\u001b[39m hyperparams_dic[\u001b[38;5;124m'\u001b[39m\u001b[38;5;124mR\u001b[39m\u001b[38;5;124m'\u001b[39m]\u001b[38;5;241m*\u001b[39m\u001b[38;5;28mself\u001b[39m\u001b[38;5;241m.\u001b[39mVT(hyperparams_dic) \u001b[38;5;241m+\u001b[39m \n\u001b[0;32m---> 39\u001b[0m               np\u001b[38;5;241m.\u001b[39msum(np\u001b[38;5;241m.\u001b[39mlog((hyperparams_dic[\u001b[38;5;124m'\u001b[39m\u001b[38;5;124mR\u001b[39m\u001b[38;5;124m'\u001b[39m]\u001b[38;5;241m/\u001b[39m\u001b[38;5;28mself\u001b[39m\u001b[38;5;241m.\u001b[39mR0)\u001b[38;5;241m*\u001b[39m\u001b[38;5;28;43mself\u001b[39;49m\u001b[38;5;241;43m.\u001b[39;49m\u001b[43mw_i\u001b[49m\u001b[43m(\u001b[49m\u001b[43mhyperparams_dic\u001b[49m\u001b[43m)\u001b[49m\u001b[38;5;241m*\u001b[39m\u001b[38;5;28mself\u001b[39m\u001b[38;5;241m.\u001b[39mpastro_func) \n\u001b[1;32m     40\u001b[0m                     \u001b[38;5;241m+\u001b[39m (\u001b[38;5;241m1\u001b[39m\u001b[38;5;241m-\u001b[39m\u001b[38;5;28mself\u001b[39m\u001b[38;5;241m.\u001b[39mpastro_func)))\n\u001b[1;32m     41\u001b[0m     \u001b[38;5;28;01mreturn\u001b[39;00m lnlike\n",
      "File \u001b[0;32m~/PopulationSelectionEffects/cogwheel_population_inference/cogwheel/cogwheel/population_inference/population_likelihood.py:69\u001b[0m, in \u001b[0;36mPopulationLikelihood.w_i\u001b[0;34m(self, hyperparams_dic)\u001b[0m\n\u001b[1;32m     64\u001b[0m     pe_inj_params_df \u001b[38;5;241m=\u001b[39m pe_samples[inj_param_keys]\n\u001b[1;32m     65\u001b[0m     inj_params_dict \u001b[38;5;241m=\u001b[39m {col: pe_inj_params_df[col]\u001b[38;5;241m.\u001b[39mto_numpy() \u001b[38;5;28;01mfor\u001b[39;00m col \u001b[38;5;129;01min\u001b[39;00m pe_inj_params_df\u001b[38;5;241m.\u001b[39mcolumns}\n\u001b[1;32m     67\u001b[0m     w_arr[i] \u001b[38;5;241m=\u001b[39m (np\u001b[38;5;241m.\u001b[39msum(np\u001b[38;5;241m.\u001b[39mexp(vectorized_population_lnprior(\u001b[38;5;241m*\u001b[39m\u001b[38;5;241m*\u001b[39mmodel_params_dict) \u001b[38;5;241m-\u001b[39m \n\u001b[1;32m     68\u001b[0m                           pe_samples[\u001b[38;5;124m'\u001b[39m\u001b[38;5;124mlnl\u001b[39m\u001b[38;5;124m'\u001b[39m]))\u001b[38;5;241m/\u001b[39m\n\u001b[0;32m---> 69\u001b[0m              np\u001b[38;5;241m.\u001b[39msum(np\u001b[38;5;241m.\u001b[39mexp(\u001b[43mvectorized_injection_population_lnprior\u001b[49m\u001b[43m(\u001b[49m\u001b[38;5;241;43m*\u001b[39;49m\u001b[38;5;241;43m*\u001b[39;49m\u001b[43minj_params_dict\u001b[49m\u001b[43m)\u001b[49m \u001b[38;5;241m-\u001b[39m \n\u001b[1;32m     70\u001b[0m                           pe_samples[\u001b[38;5;124m'\u001b[39m\u001b[38;5;124mlnl\u001b[39m\u001b[38;5;124m'\u001b[39m])))\n\u001b[1;32m     71\u001b[0m \u001b[38;5;28;01mreturn\u001b[39;00m w_arr\n",
      "File \u001b[0;32m~/miniconda3/envs/cogwheel_pop_latest/lib/python3.9/site-packages/numpy/lib/function_base.py:2372\u001b[0m, in \u001b[0;36mvectorize.__call__\u001b[0;34m(self, *args, **kwargs)\u001b[0m\n\u001b[1;32m   2369\u001b[0m     \u001b[38;5;28mself\u001b[39m\u001b[38;5;241m.\u001b[39m_init_stage_2(\u001b[38;5;241m*\u001b[39margs, \u001b[38;5;241m*\u001b[39m\u001b[38;5;241m*\u001b[39mkwargs)\n\u001b[1;32m   2370\u001b[0m     \u001b[38;5;28;01mreturn\u001b[39;00m \u001b[38;5;28mself\u001b[39m\n\u001b[0;32m-> 2372\u001b[0m \u001b[38;5;28;01mreturn\u001b[39;00m \u001b[38;5;28;43mself\u001b[39;49m\u001b[38;5;241;43m.\u001b[39;49m\u001b[43m_call_as_normal\u001b[49m\u001b[43m(\u001b[49m\u001b[38;5;241;43m*\u001b[39;49m\u001b[43margs\u001b[49m\u001b[43m,\u001b[49m\u001b[43m \u001b[49m\u001b[38;5;241;43m*\u001b[39;49m\u001b[38;5;241;43m*\u001b[39;49m\u001b[43mkwargs\u001b[49m\u001b[43m)\u001b[49m\n",
      "File \u001b[0;32m~/miniconda3/envs/cogwheel_pop_latest/lib/python3.9/site-packages/numpy/lib/function_base.py:2365\u001b[0m, in \u001b[0;36mvectorize._call_as_normal\u001b[0;34m(self, *args, **kwargs)\u001b[0m\n\u001b[1;32m   2362\u001b[0m     vargs \u001b[38;5;241m=\u001b[39m [args[_i] \u001b[38;5;28;01mfor\u001b[39;00m _i \u001b[38;5;129;01min\u001b[39;00m inds]\n\u001b[1;32m   2363\u001b[0m     vargs\u001b[38;5;241m.\u001b[39mextend([kwargs[_n] \u001b[38;5;28;01mfor\u001b[39;00m _n \u001b[38;5;129;01min\u001b[39;00m names])\n\u001b[0;32m-> 2365\u001b[0m \u001b[38;5;28;01mreturn\u001b[39;00m \u001b[38;5;28;43mself\u001b[39;49m\u001b[38;5;241;43m.\u001b[39;49m\u001b[43m_vectorize_call\u001b[49m\u001b[43m(\u001b[49m\u001b[43mfunc\u001b[49m\u001b[38;5;241;43m=\u001b[39;49m\u001b[43mfunc\u001b[49m\u001b[43m,\u001b[49m\u001b[43m \u001b[49m\u001b[43margs\u001b[49m\u001b[38;5;241;43m=\u001b[39;49m\u001b[43mvargs\u001b[49m\u001b[43m)\u001b[49m\n",
      "File \u001b[0;32m~/miniconda3/envs/cogwheel_pop_latest/lib/python3.9/site-packages/numpy/lib/function_base.py:2455\u001b[0m, in \u001b[0;36mvectorize._vectorize_call\u001b[0;34m(self, func, args)\u001b[0m\n\u001b[1;32m   2452\u001b[0m \u001b[38;5;66;03m# Convert args to object arrays first\u001b[39;00m\n\u001b[1;32m   2453\u001b[0m inputs \u001b[38;5;241m=\u001b[39m [asanyarray(a, dtype\u001b[38;5;241m=\u001b[39m\u001b[38;5;28mobject\u001b[39m) \u001b[38;5;28;01mfor\u001b[39;00m a \u001b[38;5;129;01min\u001b[39;00m args]\n\u001b[0;32m-> 2455\u001b[0m outputs \u001b[38;5;241m=\u001b[39m \u001b[43mufunc\u001b[49m\u001b[43m(\u001b[49m\u001b[38;5;241;43m*\u001b[39;49m\u001b[43minputs\u001b[49m\u001b[43m)\u001b[49m\n\u001b[1;32m   2457\u001b[0m \u001b[38;5;28;01mif\u001b[39;00m ufunc\u001b[38;5;241m.\u001b[39mnout \u001b[38;5;241m==\u001b[39m \u001b[38;5;241m1\u001b[39m:\n\u001b[1;32m   2458\u001b[0m     res \u001b[38;5;241m=\u001b[39m asanyarray(outputs, dtype\u001b[38;5;241m=\u001b[39motypes[\u001b[38;5;241m0\u001b[39m])\n",
      "File \u001b[0;32m~/miniconda3/envs/cogwheel_pop_latest/lib/python3.9/site-packages/numpy/lib/function_base.py:2360\u001b[0m, in \u001b[0;36mvectorize._call_as_normal.<locals>.func\u001b[0;34m(*vargs)\u001b[0m\n\u001b[1;32m   2358\u001b[0m     the_args[_i] \u001b[38;5;241m=\u001b[39m vargs[_n]\n\u001b[1;32m   2359\u001b[0m kwargs\u001b[38;5;241m.\u001b[39mupdate(\u001b[38;5;28mzip\u001b[39m(names, vargs[\u001b[38;5;28mlen\u001b[39m(inds):]))\n\u001b[0;32m-> 2360\u001b[0m \u001b[38;5;28;01mreturn\u001b[39;00m \u001b[38;5;28;43mself\u001b[39;49m\u001b[38;5;241;43m.\u001b[39;49m\u001b[43mpyfunc\u001b[49m\u001b[43m(\u001b[49m\u001b[38;5;241;43m*\u001b[39;49m\u001b[43mthe_args\u001b[49m\u001b[43m,\u001b[49m\u001b[43m \u001b[49m\u001b[38;5;241;43m*\u001b[39;49m\u001b[38;5;241;43m*\u001b[39;49m\u001b[43mkwargs\u001b[49m\u001b[43m)\u001b[49m\n",
      "File \u001b[0;32m~/PopulationSelectionEffects/cogwheel_population_inference/cogwheel/cogwheel/prior.py:564\u001b[0m, in \u001b[0;36mCombinedPrior.__init_subclass__.<locals>.lnprior\u001b[0;34m(self, *par_vals, **par_dic)\u001b[0m\n\u001b[1;32m    558\u001b[0m \u001b[38;5;28;01mdef\u001b[39;00m \u001b[38;5;21mlnprior\u001b[39m(\u001b[38;5;28mself\u001b[39m, \u001b[38;5;241m*\u001b[39mpar_vals, \u001b[38;5;241m*\u001b[39m\u001b[38;5;241m*\u001b[39mpar_dic):\n\u001b[1;32m    559\u001b[0m \u001b[38;5;250m    \u001b[39m\u001b[38;5;124;03m\"\"\"\u001b[39;00m\n\u001b[1;32m    560\u001b[0m \u001b[38;5;124;03m    Natural logarithm of the prior probability density.\u001b[39;00m\n\u001b[1;32m    561\u001b[0m \u001b[38;5;124;03m    Take `self.sampled_params + self.conditioned_on` parameters\u001b[39;00m\n\u001b[1;32m    562\u001b[0m \u001b[38;5;124;03m    and return a float.\u001b[39;00m\n\u001b[1;32m    563\u001b[0m \u001b[38;5;124;03m    \"\"\"\u001b[39;00m\n\u001b[0;32m--> 564\u001b[0m     \u001b[38;5;28;01mreturn\u001b[39;00m \u001b[38;5;28;43mself\u001b[39;49m\u001b[38;5;241;43m.\u001b[39;49m\u001b[43mlnprior_and_transform\u001b[49m\u001b[43m(\u001b[49m\u001b[38;5;241;43m*\u001b[39;49m\u001b[43mpar_vals\u001b[49m\u001b[43m,\u001b[49m\u001b[43m \u001b[49m\u001b[38;5;241;43m*\u001b[39;49m\u001b[38;5;241;43m*\u001b[39;49m\u001b[43mpar_dic\u001b[49m\u001b[43m)\u001b[49m[\u001b[38;5;241m0\u001b[39m]\n",
      "File \u001b[0;32m~/PopulationSelectionEffects/cogwheel_population_inference/cogwheel/cogwheel/prior.py:547\u001b[0m, in \u001b[0;36mCombinedPrior.__init_subclass__.<locals>.lnprior_and_transform\u001b[0;34m(self, *par_vals, **par_dic)\u001b[0m\n\u001b[1;32m    538\u001b[0m \u001b[38;5;250m\u001b[39m\u001b[38;5;124;03m\"\"\"\u001b[39;00m\n\u001b[1;32m    539\u001b[0m \u001b[38;5;124;03mTake sampled and conditioned-on parameters, and return a\u001b[39;00m\n\u001b[1;32m    540\u001b[0m \u001b[38;5;124;03m2-element tuple with the log of the prior and a dictionary\u001b[39;00m\n\u001b[0;32m   (...)\u001b[0m\n\u001b[1;32m    544\u001b[0m \u001b[38;5;124;03mboth are wanted it is efficient to compute them at once.\u001b[39;00m\n\u001b[1;32m    545\u001b[0m \u001b[38;5;124;03m\"\"\"\u001b[39;00m\n\u001b[1;32m    546\u001b[0m par_dic\u001b[38;5;241m.\u001b[39mupdate(\u001b[38;5;28mdict\u001b[39m(\u001b[38;5;28mzip\u001b[39m(direct_params, par_vals)))\n\u001b[0;32m--> 547\u001b[0m standard_par_dic \u001b[38;5;241m=\u001b[39m \u001b[38;5;28;43mself\u001b[39;49m\u001b[38;5;241;43m.\u001b[39;49m\u001b[43mtransform\u001b[49m\u001b[43m(\u001b[49m\u001b[38;5;241;43m*\u001b[39;49m\u001b[38;5;241;43m*\u001b[39;49m\u001b[43mpar_dic\u001b[49m\u001b[43m)\u001b[49m\n\u001b[1;32m    548\u001b[0m par_dic\u001b[38;5;241m.\u001b[39mupdate(standard_par_dic)\n\u001b[1;32m    550\u001b[0m lnp \u001b[38;5;241m=\u001b[39m \u001b[38;5;241m0\u001b[39m\n",
      "File \u001b[0;32m~/PopulationSelectionEffects/cogwheel_population_inference/cogwheel/cogwheel/prior.py:520\u001b[0m, in \u001b[0;36mCombinedPrior.__init_subclass__.<locals>.transform\u001b[0;34m(self, *par_vals, **par_dic)\u001b[0m\n\u001b[1;32m    516\u001b[0m \u001b[38;5;28;01mfor\u001b[39;00m subprior \u001b[38;5;129;01min\u001b[39;00m \u001b[38;5;28mself\u001b[39m\u001b[38;5;241m.\u001b[39msubpriors:\n\u001b[1;32m    517\u001b[0m     input_dic \u001b[38;5;241m=\u001b[39m {par: par_dic[par]\n\u001b[1;32m    518\u001b[0m                  \u001b[38;5;28;01mfor\u001b[39;00m par \u001b[38;5;129;01min\u001b[39;00m (subprior\u001b[38;5;241m.\u001b[39msampled_params\n\u001b[1;32m    519\u001b[0m                              \u001b[38;5;241m+\u001b[39m subprior\u001b[38;5;241m.\u001b[39mconditioned_on)}\n\u001b[0;32m--> 520\u001b[0m     par_dic\u001b[38;5;241m.\u001b[39mupdate(\u001b[43msubprior\u001b[49m\u001b[38;5;241;43m.\u001b[39;49m\u001b[43mtransform\u001b[49m\u001b[43m(\u001b[49m\u001b[38;5;241;43m*\u001b[39;49m\u001b[38;5;241;43m*\u001b[39;49m\u001b[43minput_dic\u001b[49m\u001b[43m)\u001b[49m)\n\u001b[1;32m    521\u001b[0m \u001b[38;5;28;01mreturn\u001b[39;00m {par: par_dic[par] \u001b[38;5;28;01mfor\u001b[39;00m par \u001b[38;5;129;01min\u001b[39;00m \u001b[38;5;28mself\u001b[39m\u001b[38;5;241m.\u001b[39mstandard_params}\n",
      "File \u001b[0;32m~/PopulationSelectionEffects/cogwheel_population_inference/cogwheel/cogwheel/gw_prior/extrinsic.py:104\u001b[0m, in \u001b[0;36mUniformPhasePrior.transform\u001b[0;34m(self, phi_ref_hat, iota, ra, dec, psi, t_geocenter)\u001b[0m\n\u001b[1;32m    101\u001b[0m \u001b[38;5;129m@utils\u001b[39m\u001b[38;5;241m.\u001b[39mlru_cache()\n\u001b[1;32m    102\u001b[0m \u001b[38;5;28;01mdef\u001b[39;00m \u001b[38;5;21mtransform\u001b[39m(\u001b[38;5;28mself\u001b[39m, phi_ref_hat, iota, ra, dec, psi, t_geocenter):\n\u001b[1;32m    103\u001b[0m \u001b[38;5;250m    \u001b[39m\u001b[38;5;124;03m\"\"\"phi_ref_hat to phi_ref.\"\"\"\u001b[39;00m\n\u001b[0;32m--> 104\u001b[0m     phase_refdet \u001b[38;5;241m=\u001b[39m \u001b[38;5;28;43mself\u001b[39;49m\u001b[38;5;241;43m.\u001b[39;49m\u001b[43m_phase_refdet\u001b[49m\u001b[43m(\u001b[49m\u001b[43miota\u001b[49m\u001b[43m,\u001b[49m\u001b[43m \u001b[49m\u001b[43mra\u001b[49m\u001b[43m,\u001b[49m\u001b[43m \u001b[49m\u001b[43mdec\u001b[49m\u001b[43m,\u001b[49m\u001b[43m \u001b[49m\u001b[43mpsi\u001b[49m\u001b[43m,\u001b[49m\u001b[43m \u001b[49m\u001b[43mt_geocenter\u001b[49m\u001b[43m,\u001b[49m\n\u001b[1;32m    105\u001b[0m \u001b[43m                                      \u001b[49m\u001b[43mphi_ref\u001b[49m\u001b[38;5;241;43m=\u001b[39;49m\u001b[38;5;241;43m0\u001b[39;49m\u001b[43m)\u001b[49m\n\u001b[1;32m    106\u001b[0m     phi_ref \u001b[38;5;241m=\u001b[39m (phi_ref_hat\n\u001b[1;32m    107\u001b[0m                \u001b[38;5;241m-\u001b[39m (phase_refdet \u001b[38;5;241m-\u001b[39m \u001b[38;5;28mself\u001b[39m\u001b[38;5;241m.\u001b[39m_phase_refdet_0) \u001b[38;5;241m/\u001b[39m \u001b[38;5;241m2\u001b[39m) \u001b[38;5;241m%\u001b[39m (\u001b[38;5;241m2\u001b[39m\u001b[38;5;241m*\u001b[39mnp\u001b[38;5;241m.\u001b[39mpi)\n\u001b[1;32m    108\u001b[0m     \u001b[38;5;28;01mreturn\u001b[39;00m {\u001b[38;5;124m'\u001b[39m\u001b[38;5;124mphi_ref\u001b[39m\u001b[38;5;124m'\u001b[39m: phi_ref}\n",
      "File \u001b[0;32m~/PopulationSelectionEffects/cogwheel_population_inference/cogwheel/cogwheel/gw_prior/extrinsic.py:97\u001b[0m, in \u001b[0;36mUniformPhasePrior._phase_refdet\u001b[0;34m(self, iota, ra, dec, psi, t_geocenter, phi_ref)\u001b[0m\n\u001b[1;32m     90\u001b[0m \u001b[38;5;28;01mdef\u001b[39;00m \u001b[38;5;21m_phase_refdet\u001b[39m(\u001b[38;5;28mself\u001b[39m, iota, ra, dec, psi, t_geocenter, phi_ref):\n\u001b[1;32m     91\u001b[0m \u001b[38;5;250m    \u001b[39m\u001b[38;5;124;03m\"\"\"\u001b[39;00m\n\u001b[1;32m     92\u001b[0m \u001b[38;5;124;03m    Return the well-measurable overall phase at the reference\u001b[39;00m\n\u001b[1;32m     93\u001b[0m \u001b[38;5;124;03m    detector. The intuition is that all allowed values of\u001b[39;00m\n\u001b[1;32m     94\u001b[0m \u001b[38;5;124;03m    (phi_ref, iota, ra, dec, psi, t_geocenter) would have a\u001b[39;00m\n\u001b[1;32m     95\u001b[0m \u001b[38;5;124;03m    consistent value of phase_refdet.\u001b[39;00m\n\u001b[1;32m     96\u001b[0m \u001b[38;5;124;03m    \"\"\"\u001b[39;00m\n\u001b[0;32m---> 97\u001b[0m     t_refdet \u001b[38;5;241m=\u001b[39m t_geocenter \u001b[38;5;241m+\u001b[39m \u001b[38;5;28;43mself\u001b[39;49m\u001b[38;5;241;43m.\u001b[39;49m\u001b[43mtime_delay_refdet\u001b[49m\u001b[43m(\u001b[49m\u001b[43mra\u001b[49m\u001b[43m,\u001b[49m\u001b[43m \u001b[49m\u001b[43mdec\u001b[49m\u001b[43m)\u001b[49m\n\u001b[1;32m     98\u001b[0m     \u001b[38;5;28;01mreturn\u001b[39;00m (np\u001b[38;5;241m.\u001b[39mangle(\u001b[38;5;28mself\u001b[39m\u001b[38;5;241m.\u001b[39mgeometric_factor_refdet(ra, dec, psi, iota))\n\u001b[1;32m     99\u001b[0m             \u001b[38;5;241m+\u001b[39m \u001b[38;5;241m2\u001b[39m\u001b[38;5;241m*\u001b[39mphi_ref \u001b[38;5;241m-\u001b[39m \u001b[38;5;241m2\u001b[39m\u001b[38;5;241m*\u001b[39mnp\u001b[38;5;241m.\u001b[39mpi\u001b[38;5;241m*\u001b[39m\u001b[38;5;28mself\u001b[39m\u001b[38;5;241m.\u001b[39mf_avg\u001b[38;5;241m*\u001b[39mt_refdet) \u001b[38;5;241m%\u001b[39m (\u001b[38;5;241m2\u001b[39m\u001b[38;5;241m*\u001b[39mnp\u001b[38;5;241m.\u001b[39mpi)\n",
      "File \u001b[0;32m~/PopulationSelectionEffects/cogwheel_population_inference/cogwheel/cogwheel/gw_prior/extrinsic.py:33\u001b[0m, in \u001b[0;36mReferenceDetectorMixin.time_delay_refdet\u001b[0;34m(self, ra, dec)\u001b[0m\n\u001b[1;32m     31\u001b[0m \u001b[38;5;28;01mdef\u001b[39;00m \u001b[38;5;21mtime_delay_refdet\u001b[39m(\u001b[38;5;28mself\u001b[39m, ra, dec):\n\u001b[1;32m     32\u001b[0m \u001b[38;5;250m    \u001b[39m\u001b[38;5;124;03m\"\"\"Time delay from Earth center to the reference detector.\"\"\"\u001b[39;00m\n\u001b[0;32m---> 33\u001b[0m     \u001b[38;5;28;01mreturn\u001b[39;00m \u001b[43mlal\u001b[49m\u001b[38;5;241;43m.\u001b[39;49m\u001b[43mTimeDelayFromEarthCenter\u001b[49m\u001b[43m(\u001b[49m\u001b[38;5;28;43mself\u001b[39;49m\u001b[38;5;241;43m.\u001b[39;49m\u001b[43mref_det_location\u001b[49m\u001b[43m,\u001b[49m\u001b[43m \u001b[49m\u001b[43mra\u001b[49m\u001b[43m,\u001b[49m\u001b[43m \u001b[49m\u001b[43mdec\u001b[49m\u001b[43m,\u001b[49m\n\u001b[1;32m     34\u001b[0m \u001b[43m                                        \u001b[49m\u001b[38;5;28;43mself\u001b[39;49m\u001b[38;5;241;43m.\u001b[39;49m\u001b[43mtgps\u001b[49m\u001b[43m)\u001b[49m\n",
      "\u001b[0;31mKeyboardInterrupt\u001b[0m: "
     ]
    }
   ],
   "source": [
    "likelihood_object.lnlike(hyperparams_dic={'lambda1':1, 'lambda2':1, 'R':100})"
   ]
  },
  {
   "cell_type": "markdown",
   "id": "11e1757b-4877-4bbe-8739-b4f895391f00",
   "metadata": {
    "jp-MarkdownHeadingCollapsed": true
   },
   "source": [
    "## test lnprior again - vectorize too slow"
   ]
  },
  {
   "cell_type": "code",
   "execution_count": 6,
   "id": "a3641b8a-e134-4432-b00d-db78332ba307",
   "metadata": {},
   "outputs": [
    {
     "data": {
      "text/plain": [
       "0       -0.579843\n",
       "1       -0.230335\n",
       "2       -0.560441\n",
       "3       -0.362299\n",
       "4       -1.235035\n",
       "           ...   \n",
       "23611   -0.228898\n",
       "23612   -0.248511\n",
       "23613   -0.240653\n",
       "23614   -0.231857\n",
       "23615   -0.249587\n",
       "Name: chieff, Length: 23616, dtype: float64"
      ]
     },
     "execution_count": 6,
     "metadata": {},
     "output_type": "execute_result"
    }
   ],
   "source": [
    "gaussian_chieff = GaussianChieff()\n",
    "lnprior_input_dict = {'chieff': all_events_pe[0]['chieff'], 'chieff_mean': 0, 'chieff_sigma':0.5}\n",
    "gaussian_chieff.lnprior(**lnprior_input_dict)"
   ]
  },
  {
   "cell_type": "code",
   "execution_count": 7,
   "id": "b80e5099-d58d-4fe1-8704-3c37fdfdf721",
   "metadata": {},
   "outputs": [],
   "source": [
    "# figure out how to change the combined lnprior to make it work\n",
    "test_gaussian_chieff_model = TestingGaussianChieff(detector_pair='HL', tgps=0.0, ref_det_name='H', f_avg=10, f_ref=20)"
   ]
  },
  {
   "cell_type": "code",
   "execution_count": 8,
   "id": "5460a262-fb74-492b-8c00-595af2fac43f",
   "metadata": {},
   "outputs": [
    {
     "ename": "TypeError",
     "evalue": "unhashable type: 'numpy.ndarray'",
     "output_type": "error",
     "traceback": [
      "\u001b[0;31m---------------------------------------------------------------------------\u001b[0m",
      "\u001b[0;31mTypeError\u001b[0m                                 Traceback (most recent call last)",
      "Cell \u001b[0;32mIn[8], line 8\u001b[0m\n\u001b[1;32m      5\u001b[0m model_params_dict \u001b[38;5;241m=\u001b[39m {col: pe_model_params_df[col]\u001b[38;5;241m.\u001b[39mto_numpy() \u001b[38;5;28;01mfor\u001b[39;00m col \u001b[38;5;129;01min\u001b[39;00m pe_model_params_df\u001b[38;5;241m.\u001b[39mcolumns}\n\u001b[1;32m      6\u001b[0m model_params_dict\u001b[38;5;241m.\u001b[39mupdate(hyperparams_dic)\n\u001b[0;32m----> 8\u001b[0m \u001b[43mtest_gaussian_chieff_model\u001b[49m\u001b[38;5;241;43m.\u001b[39;49m\u001b[43mlnprior\u001b[49m\u001b[43m(\u001b[49m\u001b[38;5;241;43m*\u001b[39;49m\u001b[38;5;241;43m*\u001b[39;49m\u001b[43mmodel_params_dict\u001b[49m\u001b[43m)\u001b[49m\n",
      "File \u001b[0;32m~/PopulationSelectionEffects/cogwheel_population_inference/cogwheel/cogwheel/population_inference/population_models.py:229\u001b[0m, in \u001b[0;36mCombinedParametrizedPrior.__init_subclass__.<locals>.lnprior\u001b[0;34m(self, *par_vals, **par_dic)\u001b[0m\n\u001b[1;32m    223\u001b[0m \u001b[38;5;28;01mdef\u001b[39;00m \u001b[38;5;21mlnprior\u001b[39m(\u001b[38;5;28mself\u001b[39m, \u001b[38;5;241m*\u001b[39mpar_vals, \u001b[38;5;241m*\u001b[39m\u001b[38;5;241m*\u001b[39mpar_dic):\n\u001b[1;32m    224\u001b[0m \u001b[38;5;250m    \u001b[39m\u001b[38;5;124;03m\"\"\"\u001b[39;00m\n\u001b[1;32m    225\u001b[0m \u001b[38;5;124;03m    Natural logarithm of the prior probability density.\u001b[39;00m\n\u001b[1;32m    226\u001b[0m \u001b[38;5;124;03m    Take `self.sampled_params + self.conditioned_on` parameters\u001b[39;00m\n\u001b[1;32m    227\u001b[0m \u001b[38;5;124;03m    and return a float.\u001b[39;00m\n\u001b[1;32m    228\u001b[0m \u001b[38;5;124;03m    \"\"\"\u001b[39;00m\n\u001b[0;32m--> 229\u001b[0m     \u001b[38;5;28;01mreturn\u001b[39;00m \u001b[38;5;28;43mself\u001b[39;49m\u001b[38;5;241;43m.\u001b[39;49m\u001b[43mlnprior_and_transform\u001b[49m\u001b[43m(\u001b[49m\u001b[38;5;241;43m*\u001b[39;49m\u001b[43mpar_vals\u001b[49m\u001b[43m,\u001b[49m\u001b[43m \u001b[49m\u001b[38;5;241;43m*\u001b[39;49m\u001b[38;5;241;43m*\u001b[39;49m\u001b[43mpar_dic\u001b[49m\u001b[43m)\u001b[49m[\u001b[38;5;241m0\u001b[39m]\n",
      "File \u001b[0;32m~/PopulationSelectionEffects/cogwheel_population_inference/cogwheel/cogwheel/population_inference/population_models.py:207\u001b[0m, in \u001b[0;36mCombinedParametrizedPrior.__init_subclass__.<locals>.lnprior_and_transform\u001b[0;34m(self, *par_vals, **par_dic)\u001b[0m\n\u001b[1;32m    198\u001b[0m \u001b[38;5;250m\u001b[39m\u001b[38;5;124;03m\"\"\"\u001b[39;00m\n\u001b[1;32m    199\u001b[0m \u001b[38;5;124;03mTake sampled and conditioned-on parameters, and return a\u001b[39;00m\n\u001b[1;32m    200\u001b[0m \u001b[38;5;124;03m2-element tuple with the log of the prior and a dictionary\u001b[39;00m\n\u001b[0;32m   (...)\u001b[0m\n\u001b[1;32m    204\u001b[0m \u001b[38;5;124;03mboth are wanted it is efficient to compute them at once.\u001b[39;00m\n\u001b[1;32m    205\u001b[0m \u001b[38;5;124;03m\"\"\"\u001b[39;00m\n\u001b[1;32m    206\u001b[0m par_dic\u001b[38;5;241m.\u001b[39mupdate(\u001b[38;5;28mdict\u001b[39m(\u001b[38;5;28mzip\u001b[39m(direct_params, par_vals)))\n\u001b[0;32m--> 207\u001b[0m standard_par_dic \u001b[38;5;241m=\u001b[39m \u001b[38;5;28;43mself\u001b[39;49m\u001b[38;5;241;43m.\u001b[39;49m\u001b[43mtransform\u001b[49m\u001b[43m(\u001b[49m\u001b[38;5;241;43m*\u001b[39;49m\u001b[38;5;241;43m*\u001b[39;49m\u001b[43mpar_dic\u001b[49m\u001b[43m)\u001b[49m\n\u001b[1;32m    208\u001b[0m par_dic\u001b[38;5;241m.\u001b[39mupdate(standard_par_dic)\n\u001b[1;32m    210\u001b[0m lnp \u001b[38;5;241m=\u001b[39m \u001b[38;5;241m0\u001b[39m\n",
      "File \u001b[0;32m~/PopulationSelectionEffects/cogwheel_population_inference/cogwheel/cogwheel/population_inference/population_models.py:178\u001b[0m, in \u001b[0;36mCombinedParametrizedPrior.__init_subclass__.<locals>.transform\u001b[0;34m(self, *par_vals, **par_dic)\u001b[0m\n\u001b[1;32m    174\u001b[0m \u001b[38;5;28;01mfor\u001b[39;00m subprior \u001b[38;5;129;01min\u001b[39;00m \u001b[38;5;28mself\u001b[39m\u001b[38;5;241m.\u001b[39msubpriors:\n\u001b[1;32m    175\u001b[0m     input_dic \u001b[38;5;241m=\u001b[39m {par: par_dic[par]\n\u001b[1;32m    176\u001b[0m                  \u001b[38;5;28;01mfor\u001b[39;00m par \u001b[38;5;129;01min\u001b[39;00m (subprior\u001b[38;5;241m.\u001b[39msampled_params\n\u001b[1;32m    177\u001b[0m                              \u001b[38;5;241m+\u001b[39m subprior\u001b[38;5;241m.\u001b[39mconditioned_on)}\n\u001b[0;32m--> 178\u001b[0m     par_dic\u001b[38;5;241m.\u001b[39mupdate(\u001b[43msubprior\u001b[49m\u001b[38;5;241;43m.\u001b[39;49m\u001b[43mtransform\u001b[49m\u001b[43m(\u001b[49m\u001b[38;5;241;43m*\u001b[39;49m\u001b[38;5;241;43m*\u001b[39;49m\u001b[43minput_dic\u001b[49m\u001b[43m)\u001b[49m)\n\u001b[1;32m    179\u001b[0m \u001b[38;5;28;01mreturn\u001b[39;00m {par: par_dic[par] \u001b[38;5;28;01mfor\u001b[39;00m par \u001b[38;5;129;01min\u001b[39;00m \u001b[38;5;28mself\u001b[39m\u001b[38;5;241m.\u001b[39mstandard_params}\n",
      "\u001b[0;31mTypeError\u001b[0m: unhashable type: 'numpy.ndarray'"
     ]
    }
   ],
   "source": [
    "hyperparams_dic = {'R':60, 'chieff_mean': 0, 'chieff_sigma':0.5}\n",
    "\n",
    "pe_param_keys = np.array(test_gaussian_chieff_model.sampled_params)\n",
    "pe_model_params_df = all_events_pe[0][pe_param_keys]\n",
    "model_params_dict = {col: pe_model_params_df[col].to_numpy() for col in pe_model_params_df.columns}\n",
    "model_params_dict.update(hyperparams_dic)\n",
    "\n",
    "test_gaussian_chieff_model.lnprior(**model_params_dict)"
   ]
  },
  {
   "cell_type": "code",
   "execution_count": 9,
   "id": "d0d69f52-5c46-4afd-b010-6caf48f04be6",
   "metadata": {
    "scrolled": true
   },
   "outputs": [
    {
     "name": "stdout",
     "output_type": "stream",
     "text": [
      "> \u001b[0;32m/home/isha/PopulationSelectionEffects/cogwheel_population_inference/cogwheel/cogwheel/population_inference/population_models.py\u001b[0m(178)\u001b[0;36mtransform\u001b[0;34m()\u001b[0m\n",
      "\u001b[0;32m    176 \u001b[0;31m                             for par in (subprior.sampled_params\n",
      "\u001b[0m\u001b[0;32m    177 \u001b[0;31m                                         + subprior.conditioned_on)}\n",
      "\u001b[0m\u001b[0;32m--> 178 \u001b[0;31m                \u001b[0mpar_dic\u001b[0m\u001b[0;34m.\u001b[0m\u001b[0mupdate\u001b[0m\u001b[0;34m(\u001b[0m\u001b[0msubprior\u001b[0m\u001b[0;34m.\u001b[0m\u001b[0mtransform\u001b[0m\u001b[0;34m(\u001b[0m\u001b[0;34m**\u001b[0m\u001b[0minput_dic\u001b[0m\u001b[0;34m)\u001b[0m\u001b[0;34m)\u001b[0m\u001b[0;34m\u001b[0m\u001b[0;34m\u001b[0m\u001b[0m\n",
      "\u001b[0m\u001b[0;32m    179 \u001b[0;31m            \u001b[0;32mreturn\u001b[0m \u001b[0;34m{\u001b[0m\u001b[0mpar\u001b[0m\u001b[0;34m:\u001b[0m \u001b[0mpar_dic\u001b[0m\u001b[0;34m[\u001b[0m\u001b[0mpar\u001b[0m\u001b[0;34m]\u001b[0m \u001b[0;32mfor\u001b[0m \u001b[0mpar\u001b[0m \u001b[0;32min\u001b[0m \u001b[0mself\u001b[0m\u001b[0;34m.\u001b[0m\u001b[0mstandard_params\u001b[0m\u001b[0;34m}\u001b[0m\u001b[0;34m\u001b[0m\u001b[0;34m\u001b[0m\u001b[0m\n",
      "\u001b[0m\u001b[0;32m    180 \u001b[0;31m\u001b[0;34m\u001b[0m\u001b[0m\n",
      "\u001b[0m\n"
     ]
    },
    {
     "name": "stdin",
     "output_type": "stream",
     "text": [
      "ipdb>  type(input_dic)\n"
     ]
    },
    {
     "name": "stdout",
     "output_type": "stream",
     "text": [
      "<class 'dict'>\n"
     ]
    },
    {
     "name": "stdin",
     "output_type": "stream",
     "text": [
      "ipdb>  input_dic.keys()\n"
     ]
    },
    {
     "name": "stdout",
     "output_type": "stream",
     "text": [
      "dict_keys(['cosiota'])\n"
     ]
    },
    {
     "name": "stdin",
     "output_type": "stream",
     "text": [
      "ipdb>  subprior\n"
     ]
    },
    {
     "name": "stdout",
     "output_type": "stream",
     "text": [
      "IsotropicInclinationPrior(cosiota) → [iota]\n"
     ]
    },
    {
     "name": "stdin",
     "output_type": "stream",
     "text": [
      "ipdb>  subprior.transform(**input_dic)\n"
     ]
    },
    {
     "name": "stdout",
     "output_type": "stream",
     "text": [
      "*** TypeError: unhashable type: 'numpy.ndarray'\n"
     ]
    },
    {
     "name": "stdin",
     "output_type": "stream",
     "text": [
      "ipdb>  type(input_dic['cosiota'])\n"
     ]
    },
    {
     "name": "stdout",
     "output_type": "stream",
     "text": [
      "<class 'numpy.ndarray'>\n",
      "--KeyboardInterrupt--\n",
      "\n",
      "KeyboardInterrupt: Interrupted by user\n"
     ]
    }
   ],
   "source": [
    "%debug"
   ]
  },
  {
   "cell_type": "code",
   "execution_count": 20,
   "id": "673bb34a-f9d3-4fd1-b809-f7db7ac832c5",
   "metadata": {},
   "outputs": [],
   "source": [
    "import copy"
   ]
  },
  {
   "cell_type": "code",
   "execution_count": 18,
   "id": "0b58876f-28d9-435a-955d-69550486294a",
   "metadata": {},
   "outputs": [],
   "source": [
    "# transform_function**all_events_pe[0][['cosiota', 'm1']]"
   ]
  },
  {
   "cell_type": "code",
   "execution_count": 21,
   "id": "ca4baeb3-7484-40c5-806c-d1bde4012689",
   "metadata": {},
   "outputs": [],
   "source": [
    "mydf = copy.deepcopy(all_events_pe[0])"
   ]
  },
  {
   "cell_type": "code",
   "execution_count": 25,
   "id": "d7f8c1cd-3e52-4c3d-971c-0795b181aa92",
   "metadata": {},
   "outputs": [],
   "source": [
    "test_gaussian_chieff_model.subpriors[0].transform_samples(mydf)"
   ]
  },
  {
   "cell_type": "code",
   "execution_count": 26,
   "id": "23dfbd20-e239-4827-a8bf-8c537f908ca7",
   "metadata": {},
   "outputs": [
    {
     "data": {
      "text/plain": [
       "Index(['mchirp', 'lnq', 'chieff', 'cumchidiff', 'costheta_jn', 'phi_jl_hat',\n",
       "       'phi12', 'cums1r_s1z', 'cums2r_s2z', 'psi', 'costhetanet', 'phinet_hat',\n",
       "       't_refdet', 'phi_ref_hat', 'weights', 'f_ref', 'm1', 'm2', 's1z', 's2z',\n",
       "       'iota', 's1x_n', 's1y_n', 's2x_n', 's2y_n', 'ra', 'dec', 't_geocenter',\n",
       "       'phi_ref', 'l1', 'l2', 'd_luminosity', 'lnl', 'lnl_aux_H', 'lnl_aux_L',\n",
       "       'cosiota', 'm1_source', 'cum_q', 'd_hat'],\n",
       "      dtype='object')"
      ]
     },
     "execution_count": 26,
     "metadata": {},
     "output_type": "execute_result"
    }
   ],
   "source": [
    "mydf.keys()"
   ]
  },
  {
   "cell_type": "code",
   "execution_count": 27,
   "id": "a4a9d974-9718-475d-8550-dc00478c3c93",
   "metadata": {},
   "outputs": [
    {
     "data": {
      "text/plain": [
       "IsotropicInclinationPrior(cosiota) → [iota]"
      ]
     },
     "execution_count": 27,
     "metadata": {},
     "output_type": "execute_result"
    }
   ],
   "source": [
    "test_gaussian_chieff_model.subpriors[0]"
   ]
  },
  {
   "cell_type": "code",
   "execution_count": 32,
   "id": "be45d8a4-d240-4917-bf1e-94e072dce101",
   "metadata": {},
   "outputs": [
    {
     "data": {
      "text/plain": [
       "True"
      ]
     },
     "execution_count": 32,
     "metadata": {},
     "output_type": "execute_result"
    }
   ],
   "source": [
    "np.allclose(all_events_pe[0]['iota'].values, mydf['iota'].values)"
   ]
  },
  {
   "cell_type": "code",
   "execution_count": null,
   "id": "1369ef55-8a45-431c-957c-ad61e094220a",
   "metadata": {},
   "outputs": [],
   "source": []
  },
  {
   "cell_type": "code",
   "execution_count": null,
   "id": "b5b606eb-f512-4add-bffc-a1115599f6ce",
   "metadata": {},
   "outputs": [],
   "source": []
  },
  {
   "cell_type": "code",
   "execution_count": null,
   "id": "8005b8aa-8b31-4e63-b63b-62efb5bae5ab",
   "metadata": {},
   "outputs": [],
   "source": []
  },
  {
   "cell_type": "code",
   "execution_count": 10,
   "id": "3293a1e5-cf57-454e-a016-599bddb9ba27",
   "metadata": {},
   "outputs": [],
   "source": [
    "from cogwheel.gw_prior.extrinsic import IsotropicInclinationPrior\n",
    "transform_function = IsotropicInclinationPrior.transform"
   ]
  },
  {
   "cell_type": "code",
   "execution_count": 15,
   "id": "0e08e931-aadd-4233-b2aa-ce2e1fe69177",
   "metadata": {},
   "outputs": [],
   "source": [
    "cosiota_dict = {'cosiota': tuple(model_params_dict['cosiota'])}"
   ]
  },
  {
   "cell_type": "code",
   "execution_count": 16,
   "id": "5be0f1f4-bc3c-4250-80c8-50550fab0b9a",
   "metadata": {},
   "outputs": [
    {
     "data": {
      "text/plain": [
       "{'iota': array([0.56906014, 2.62934537, 2.5807148 , ..., 2.8562522 ,\n",
       "        2.83468156, 2.81271111])}"
      ]
     },
     "execution_count": 16,
     "metadata": {},
     "output_type": "execute_result"
    }
   ],
   "source": [
    "transform_function(**cosiota_dict)"
   ]
  },
  {
   "cell_type": "markdown",
   "id": "1fc388c0-0cb7-4d63-9ecc-e7ed3f7b18ab",
   "metadata": {
    "jp-MarkdownHeadingCollapsed": true
   },
   "source": [
    "## Testing functions to create classes "
   ]
  },
  {
   "cell_type": "code",
   "execution_count": 52,
   "id": "d728149b-5614-46aa-bd6a-5a8a2ee89ad9",
   "metadata": {},
   "outputs": [],
   "source": [
    "def create_uniform_hyperparam_prior_class(hyperparam_range_dic):\n",
    "    class UniformHyperparamPrior(UniformPriorMixin, IdentityTransformMixin, Prior):\n",
    "        def __init__(self):\n",
    "            self.standard_params = list(hyperparam_range_dic)\n",
    "            self.range_dic = hyperparam_range_dic\n",
    "        def get_init_dict():\n",
    "            return hyperparam_range_dic\n",
    "    return UniformHyperparamPrior"
   ]
  },
  {
   "cell_type": "code",
   "execution_count": 53,
   "id": "bedd15b8-5bbf-48a1-ad81-6d23eb90b5cd",
   "metadata": {},
   "outputs": [],
   "source": [
    "UniformHyperparamPrior1 = create_uniform_hyperparam_prior_class(pop_prior.hyperparam_range_dic)"
   ]
  },
  {
   "cell_type": "code",
   "execution_count": 54,
   "id": "2dd796dd-28b5-4f1c-87ad-9d0698583413",
   "metadata": {},
   "outputs": [
    {
     "data": {
      "text/plain": [
       "['lambda1', 'lambda2']"
      ]
     },
     "execution_count": 54,
     "metadata": {},
     "output_type": "execute_result"
    }
   ],
   "source": [
    "uniform_prior = UniformHyperparamPrior1()\n",
    "uniform_prior.standard_params"
   ]
  },
  {
   "cell_type": "code",
   "execution_count": 68,
   "id": "70ac79a0-068c-405d-945f-9f696dfb6ccd",
   "metadata": {},
   "outputs": [],
   "source": [
    "def create_combined_hyperparam_class(hyperparam_prior_class_list):\n",
    "    class CombinedHyperparamPrior(CombinedPrior):\n",
    "        prior_classes = hyperparam_prior_class_list\n",
    "    return CombinedHyperparamPrior"
   ]
  },
  {
   "cell_type": "code",
   "execution_count": 69,
   "id": "c70cdc72-7720-41f9-b51e-90a03100a640",
   "metadata": {},
   "outputs": [],
   "source": [
    "combined_prior_class = create_combined_hyperparam_class([FixedDistancePrior, FixedInclinationPrior, GaussianTestPrior])"
   ]
  },
  {
   "cell_type": "code",
   "execution_count": 65,
   "id": "a3ea341b-77f1-4402-8f72-3e052692290b",
   "metadata": {},
   "outputs": [
    {
     "data": {
      "text/plain": [
       "CombinedHyperparamPrior(m1, m2) → [d_luminosity, iota, m1, m2]"
      ]
     },
     "execution_count": 65,
     "metadata": {},
     "output_type": "execute_result"
    }
   ],
   "source": [
    "combined_prior_class()"
   ]
  },
  {
   "cell_type": "code",
   "execution_count": 61,
   "id": "84a04428-e00f-4089-b7c8-0a391d7b79a1",
   "metadata": {},
   "outputs": [
    {
     "name": "stdout",
     "output_type": "stream",
     "text": [
      "> \u001b[0;32m/home/isha/PopulationSelectionEffects/cogwheel_population_inference/cogwheel/cogwheel/prior.py\u001b[0m(600)\u001b[0;36m_set_params\u001b[0;34m()\u001b[0m\n",
      "\u001b[0;32m    598 \u001b[0;31m        \"\"\"\n",
      "\u001b[0m\u001b[0;32m    599 \u001b[0;31m        \u001b[0mcls\u001b[0m\u001b[0;34m.\u001b[0m\u001b[0mrange_dic\u001b[0m \u001b[0;34m=\u001b[0m \u001b[0;34m{\u001b[0m\u001b[0;34m}\u001b[0m\u001b[0;34m\u001b[0m\u001b[0;34m\u001b[0m\u001b[0m\n",
      "\u001b[0m\u001b[0;32m--> 600 \u001b[0;31m        \u001b[0;32mfor\u001b[0m \u001b[0mprior_class\u001b[0m \u001b[0;32min\u001b[0m \u001b[0mcls\u001b[0m\u001b[0;34m.\u001b[0m\u001b[0mprior_classes\u001b[0m\u001b[0;34m:\u001b[0m\u001b[0;34m\u001b[0m\u001b[0;34m\u001b[0m\u001b[0m\n",
      "\u001b[0m\u001b[0;32m    601 \u001b[0;31m            \u001b[0mcls\u001b[0m\u001b[0;34m.\u001b[0m\u001b[0mrange_dic\u001b[0m\u001b[0;34m.\u001b[0m\u001b[0mupdate\u001b[0m\u001b[0;34m(\u001b[0m\u001b[0mprior_class\u001b[0m\u001b[0;34m.\u001b[0m\u001b[0mrange_dic\u001b[0m\u001b[0;34m)\u001b[0m\u001b[0;34m\u001b[0m\u001b[0;34m\u001b[0m\u001b[0m\n",
      "\u001b[0m\u001b[0;32m    602 \u001b[0;31m\u001b[0;34m\u001b[0m\u001b[0m\n",
      "\u001b[0m\n"
     ]
    },
    {
     "name": "stdin",
     "output_type": "stream",
     "text": [
      "ipdb>  cls.prior_classes\n"
     ]
    },
    {
     "name": "stdout",
     "output_type": "stream",
     "text": [
      "<property object at 0x7f0498660400>\n"
     ]
    },
    {
     "name": "stdin",
     "output_type": "stream",
     "text": [
      "ipdb>  prior_class\n"
     ]
    },
    {
     "name": "stdout",
     "output_type": "stream",
     "text": [
      "*** NameError: name 'prior_class' is not defined\n",
      "--KeyboardInterrupt--\n",
      "\n",
      "KeyboardInterrupt: Interrupted by user\n"
     ]
    }
   ],
   "source": [
    "%debug"
   ]
  },
  {
   "cell_type": "markdown",
   "id": "5336547d-e980-4c56-87fd-57722cbfe3f9",
   "metadata": {
    "jp-MarkdownHeadingCollapsed": true
   },
   "source": [
    "## Testing vecrtorized functions"
   ]
  },
  {
   "cell_type": "code",
   "execution_count": null,
   "id": "013b71ab",
   "metadata": {},
   "outputs": [],
   "source": [
    "par_dict2 = {'m1':np.array([5,4,3,2,1]), 'm2':np.array([5,4,3,2,1]), 'lambda1':5, 'lambda2':5}\n",
    "lnprior_func1 = np.vectorize(pop_prior.lnprior)\n",
    "lnprior_func2 = np.vectorize(pop_prior2.lnprior)\n",
    "lnprior_func1(**par_dict)"
   ]
  },
  {
   "cell_type": "code",
   "execution_count": 12,
   "id": "40e92081",
   "metadata": {},
   "outputs": [
    {
     "data": {
      "text/plain": [
       "array([ 4.15358748e+00, -3.95846413e+02, -1.59584641e+03,\n",
       "       -3.59584641e+03, -6.39584641e+03])"
      ]
     },
     "execution_count": 12,
     "metadata": {},
     "output_type": "execute_result"
    }
   ],
   "source": [
    "lnprior_func2(**par_dict2)"
   ]
  },
  {
   "cell_type": "code",
   "execution_count": 11,
   "id": "472158ad",
   "metadata": {},
   "outputs": [
    {
     "data": {
      "text/plain": [
       "4.153587480698636"
      ]
     },
     "execution_count": 11,
     "metadata": {},
     "output_type": "execute_result"
    }
   ],
   "source": [
    "pop_prior2.lnprior(m1=5, m2=5, lambda1=5, lambda2=5)"
   ]
  },
  {
   "cell_type": "code",
   "execution_count": 17,
   "id": "ddcb8969",
   "metadata": {},
   "outputs": [
    {
     "data": {
      "text/plain": [
       "['m1_source', 'cum_q', 'd_hat']"
      ]
     },
     "execution_count": 17,
     "metadata": {},
     "output_type": "execute_result"
    }
   ],
   "source": [
    "inj_mass_prior.sampled_params"
   ]
  },
  {
   "cell_type": "code",
   "execution_count": 22,
   "id": "315706b1",
   "metadata": {},
   "outputs": [
    {
     "data": {
      "text/plain": [
       "True"
      ]
     },
     "execution_count": 22,
     "metadata": {},
     "output_type": "execute_result"
    }
   ],
   "source": [
    "issubclass(GaussianTestPopulationPrior, prior.Prior)"
   ]
  },
  {
   "cell_type": "markdown",
   "id": "068b3e09-b11b-4486-8aaf-50598cf98536",
   "metadata": {
    "jp-MarkdownHeadingCollapsed": true
   },
   "source": [
    "## Test creating ParametrizedPrior class"
   ]
  },
  {
   "cell_type": "code",
   "execution_count": 13,
   "id": "a3bbcdf6-d791-4dd7-bb27-578d77404419",
   "metadata": {},
   "outputs": [],
   "source": [
    "obj = GaussianHyperparams()"
   ]
  },
  {
   "cell_type": "code",
   "execution_count": 14,
   "id": "918edb32-2de3-466b-a208-92a00117b8b7",
   "metadata": {},
   "outputs": [
    {
     "data": {
      "text/plain": [
       "['lambda1', 'lambda2']"
      ]
     },
     "execution_count": 14,
     "metadata": {},
     "output_type": "execute_result"
    }
   ],
   "source": [
    "obj.standard_params"
   ]
  },
  {
   "cell_type": "code",
   "execution_count": 31,
   "id": "c266656f-70d2-4ea1-b109-976cd137b6a5",
   "metadata": {},
   "outputs": [
    {
     "name": "stdout",
     "output_type": "stream",
     "text": [
      "['abc', 'b']\n",
      "[['abc', 'b']]\n",
      "abc\n",
      "[['abc', 'b'], 'abc']\n",
      "b\n",
      "[['abc', 'b'], 'abc', 'b']\n"
     ]
    },
    {
     "data": {
      "text/plain": [
       "[['abc', 'b'], 'abc', 'b']"
      ]
     },
     "execution_count": 31,
     "metadata": {},
     "output_type": "execute_result"
    }
   ],
   "source": [
    "ex = []\n",
    "for i in [['abc','b'], 'abc', 'b']:\n",
    "    print(i)\n",
    "    ex.append(i)\n",
    "    print(ex)\n",
    "ex"
   ]
  },
  {
   "cell_type": "code",
   "execution_count": 32,
   "id": "5658c826-ceb6-468a-8371-1cb8eb3e8f54",
   "metadata": {},
   "outputs": [
    {
     "ename": "TypeError",
     "evalue": "unhashable type: 'list'",
     "output_type": "error",
     "traceback": [
      "\u001b[0;31m---------------------------------------------------------------------------\u001b[0m",
      "\u001b[0;31mTypeError\u001b[0m                                 Traceback (most recent call last)",
      "Cell \u001b[0;32mIn[32], line 1\u001b[0m\n\u001b[0;32m----> 1\u001b[0m \u001b[38;5;28;43mset\u001b[39;49m\u001b[43m(\u001b[49m\u001b[43mex\u001b[49m\u001b[43m)\u001b[49m\n",
      "\u001b[0;31mTypeError\u001b[0m: unhashable type: 'list'"
     ]
    }
   ],
   "source": [
    "set(ex)"
   ]
  },
  {
   "cell_type": "markdown",
   "id": "8e4a24a4-ba14-4c4f-b463-235e2dbb5ae7",
   "metadata": {},
   "source": [
    "## Test new CombinedParametrizedPrior class"
   ]
  },
  {
   "cell_type": "code",
   "execution_count": 31,
   "id": "09df1ed6-65f2-4ca6-b962-ede53963995d",
   "metadata": {},
   "outputs": [],
   "source": [
    "from cogwheel.population_inference.test_astrophysical_priors import GaussianChieffPrior"
   ]
  },
  {
   "cell_type": "code",
   "execution_count": 32,
   "id": "deefaba3-3c40-4a4e-92ab-8de3ddeb2411",
   "metadata": {},
   "outputs": [],
   "source": [
    "# combined_pop_prior = FixedTestPopulationPrior(f_ref=20) # combined prior\n",
    "pop_prior = GaussianChieffPrior(detector_pair='HL', tgps=0.0, ref_det_name='H', f_avg=120, f_ref=120) # population prior"
   ]
  },
  {
   "cell_type": "code",
   "execution_count": 33,
   "id": "d2c445bb-23e0-4f96-a61c-e5a84f98c7de",
   "metadata": {},
   "outputs": [],
   "source": [
    "# test_gaussian_chieff_model = TestingGaussianChieff(detector_pair='HL', tgps=0.0, ref_det_name='H', f_avg=10, f_ref=20)"
   ]
  },
  {
   "cell_type": "code",
   "execution_count": 34,
   "id": "aab2a218-b550-4f49-a8dd-8c1f449fea6b",
   "metadata": {},
   "outputs": [],
   "source": [
    "inj_prior=InjectionPrior(detector_pair='HL', tgps=0.0, ref_det_name='H', f_avg=120, \n",
    "                         m1_source_range=(3,10),f_ref=120)"
   ]
  },
  {
   "cell_type": "code",
   "execution_count": 35,
   "id": "bdbbf1f9-dca2-43c6-84a6-3360035e93cf",
   "metadata": {},
   "outputs": [],
   "source": [
    "# now compute likelihood\n",
    "injections_summary_dict = {'Ninj':20000, 'recovered_injections':injs_summary, 'pastro_func':np.ones(10)}\n",
    "R0 = 70\n",
    "\n",
    "likelihood_object = PopulationLikelihood(pop_prior, injections_summary_dict, \n",
    "                                         all_events_pe, R0=50)"
   ]
  },
  {
   "cell_type": "code",
   "execution_count": null,
   "id": "f7db4077-76db-4cb8-9682-e19db5ef5778",
   "metadata": {},
   "outputs": [],
   "source": []
  },
  {
   "cell_type": "code",
   "execution_count": 51,
   "id": "9b881962-27a4-49b5-8a75-2fc0766faf60",
   "metadata": {},
   "outputs": [],
   "source": [
    "output_file_path = '/home/isha/PopulationSelectionEffects/output/new_pop_inf6'\n",
    "samples = pd.read_feather(output_file_path+'/samples.feather')\n",
    "w_i_new = np.load(output_file_path+'/w_i.npy')\n",
    "vt_new = np.load(output_file_path+'/vt.npy')"
   ]
  },
  {
   "cell_type": "code",
   "execution_count": 41,
   "id": "f99ff009-ae55-4513-8202-c6bf0409db3f",
   "metadata": {},
   "outputs": [],
   "source": [
    "ln_like_arr = np.zeros(len(samples))\n",
    "for i in range(len(samples)):\n",
    "    row = samples.iloc[i]\n",
    "    hyperparam_dict = {'R':row['rate'], 'chieff_mean':row['chieff_mean'], 'chieff_sigma':row['chieff_std']}\n",
    "    ln_like_arr[i] = likelihood_object.lnlike(hyperparam_dict)"
   ]
  },
  {
   "cell_type": "code",
   "execution_count": 42,
   "id": "37f5f881-7664-4c30-a07a-71695dd96134",
   "metadata": {},
   "outputs": [
    {
     "data": {
      "text/plain": [
       "Text(0, 0.5, 'new likelihood')"
      ]
     },
     "execution_count": 42,
     "metadata": {},
     "output_type": "execute_result"
    },
    {
     "data": {
      "image/png": "[encoded data removed]",
      "text/plain": [
       "<Figure size 640x480 with 1 Axes>"
      ]
     },
     "metadata": {},
     "output_type": "display_data"
    }
   ],
   "source": [
    "plt.scatter(ln_like_arr, samples['lnl'])\n",
    "plt.xlabel(\"old likelihood\")\n",
    "plt.ylabel(\"new likelihood\")"
   ]
  },
  {
   "cell_type": "code",
   "execution_count": 54,
   "id": "d16801de-2f3c-4636-85d0-92c5a4230887",
   "metadata": {},
   "outputs": [],
   "source": [
    "# get w_i's \n",
    "w_i_old= []\n",
    "vt_old = []\n",
    "for i in range(len(samples)):\n",
    "    row = samples.iloc[i]\n",
    "    hyperparam_dict = {'R':row['rate'], 'chieff_mean':row['chieff_mean'], 'chieff_sigma':row['chieff_std']}\n",
    "    w_i_old.append(likelihood_object.w_i(hyperparam_dict))\n",
    "    vt_old.append(likelihood_object.VT(hyperparam_dict))\n"
   ]
  },
  {
   "cell_type": "code",
   "execution_count": 66,
   "id": "4496cddb-7aa6-471b-b440-cfe0a9e3da62",
   "metadata": {},
   "outputs": [],
   "source": [
    "w_i_old = np.array(w_i_old)\n",
    "vt_old = np.array(vt_old)"
   ]
  },
  {
   "cell_type": "code",
   "execution_count": 55,
   "id": "07c64d9e-ff05-41c8-9f96-c8ca3040eec4",
   "metadata": {},
   "outputs": [
    {
     "data": {
      "text/plain": [
       "<matplotlib.collections.PathCollection at 0x7fe0f13f0c40>"
      ]
     },
     "execution_count": 55,
     "metadata": {},
     "output_type": "execute_result"
    },
    {
     "data": {
      "image/png": "[encoded data removed]",
      "text/plain": [
       "<Figure size 640x480 with 1 Axes>"
      ]
     },
     "metadata": {},
     "output_type": "display_data"
    }
   ],
   "source": [
    "plt.scatter(np.log(vt_old), np.log(vt_new))"
   ]
  },
  {
   "cell_type": "code",
   "execution_count": 68,
   "id": "8e59fece-09e0-4efa-a70f-216c0ba85fc7",
   "metadata": {},
   "outputs": [
    {
     "data": {
      "text/plain": [
       "<matplotlib.collections.PathCollection at 0x7fe0f18fb0a0>"
      ]
     },
     "execution_count": 68,
     "metadata": {},
     "output_type": "execute_result"
    },
    {
     "data": {
      "image/png": "[encoded data removed]",
      "text/plain": [
       "<Figure size 640x480 with 1 Axes>"
      ]
     },
     "metadata": {},
     "output_type": "display_data"
    }
   ],
   "source": [
    "plt.scatter(w_i_old[:,0], w_i_new[:,0])"
   ]
  },
  {
   "cell_type": "code",
   "execution_count": 85,
   "id": "f2c7156c-ee84-4491-92d2-5ece74d22d41",
   "metadata": {},
   "outputs": [
    {
     "data": {
      "text/plain": [
       "<matplotlib.collections.PathCollection at 0x7fe0f1045460>"
      ]
     },
     "execution_count": 85,
     "metadata": {},
     "output_type": "execute_result"
    },
    {
     "data": {
      "image/png": "[encoded data removed]",
      "text/plain": [
       "<Figure size 640x480 with 1 Axes>"
      ]
     },
     "metadata": {},
     "output_type": "display_data"
    }
   ],
   "source": [
    "plt.scatter(w_i_old[:,6], w_i_new[:,6])"
   ]
  },
  {
   "cell_type": "code",
   "execution_count": 67,
   "id": "3e1f3340-7ba1-4aab-a95a-c24fb01e09e2",
   "metadata": {},
   "outputs": [
    {
     "data": {
      "text/plain": [
       "array([0.01420655, 0.01081559, 0.03503053, ..., 0.08390437,\n",
       "       0.10120599, 0.13640643])"
      ]
     },
     "execution_count": 67,
     "metadata": {},
     "output_type": "execute_result"
    }
   ],
   "source": [
    "w_i_old[:,0]"
   ]
  },
  {
   "cell_type": "code",
   "execution_count": 21,
   "id": "0e95618f-bb46-4e4b-8445-4bec906a95b8",
   "metadata": {},
   "outputs": [
    {
     "data": {
      "text/html": [
       "<div>\n",
       "<style scoped>\n",
       "    .dataframe tbody tr th:only-of-type {\n",
       "        vertical-align: middle;\n",
       "    }\n",
       "\n",
       "    .dataframe tbody tr th {\n",
       "        vertical-align: top;\n",
       "    }\n",
       "\n",
       "    .dataframe thead th {\n",
       "        text-align: right;\n",
       "    }\n",
       "</style>\n",
       "<table border=\"1\" class=\"dataframe\">\n",
       "  <thead>\n",
       "    <tr style=\"text-align: right;\">\n",
       "      <th></th>\n",
       "      <th>rate</th>\n",
       "      <th>chieff_mean</th>\n",
       "      <th>chieff_std</th>\n",
       "      <th>lnl</th>\n",
       "    </tr>\n",
       "  </thead>\n",
       "  <tbody>\n",
       "    <tr>\n",
       "      <th>0</th>\n",
       "      <td>10.277791</td>\n",
       "      <td>-0.808957</td>\n",
       "      <td>1.844088</td>\n",
       "      <td>-59.713799</td>\n",
       "    </tr>\n",
       "    <tr>\n",
       "      <th>1</th>\n",
       "      <td>11.627247</td>\n",
       "      <td>-0.787403</td>\n",
       "      <td>0.973671</td>\n",
       "      <td>-59.647801</td>\n",
       "    </tr>\n",
       "    <tr>\n",
       "      <th>2</th>\n",
       "      <td>11.234416</td>\n",
       "      <td>-0.976972</td>\n",
       "      <td>1.203612</td>\n",
       "      <td>-59.461364</td>\n",
       "    </tr>\n",
       "    <tr>\n",
       "      <th>3</th>\n",
       "      <td>13.678422</td>\n",
       "      <td>-0.878840</td>\n",
       "      <td>0.576383</td>\n",
       "      <td>-59.041468</td>\n",
       "    </tr>\n",
       "    <tr>\n",
       "      <th>4</th>\n",
       "      <td>10.162795</td>\n",
       "      <td>-0.584824</td>\n",
       "      <td>1.371897</td>\n",
       "      <td>-58.674028</td>\n",
       "    </tr>\n",
       "    <tr>\n",
       "      <th>...</th>\n",
       "      <td>...</td>\n",
       "      <td>...</td>\n",
       "      <td>...</td>\n",
       "      <td>...</td>\n",
       "    </tr>\n",
       "    <tr>\n",
       "      <th>2941</th>\n",
       "      <td>10.284055</td>\n",
       "      <td>-0.138782</td>\n",
       "      <td>0.123298</td>\n",
       "      <td>-49.906227</td>\n",
       "    </tr>\n",
       "    <tr>\n",
       "      <th>2942</th>\n",
       "      <td>10.234067</td>\n",
       "      <td>-0.102431</td>\n",
       "      <td>0.104332</td>\n",
       "      <td>-49.344730</td>\n",
       "    </tr>\n",
       "    <tr>\n",
       "      <th>2943</th>\n",
       "      <td>10.270458</td>\n",
       "      <td>-0.166756</td>\n",
       "      <td>0.107842</td>\n",
       "      <td>-49.646683</td>\n",
       "    </tr>\n",
       "    <tr>\n",
       "      <th>2944</th>\n",
       "      <td>10.279181</td>\n",
       "      <td>-0.121921</td>\n",
       "      <td>0.122473</td>\n",
       "      <td>-49.931056</td>\n",
       "    </tr>\n",
       "    <tr>\n",
       "      <th>2945</th>\n",
       "      <td>10.295176</td>\n",
       "      <td>-0.151313</td>\n",
       "      <td>0.113402</td>\n",
       "      <td>-49.699393</td>\n",
       "    </tr>\n",
       "  </tbody>\n",
       "</table>\n",
       "<p>2946 rows × 4 columns</p>\n",
       "</div>"
      ],
      "text/plain": [
       "           rate  chieff_mean  chieff_std        lnl\n",
       "0     10.277791    -0.808957    1.844088 -59.713799\n",
       "1     11.627247    -0.787403    0.973671 -59.647801\n",
       "2     11.234416    -0.976972    1.203612 -59.461364\n",
       "3     13.678422    -0.878840    0.576383 -59.041468\n",
       "4     10.162795    -0.584824    1.371897 -58.674028\n",
       "...         ...          ...         ...        ...\n",
       "2941  10.284055    -0.138782    0.123298 -49.906227\n",
       "2942  10.234067    -0.102431    0.104332 -49.344730\n",
       "2943  10.270458    -0.166756    0.107842 -49.646683\n",
       "2944  10.279181    -0.121921    0.122473 -49.931056\n",
       "2945  10.295176    -0.151313    0.113402 -49.699393\n",
       "\n",
       "[2946 rows x 4 columns]"
      ]
     },
     "execution_count": 21,
     "metadata": {},
     "output_type": "execute_result"
    }
   ],
   "source": [
    "samples"
   ]
  },
  {
   "cell_type": "code",
   "execution_count": null,
   "id": "e5bad89b-8fd9-44c1-bd3a-11abd107420d",
   "metadata": {},
   "outputs": [],
   "source": []
  },
  {
   "cell_type": "code",
   "execution_count": null,
   "id": "1b413a5f-09d6-41ea-bd78-9be13c065b7f",
   "metadata": {},
   "outputs": [],
   "source": []
  },
  {
   "cell_type": "code",
   "execution_count": null,
   "id": "5da22f2a-abd5-43fc-aab2-9145098251a0",
   "metadata": {},
   "outputs": [],
   "source": []
  },
  {
   "cell_type": "code",
   "execution_count": null,
   "id": "4dc2bf5f-7c63-4da6-bc4a-16bda248a55f",
   "metadata": {},
   "outputs": [],
   "source": [
    "likelihood_object.lnlike"
   ]
  },
  {
   "cell_type": "code",
   "execution_count": null,
   "id": "37ba6e73-7ed3-42cf-9e2f-af9ec7f27abb",
   "metadata": {},
   "outputs": [],
   "source": []
  },
  {
   "cell_type": "code",
   "execution_count": 12,
   "id": "1788a29f-d910-4d33-83ad-a2c4606026a9",
   "metadata": {
    "scrolled": true
   },
   "outputs": [
    {
     "data": {
      "text/html": [
       "<div>\n",
       "<style scoped>\n",
       "    .dataframe tbody tr th:only-of-type {\n",
       "        vertical-align: middle;\n",
       "    }\n",
       "\n",
       "    .dataframe tbody tr th {\n",
       "        vertical-align: top;\n",
       "    }\n",
       "\n",
       "    .dataframe thead th {\n",
       "        text-align: right;\n",
       "    }\n",
       "</style>\n",
       "<table border=\"1\" class=\"dataframe\">\n",
       "  <thead>\n",
       "    <tr style=\"text-align: right;\">\n",
       "      <th></th>\n",
       "      <th>mchirp</th>\n",
       "      <th>lnq</th>\n",
       "      <th>chieff</th>\n",
       "      <th>cumchidiff</th>\n",
       "      <th>costheta_jn</th>\n",
       "      <th>phi_jl_hat</th>\n",
       "      <th>phi12</th>\n",
       "      <th>cums1r_s1z</th>\n",
       "      <th>cums2r_s2z</th>\n",
       "      <th>psi</th>\n",
       "      <th>...</th>\n",
       "      <th>l1</th>\n",
       "      <th>l2</th>\n",
       "      <th>d_luminosity</th>\n",
       "      <th>lnl</th>\n",
       "      <th>lnl_aux_H</th>\n",
       "      <th>lnl_aux_L</th>\n",
       "      <th>cosiota</th>\n",
       "      <th>m1_source</th>\n",
       "      <th>cum_q</th>\n",
       "      <th>d_hat</th>\n",
       "    </tr>\n",
       "  </thead>\n",
       "  <tbody>\n",
       "    <tr>\n",
       "      <th>0</th>\n",
       "      <td>27.217838</td>\n",
       "      <td>-0.326421</td>\n",
       "      <td>-0.420744</td>\n",
       "      <td>0.473716</td>\n",
       "      <td>0.860835</td>\n",
       "      <td>2.808493</td>\n",
       "      <td>5.150784</td>\n",
       "      <td>0.565569</td>\n",
       "      <td>0.074162</td>\n",
       "      <td>0.502546</td>\n",
       "      <td>...</td>\n",
       "      <td>0</td>\n",
       "      <td>0</td>\n",
       "      <td>14538.618015</td>\n",
       "      <td>17.651377</td>\n",
       "      <td>-7.535559</td>\n",
       "      <td>0.022812</td>\n",
       "      <td>0.842408</td>\n",
       "      <td>12.920480</td>\n",
       "      <td>0.698139</td>\n",
       "      <td>1486.386272</td>\n",
       "    </tr>\n",
       "    <tr>\n",
       "      <th>1</th>\n",
       "      <td>27.883631</td>\n",
       "      <td>-1.415661</td>\n",
       "      <td>-0.047662</td>\n",
       "      <td>0.580546</td>\n",
       "      <td>-0.772647</td>\n",
       "      <td>2.123236</td>\n",
       "      <td>2.051186</td>\n",
       "      <td>0.975445</td>\n",
       "      <td>0.002229</td>\n",
       "      <td>1.001872</td>\n",
       "      <td>...</td>\n",
       "      <td>0</td>\n",
       "      <td>0</td>\n",
       "      <td>13415.883071</td>\n",
       "      <td>19.889506</td>\n",
       "      <td>-5.116327</td>\n",
       "      <td>-0.867061</td>\n",
       "      <td>-0.871645</td>\n",
       "      <td>24.866374</td>\n",
       "      <td>0.211037</td>\n",
       "      <td>1535.442089</td>\n",
       "    </tr>\n",
       "    <tr>\n",
       "      <th>2</th>\n",
       "      <td>31.593108</td>\n",
       "      <td>-1.652429</td>\n",
       "      <td>0.409053</td>\n",
       "      <td>0.808564</td>\n",
       "      <td>-0.872931</td>\n",
       "      <td>0.525684</td>\n",
       "      <td>6.065270</td>\n",
       "      <td>0.997342</td>\n",
       "      <td>0.260092</td>\n",
       "      <td>0.118174</td>\n",
       "      <td>...</td>\n",
       "      <td>0</td>\n",
       "      <td>0</td>\n",
       "      <td>14599.554121</td>\n",
       "      <td>19.515602</td>\n",
       "      <td>-1.369294</td>\n",
       "      <td>-4.347512</td>\n",
       "      <td>-0.846788</td>\n",
       "      <td>30.805049</td>\n",
       "      <td>0.164461</td>\n",
       "      <td>1455.800048</td>\n",
       "    </tr>\n",
       "    <tr>\n",
       "      <th>3</th>\n",
       "      <td>31.710681</td>\n",
       "      <td>-1.125810</td>\n",
       "      <td>0.261255</td>\n",
       "      <td>0.167585</td>\n",
       "      <td>-0.653827</td>\n",
       "      <td>0.520674</td>\n",
       "      <td>4.756114</td>\n",
       "      <td>0.573338</td>\n",
       "      <td>0.380377</td>\n",
       "      <td>0.048449</td>\n",
       "      <td>...</td>\n",
       "      <td>0</td>\n",
       "      <td>0</td>\n",
       "      <td>10633.162410</td>\n",
       "      <td>19.911462</td>\n",
       "      <td>-2.531102</td>\n",
       "      <td>-5.078593</td>\n",
       "      <td>-0.751559</td>\n",
       "      <td>27.027378</td>\n",
       "      <td>0.298432</td>\n",
       "      <td>904.401148</td>\n",
       "    </tr>\n",
       "    <tr>\n",
       "      <th>4</th>\n",
       "      <td>39.650934</td>\n",
       "      <td>-0.516392</td>\n",
       "      <td>0.710368</td>\n",
       "      <td>0.106841</td>\n",
       "      <td>0.709171</td>\n",
       "      <td>4.964519</td>\n",
       "      <td>1.726666</td>\n",
       "      <td>0.073706</td>\n",
       "      <td>0.683266</td>\n",
       "      <td>2.826287</td>\n",
       "      <td>...</td>\n",
       "      <td>0</td>\n",
       "      <td>0</td>\n",
       "      <td>13260.487511</td>\n",
       "      <td>19.405925</td>\n",
       "      <td>-5.496525</td>\n",
       "      <td>-1.040660</td>\n",
       "      <td>0.643362</td>\n",
       "      <td>21.805644</td>\n",
       "      <td>0.577284</td>\n",
       "      <td>1644.651767</td>\n",
       "    </tr>\n",
       "    <tr>\n",
       "      <th>...</th>\n",
       "      <td>...</td>\n",
       "      <td>...</td>\n",
       "      <td>...</td>\n",
       "      <td>...</td>\n",
       "      <td>...</td>\n",
       "      <td>...</td>\n",
       "      <td>...</td>\n",
       "      <td>...</td>\n",
       "      <td>...</td>\n",
       "      <td>...</td>\n",
       "      <td>...</td>\n",
       "      <td>...</td>\n",
       "      <td>...</td>\n",
       "      <td>...</td>\n",
       "      <td>...</td>\n",
       "      <td>...</td>\n",
       "      <td>...</td>\n",
       "      <td>...</td>\n",
       "      <td>...</td>\n",
       "      <td>...</td>\n",
       "      <td>...</td>\n",
       "    </tr>\n",
       "    <tr>\n",
       "      <th>995</th>\n",
       "      <td>37.280908</td>\n",
       "      <td>-2.719508</td>\n",
       "      <td>0.210535</td>\n",
       "      <td>0.620774</td>\n",
       "      <td>0.952510</td>\n",
       "      <td>0.207888</td>\n",
       "      <td>3.199565</td>\n",
       "      <td>0.252161</td>\n",
       "      <td>0.684465</td>\n",
       "      <td>1.354968</td>\n",
       "      <td>...</td>\n",
       "      <td>0</td>\n",
       "      <td>0</td>\n",
       "      <td>14486.063437</td>\n",
       "      <td>28.391853</td>\n",
       "      <td>1.481060</td>\n",
       "      <td>-0.321018</td>\n",
       "      <td>0.657995</td>\n",
       "      <td>67.716079</td>\n",
       "      <td>0.051906</td>\n",
       "      <td>1057.592815</td>\n",
       "    </tr>\n",
       "    <tr>\n",
       "      <th>996</th>\n",
       "      <td>35.783101</td>\n",
       "      <td>-0.089759</td>\n",
       "      <td>0.204701</td>\n",
       "      <td>0.069442</td>\n",
       "      <td>-0.238195</td>\n",
       "      <td>4.826735</td>\n",
       "      <td>5.490625</td>\n",
       "      <td>0.851901</td>\n",
       "      <td>0.095950</td>\n",
       "      <td>0.834537</td>\n",
       "      <td>...</td>\n",
       "      <td>0</td>\n",
       "      <td>0</td>\n",
       "      <td>11488.768391</td>\n",
       "      <td>28.440818</td>\n",
       "      <td>0.624018</td>\n",
       "      <td>0.506719</td>\n",
       "      <td>0.074553</td>\n",
       "      <td>16.981351</td>\n",
       "      <td>0.908780</td>\n",
       "      <td>9443.380534</td>\n",
       "    </tr>\n",
       "    <tr>\n",
       "      <th>997</th>\n",
       "      <td>31.907496</td>\n",
       "      <td>-0.098463</td>\n",
       "      <td>-0.856501</td>\n",
       "      <td>0.103681</td>\n",
       "      <td>-0.364915</td>\n",
       "      <td>0.730155</td>\n",
       "      <td>5.623870</td>\n",
       "      <td>0.019756</td>\n",
       "      <td>0.377616</td>\n",
       "      <td>2.703881</td>\n",
       "      <td>...</td>\n",
       "      <td>0</td>\n",
       "      <td>0</td>\n",
       "      <td>12947.814141</td>\n",
       "      <td>28.530511</td>\n",
       "      <td>1.976326</td>\n",
       "      <td>-0.670142</td>\n",
       "      <td>-0.565543</td>\n",
       "      <td>14.322692</td>\n",
       "      <td>0.899190</td>\n",
       "      <td>2440.666397</td>\n",
       "    </tr>\n",
       "    <tr>\n",
       "      <th>998</th>\n",
       "      <td>27.653464</td>\n",
       "      <td>-1.709654</td>\n",
       "      <td>0.352209</td>\n",
       "      <td>0.484149</td>\n",
       "      <td>-0.626218</td>\n",
       "      <td>5.453936</td>\n",
       "      <td>5.354728</td>\n",
       "      <td>0.318438</td>\n",
       "      <td>0.984579</td>\n",
       "      <td>1.011548</td>\n",
       "      <td>...</td>\n",
       "      <td>0</td>\n",
       "      <td>0</td>\n",
       "      <td>2063.513999</td>\n",
       "      <td>28.535499</td>\n",
       "      <td>1.493455</td>\n",
       "      <td>3.519448</td>\n",
       "      <td>-0.243167</td>\n",
       "      <td>58.080081</td>\n",
       "      <td>0.166579</td>\n",
       "      <td>501.649514</td>\n",
       "    </tr>\n",
       "    <tr>\n",
       "      <th>999</th>\n",
       "      <td>38.374295</td>\n",
       "      <td>-1.102022</td>\n",
       "      <td>0.139250</td>\n",
       "      <td>0.693663</td>\n",
       "      <td>-0.120959</td>\n",
       "      <td>5.593637</td>\n",
       "      <td>4.275455</td>\n",
       "      <td>0.530536</td>\n",
       "      <td>0.283911</td>\n",
       "      <td>2.475944</td>\n",
       "      <td>...</td>\n",
       "      <td>0</td>\n",
       "      <td>0</td>\n",
       "      <td>4435.839695</td>\n",
       "      <td>28.191315</td>\n",
       "      <td>5.738497</td>\n",
       "      <td>-3.039312</td>\n",
       "      <td>0.213158</td>\n",
       "      <td>46.127434</td>\n",
       "      <td>0.317400</td>\n",
       "      <td>1098.377403</td>\n",
       "    </tr>\n",
       "  </tbody>\n",
       "</table>\n",
       "<p>1000 rows × 39 columns</p>\n",
       "</div>"
      ],
      "text/plain": [
       "        mchirp       lnq    chieff  cumchidiff  costheta_jn  phi_jl_hat  \\\n",
       "0    27.217838 -0.326421 -0.420744    0.473716     0.860835    2.808493   \n",
       "1    27.883631 -1.415661 -0.047662    0.580546    -0.772647    2.123236   \n",
       "2    31.593108 -1.652429  0.409053    0.808564    -0.872931    0.525684   \n",
       "3    31.710681 -1.125810  0.261255    0.167585    -0.653827    0.520674   \n",
       "4    39.650934 -0.516392  0.710368    0.106841     0.709171    4.964519   \n",
       "..         ...       ...       ...         ...          ...         ...   \n",
       "995  37.280908 -2.719508  0.210535    0.620774     0.952510    0.207888   \n",
       "996  35.783101 -0.089759  0.204701    0.069442    -0.238195    4.826735   \n",
       "997  31.907496 -0.098463 -0.856501    0.103681    -0.364915    0.730155   \n",
       "998  27.653464 -1.709654  0.352209    0.484149    -0.626218    5.453936   \n",
       "999  38.374295 -1.102022  0.139250    0.693663    -0.120959    5.593637   \n",
       "\n",
       "        phi12  cums1r_s1z  cums2r_s2z       psi  ...  l1  l2  d_luminosity  \\\n",
       "0    5.150784    0.565569    0.074162  0.502546  ...   0   0  14538.618015   \n",
       "1    2.051186    0.975445    0.002229  1.001872  ...   0   0  13415.883071   \n",
       "2    6.065270    0.997342    0.260092  0.118174  ...   0   0  14599.554121   \n",
       "3    4.756114    0.573338    0.380377  0.048449  ...   0   0  10633.162410   \n",
       "4    1.726666    0.073706    0.683266  2.826287  ...   0   0  13260.487511   \n",
       "..        ...         ...         ...       ...  ...  ..  ..           ...   \n",
       "995  3.199565    0.252161    0.684465  1.354968  ...   0   0  14486.063437   \n",
       "996  5.490625    0.851901    0.095950  0.834537  ...   0   0  11488.768391   \n",
       "997  5.623870    0.019756    0.377616  2.703881  ...   0   0  12947.814141   \n",
       "998  5.354728    0.318438    0.984579  1.011548  ...   0   0   2063.513999   \n",
       "999  4.275455    0.530536    0.283911  2.475944  ...   0   0   4435.839695   \n",
       "\n",
       "           lnl  lnl_aux_H  lnl_aux_L   cosiota  m1_source     cum_q  \\\n",
       "0    17.651377  -7.535559   0.022812  0.842408  12.920480  0.698139   \n",
       "1    19.889506  -5.116327  -0.867061 -0.871645  24.866374  0.211037   \n",
       "2    19.515602  -1.369294  -4.347512 -0.846788  30.805049  0.164461   \n",
       "3    19.911462  -2.531102  -5.078593 -0.751559  27.027378  0.298432   \n",
       "4    19.405925  -5.496525  -1.040660  0.643362  21.805644  0.577284   \n",
       "..         ...        ...        ...       ...        ...       ...   \n",
       "995  28.391853   1.481060  -0.321018  0.657995  67.716079  0.051906   \n",
       "996  28.440818   0.624018   0.506719  0.074553  16.981351  0.908780   \n",
       "997  28.530511   1.976326  -0.670142 -0.565543  14.322692  0.899190   \n",
       "998  28.535499   1.493455   3.519448 -0.243167  58.080081  0.166579   \n",
       "999  28.191315   5.738497  -3.039312  0.213158  46.127434  0.317400   \n",
       "\n",
       "           d_hat  \n",
       "0    1486.386272  \n",
       "1    1535.442089  \n",
       "2    1455.800048  \n",
       "3     904.401148  \n",
       "4    1644.651767  \n",
       "..           ...  \n",
       "995  1057.592815  \n",
       "996  9443.380534  \n",
       "997  2440.666397  \n",
       "998   501.649514  \n",
       "999  1098.377403  \n",
       "\n",
       "[1000 rows x 39 columns]"
      ]
     },
     "execution_count": 12,
     "metadata": {},
     "output_type": "execute_result"
    }
   ],
   "source": [
    "all_events_pe[0][0:1000]"
   ]
  },
  {
   "cell_type": "markdown",
   "id": "061ecfca-f7ce-4769-849a-9e89bbbaa2c6",
   "metadata": {},
   "source": [
    "## Timing the lnprior and likelihood computations"
   ]
  },
  {
   "cell_type": "code",
   "execution_count": 13,
   "id": "f6aa8d7d-b723-4b3b-9021-db8582008c6c",
   "metadata": {},
   "outputs": [],
   "source": [
    "import copy"
   ]
  },
  {
   "cell_type": "code",
   "execution_count": 14,
   "id": "7d36eb9e-5e14-46db-8df6-15df239730ea",
   "metadata": {},
   "outputs": [],
   "source": [
    "mydf = copy.deepcopy(all_events_pe[0])\n",
    "test_hyp_dic = {'chieff_mean':0, 'chieff_sigma':1, 'R':100}"
   ]
  },
  {
   "cell_type": "code",
   "execution_count": 15,
   "id": "bcf39f02-db20-44bd-a65c-facf212dfbe9",
   "metadata": {},
   "outputs": [
    {
     "data": {
      "text/plain": [
       "23616"
      ]
     },
     "execution_count": 15,
     "metadata": {},
     "output_type": "execute_result"
    }
   ],
   "source": [
    "len(mydf)"
   ]
  },
  {
   "cell_type": "code",
   "execution_count": 16,
   "id": "89d93a18-bfe8-4061-b623-b46f63510b1f",
   "metadata": {
    "scrolled": true
   },
   "outputs": [],
   "source": [
    "# %%prun \n",
    "# zz = likelihood_object.lnlike(test_hyp_dic)"
   ]
  },
  {
   "cell_type": "code",
   "execution_count": 17,
   "id": "c1bfd139-3149-40e2-9fef-c854689445de",
   "metadata": {
    "scrolled": true
   },
   "outputs": [],
   "source": [
    "# likelihood_object.parametrized_population.transform_samples(samples)"
   ]
  },
  {
   "cell_type": "code",
   "execution_count": 16,
   "id": "513857a5-700e-4eea-b75e-d22f179c857f",
   "metadata": {
    "scrolled": true
   },
   "outputs": [
    {
     "name": "stdout",
     "output_type": "stream",
     "text": [
      " "
     ]
    },
    {
     "name": "stderr",
     "output_type": "stream",
     "text": [
      "/home/isha/PopulationSelectionEffects/cogwheel_population_inference/cogwheel/cogwheel/population_inference/population_models.py:245: SettingWithCopyWarning: \n",
      "A value is trying to be set on a copy of a slice from a DataFrame.\n",
      "Try using .loc[row_indexer,col_indexer] = value instead\n",
      "\n",
      "See the caveats in the documentation: https://pandas.pydata.org/pandas-docs/stable/user_guide/indexing.html#returning-a-view-versus-a-copy\n",
      "  direct[key] = val\n",
      "/home/isha/PopulationSelectionEffects/cogwheel_population_inference/cogwheel/cogwheel/population_inference/population_models.py:245: SettingWithCopyWarning: \n",
      "A value is trying to be set on a copy of a slice from a DataFrame.\n",
      "Try using .loc[row_indexer,col_indexer] = value instead\n",
      "\n",
      "See the caveats in the documentation: https://pandas.pydata.org/pandas-docs/stable/user_guide/indexing.html#returning-a-view-versus-a-copy\n",
      "  direct[key] = val\n",
      "/home/isha/PopulationSelectionEffects/cogwheel_population_inference/cogwheel/cogwheel/population_inference/population_models.py:245: SettingWithCopyWarning: \n",
      "A value is trying to be set on a copy of a slice from a DataFrame.\n",
      "Try using .loc[row_indexer,col_indexer] = value instead\n",
      "\n",
      "See the caveats in the documentation: https://pandas.pydata.org/pandas-docs/stable/user_guide/indexing.html#returning-a-view-versus-a-copy\n",
      "  direct[key] = val\n"
     ]
    },
    {
     "data": {
      "text/plain": [
       "         64858 function calls (64648 primitive calls) in 0.055 seconds\n",
       "\n",
       "   Ordered by: internal time\n",
       "\n",
       "   ncalls  tottime  percall  cumtime  percall filename:lineno(function)\n",
       "     6006    0.011    0.000    0.038    0.000 function_base.py:2356(func)\n",
       "     5000    0.008    0.000    0.024    0.000 prior.py:812(lnprior)\n",
       "     5039    0.006    0.000    0.006    0.000 {method 'reduce' of 'numpy.ufunc' objects}\n",
       "     5000    0.004    0.000    0.012    0.000 fromnumeric.py:71(_wrapreduction)\n",
       "     5000    0.003    0.000    0.015    0.000 fromnumeric.py:2979(prod)\n",
       "     1001    0.002    0.000    0.002    0.000 test_combined_priors.py:129(lnprior)\n",
       "     5000    0.002    0.000    0.002    0.000 fromnumeric.py:72(<dictcomp>)\n",
       "       10    0.002    0.000    0.041    0.004 function_base.py:2443(_vectorize_call)\n",
       "     6006    0.001    0.000    0.001    0.000 {method 'update' of 'dict' objects}\n",
       "       32    0.001    0.000    0.001    0.000 take.py:120(_take_nd_ndarray)\n",
       "6594/6401    0.001    0.000    0.001    0.000 {built-in method builtins.len}\n",
       "     5000    0.001    0.000    0.001    0.000 fromnumeric.py:2974(_prod_dispatcher)\n",
       "  158/141    0.000    0.000    0.001    0.000 {built-in method numpy.asarray}\n",
       "     5005    0.000    0.000    0.000    0.000 {method 'items' of 'dict' objects}\n",
       "        1    0.000    0.000    0.054    0.054 population_models.py:227(lnprior_and_transform_samples)\n",
       "     2017    0.000    0.000    0.001    0.000 {built-in method builtins.isinstance}\n",
       "       11    0.000    0.000    0.002    0.000 managers.py:708(_slice_take_blocks_ax0)\n",
       "        1    0.000    0.000    0.000    0.000 {built-in method posix.stat}\n",
       "       21    0.000    0.000    0.002    0.000 base.py:475(__new__)\n",
       "       29    0.000    0.000    0.009    0.000 frame.py:4050(__getitem__)\n",
       "       17    0.000    0.000    0.000    0.000 cast.py:1157(maybe_infer_to_datetimelike)\n",
       "        6    0.000    0.000    0.000    0.000 function_base.py:5563(append)\n",
       "       28    0.000    0.000    0.001    0.000 common.py:231(asarray_tuplesafe)\n",
       "       14    0.000    0.000    0.000    0.000 base.py:3955(_get_indexer)\n",
       "       24    0.000    0.000    0.001    0.000 construction.py:517(sanitize_array)\n",
       "       15    0.000    0.000    0.000    0.000 base.py:2744(inferred_type)\n",
       "        3    0.000    0.000    0.000    0.000 {method 'fill' of 'numpy.ndarray' objects}\n",
       "       47    0.000    0.000    0.000    0.000 base.py:649(_simple_new)\n",
       "        2    0.000    0.000    0.000    0.000 {method 'readline' of '_io.BufferedReader' objects}\n",
       "        1    0.000    0.000    0.000    0.000 {built-in method io.open}\n",
       "       10    0.000    0.000    0.041    0.004 function_base.py:2337(_call_as_normal)\n",
       "       14    0.000    0.000    0.000    0.000 base.py:842(_engine)\n",
       "       11    0.000    0.000    0.000    0.000 utils.py:239(maybe_convert_indices)\n",
       "       22    0.000    0.000    0.002    0.000 base.py:3820(get_indexer)\n",
       "       35    0.000    0.000    0.001    0.000 {built-in method numpy.asanyarray}\n",
       "       11    0.000    0.000    0.004    0.000 base.py:6186(_get_indexer_strict)\n",
       "       11    0.000    0.000    0.003    0.000 generic.py:4024(take)\n",
       "       29    0.000    0.000    0.000    0.000 generic.py:6233(__finalize__)\n",
       "       22    0.000    0.000    0.000    0.000 base.py:1146(take)\n",
       "       68    0.000    0.000    0.001    0.000 base.py:5437(_can_hold_identifiers_and_holds_name)\n",
       "       20    0.000    0.000    0.000    0.000 numeric.py:274(full)\n",
       "       68    0.000    0.000    0.001    0.000 generic.py:6281(__getattr__)\n",
       "      267    0.000    0.000    0.000    0.000 generic.py:42(_instancecheck)\n",
       "       17    0.000    0.000    0.000    0.000 managers.py:1012(iget)\n",
       "       29    0.000    0.000    0.000    0.000 generic.py:278(__init__)\n",
       "       11    0.000    0.000    0.000    0.000 base.py:6219(_raise_if_missing)\n",
       "       11    0.000    0.000    0.002    0.000 managers.py:623(reindex_indexer)\n",
       "       20    0.000    0.000    0.000    0.000 base.py:5323(__contains__)\n",
       "       31    0.000    0.000    0.000    0.000 warnings.py:458(__enter__)\n",
       "      267    0.000    0.000    0.000    0.000 generic.py:37(_check)\n",
       "       10    0.000    0.000    0.000    0.000 function_base.py:2285(__init__)\n",
       "       80    0.000    0.000    0.000    0.000 generic.py:6298(__setattr__)\n",
       "        1    0.000    0.000    0.001    0.001 tokenize.py:388(open)\n",
       "        1    0.000    0.000    0.000    0.000 {method '__exit__' of '_io._IOBase' objects}\n",
       "       11    0.000    0.000    0.002    0.000 managers.py:869(take)\n",
       "       32    0.000    0.000    0.001    0.000 take.py:59(take_nd)\n",
       "       11    0.000    0.000    0.003    0.000 generic.py:4139(_take_with_is_copy)\n",
       "       82    0.000    0.000    0.000    0.000 common.py:137(is_object_dtype)\n",
       "       31    0.000    0.000    0.000    0.000 managers.py:180(blknos)\n",
       "      100    0.000    0.000    0.000    0.000 common.py:1434(_is_dtype_type)\n",
       "      431    0.000    0.000    0.000    0.000 {built-in method builtins.getattr}\n",
       "       20    0.000    0.000    0.000    0.000 base.py:3777(get_loc)\n",
       "       11    0.000    0.000    0.001    0.000 base.py:4323(reindex)\n",
       "        6    0.000    0.000    0.001    0.000 function_base.py:2374(_get_ufunc_and_otypes)\n",
       "       58    0.000    0.000    0.000    0.000 {built-in method numpy.empty}\n",
       "       17    0.000    0.000    0.001    0.000 frame.py:4614(_get_item_cache)\n",
       "       30    0.000    0.000    0.000    0.000 base.py:82(shape)\n",
       "        3    0.000    0.000    0.000    0.000 function_base.py:5369(insert)\n",
       "       68    0.000    0.000    0.000    0.000 common.py:572(condition)\n",
       "        8    0.000    0.000    0.000    0.000 base.py:2313(is_unique)\n",
       "        1    0.000    0.000    0.000    0.000 {method 'readlines' of '_io._IOBase' objects}\n",
       "       22    0.000    0.000    0.000    0.000 cast.py:551(maybe_promote)\n",
       "       29    0.000    0.000    0.002    0.000 base.py:7593(ensure_index)\n",
       "       18    0.000    0.000    0.000    0.000 inspect.py:655(getfile)\n",
       "       15    0.000    0.000    0.000    0.000 _dtype.py:346(_name_get)\n",
       "       28    0.000    0.000    0.000    0.000 base.py:5170(_get_engine_target)\n",
       "       82    0.000    0.000    0.000    0.000 common.py:1375(_is_dtype)\n",
       "        3    0.000    0.000    0.000    0.000 _exceptions.py:34(find_stack_level)\n",
       "       17    0.000    0.000    0.001    0.000 frame.py:3971(_ixs)\n",
       "        3    0.000    0.000    0.000    0.000 iostream.py:655(write)\n",
       "        1    0.000    0.000    0.000    0.000 sre_parse.py:494(_parse)\n",
       "       14    0.000    0.000    0.001    0.000 base.py:6394(_should_compare)\n",
       "        1    0.000    0.000    0.055    0.055 {built-in method builtins.exec}\n",
       "        3    0.000    0.000    0.001    0.000 {built-in method _warnings.warn}\n",
       "        3    0.000    0.000    0.001    0.000 managers.py:1347(insert)\n",
       "      144    0.000    0.000    0.000    0.000 base.py:909(__len__)\n",
       "       18    0.000    0.000    0.000    0.000 common.py:1081(is_numeric_dtype)\n",
       "        3    0.000    0.000    0.001    0.000 base.py:6956(insert)\n",
       "       22    0.000    0.000    0.000    0.000 algorithms.py:1131(take)\n",
       "        6    0.000    0.000    0.000    0.000 {built-in method numpy.frompyfunc}\n",
       "       36    0.000    0.000    0.000    0.000 base.py:5552(equals)\n",
       "       38    0.000    0.000    0.000    0.000 base.py:5373(__getitem__)\n",
       "        3    0.000    0.000    0.000    0.000 cast.py:775(infer_dtype_from_scalar)\n",
       "       10    0.000    0.000    0.001    0.000 blocks.py:1287(take_nd)\n",
       "      180    0.000    0.000    0.000    0.000 {built-in method builtins.hasattr}\n",
       "       11    0.000    0.000    0.000    0.000 base.py:836(__iter__)\n",
       "        1    0.000    0.000    0.000    0.000 sre_compile.py:87(_compile)\n",
       "       68    0.000    0.000    0.000    0.000 common.py:536(is_string_dtype)\n",
       "       73    0.000    0.000    0.000    0.000 {built-in method _abc._abc_instancecheck}\n",
       "       31    0.000    0.000    0.000    0.000 warnings.py:437(__init__)\n",
       "       17    0.000    0.000    0.000    0.000 frame.py:4596(_box_col_values)\n",
       "       42    0.000    0.000    0.000    0.000 common.py:1331(is_ea_or_datetimelike_dtype)\n",
       "       32    0.000    0.000    0.000    0.000 take.py:564(_take_preprocess_indexer_and_fill_value)\n",
       "       11    0.000    0.000    0.000    0.000 common.py:97(is_bool_indexer)\n",
       "        1    0.000    0.000    0.000    0.000 generic.py:4358(_slice)\n",
       "        3    0.000    0.000    0.001    0.000 warnings.py:35(_formatwarnmsg_impl)\n",
       "       50    0.000    0.000    0.000    0.000 inference.py:334(is_hashable)\n",
       "        3    0.000    0.000    0.002    0.001 generic.py:4399(_check_setitem_copy)\n",
       "        1    0.000    0.000    0.055    0.055 <string>:1(<module>)\n",
       "       29    0.000    0.000    0.000    0.000 indexing.py:2765(check_dict_or_set_indexers)\n",
       "       29    0.000    0.000    0.000    0.000 generic.py:339(_from_mgr)\n",
       "       34    0.000    0.000    0.000    0.000 series.py:974(__array__)\n",
       "       14    0.000    0.000    0.000    0.000 base.py:6324(_maybe_downcast_for_indexing)\n",
       "        3    0.000    0.000    0.004    0.001 frame.py:4259(__setitem__)\n",
       "       98    0.000    0.000    0.000    0.000 __init__.py:34(using_copy_on_write)\n",
       "       55    0.000    0.000    0.000    0.000 base.py:6312(_index_as_unique)\n",
       "       12    0.000    0.000    0.000    0.000 frame.py:659(_constructor_from_mgr)\n",
       "       82    0.000    0.000    0.000    0.000 common.py:1399(_get_dtype)\n",
       "       22    0.000    0.000    0.000    0.000 {method 'take' of 'numpy.ndarray' objects}\n",
       "       22    0.000    0.000    0.000    0.000 base.py:3996(_check_indexing_method)\n",
       "       11    0.000    0.000    0.000    0.000 managers.py:948(from_blocks)\n",
       "       10    0.000    0.000    0.041    0.004 function_base.py:2367(__call__)\n",
       "       21    0.000    0.000    0.000    0.000 base.py:591(_ensure_array)\n",
       "        3    0.000    0.000    0.003    0.001 frame.py:4469(_set_item_mgr)\n",
       "       84    0.000    0.000    0.000    0.000 generic.py:666(_info_axis)\n",
       "       32    0.000    0.000    0.000    0.000 take.py:325(_get_take_nd_function)\n",
       "       10    0.000    0.000    0.000    0.000 blocks.py:292(make_block_same_class)\n",
       "      178    0.000    0.000    0.000    0.000 {built-in method builtins.issubclass}\n",
       "       31    0.000    0.000    0.000    0.000 warnings.py:477(__exit__)\n",
       "       11    0.000    0.000    0.002    0.000 base.py:6162(get_indexer_for)\n",
       "       29    0.000    0.000    0.000    0.000 flags.py:87(allows_duplicate_labels)\n",
       "       11    0.000    0.000    0.000    0.000 base.py:4440(_maybe_preserve_names)\n",
       "       68    0.000    0.000    0.000    0.000 common.py:529(is_string_or_object_np_dtype)\n",
       "       14    0.000    0.000    0.000    0.000 base.py:456(_engine_type)\n",
       "       11    0.000    0.000    0.000    0.000 managers.py:2318(_preprocess_slice_or_indexer)\n",
       "       73    0.000    0.000    0.000    0.000 abc.py:117(__instancecheck__)\n",
       "       29    0.000    0.000    0.000    0.000 flags.py:51(__init__)\n",
       "       17    0.000    0.000    0.000    0.000 frame.py:672(_constructor_sliced_from_mgr)\n",
       "       90    0.000    0.000    0.000    0.000 base.py:84(<genexpr>)\n",
       "        3    0.000    0.000    0.000    0.000 base.py:674(_with_infer)\n",
       "       36    0.000    0.000    0.000    0.000 base.py:791(is_)\n",
       "       21    0.000    0.000    0.000    0.000 construction.py:693(_sanitize_ndim)\n",
       "       21    0.000    0.000    0.000    0.000 base.py:7688(maybe_extract_name)\n",
       "        3    0.000    0.000    0.000    0.000 numeric.py:1393(moveaxis)\n",
       "        3    0.000    0.000    0.000    0.000 warnings.py:130(filterwarnings)\n",
       "       22    0.000    0.000    0.000    0.000 generic.py:585(_get_axis)\n",
       "       70    0.000    0.000    0.000    0.000 {built-in method builtins.hash}\n",
       "      146    0.000    0.000    0.000    0.000 base.py:5144(_values)\n",
       "       34    0.000    0.000    0.000    0.000 managers.py:2002(internal_values)\n",
       "       22    0.000    0.000    0.000    0.000 {method 'any' of 'numpy.ndarray' objects}\n",
       "       12    0.000    0.000    0.000    0.000 generic.py:591(_get_block_manager_axis)\n",
       "        6    0.000    0.000    0.000    0.000 numeric.py:1330(normalize_axis_tuple)\n",
       "       77    0.000    0.000    0.000    0.000 {built-in method __new__ of type object at 0x55c4cc8aa380}\n",
       "      205    0.000    0.000    0.000    0.000 range.py:376(dtype)\n",
       "        3    0.000    0.000    0.000    0.000 cast.py:1516(construct_1d_arraylike_from_scalar)\n",
       "       34    0.000    0.000    0.000    0.000 series.py:827(_values)\n",
       "        3    0.000    0.000    0.000    0.000 re.py:289(_compile)\n",
       "       14    0.000    0.000    0.000    0.000 base.py:7723(_unpack_nested_dtype)\n",
       "       24    0.000    0.000    0.000    0.000 construction.py:416(extract_array)\n",
       "       48    0.000    0.000    0.000    0.000 base.py:831(_reset_identity)\n",
       "       17    0.000    0.000    0.000    0.000 {built-in method numpy.array}\n",
       "       82    0.000    0.000    0.000    0.000 common.py:123(<lambda>)\n",
       "       24    0.000    0.000    0.000    0.000 construction.py:481(ensure_wrapped_if_datetimelike)\n",
       "       21    0.000    0.000    0.000    0.000 base.py:609(_dtype_to_subclass)\n",
       "       10    0.000    0.000    0.000    0.000 prior.py:131(sampled_params)\n",
       "        3    0.000    0.000    0.000    0.000 managers.py:1412(_insert_update_blklocs_and_blknos)\n",
       "        3    0.000    0.000    0.000    0.000 managers.py:2309(_fast_count_smallints)\n",
       "        6    0.000    0.000    0.000    0.000 function_base.py:2409(<listcomp>)\n",
       "       10    0.000    0.000    0.000    0.000 utils.py:32(__get__)\n",
       "       14    0.000    0.000    0.000    0.000 base.py:6415(_is_comparable_dtype)\n",
       "       12    0.000    0.000    0.000    0.000 generic.py:4376(_set_is_copy)\n",
       "       22    0.000    0.000    0.001    0.000 base.py:6679(_maybe_cast_listlike_indexer)\n",
       "       20    0.000    0.000    0.000    0.000 __init__.py:55(using_pyarrow_string_dtype)\n",
       "       45    0.000    0.000    0.000    0.000 range.py:999(__len__)\n",
       "        1    0.000    0.000    0.000    0.000 tokenize.py:295(detect_encoding)\n",
       "       17    0.000    0.000    0.000    0.000 series.py:1462(_set_as_cached)\n",
       "       32    0.000    0.000    0.000    0.000 common.py:372(apply_if_callable)\n",
       "      231    0.000    0.000    0.000    0.000 {method 'append' of 'list' objects}\n",
       "       34    0.000    0.000    0.000    0.000 generic.py:571(_get_axis_number)\n",
       "        2    0.000    0.000    0.000    0.000 tokenize.py:325(find_cookie)\n",
       "       61    0.000    0.000    0.000    0.000 sre_parse.py:234(__next)\n",
       "        3    0.000    0.000    0.004    0.001 frame.py:4502(_set_item)\n",
       "       10    0.000    0.000    0.000    0.000 function_base.py:348(iterable)\n",
       "       82    0.000    0.000    0.000    0.000 common.py:121(classes)\n",
       "        7    0.000    0.000    0.000    0.000 {method 'sum' of 'numpy.ndarray' objects}\n",
       "        3    0.000    0.000    0.000    0.000 frame.py:5229(_sanitize_column)\n",
       "       41    0.000    0.000    0.000    0.000 {method 'get' of 'dict' objects}\n",
       "        1    0.000    0.000    0.001    0.001 linecache.py:80(updatecache)\n",
       "        3    0.000    0.000    0.000    0.000 managers.py:1402(_insert_update_mgr_locs)\n",
       "        3    0.000    0.000    0.000    0.000 posixpath.py:150(dirname)\n",
       "        2    0.000    0.000    0.000    0.000 ipkernel.py:770(_clean_thread_parent_frames)\n",
       "       34    0.000    0.000    0.000    0.000 common.py:152(cast_scalar_indexer)\n",
       "        7    0.000    0.000    0.000    0.000 _methods.py:47(_sum)\n",
       "        6    0.000    0.000    0.000    0.000 function_base.py:2433(<listcomp>)\n",
       "       22    0.000    0.000    0.000    0.000 _methods.py:55(_any)\n",
       "        4    0.000    0.000    0.000    0.000 base.py:5425(_getitem_slice)\n",
       "       22    0.000    0.000    0.000    0.000 inference.py:195(is_array_like)\n",
       "        6    0.000    0.000    0.000    0.000 warnings.py:403(__init__)\n",
       "        6    0.000    0.000    0.000    0.000 missing.py:184(_isna)\n",
       "       60    0.000    0.000    0.000    0.000 sre_parse.py:173(append)\n",
       "       14    0.000    0.000    0.000    0.000 common.py:1040(needs_i8_conversion)\n",
       "       21    0.000    0.000    0.000    0.000 construction.py:732(_sanitize_str_dtypes)\n",
       "       17    0.000    0.000    0.000    0.000 frame.py:669(_sliced_from_mgr)\n",
       "        9    0.000    0.000    0.000    0.000 {built-in method builtins.any}\n",
       "       65    0.000    0.000    0.000    0.000 {built-in method _warnings._filters_mutated}\n",
       "        1    0.000    0.000    0.000    0.000 sre_parse.py:175(getwidth)\n",
       "        5    0.000    0.000    0.000    0.000 blocks.py:253(fill_value)\n",
       "       11    0.000    0.000    0.000    0.000 base.py:4436(_wrap_reindex_result)\n",
       "        3    0.000    0.000    0.000    0.000 config.py:127(_get_single_key)\n",
       "       60    0.000    0.000    0.000    0.000 sre_parse.py:255(get)\n",
       "        3    0.000    0.000    0.000    0.000 posixpath.py:71(join)\n",
       "       17    0.000    0.000    0.000    0.000 blocks.py:1253(iget)\n",
       "        1    0.000    0.000    0.000    0.000 generic.py:4339(_getitem_slice)\n",
       "       58    0.000    0.000    0.000    0.000 generic.py:404(flags)\n",
       "        1    0.000    0.000    0.000    0.000 {built-in method _abc._abc_subclasscheck}\n",
       "        3    0.000    0.000    0.001    0.000 linecache.py:26(getline)\n",
       "       18    0.000    0.000    0.000    0.000 common.py:131(<lambda>)\n",
       "       10    0.000    0.000    0.000    0.000 {method 'max' of 'numpy.ndarray' objects}\n",
       "       10    0.000    0.000    0.000    0.000 {built-in method builtins.max}\n",
       "       15    0.000    0.000    0.000    0.000 _dtype.py:24(_kind_name)\n",
       "       11    0.000    0.000    0.000    0.000 managers.py:241(is_single_block)\n",
       "        3    0.000    0.000    0.000    0.000 blocks.py:2703(new_block_2d)\n",
       "        3    0.000    0.000    0.001    0.000 warnings.py:20(_showwarnmsg_impl)\n",
       "        1    0.000    0.000    0.000    0.000 socket.py:621(send)\n",
       "       18    0.000    0.000    0.000    0.000 common.py:126(_classes_and_not_datetimelike)\n",
       "       17    0.000    0.000    0.000    0.000 managers.py:1835(__init__)\n",
       "       15    0.000    0.000    0.000    0.000 managers.py:1392(<genexpr>)\n",
       "        3    0.000    0.000    0.001    0.000 logger.py:202(_showwarning)\n",
       "       47    0.000    0.000    0.000    0.000 base.py:1671(name)\n",
       "       31    0.000    0.000    0.000    0.000 managers.py:196(blklocs)\n",
       "        3    0.000    0.000    0.000    0.000 warnings.py:181(_add_filter)\n",
       "       39    0.000    0.000    0.000    0.000 base.py:974(dtype)\n",
       "       11    0.000    0.000    0.000    0.000 {built-in method builtins.iter}\n",
       "       60    0.000    0.000    0.000    0.000 sre_parse.py:165(__getitem__)\n",
       "        6    0.000    0.000    0.000    0.000 fromnumeric.py:1768(ravel)\n",
       "        3    0.000    0.000    0.000    0.000 {method 'remove' of 'list' objects}\n",
       "        3    0.000    0.000    0.001    0.000 warnings.py:96(_showwarnmsg)\n",
       "       18    0.000    0.000    0.000    0.000 inspect.py:64(ismodule)\n",
       "        1    0.000    0.000    0.000    0.000 base.py:4201(_convert_slice_indexer)\n",
       "        3    0.000    0.000    0.000    0.000 inference.py:273(is_dict_like)\n",
       "        4    0.000    0.000    0.000    0.000 {built-in method _codecs.utf_8_decode}\n",
       "        3    0.000    0.000    0.000    0.000 blocks.py:2811(ensure_block_shape)\n",
       "        5    0.000    0.000    0.000    0.000 missing.py:673(na_value_for_dtype)\n",
       "        1    0.000    0.000    0.000    0.000 range.py:201(_simple_new)\n",
       "       29    0.000    0.000    0.000    0.000 generic.py:362(attrs)\n",
       "        1    0.000    0.000    0.000    0.000 sre_compile.py:783(compile)\n",
       "        8    0.000    0.000    0.000    0.000 threading.py:1109(ident)\n",
       "       29    0.000    0.000    0.000    0.000 flags.py:55(allows_duplicate_labels)\n",
       "        1    0.000    0.000    0.000    0.000 sre_parse.py:944(parse)\n",
       "       10    0.000    0.000    0.000    0.000 generic.py:2034(keys)\n",
       "        1    0.000    0.000    0.000    0.000 sre_compile.py:560(_compile_info)\n",
       "        6    0.000    0.000    0.001    0.000 function_base.py:2453(<listcomp>)\n",
       "       10    0.000    0.000    0.000    0.000 _methods.py:39(_amax)\n",
       "       20    0.000    0.000    0.000    0.000 __init__.py:42(warn_copy_on_write)\n",
       "       12    0.000    0.000    0.000    0.000 frame.py:655(_constructor)\n",
       "       45    0.000    0.000    0.000    0.000 {built-in method builtins.callable}\n",
       "       27    0.000    0.000    0.000    0.000 base.py:3809(<genexpr>)\n",
       "       17    0.000    0.000    0.000    0.000 base.py:2776(_is_multi)\n",
       "       37    0.000    0.000    0.000    0.000 {method 'startswith' of 'str' objects}\n",
       "        3    0.000    0.000    0.000    0.000 blocks.py:2645(maybe_coerce_values)\n",
       "        1    0.000    0.000    0.000    0.000 threading.py:1388(enumerate)\n",
       "        1    0.000    0.000    0.000    0.000 ipkernel.py:785(<setcomp>)\n",
       "       15    0.000    0.000    0.000    0.000 _dtype.py:330(_name_includes_bit_suffix)\n",
       "        3    0.000    0.000    0.000    0.000 base.py:5295(_validate_fill_value)\n",
       "        1    0.000    0.000    0.000    0.000 iostream.py:259(schedule)\n",
       "       23    0.000    0.000    0.000    0.000 function_base.py:2405(<genexpr>)\n",
       "        3    0.000    0.000    0.001    0.000 linecache.py:36(getlines)\n",
       "        3    0.000    0.000    0.000    0.000 config.py:635(_get_root)\n",
       "        6    0.000    0.000    0.000    0.000 config.py:649(_get_deprecated_option)\n",
       "        3    0.000    0.000    0.000    0.000 config.py:273(__call__)\n",
       "        3    0.000    0.000    0.000    0.000 {built-in method gc.get_referents}\n",
       "        7    0.000    0.000    0.000    0.000 blocks.py:214(is_extension)\n",
       "        1    0.000    0.000    0.000    0.000 _collections_abc.py:262(__subclasshook__)\n",
       "        6    0.000    0.000    0.000    0.000 missing.py:101(isna)\n",
       "       21    0.000    0.000    0.000    0.000 construction.py:752(_maybe_repeat)\n",
       "        3    0.000    0.000    0.000    0.000 iostream.py:505(parent_header)\n",
       "       11    0.000    0.000    0.000    0.000 function.py:64(__call__)\n",
       "       11    0.000    0.000    0.000    0.000 base.py:7652(ensure_has_len)\n",
       "       38    0.000    0.000    0.000    0.000 typing.py:1375(cast)\n",
       "       22    0.000    0.000    0.000    0.000 missing.py:1073(clean_reindex_fill_method)\n",
       "        1    0.000    0.000    0.000    0.000 _collections_abc.py:78(_check_methods)\n",
       "        4    0.000    0.000    0.000    0.000 codecs.py:319(decode)\n",
       "        6    0.000    0.000    0.001    0.000 function_base.py:2404(<listcomp>)\n",
       "       22    0.000    0.000    0.000    0.000 base.py:1176(_maybe_disallow_fill)\n",
       "       20    0.000    0.000    0.000    0.000 multiarray.py:1080(copyto)\n",
       "        3    0.000    0.000    0.000    0.000 frame.py:4573(_ensure_valid_index)\n",
       "       18    0.000    0.000    0.000    0.000 inspect.py:81(ismethod)\n",
       "        3    0.000    0.000    0.000    0.000 blocks.py:2674(get_block_type)\n",
       "       18    0.000    0.000    0.000    0.000 inspect.py:237(istraceback)\n",
       "        6    0.000    0.000    0.000    0.000 numeric.py:1380(<listcomp>)\n",
       "        1    0.000    0.000    0.000    0.000 range.py:1032(_getitem_slice)\n",
       "       18    0.000    0.000    0.000    0.000 inspect.py:159(isfunction)\n",
       "        3    0.000    0.000    0.000    0.000 config.py:145(_get_option)\n",
       "        1    0.000    0.000    0.000    0.000 sre_parse.py:436(_parse_sub)\n",
       "       14    0.000    0.000    0.000    0.000 common.py:1122(<lambda>)\n",
       "        3    0.000    0.000    0.000    0.000 missing.py:728(is_valid_na_for_dtype)\n",
       "       61    0.000    0.000    0.000    0.000 {built-in method _sre.unicode_iscased}\n",
       "       59    0.000    0.000    0.000    0.000 {built-in method builtins.ord}\n",
       "        3    0.000    0.000    0.001    0.000 warnings.py:117(_formatwarnmsg)\n",
       "        3    0.000    0.000    0.001    0.000 warnings.py:10(showwarning)\n",
       "        3    0.000    0.000    0.000    0.000 inspect.py:1548(currentframe)\n",
       "       18    0.000    0.000    0.000    0.000 inspect.py:261(iscode)\n",
       "       11    0.000    0.000    0.000    0.000 generic.py:695(ndim)\n",
       "        3    0.000    0.000    0.000    0.000 {built-in method builtins.sum}\n",
       "        3    0.000    0.000    0.000    0.000 iostream.py:577(_schedule_flush)\n",
       "       18    0.000    0.000    0.000    0.000 inspect.py:247(isframe)\n",
       "       18    0.000    0.000    0.000    0.000 inspect.py:73(isclass)\n",
       "        3    0.000    0.000    0.000    0.000 config.py:617(_select_options)\n",
       "        6    0.000    0.000    0.000    0.000 frame.py:1036(shape)\n",
       "        3    0.000    0.000    0.000    0.000 {built-in method builtins.sorted}\n",
       "       17    0.000    0.000    0.000    0.000 managers.py:1938(_block)\n",
       "        5    0.000    0.000    0.000    0.000 blocks.py:219(_can_consolidate)\n",
       "        1    0.000    0.000    0.000    0.000 sre_compile.py:485(_get_literal_prefix)\n",
       "       12    0.000    0.000    0.000    0.000 managers.py:913(__init__)\n",
       "        3    0.000    0.000    0.000    0.000 config.py:688(_warn_if_deprecated)\n",
       "        3    0.000    0.000    0.000    0.000 {method 'reshape' of 'numpy.ndarray' objects}\n",
       "        6    0.000    0.000    0.000    0.000 posixpath.py:41(_get_sep)\n",
       "        1    0.000    0.000    0.000    0.000 threading.py:1133(is_alive)\n",
       "       51    0.000    0.000    0.000    0.000 {built-in method _sre.unicode_tolower}\n",
       "        3    0.000    0.000    0.000    0.000 {method 'match' of 're.Pattern' objects}\n",
       "        3    0.000    0.000    0.000    0.000 types.py:171(__get__)\n",
       "        3    0.000    0.000    0.000    0.000 iostream.py:550(_is_master_process)\n",
       "       20    0.000    0.000    0.000    0.000 base.py:6672(_maybe_cast_indexer)\n",
       "        1    0.000    0.000    0.000    0.000 sre_compile.py:622(_code)\n",
       "        1    0.000    0.000    0.000    0.000 codecs.py:309(__init__)\n",
       "        2    0.000    0.000    0.000    0.000 base.py:2794(_na_value)\n",
       "        1    0.000    0.000    0.000    0.000 sre_parse.py:225(__init__)\n",
       "        6    0.000    0.000    0.000    0.000 function_base.py:2352(<listcomp>)\n",
       "       11    0.000    0.000    0.000    0.000 base.py:1979(nlevels)\n",
       "        3    0.000    0.000    0.000    0.000 {method 'nonzero' of 'numpy.ndarray' objects}\n",
       "        1    0.000    0.000    0.000    0.000 enum.py:977(__and__)\n",
       "        6    0.000    0.000    0.000    0.000 inference.py:300(<genexpr>)\n",
       "        3    0.000    0.000    0.000    0.000 re.py:250(compile)\n",
       "        6    0.000    0.000    0.000    0.000 {method 'ravel' of 'numpy.ndarray' objects}\n",
       "        6    0.000    0.000    0.000    0.000 function_base.py:2363(<listcomp>)\n",
       "        3    0.000    0.000    0.000    0.000 frame.py:1631(__len__)\n",
       "        3    0.000    0.000    0.000    0.000 {method 'transpose' of 'numpy.ndarray' objects}\n",
       "        1    0.000    0.000    0.000    0.000 utils.py:38(is_valid_positional_slice)\n",
       "        1    0.000    0.000    0.000    0.000 iostream.py:138(_event_pipe)\n",
       "        2    0.000    0.000    0.000    0.000 sre_compile.py:477(_get_iscased)\n",
       "        5    0.000    0.000    0.000    0.000 blocks.py:718(dtype)\n",
       "        2    0.000    0.000    0.000    0.000 tokenize.py:319(read_or_stop)\n",
       "        1    0.000    0.000    0.000    0.000 threading.py:1066(_wait_for_tstate_lock)\n",
       "        2    0.000    0.000    0.000    0.000 enum.py:670(__new__)\n",
       "        1    0.000    0.000    0.000    0.000 sre_parse.py:928(fix_flags)\n",
       "        6    0.000    0.000    0.000    0.000 {method 'insert' of 'list' objects}\n",
       "        2    0.000    0.000    0.000    0.000 enum.py:358(__call__)\n",
       "        4    0.000    0.000    0.000    0.000 {method 'endswith' of 'str' objects}\n",
       "        3    0.000    0.000    0.000    0.000 {method 'split' of 'str' objects}\n",
       "        1    0.000    0.000    0.000    0.000 abc.py:121(__subclasscheck__)\n",
       "        6    0.000    0.000    0.000    0.000 {built-in method numpy.core._multiarray_umath.normalize_axis_index}\n",
       "        3    0.000    0.000    0.000    0.000 {built-in method posix.getpid}\n",
       "        1    0.000    0.000    0.000    0.000 sre_parse.py:76(__init__)\n",
       "        2    0.000    0.000    0.000    0.000 sre_compile.py:619(isstring)\n",
       "        1    0.000    0.000    0.000    0.000 {built-in method _sre.compile}\n",
       "        3    0.000    0.000    0.000    0.000 config.py:676(_translate_key)\n",
       "        6    0.000    0.000    0.000    0.000 function_base.py:2353(<listcomp>)\n",
       "        3    0.000    0.000    0.000    0.000 cast.py:1760(np_can_hold_element)\n",
       "        3    0.000    0.000    0.000    0.000 {method 'rfind' of 'str' objects}\n",
       "        1    0.000    0.000    0.000    0.000 sre_parse.py:112(__init__)\n",
       "        1    0.000    0.000    0.000    0.000 sre_compile.py:516(_get_charset_prefix)\n",
       "        3    0.000    0.000    0.000    0.000 managers.py:246(items)\n",
       "        3    0.000    0.000    0.000    0.000 common.py:1270(is_1d_only_ea_dtype)\n",
       "        6    0.000    0.000    0.000    0.000 function_base.py:2362(<listcomp>)\n",
       "        6    0.000    0.000    0.000    0.000 multiarray.py:153(concatenate)\n",
       "        2    0.000    0.000    0.000    0.000 base.py:692(_constructor)\n",
       "        6    0.000    0.000    0.000    0.000 {method 'join' of 'str' objects}\n",
       "        6    0.000    0.000    0.000    0.000 function_base.py:5559(_append_dispatcher)\n",
       "        3    0.000    0.000    0.000    0.000 {built-in method builtins.all}\n",
       "        3    0.000    0.000    0.000    0.000 {method 'item' of 'numpy.ndarray' objects}\n",
       "        3    0.000    0.000    0.000    0.000 numeric.py:1455(<listcomp>)\n",
       "        1    0.000    0.000    0.000    0.000 sre_parse.py:287(tell)\n",
       "        3    0.000    0.000    0.000    0.000 enum.py:792(value)\n",
       "        6    0.000    0.000    0.000    0.000 {method 'extend' of 'list' objects}\n",
       "        1    0.000    0.000    0.000    0.000 codecs.py:260(__init__)\n",
       "        3    0.000    0.000    0.000    0.000 numeric.py:1389(_moveaxis_dispatcher)\n",
       "        2    0.000    0.000    0.000    0.000 sre_parse.py:82(groups)\n",
       "        6    0.000    0.000    0.000    0.000 {built-in method posix.fspath}\n",
       "        1    0.000    0.000    0.000    0.000 {method 'seek' of '_io.BufferedReader' objects}\n",
       "        3    0.000    0.000    0.000    0.000 {method 'strip' of 'str' objects}\n",
       "        6    0.000    0.000    0.000    0.000 {built-in method _operator.index}\n",
       "        3    0.000    0.000    0.000    0.000 {method 'write' of '_io.StringIO' objects}\n",
       "        3    0.000    0.000    0.000    0.000 {built-in method sys._getframe}\n",
       "        6    0.000    0.000    0.000    0.000 fromnumeric.py:1764(_ravel_dispatcher)\n",
       "        4    0.000    0.000    0.000    0.000 {method '__exit__' of '_thread.RLock' objects}\n",
       "        3    0.000    0.000    0.000    0.000 {method 'rstrip' of 'str' objects}\n",
       "        3    0.000    0.000    0.000    0.000 function_base.py:5365(_insert_dispatcher)\n",
       "        2    0.000    0.000    0.000    0.000 {method 'decode' of 'bytes' objects}\n",
       "        3    0.000    0.000    0.000    0.000 {built-in method builtins.min}\n",
       "        3    0.000    0.000    0.000    0.000 multiarray.py:892(bincount)\n",
       "        1    0.000    0.000    0.000    0.000 {method 'acquire' of '_thread.lock' objects}\n",
       "        4    0.000    0.000    0.000    0.000 prior.py:780(lnprior)\n",
       "        1    0.000    0.000    0.000    0.000 {method 'startswith' of 'bytes' objects}\n",
       "        1    0.000    0.000    0.000    0.000 {method 'disable' of '_lsprof.Profiler' objects}\n",
       "        1    0.000    0.000    0.000    0.000 sre_parse.py:161(__len__)\n",
       "        1    0.000    0.000    0.000    0.000 {built-in method builtins.next}\n",
       "        3    0.000    0.000    0.000    0.000 {method 'get' of 'ContextVar' objects}\n",
       "        1    0.000    0.000    0.000    0.000 tz.py:74(utcoffset)\n",
       "        3    0.000    0.000    0.000    0.000 {built-in method sys.getrefcount}\n",
       "        4    0.000    0.000    0.000    0.000 {method 'keys' of 'dict' objects}\n",
       "        2    0.000    0.000    0.000    0.000 {method 'values' of 'dict' objects}\n",
       "        1    0.000    0.000    0.000    0.000 sre_parse.py:250(match)\n",
       "        1    0.000    0.000    0.000    0.000 threading.py:536(is_set)\n",
       "        1    0.000    0.000    0.000    0.000 {method 'append' of 'collections.deque' objects}"
      ]
     },
     "metadata": {},
     "output_type": "display_data"
    }
   ],
   "source": [
    "%%prun\n",
    "zz = likelihood_object.parametrized_population.lnprior_and_transform_samples(mydf[0:1000], **test_hyp_dic, force_update=False)"
   ]
  },
  {
   "cell_type": "code",
   "execution_count": 17,
   "id": "7d64549c-a381-4a19-aa8d-b485502830fc",
   "metadata": {
    "scrolled": true
   },
   "outputs": [
    {
     "name": "stdout",
     "output_type": "stream",
     "text": [
      " "
     ]
    },
    {
     "data": {
      "text/plain": [
       "         165013 function calls (164817 primitive calls) in 3.502 seconds\n",
       "\n",
       "   Ordered by: internal time\n",
       "\n",
       "   ncalls  tottime  percall  cumtime  percall filename:lineno(function)\n",
       "     1000    1.675    0.002    1.675    0.002 {built-in method lal._lal.ComputeDetAMResponse}\n",
       "     1000    1.613    0.002    1.613    0.002 {built-in method lal._lal.GreenwichMeanSiderealTime}\n",
       "     3003    0.018    0.000    0.026    0.000 _fitpack_impl.py:302(splev)\n",
       "     7007    0.017    0.000    3.486    0.000 function_base.py:2356(func)\n",
       "     1000    0.016    0.000    3.327    0.003 extrinsic.py:41(geometric_factor_refdet)\n",
       "     8041    0.014    0.000    0.014    0.000 {method 'reduce' of 'numpy.ufunc' objects}\n",
       "     6000    0.009    0.000    0.028    0.000 prior.py:812(lnprior)\n",
       "     1001    0.008    0.000    3.410    0.003 injection_priors.py:83(transform)\n",
       "     1001    0.007    0.000    0.014    0.000 _util.py:260(_asarray_validated)\n",
       "     1001    0.007    0.000    0.016    0.000 _interpolate.py:772(_check_bounds)\n",
       "10184/10159    0.006    0.000    0.007    0.000 {built-in method numpy.asarray}\n",
       "     1001    0.006    0.000    3.438    0.003 injection_priors.py:121(lnprior)\n",
       "     6000    0.005    0.000    0.015    0.000 fromnumeric.py:71(_wrapreduction)\n",
       "     1000    0.005    0.000    3.307    0.003 gw_utils.py:40(fplus_fcross)\n",
       "     1001    0.005    0.000    0.022    0.000 cosmology.py:42(comoving_to_luminosity_diff_vt_ratio)\n",
       "     1001    0.004    0.000    0.011    0.000 function_base.py:1461(interp)\n",
       "     1001    0.004    0.000    3.331    0.003 injection_priors.py:66(_response_factor)\n",
       "     3003    0.004    0.000    0.006    0.000 shape_base.py:23(atleast_1d)\n",
       "     3003    0.004    0.000    0.031    0.000 _fitpack2.py:360(__call__)\n",
       "     1001    0.004    0.000    0.034    0.000 _interpolate.py:757(_evaluate)\n",
       "     1000    0.004    0.000    3.310    0.003 extrinsic.py:36(fplus_fcross_refdet)\n",
       "     6000    0.004    0.000    0.018    0.000 fromnumeric.py:2979(prod)\n",
       "     1001    0.003    0.000    0.003    0.000 {built-in method numpy.core._multiarray_umath.interp}\n",
       "     1000    0.003    0.000    0.007    0.000 fromnumeric.py:40(_wrapit)\n",
       "       10    0.003    0.000    3.492    0.349 function_base.py:2443(_vectorize_call)\n",
       "     1000    0.003    0.000    1.678    0.002 gw_utils.py:48(<listcomp>)\n",
       "     1001    0.003    0.000    0.014    0.000 _interpolate.py:684(_call_linear_np)\n",
       "     7007    0.003    0.000    0.003    0.000 {method 'reshape' of 'numpy.ndarray' objects}\n",
       "     1001    0.002    0.000    0.017    0.000 _polyint.py:90(_prepare_x)\n",
       "     7007    0.002    0.000    0.002    0.000 {method 'update' of 'dict' objects}\n",
       "     1001    0.002    0.000    0.055    0.000 _polyint.py:59(__call__)\n",
       "     1000    0.002    0.000    0.010    0.000 fromnumeric.py:53(_wrapfunc)\n",
       "     1001    0.002    0.000    0.002    0.000 type_check.py:302(iscomplexobj)\n",
       "     1001    0.002    0.000    0.005    0.000 numerictypes.py:357(issubdtype)\n",
       "     2002    0.002    0.000    0.025    0.000 cosmology.py:29(_z_of_d_luminosity)\n",
       "     6000    0.002    0.000    0.002    0.000 fromnumeric.py:72(<dictcomp>)\n",
       "     4208    0.002    0.000    0.002    0.000 {built-in method builtins.issubclass}\n",
       "     2024    0.001    0.000    0.008    0.000 {method 'any' of 'numpy.ndarray' objects}\n",
       "     4004    0.001    0.000    0.001    0.000 {method 'ravel' of 'numpy.ndarray' objects}\n",
       "     2002    0.001    0.000    0.003    0.000 numerictypes.py:283(issubclass_)\n",
       "11503/11332    0.001    0.000    0.001    0.000 {built-in method builtins.len}\n",
       "     1001    0.001    0.000    0.001    0.000 gw_utils.py:143(m1m2_to_mchirp)\n",
       "     3763    0.001    0.000    0.001    0.000 {built-in method builtins.isinstance}\n",
       "     1000    0.001    0.000    0.011    0.000 fromnumeric.py:588(transpose)\n",
       "     1001    0.001    0.000    0.002    0.000 _polyint.py:96(_finish_y)\n",
       "       31    0.001    0.000    0.001    0.000 take.py:120(_take_nd_ndarray)\n",
       "     2024    0.001    0.000    0.007    0.000 _methods.py:55(_any)\n",
       "     2431    0.001    0.000    0.001    0.000 {built-in method builtins.getattr}\n",
       "     1001    0.001    0.000    0.001    0.000 _base.py:1483(issparse)\n",
       "     6000    0.001    0.000    0.001    0.000 fromnumeric.py:2974(_prod_dispatcher)\n",
       "     3035    0.001    0.000    0.002    0.000 {built-in method numpy.asanyarray}\n",
       "     6000    0.001    0.000    0.001    0.000 {method 'items' of 'dict' objects}\n",
       "     1000    0.001    0.000    0.001    0.000 {method 'transpose' of 'numpy.ndarray' objects}\n",
       "     1001    0.001    0.000    0.001    0.000 core.py:6485(isMaskedArray)\n",
       "     3012    0.000    0.000    0.000    0.000 {method 'append' of 'list' objects}\n",
       "        1    0.000    0.000    3.501    3.501 prior.py:594(lnprior_and_transform_samples)\n",
       "     3003    0.000    0.000    0.000    0.000 shape_base.py:19(_atleast_1d_dispatcher)\n",
       "     1001    0.000    0.000    0.000    0.000 function_base.py:1457(_interp_dispatcher)\n",
       "       37    0.000    0.000    0.009    0.000 frame.py:4050(__getitem__)\n",
       "     1001    0.000    0.000    0.000    0.000 type_check.py:205(_is_type_dispatcher)\n",
       "       11    0.000    0.000    0.002    0.000 managers.py:708(_slice_take_blocks_ax0)\n",
       "       10    0.000    0.000    3.492    0.349 function_base.py:2337(_call_as_normal)\n",
       "     1000    0.000    0.000    0.000    0.000 fromnumeric.py:584(_transpose_dispatcher)\n",
       "       19    0.000    0.000    0.001    0.000 base.py:475(__new__)\n",
       "       16    0.000    0.000    0.000    0.000 cast.py:1157(maybe_infer_to_datetimelike)\n",
       "       16    0.000    0.000    0.000    0.000 base.py:3955(_get_indexer)\n",
       "       27    0.000    0.000    0.001    0.000 common.py:231(asarray_tuplesafe)\n",
       "      100    0.000    0.000    0.001    0.000 base.py:5437(_can_hold_identifiers_and_holds_name)\n",
       "       17    0.000    0.000    0.000    0.000 base.py:2744(inferred_type)\n",
       "       19    0.000    0.000    0.001    0.000 construction.py:517(sanitize_array)\n",
       "      100    0.000    0.000    0.001    0.000 generic.py:6281(__getattr__)\n",
       "       44    0.000    0.000    0.000    0.000 base.py:649(_simple_new)\n",
       "       22    0.000    0.000    0.002    0.000 base.py:3820(get_indexer)\n",
       "       37    0.000    0.000    0.000    0.000 generic.py:6233(__finalize__)\n",
       "       25    0.000    0.000    0.000    0.000 managers.py:1012(iget)\n",
       "       11    0.000    0.000    0.004    0.000 base.py:6186(_get_indexer_strict)\n",
       "       11    0.000    0.000    0.000    0.000 base.py:842(_engine)\n",
       "       11    0.000    0.000    0.000    0.000 utils.py:239(maybe_convert_indices)\n",
       "      112    0.000    0.000    0.000    0.000 generic.py:6298(__setattr__)\n",
       "       11    0.000    0.000    0.003    0.000 generic.py:4024(take)\n",
       "       37    0.000    0.000    0.000    0.000 generic.py:278(__init__)\n",
       "       22    0.000    0.000    0.000    0.000 base.py:1146(take)\n",
       "      135    0.000    0.000    0.000    0.000 common.py:1434(_is_dtype_type)\n",
       "      100    0.000    0.000    0.000    0.000 common.py:572(condition)\n",
       "       25    0.000    0.000    0.001    0.000 frame.py:4614(_get_item_cache)\n",
       "      116    0.000    0.000    0.000    0.000 common.py:137(is_object_dtype)\n",
       "       31    0.000    0.000    0.000    0.000 base.py:82(shape)\n",
       "      253    0.000    0.000    0.000    0.000 generic.py:42(_instancecheck)\n",
       "       16    0.000    0.000    0.000    0.000 numeric.py:274(full)\n",
       "      253    0.000    0.000    0.000    0.000 generic.py:37(_check)\n",
       "      116    0.000    0.000    0.000    0.000 common.py:1375(_is_dtype)\n",
       "       11    0.000    0.000    0.000    0.000 base.py:6219(_raise_if_missing)\n",
       "       10    0.000    0.000    0.000    0.000 function_base.py:2285(__init__)\n",
       "       27    0.000    0.000    0.000    0.000 warnings.py:458(__enter__)\n",
       "       25    0.000    0.000    0.001    0.000 frame.py:3971(_ixs)\n",
       "       11    0.000    0.000    0.002    0.000 managers.py:623(reindex_indexer)\n",
       "       36    0.000    0.000    0.000    0.000 managers.py:180(blknos)\n",
       "       11    0.000    0.000    0.001    0.000 base.py:4323(reindex)\n",
       "       11    0.000    0.000    0.003    0.000 generic.py:4139(_take_with_is_copy)\n",
       "        7    0.000    0.000    0.007    0.001 function_base.py:2374(_get_ufunc_and_otypes)\n",
       "        8    0.000    0.000    0.000    0.000 base.py:2313(is_unique)\n",
       "       11    0.000    0.000    0.002    0.000 managers.py:869(take)\n",
       "      100    0.000    0.000    0.000    0.000 common.py:536(is_string_dtype)\n",
       "       50    0.000    0.000    0.001    0.000 series.py:974(__array__)\n",
       "       31    0.000    0.000    0.001    0.000 take.py:59(take_nd)\n",
       "       53    0.000    0.000    0.000    0.000 base.py:5373(__getitem__)\n",
       "       25    0.000    0.000    0.000    0.000 frame.py:4596(_box_col_values)\n",
       "       30    0.000    0.000    0.002    0.000 base.py:7593(ensure_index)\n",
       "        7    0.000    0.000    0.000    0.000 {built-in method numpy.frompyfunc}\n",
       "       27    0.000    0.000    0.000    0.000 base.py:5170(_get_engine_target)\n",
       "       22    0.000    0.000    0.000    0.000 cast.py:551(maybe_promote)\n",
       "       19    0.000    0.000    0.000    0.000 common.py:1081(is_numeric_dtype)\n",
       "        1    0.000    0.000    3.502    3.502 {built-in method builtins.exec}\n",
       "       17    0.000    0.000    0.000    0.000 _dtype.py:346(_name_get)\n",
       "       47    0.000    0.000    0.000    0.000 {built-in method numpy.empty}\n",
       "       38    0.000    0.000    0.000    0.000 base.py:5552(equals)\n",
       "       22    0.000    0.000    0.000    0.000 algorithms.py:1131(take)\n",
       "       11    0.000    0.000    0.000    0.000 base.py:836(__iter__)\n",
       "       16    0.000    0.000    0.000    0.000 base.py:6394(_should_compare)\n",
       "      207    0.000    0.000    0.000    0.000 {built-in method builtins.hasattr}\n",
       "      140    0.000    0.000    0.000    0.000 base.py:909(__len__)\n",
       "       37    0.000    0.000    0.000    0.000 indexing.py:2765(check_dict_or_set_indexers)\n",
       "       11    0.000    0.000    0.000    0.000 common.py:97(is_bool_indexer)\n",
       "       55    0.000    0.000    0.000    0.000 base.py:6312(_index_as_unique)\n",
       "       37    0.000    0.000    0.000    0.000 generic.py:339(_from_mgr)\n",
       "      110    0.000    0.000    0.000    0.000 generic.py:666(_info_axis)\n",
       "      120    0.000    0.000    0.000    0.000 __init__.py:34(using_copy_on_write)\n",
       "        1    0.000    0.000    0.000    0.000 generic.py:4358(_slice)\n",
       "       25    0.000    0.000    0.000    0.000 base.py:5323(__contains__)\n",
       "       38    0.000    0.000    0.000    0.000 common.py:1331(is_ea_or_datetimelike_dtype)\n",
       "       56    0.000    0.000    0.000    0.000 inference.py:334(is_hashable)\n",
       "        9    0.000    0.000    0.001    0.000 blocks.py:1287(take_nd)\n",
       "      100    0.000    0.000    0.000    0.000 common.py:529(is_string_or_object_np_dtype)\n",
       "       27    0.000    0.000    0.000    0.000 warnings.py:437(__init__)\n",
       "       25    0.000    0.000    0.000    0.000 frame.py:672(_constructor_sliced_from_mgr)\n",
       "       31    0.000    0.000    0.000    0.000 take.py:564(_take_preprocess_indexer_and_fill_value)\n",
       "      116    0.000    0.000    0.000    0.000 common.py:1399(_get_dtype)\n",
       "       65    0.000    0.000    0.000    0.000 {built-in method _abc._abc_instancecheck}\n",
       "       10    0.000    0.000    3.492    0.349 function_base.py:2367(__call__)\n",
       "       16    0.000    0.000    0.000    0.000 base.py:6324(_maybe_downcast_for_indexing)\n",
       "       22    0.000    0.000    0.000    0.000 {method 'take' of 'numpy.ndarray' objects}\n",
       "       37    0.000    0.000    0.000    0.000 flags.py:87(allows_duplicate_labels)\n",
       "      301    0.000    0.000    0.000    0.000 range.py:376(dtype)\n",
       "       50    0.000    0.000    0.000    0.000 managers.py:2002(internal_values)\n",
       "       22    0.000    0.000    0.000    0.000 base.py:3996(_check_indexing_method)\n",
       "       11    0.000    0.000    0.002    0.000 base.py:6162(get_indexer_for)\n",
       "       12    0.000    0.000    0.000    0.000 frame.py:659(_constructor_from_mgr)\n",
       "       37    0.000    0.000    0.000    0.000 flags.py:51(__init__)\n",
       "      116    0.000    0.000    0.000    0.000 common.py:123(<lambda>)\n",
       "        9    0.000    0.000    0.000    0.000 blocks.py:292(make_block_same_class)\n",
       "       25    0.000    0.000    0.000    0.000 base.py:3777(get_loc)\n",
       "       81    0.000    0.000    0.000    0.000 {built-in method builtins.hash}\n",
       "        1    0.000    0.000    3.502    3.502 <string>:1(<module>)\n",
       "       45    0.000    0.000    0.000    0.000 base.py:831(_reset_identity)\n",
       "       25    0.000    0.000    0.000    0.000 series.py:1462(_set_as_cached)\n",
       "       50    0.000    0.000    0.000    0.000 series.py:827(_values)\n",
       "       19    0.000    0.000    0.000    0.000 base.py:591(_ensure_array)\n",
       "       11    0.000    0.000    0.000    0.000 managers.py:948(from_blocks)\n",
       "       38    0.000    0.000    0.000    0.000 base.py:791(is_)\n",
       "       93    0.000    0.000    0.000    0.000 base.py:84(<genexpr>)\n",
       "      116    0.000    0.000    0.000    0.000 common.py:121(classes)\n",
       "       31    0.000    0.000    0.000    0.000 take.py:325(_get_take_nd_function)\n",
       "       11    0.000    0.000    0.000    0.000 base.py:456(_engine_type)\n",
       "       11    0.000    0.000    0.000    0.000 base.py:4440(_maybe_preserve_names)\n",
       "       27    0.000    0.000    0.000    0.000 warnings.py:477(__exit__)\n",
       "      137    0.000    0.000    0.000    0.000 base.py:5144(_values)\n",
       "       10    0.000    0.000    0.000    0.000 prior.py:131(sampled_params)\n",
       "       82    0.000    0.000    0.000    0.000 {built-in method __new__ of type object at 0x55c4cc8aa380}\n",
       "       16    0.000    0.000    0.000    0.000 base.py:7723(_unpack_nested_dtype)\n",
       "       22    0.000    0.000    0.000    0.000 generic.py:585(_get_axis)\n",
       "       19    0.000    0.000    0.000    0.000 construction.py:693(_sanitize_ndim)\n",
       "        7    0.000    0.000    0.000    0.000 function_base.py:2409(<listcomp>)\n",
       "       65    0.000    0.000    0.000    0.000 abc.py:117(__instancecheck__)\n",
       "       11    0.000    0.000    0.000    0.000 managers.py:2318(_preprocess_slice_or_indexer)\n",
       "       19    0.000    0.000    0.000    0.000 base.py:7688(maybe_extract_name)\n",
       "       25    0.000    0.000    0.000    0.000 frame.py:669(_sliced_from_mgr)\n",
       "       37    0.000    0.000    0.000    0.000 common.py:372(apply_if_callable)\n",
       "       12    0.000    0.000    0.000    0.000 generic.py:591(_get_block_manager_axis)\n",
       "       22    0.000    0.000    0.001    0.000 base.py:6679(_maybe_cast_listlike_indexer)\n",
       "       16    0.000    0.000    0.000    0.000 base.py:6415(_is_comparable_dtype)\n",
       "       12    0.000    0.000    0.000    0.000 generic.py:4376(_set_is_copy)\n",
       "       10    0.000    0.000    0.000    0.000 function_base.py:348(iterable)\n",
       "       10    0.000    0.000    0.000    0.000 utils.py:32(__get__)\n",
       "       50    0.000    0.000    0.000    0.000 common.py:152(cast_scalar_indexer)\n",
       "       19    0.000    0.000    0.000    0.000 base.py:609(_dtype_to_subclass)\n",
       "       25    0.000    0.000    0.000    0.000 blocks.py:1253(iget)\n",
       "       16    0.000    0.000    0.000    0.000 __init__.py:55(using_pyarrow_string_dtype)\n",
       "       34    0.000    0.000    0.000    0.000 generic.py:571(_get_axis_number)\n",
       "       31    0.000    0.000    0.000    0.000 range.py:999(__len__)\n",
       "       25    0.000    0.000    0.000    0.000 managers.py:1835(__init__)\n",
       "       19    0.000    0.000    0.000    0.000 construction.py:416(extract_array)\n",
       "       19    0.000    0.000    0.000    0.000 construction.py:481(ensure_wrapped_if_datetimelike)\n",
       "        1    0.000    0.000    0.000    0.000 generic.py:4339(_getitem_slice)\n",
       "       74    0.000    0.000    0.000    0.000 generic.py:404(flags)\n",
       "       22    0.000    0.000    0.000    0.000 inference.py:195(is_array_like)\n",
       "        8    0.000    0.000    0.000    0.000 {method 'sum' of 'numpy.ndarray' objects}\n",
       "        3    0.000    0.000    0.000    0.000 base.py:5425(_getitem_slice)\n",
       "       19    0.000    0.000    0.000    0.000 construction.py:732(_sanitize_str_dtypes)\n",
       "       36    0.000    0.000    0.000    0.000 managers.py:196(blklocs)\n",
       "       11    0.000    0.000    0.000    0.000 common.py:1040(needs_i8_conversion)\n",
       "        7    0.000    0.000    0.001    0.000 function_base.py:2453(<listcomp>)\n",
       "       36    0.000    0.000    0.000    0.000 {method 'get' of 'dict' objects}\n",
       "       17    0.000    0.000    0.000    0.000 _dtype.py:24(_kind_name)\n",
       "       10    0.000    0.000    0.000    0.000 generic.py:2034(keys)\n",
       "       25    0.000    0.000    0.000    0.000 __init__.py:42(warn_copy_on_write)\n",
       "       10    0.000    0.000    0.000    0.000 {built-in method builtins.iter}\n",
       "       11    0.000    0.000    0.000    0.000 base.py:4436(_wrap_reindex_result)\n",
       "        9    0.000    0.000    0.000    0.000 {method 'max' of 'numpy.ndarray' objects}\n",
       "        7    0.000    0.000    0.000    0.000 function_base.py:2433(<listcomp>)\n",
       "       19    0.000    0.000    0.000    0.000 common.py:126(_classes_and_not_datetimelike)\n",
       "       19    0.000    0.000    0.000    0.000 common.py:131(<lambda>)\n",
       "       38    0.000    0.000    0.000    0.000 base.py:974(dtype)\n",
       "       37    0.000    0.000    0.000    0.000 generic.py:362(attrs)\n",
       "       54    0.000    0.000    0.000    0.000 {built-in method _warnings._filters_mutated}\n",
       "        8    0.000    0.000    0.000    0.000 _methods.py:47(_sum)\n",
       "        1    0.000    0.000    0.000    0.000 base.py:4201(_convert_slice_indexer)\n",
       "       37    0.000    0.000    0.000    0.000 flags.py:55(allows_duplicate_labels)\n",
       "        9    0.000    0.000    0.000    0.000 {built-in method builtins.max}\n",
       "       11    0.000    0.000    0.000    0.000 managers.py:241(is_single_block)\n",
       "        7    0.000    0.000    0.001    0.000 function_base.py:2404(<listcomp>)\n",
       "        3    0.000    0.000    0.000    0.000 blocks.py:253(fill_value)\n",
       "       44    0.000    0.000    0.000    0.000 base.py:1671(name)\n",
       "        7    0.000    0.000    0.000    0.000 {built-in method builtins.any}\n",
       "        1    0.000    0.000    0.000    0.000 range.py:201(_simple_new)\n",
       "       17    0.000    0.000    0.000    0.000 _dtype.py:330(_name_includes_bit_suffix)\n",
       "       32    0.000    0.000    0.000    0.000 function_base.py:2405(<genexpr>)\n",
       "        3    0.000    0.000    0.000    0.000 missing.py:673(na_value_for_dtype)\n",
       "       47    0.000    0.000    0.000    0.000 {built-in method builtins.callable}\n",
       "       17    0.000    0.000    0.000    0.000 base.py:2776(_is_multi)\n",
       "        1    0.000    0.000    0.000    0.000 range.py:1032(_getitem_slice)\n",
       "       25    0.000    0.000    0.000    0.000 managers.py:1938(_block)\n",
       "        6    0.000    0.000    0.000    0.000 {built-in method numpy.array}\n",
       "        9    0.000    0.000    0.000    0.000 _methods.py:39(_amax)\n",
       "       12    0.000    0.000    0.000    0.000 frame.py:655(_constructor)\n",
       "       11    0.000    0.000    0.000    0.000 base.py:7652(ensure_has_len)\n",
       "       22    0.000    0.000    0.000    0.000 missing.py:1073(clean_reindex_fill_method)\n",
       "       16    0.000    0.000    0.000    0.000 common.py:1122(<lambda>)\n",
       "       22    0.000    0.000    0.000    0.000 base.py:1176(_maybe_disallow_fill)\n",
       "       11    0.000    0.000    0.000    0.000 function.py:64(__call__)\n",
       "       16    0.000    0.000    0.000    0.000 multiarray.py:1080(copyto)\n",
       "        7    0.000    0.000    0.000    0.000 function_base.py:2352(<listcomp>)\n",
       "       30    0.000    0.000    0.000    0.000 typing.py:1375(cast)\n",
       "       19    0.000    0.000    0.000    0.000 construction.py:752(_maybe_repeat)\n",
       "        3    0.000    0.000    0.000    0.000 blocks.py:214(is_extension)\n",
       "       11    0.000    0.000    0.000    0.000 generic.py:695(ndim)\n",
       "        3    0.000    0.000    0.000    0.000 blocks.py:219(_can_consolidate)\n",
       "       25    0.000    0.000    0.000    0.000 base.py:6672(_maybe_cast_indexer)\n",
       "       12    0.000    0.000    0.000    0.000 managers.py:913(__init__)\n",
       "        7    0.000    0.000    0.000    0.000 function_base.py:2363(<listcomp>)\n",
       "        1    0.000    0.000    0.000    0.000 utils.py:38(is_valid_positional_slice)\n",
       "       11    0.000    0.000    0.000    0.000 base.py:1979(nlevels)\n",
       "        7    0.000    0.000    0.000    0.000 function_base.py:2353(<listcomp>)\n",
       "        7    0.000    0.000    0.000    0.000 {method 'join' of 'str' objects}\n",
       "        7    0.000    0.000    0.000    0.000 {method 'extend' of 'list' objects}\n",
       "        7    0.000    0.000    0.000    0.000 function_base.py:2362(<listcomp>)\n",
       "        1    0.000    0.000    0.000    0.000 base.py:2794(_na_value)\n",
       "        3    0.000    0.000    0.000    0.000 blocks.py:718(dtype)\n",
       "        1    0.000    0.000    0.000    0.000 {method 'disable' of '_lsprof.Profiler' objects}\n",
       "        3    0.000    0.000    0.000    0.000 prior.py:780(lnprior)\n",
       "        1    0.000    0.000    0.000    0.000 base.py:692(_constructor)"
      ]
     },
     "metadata": {},
     "output_type": "display_data"
    }
   ],
   "source": [
    "%%prun\n",
    "zz2 = likelihood_object.injection_population_model.lnprior_and_transform_samples(mydf[0:1000], force_update=False)"
   ]
  },
  {
   "cell_type": "code",
   "execution_count": null,
   "id": "b0b876d4-97c2-42d7-bf17-6e1d9ca4372f",
   "metadata": {},
   "outputs": [],
   "source": [
    "zz2 = likelihood_object.injection_population_model.lnprior_and_transform_samples(mydf[0:1000], force_update=False)"
   ]
  },
  {
   "cell_type": "code",
   "execution_count": 26,
   "id": "c3ed4064-3fcd-43bb-a224-faed58b8812b",
   "metadata": {},
   "outputs": [],
   "source": [
    "import lal \n",
    "from cogwheel import gw_utils\n",
    "ref_det_loc = gw_utils.DETECTORS['H'].location"
   ]
  },
  {
   "cell_type": "code",
   "execution_count": 27,
   "id": "45d535a2-886b-432c-b254-5e2fe95dc2b9",
   "metadata": {},
   "outputs": [
    {
     "data": {
      "text/plain": [
       "array([  500,  1000,  1500,  2000,  2500,  3000,  3500,  4000,\n",
       "        4500,  5000,  5500,  6000,  6500,  7000,  7500,  8000,\n",
       "        8500,  9000,  9500, 10000, 10500, 11000, 11500, 12000,\n",
       "       12500, 13000, 13500, 14000, 14500, 15000, 15500, 16000,\n",
       "       16500, 17000, 17500, 18000, 18500, 19000, 19500, 20000])"
      ]
     },
     "execution_count": 27,
     "metadata": {},
     "output_type": "execute_result"
    }
   ],
   "source": [
    "length_arr = np.arange(500, 20000+1, 500)\n",
    "length_arr"
   ]
  },
  {
   "cell_type": "code",
   "execution_count": 37,
   "id": "27728617-f299-4da6-9dea-4117f65a19b3",
   "metadata": {
    "scrolled": true
   },
   "outputs": [
    {
     "name": "stderr",
     "output_type": "stream",
     "text": [
      "/home/isha/PopulationSelectionEffects/cogwheel_population_inference/cogwheel/cogwheel/population_inference/population_models.py:245: SettingWithCopyWarning: \n",
      "A value is trying to be set on a copy of a slice from a DataFrame.\n",
      "Try using .loc[row_indexer,col_indexer] = value instead\n",
      "\n",
      "See the caveats in the documentation: https://pandas.pydata.org/pandas-docs/stable/user_guide/indexing.html#returning-a-view-versus-a-copy\n",
      "  direct[key] = val\n",
      "/home/isha/PopulationSelectionEffects/cogwheel_population_inference/cogwheel/cogwheel/population_inference/population_models.py:245: SettingWithCopyWarning: \n",
      "A value is trying to be set on a copy of a slice from a DataFrame.\n",
      "Try using .loc[row_indexer,col_indexer] = value instead\n",
      "\n",
      "See the caveats in the documentation: https://pandas.pydata.org/pandas-docs/stable/user_guide/indexing.html#returning-a-view-versus-a-copy\n",
      "  direct[key] = val\n",
      "/home/isha/PopulationSelectionEffects/cogwheel_population_inference/cogwheel/cogwheel/population_inference/population_models.py:245: SettingWithCopyWarning: \n",
      "A value is trying to be set on a copy of a slice from a DataFrame.\n",
      "Try using .loc[row_indexer,col_indexer] = value instead\n",
      "\n",
      "See the caveats in the documentation: https://pandas.pydata.org/pandas-docs/stable/user_guide/indexing.html#returning-a-view-versus-a-copy\n",
      "  direct[key] = val\n",
      "/home/isha/PopulationSelectionEffects/cogwheel_population_inference/cogwheel/cogwheel/population_inference/population_models.py:245: SettingWithCopyWarning: \n",
      "A value is trying to be set on a copy of a slice from a DataFrame.\n",
      "Try using .loc[row_indexer,col_indexer] = value instead\n",
      "\n",
      "See the caveats in the documentation: https://pandas.pydata.org/pandas-docs/stable/user_guide/indexing.html#returning-a-view-versus-a-copy\n",
      "  direct[key] = val\n",
      "/home/isha/PopulationSelectionEffects/cogwheel_population_inference/cogwheel/cogwheel/population_inference/population_models.py:245: SettingWithCopyWarning: \n",
      "A value is trying to be set on a copy of a slice from a DataFrame.\n",
      "Try using .loc[row_indexer,col_indexer] = value instead\n",
      "\n",
      "See the caveats in the documentation: https://pandas.pydata.org/pandas-docs/stable/user_guide/indexing.html#returning-a-view-versus-a-copy\n",
      "  direct[key] = val\n",
      "/home/isha/PopulationSelectionEffects/cogwheel_population_inference/cogwheel/cogwheel/population_inference/population_models.py:245: SettingWithCopyWarning: \n",
      "A value is trying to be set on a copy of a slice from a DataFrame.\n",
      "Try using .loc[row_indexer,col_indexer] = value instead\n",
      "\n",
      "See the caveats in the documentation: https://pandas.pydata.org/pandas-docs/stable/user_guide/indexing.html#returning-a-view-versus-a-copy\n",
      "  direct[key] = val\n",
      "/home/isha/PopulationSelectionEffects/cogwheel_population_inference/cogwheel/cogwheel/population_inference/population_models.py:245: SettingWithCopyWarning: \n",
      "A value is trying to be set on a copy of a slice from a DataFrame.\n",
      "Try using .loc[row_indexer,col_indexer] = value instead\n",
      "\n",
      "See the caveats in the documentation: https://pandas.pydata.org/pandas-docs/stable/user_guide/indexing.html#returning-a-view-versus-a-copy\n",
      "  direct[key] = val\n",
      "/home/isha/PopulationSelectionEffects/cogwheel_population_inference/cogwheel/cogwheel/population_inference/population_models.py:245: SettingWithCopyWarning: \n",
      "A value is trying to be set on a copy of a slice from a DataFrame.\n",
      "Try using .loc[row_indexer,col_indexer] = value instead\n",
      "\n",
      "See the caveats in the documentation: https://pandas.pydata.org/pandas-docs/stable/user_guide/indexing.html#returning-a-view-versus-a-copy\n",
      "  direct[key] = val\n",
      "/home/isha/PopulationSelectionEffects/cogwheel_population_inference/cogwheel/cogwheel/population_inference/population_models.py:245: SettingWithCopyWarning: \n",
      "A value is trying to be set on a copy of a slice from a DataFrame.\n",
      "Try using .loc[row_indexer,col_indexer] = value instead\n",
      "\n",
      "See the caveats in the documentation: https://pandas.pydata.org/pandas-docs/stable/user_guide/indexing.html#returning-a-view-versus-a-copy\n",
      "  direct[key] = val\n",
      "/home/isha/PopulationSelectionEffects/cogwheel_population_inference/cogwheel/cogwheel/population_inference/population_models.py:245: SettingWithCopyWarning: \n",
      "A value is trying to be set on a copy of a slice from a DataFrame.\n",
      "Try using .loc[row_indexer,col_indexer] = value instead\n",
      "\n",
      "See the caveats in the documentation: https://pandas.pydata.org/pandas-docs/stable/user_guide/indexing.html#returning-a-view-versus-a-copy\n",
      "  direct[key] = val\n",
      "/home/isha/PopulationSelectionEffects/cogwheel_population_inference/cogwheel/cogwheel/population_inference/population_models.py:245: SettingWithCopyWarning: \n",
      "A value is trying to be set on a copy of a slice from a DataFrame.\n",
      "Try using .loc[row_indexer,col_indexer] = value instead\n",
      "\n",
      "See the caveats in the documentation: https://pandas.pydata.org/pandas-docs/stable/user_guide/indexing.html#returning-a-view-versus-a-copy\n",
      "  direct[key] = val\n",
      "/home/isha/PopulationSelectionEffects/cogwheel_population_inference/cogwheel/cogwheel/population_inference/population_models.py:245: SettingWithCopyWarning: \n",
      "A value is trying to be set on a copy of a slice from a DataFrame.\n",
      "Try using .loc[row_indexer,col_indexer] = value instead\n",
      "\n",
      "See the caveats in the documentation: https://pandas.pydata.org/pandas-docs/stable/user_guide/indexing.html#returning-a-view-versus-a-copy\n",
      "  direct[key] = val\n",
      "/home/isha/PopulationSelectionEffects/cogwheel_population_inference/cogwheel/cogwheel/population_inference/population_models.py:245: SettingWithCopyWarning: \n",
      "A value is trying to be set on a copy of a slice from a DataFrame.\n",
      "Try using .loc[row_indexer,col_indexer] = value instead\n",
      "\n",
      "See the caveats in the documentation: https://pandas.pydata.org/pandas-docs/stable/user_guide/indexing.html#returning-a-view-versus-a-copy\n",
      "  direct[key] = val\n",
      "/home/isha/PopulationSelectionEffects/cogwheel_population_inference/cogwheel/cogwheel/population_inference/population_models.py:245: SettingWithCopyWarning: \n",
      "A value is trying to be set on a copy of a slice from a DataFrame.\n",
      "Try using .loc[row_indexer,col_indexer] = value instead\n",
      "\n",
      "See the caveats in the documentation: https://pandas.pydata.org/pandas-docs/stable/user_guide/indexing.html#returning-a-view-versus-a-copy\n",
      "  direct[key] = val\n",
      "/home/isha/PopulationSelectionEffects/cogwheel_population_inference/cogwheel/cogwheel/population_inference/population_models.py:245: SettingWithCopyWarning: \n",
      "A value is trying to be set on a copy of a slice from a DataFrame.\n",
      "Try using .loc[row_indexer,col_indexer] = value instead\n",
      "\n",
      "See the caveats in the documentation: https://pandas.pydata.org/pandas-docs/stable/user_guide/indexing.html#returning-a-view-versus-a-copy\n",
      "  direct[key] = val\n",
      "/home/isha/PopulationSelectionEffects/cogwheel_population_inference/cogwheel/cogwheel/population_inference/population_models.py:245: SettingWithCopyWarning: \n",
      "A value is trying to be set on a copy of a slice from a DataFrame.\n",
      "Try using .loc[row_indexer,col_indexer] = value instead\n",
      "\n",
      "See the caveats in the documentation: https://pandas.pydata.org/pandas-docs/stable/user_guide/indexing.html#returning-a-view-versus-a-copy\n",
      "  direct[key] = val\n",
      "/home/isha/PopulationSelectionEffects/cogwheel_population_inference/cogwheel/cogwheel/population_inference/population_models.py:245: SettingWithCopyWarning: \n",
      "A value is trying to be set on a copy of a slice from a DataFrame.\n",
      "Try using .loc[row_indexer,col_indexer] = value instead\n",
      "\n",
      "See the caveats in the documentation: https://pandas.pydata.org/pandas-docs/stable/user_guide/indexing.html#returning-a-view-versus-a-copy\n",
      "  direct[key] = val\n",
      "/home/isha/PopulationSelectionEffects/cogwheel_population_inference/cogwheel/cogwheel/population_inference/population_models.py:245: SettingWithCopyWarning: \n",
      "A value is trying to be set on a copy of a slice from a DataFrame.\n",
      "Try using .loc[row_indexer,col_indexer] = value instead\n",
      "\n",
      "See the caveats in the documentation: https://pandas.pydata.org/pandas-docs/stable/user_guide/indexing.html#returning-a-view-versus-a-copy\n",
      "  direct[key] = val\n",
      "/home/isha/PopulationSelectionEffects/cogwheel_population_inference/cogwheel/cogwheel/population_inference/population_models.py:245: SettingWithCopyWarning: \n",
      "A value is trying to be set on a copy of a slice from a DataFrame.\n",
      "Try using .loc[row_indexer,col_indexer] = value instead\n",
      "\n",
      "See the caveats in the documentation: https://pandas.pydata.org/pandas-docs/stable/user_guide/indexing.html#returning-a-view-versus-a-copy\n",
      "  direct[key] = val\n",
      "/home/isha/PopulationSelectionEffects/cogwheel_population_inference/cogwheel/cogwheel/population_inference/population_models.py:245: SettingWithCopyWarning: \n",
      "A value is trying to be set on a copy of a slice from a DataFrame.\n",
      "Try using .loc[row_indexer,col_indexer] = value instead\n",
      "\n",
      "See the caveats in the documentation: https://pandas.pydata.org/pandas-docs/stable/user_guide/indexing.html#returning-a-view-versus-a-copy\n",
      "  direct[key] = val\n",
      "/home/isha/PopulationSelectionEffects/cogwheel_population_inference/cogwheel/cogwheel/population_inference/population_models.py:245: SettingWithCopyWarning: \n",
      "A value is trying to be set on a copy of a slice from a DataFrame.\n",
      "Try using .loc[row_indexer,col_indexer] = value instead\n",
      "\n",
      "See the caveats in the documentation: https://pandas.pydata.org/pandas-docs/stable/user_guide/indexing.html#returning-a-view-versus-a-copy\n",
      "  direct[key] = val\n",
      "/home/isha/PopulationSelectionEffects/cogwheel_population_inference/cogwheel/cogwheel/population_inference/population_models.py:245: SettingWithCopyWarning: \n",
      "A value is trying to be set on a copy of a slice from a DataFrame.\n",
      "Try using .loc[row_indexer,col_indexer] = value instead\n",
      "\n",
      "See the caveats in the documentation: https://pandas.pydata.org/pandas-docs/stable/user_guide/indexing.html#returning-a-view-versus-a-copy\n",
      "  direct[key] = val\n",
      "/home/isha/PopulationSelectionEffects/cogwheel_population_inference/cogwheel/cogwheel/population_inference/population_models.py:245: SettingWithCopyWarning: \n",
      "A value is trying to be set on a copy of a slice from a DataFrame.\n",
      "Try using .loc[row_indexer,col_indexer] = value instead\n",
      "\n",
      "See the caveats in the documentation: https://pandas.pydata.org/pandas-docs/stable/user_guide/indexing.html#returning-a-view-versus-a-copy\n",
      "  direct[key] = val\n",
      "/home/isha/PopulationSelectionEffects/cogwheel_population_inference/cogwheel/cogwheel/population_inference/population_models.py:245: SettingWithCopyWarning: \n",
      "A value is trying to be set on a copy of a slice from a DataFrame.\n",
      "Try using .loc[row_indexer,col_indexer] = value instead\n",
      "\n",
      "See the caveats in the documentation: https://pandas.pydata.org/pandas-docs/stable/user_guide/indexing.html#returning-a-view-versus-a-copy\n",
      "  direct[key] = val\n",
      "/home/isha/PopulationSelectionEffects/cogwheel_population_inference/cogwheel/cogwheel/population_inference/population_models.py:245: SettingWithCopyWarning: \n",
      "A value is trying to be set on a copy of a slice from a DataFrame.\n",
      "Try using .loc[row_indexer,col_indexer] = value instead\n",
      "\n",
      "See the caveats in the documentation: https://pandas.pydata.org/pandas-docs/stable/user_guide/indexing.html#returning-a-view-versus-a-copy\n",
      "  direct[key] = val\n",
      "/home/isha/PopulationSelectionEffects/cogwheel_population_inference/cogwheel/cogwheel/population_inference/population_models.py:245: SettingWithCopyWarning: \n",
      "A value is trying to be set on a copy of a slice from a DataFrame.\n",
      "Try using .loc[row_indexer,col_indexer] = value instead\n",
      "\n",
      "See the caveats in the documentation: https://pandas.pydata.org/pandas-docs/stable/user_guide/indexing.html#returning-a-view-versus-a-copy\n",
      "  direct[key] = val\n",
      "/home/isha/PopulationSelectionEffects/cogwheel_population_inference/cogwheel/cogwheel/population_inference/population_models.py:245: SettingWithCopyWarning: \n",
      "A value is trying to be set on a copy of a slice from a DataFrame.\n",
      "Try using .loc[row_indexer,col_indexer] = value instead\n",
      "\n",
      "See the caveats in the documentation: https://pandas.pydata.org/pandas-docs/stable/user_guide/indexing.html#returning-a-view-versus-a-copy\n",
      "  direct[key] = val\n",
      "/home/isha/PopulationSelectionEffects/cogwheel_population_inference/cogwheel/cogwheel/population_inference/population_models.py:245: SettingWithCopyWarning: \n",
      "A value is trying to be set on a copy of a slice from a DataFrame.\n",
      "Try using .loc[row_indexer,col_indexer] = value instead\n",
      "\n",
      "See the caveats in the documentation: https://pandas.pydata.org/pandas-docs/stable/user_guide/indexing.html#returning-a-view-versus-a-copy\n",
      "  direct[key] = val\n",
      "/home/isha/PopulationSelectionEffects/cogwheel_population_inference/cogwheel/cogwheel/population_inference/population_models.py:245: SettingWithCopyWarning: \n",
      "A value is trying to be set on a copy of a slice from a DataFrame.\n",
      "Try using .loc[row_indexer,col_indexer] = value instead\n",
      "\n",
      "See the caveats in the documentation: https://pandas.pydata.org/pandas-docs/stable/user_guide/indexing.html#returning-a-view-versus-a-copy\n",
      "  direct[key] = val\n",
      "/home/isha/PopulationSelectionEffects/cogwheel_population_inference/cogwheel/cogwheel/population_inference/population_models.py:245: SettingWithCopyWarning: \n",
      "A value is trying to be set on a copy of a slice from a DataFrame.\n",
      "Try using .loc[row_indexer,col_indexer] = value instead\n",
      "\n",
      "See the caveats in the documentation: https://pandas.pydata.org/pandas-docs/stable/user_guide/indexing.html#returning-a-view-versus-a-copy\n",
      "  direct[key] = val\n",
      "/home/isha/PopulationSelectionEffects/cogwheel_population_inference/cogwheel/cogwheel/population_inference/population_models.py:245: SettingWithCopyWarning: \n",
      "A value is trying to be set on a copy of a slice from a DataFrame.\n",
      "Try using .loc[row_indexer,col_indexer] = value instead\n",
      "\n",
      "See the caveats in the documentation: https://pandas.pydata.org/pandas-docs/stable/user_guide/indexing.html#returning-a-view-versus-a-copy\n",
      "  direct[key] = val\n",
      "/home/isha/PopulationSelectionEffects/cogwheel_population_inference/cogwheel/cogwheel/population_inference/population_models.py:245: SettingWithCopyWarning: \n",
      "A value is trying to be set on a copy of a slice from a DataFrame.\n",
      "Try using .loc[row_indexer,col_indexer] = value instead\n",
      "\n",
      "See the caveats in the documentation: https://pandas.pydata.org/pandas-docs/stable/user_guide/indexing.html#returning-a-view-versus-a-copy\n",
      "  direct[key] = val\n",
      "/home/isha/PopulationSelectionEffects/cogwheel_population_inference/cogwheel/cogwheel/population_inference/population_models.py:245: SettingWithCopyWarning: \n",
      "A value is trying to be set on a copy of a slice from a DataFrame.\n",
      "Try using .loc[row_indexer,col_indexer] = value instead\n",
      "\n",
      "See the caveats in the documentation: https://pandas.pydata.org/pandas-docs/stable/user_guide/indexing.html#returning-a-view-versus-a-copy\n",
      "  direct[key] = val\n",
      "/home/isha/PopulationSelectionEffects/cogwheel_population_inference/cogwheel/cogwheel/population_inference/population_models.py:245: SettingWithCopyWarning: \n",
      "A value is trying to be set on a copy of a slice from a DataFrame.\n",
      "Try using .loc[row_indexer,col_indexer] = value instead\n",
      "\n",
      "See the caveats in the documentation: https://pandas.pydata.org/pandas-docs/stable/user_guide/indexing.html#returning-a-view-versus-a-copy\n",
      "  direct[key] = val\n",
      "/home/isha/PopulationSelectionEffects/cogwheel_population_inference/cogwheel/cogwheel/population_inference/population_models.py:245: SettingWithCopyWarning: \n",
      "A value is trying to be set on a copy of a slice from a DataFrame.\n",
      "Try using .loc[row_indexer,col_indexer] = value instead\n",
      "\n",
      "See the caveats in the documentation: https://pandas.pydata.org/pandas-docs/stable/user_guide/indexing.html#returning-a-view-versus-a-copy\n",
      "  direct[key] = val\n",
      "/home/isha/PopulationSelectionEffects/cogwheel_population_inference/cogwheel/cogwheel/population_inference/population_models.py:245: SettingWithCopyWarning: \n",
      "A value is trying to be set on a copy of a slice from a DataFrame.\n",
      "Try using .loc[row_indexer,col_indexer] = value instead\n",
      "\n",
      "See the caveats in the documentation: https://pandas.pydata.org/pandas-docs/stable/user_guide/indexing.html#returning-a-view-versus-a-copy\n",
      "  direct[key] = val\n",
      "/home/isha/PopulationSelectionEffects/cogwheel_population_inference/cogwheel/cogwheel/population_inference/population_models.py:245: SettingWithCopyWarning: \n",
      "A value is trying to be set on a copy of a slice from a DataFrame.\n",
      "Try using .loc[row_indexer,col_indexer] = value instead\n",
      "\n",
      "See the caveats in the documentation: https://pandas.pydata.org/pandas-docs/stable/user_guide/indexing.html#returning-a-view-versus-a-copy\n",
      "  direct[key] = val\n",
      "/home/isha/PopulationSelectionEffects/cogwheel_population_inference/cogwheel/cogwheel/population_inference/population_models.py:245: SettingWithCopyWarning: \n",
      "A value is trying to be set on a copy of a slice from a DataFrame.\n",
      "Try using .loc[row_indexer,col_indexer] = value instead\n",
      "\n",
      "See the caveats in the documentation: https://pandas.pydata.org/pandas-docs/stable/user_guide/indexing.html#returning-a-view-versus-a-copy\n",
      "  direct[key] = val\n",
      "/home/isha/PopulationSelectionEffects/cogwheel_population_inference/cogwheel/cogwheel/population_inference/population_models.py:245: SettingWithCopyWarning: \n",
      "A value is trying to be set on a copy of a slice from a DataFrame.\n",
      "Try using .loc[row_indexer,col_indexer] = value instead\n",
      "\n",
      "See the caveats in the documentation: https://pandas.pydata.org/pandas-docs/stable/user_guide/indexing.html#returning-a-view-versus-a-copy\n",
      "  direct[key] = val\n",
      "/home/isha/PopulationSelectionEffects/cogwheel_population_inference/cogwheel/cogwheel/population_inference/population_models.py:245: SettingWithCopyWarning: \n",
      "A value is trying to be set on a copy of a slice from a DataFrame.\n",
      "Try using .loc[row_indexer,col_indexer] = value instead\n",
      "\n",
      "See the caveats in the documentation: https://pandas.pydata.org/pandas-docs/stable/user_guide/indexing.html#returning-a-view-versus-a-copy\n",
      "  direct[key] = val\n",
      "/home/isha/PopulationSelectionEffects/cogwheel_population_inference/cogwheel/cogwheel/population_inference/population_models.py:245: SettingWithCopyWarning: \n",
      "A value is trying to be set on a copy of a slice from a DataFrame.\n",
      "Try using .loc[row_indexer,col_indexer] = value instead\n",
      "\n",
      "See the caveats in the documentation: https://pandas.pydata.org/pandas-docs/stable/user_guide/indexing.html#returning-a-view-versus-a-copy\n",
      "  direct[key] = val\n",
      "/home/isha/PopulationSelectionEffects/cogwheel_population_inference/cogwheel/cogwheel/population_inference/population_models.py:245: SettingWithCopyWarning: \n",
      "A value is trying to be set on a copy of a slice from a DataFrame.\n",
      "Try using .loc[row_indexer,col_indexer] = value instead\n",
      "\n",
      "See the caveats in the documentation: https://pandas.pydata.org/pandas-docs/stable/user_guide/indexing.html#returning-a-view-versus-a-copy\n",
      "  direct[key] = val\n",
      "/home/isha/PopulationSelectionEffects/cogwheel_population_inference/cogwheel/cogwheel/population_inference/population_models.py:245: SettingWithCopyWarning: \n",
      "A value is trying to be set on a copy of a slice from a DataFrame.\n",
      "Try using .loc[row_indexer,col_indexer] = value instead\n",
      "\n",
      "See the caveats in the documentation: https://pandas.pydata.org/pandas-docs/stable/user_guide/indexing.html#returning-a-view-versus-a-copy\n",
      "  direct[key] = val\n",
      "/home/isha/PopulationSelectionEffects/cogwheel_population_inference/cogwheel/cogwheel/population_inference/population_models.py:245: SettingWithCopyWarning: \n",
      "A value is trying to be set on a copy of a slice from a DataFrame.\n",
      "Try using .loc[row_indexer,col_indexer] = value instead\n",
      "\n",
      "See the caveats in the documentation: https://pandas.pydata.org/pandas-docs/stable/user_guide/indexing.html#returning-a-view-versus-a-copy\n",
      "  direct[key] = val\n",
      "/home/isha/PopulationSelectionEffects/cogwheel_population_inference/cogwheel/cogwheel/population_inference/population_models.py:245: SettingWithCopyWarning: \n",
      "A value is trying to be set on a copy of a slice from a DataFrame.\n",
      "Try using .loc[row_indexer,col_indexer] = value instead\n",
      "\n",
      "See the caveats in the documentation: https://pandas.pydata.org/pandas-docs/stable/user_guide/indexing.html#returning-a-view-versus-a-copy\n",
      "  direct[key] = val\n",
      "/home/isha/PopulationSelectionEffects/cogwheel_population_inference/cogwheel/cogwheel/population_inference/population_models.py:245: SettingWithCopyWarning: \n",
      "A value is trying to be set on a copy of a slice from a DataFrame.\n",
      "Try using .loc[row_indexer,col_indexer] = value instead\n",
      "\n",
      "See the caveats in the documentation: https://pandas.pydata.org/pandas-docs/stable/user_guide/indexing.html#returning-a-view-versus-a-copy\n",
      "  direct[key] = val\n",
      "/home/isha/PopulationSelectionEffects/cogwheel_population_inference/cogwheel/cogwheel/population_inference/population_models.py:245: SettingWithCopyWarning: \n",
      "A value is trying to be set on a copy of a slice from a DataFrame.\n",
      "Try using .loc[row_indexer,col_indexer] = value instead\n",
      "\n",
      "See the caveats in the documentation: https://pandas.pydata.org/pandas-docs/stable/user_guide/indexing.html#returning-a-view-versus-a-copy\n",
      "  direct[key] = val\n",
      "/home/isha/PopulationSelectionEffects/cogwheel_population_inference/cogwheel/cogwheel/population_inference/population_models.py:245: SettingWithCopyWarning: \n",
      "A value is trying to be set on a copy of a slice from a DataFrame.\n",
      "Try using .loc[row_indexer,col_indexer] = value instead\n",
      "\n",
      "See the caveats in the documentation: https://pandas.pydata.org/pandas-docs/stable/user_guide/indexing.html#returning-a-view-versus-a-copy\n",
      "  direct[key] = val\n",
      "/home/isha/PopulationSelectionEffects/cogwheel_population_inference/cogwheel/cogwheel/population_inference/population_models.py:245: SettingWithCopyWarning: \n",
      "A value is trying to be set on a copy of a slice from a DataFrame.\n",
      "Try using .loc[row_indexer,col_indexer] = value instead\n",
      "\n",
      "See the caveats in the documentation: https://pandas.pydata.org/pandas-docs/stable/user_guide/indexing.html#returning-a-view-versus-a-copy\n",
      "  direct[key] = val\n",
      "/home/isha/PopulationSelectionEffects/cogwheel_population_inference/cogwheel/cogwheel/population_inference/population_models.py:245: SettingWithCopyWarning: \n",
      "A value is trying to be set on a copy of a slice from a DataFrame.\n",
      "Try using .loc[row_indexer,col_indexer] = value instead\n",
      "\n",
      "See the caveats in the documentation: https://pandas.pydata.org/pandas-docs/stable/user_guide/indexing.html#returning-a-view-versus-a-copy\n",
      "  direct[key] = val\n",
      "/home/isha/PopulationSelectionEffects/cogwheel_population_inference/cogwheel/cogwheel/population_inference/population_models.py:245: SettingWithCopyWarning: \n",
      "A value is trying to be set on a copy of a slice from a DataFrame.\n",
      "Try using .loc[row_indexer,col_indexer] = value instead\n",
      "\n",
      "See the caveats in the documentation: https://pandas.pydata.org/pandas-docs/stable/user_guide/indexing.html#returning-a-view-versus-a-copy\n",
      "  direct[key] = val\n",
      "/home/isha/PopulationSelectionEffects/cogwheel_population_inference/cogwheel/cogwheel/population_inference/population_models.py:245: SettingWithCopyWarning: \n",
      "A value is trying to be set on a copy of a slice from a DataFrame.\n",
      "Try using .loc[row_indexer,col_indexer] = value instead\n",
      "\n",
      "See the caveats in the documentation: https://pandas.pydata.org/pandas-docs/stable/user_guide/indexing.html#returning-a-view-versus-a-copy\n",
      "  direct[key] = val\n",
      "/home/isha/PopulationSelectionEffects/cogwheel_population_inference/cogwheel/cogwheel/population_inference/population_models.py:245: SettingWithCopyWarning: \n",
      "A value is trying to be set on a copy of a slice from a DataFrame.\n",
      "Try using .loc[row_indexer,col_indexer] = value instead\n",
      "\n",
      "See the caveats in the documentation: https://pandas.pydata.org/pandas-docs/stable/user_guide/indexing.html#returning-a-view-versus-a-copy\n",
      "  direct[key] = val\n",
      "/home/isha/PopulationSelectionEffects/cogwheel_population_inference/cogwheel/cogwheel/population_inference/population_models.py:245: SettingWithCopyWarning: \n",
      "A value is trying to be set on a copy of a slice from a DataFrame.\n",
      "Try using .loc[row_indexer,col_indexer] = value instead\n",
      "\n",
      "See the caveats in the documentation: https://pandas.pydata.org/pandas-docs/stable/user_guide/indexing.html#returning-a-view-versus-a-copy\n",
      "  direct[key] = val\n",
      "/home/isha/PopulationSelectionEffects/cogwheel_population_inference/cogwheel/cogwheel/population_inference/population_models.py:245: SettingWithCopyWarning: \n",
      "A value is trying to be set on a copy of a slice from a DataFrame.\n",
      "Try using .loc[row_indexer,col_indexer] = value instead\n",
      "\n",
      "See the caveats in the documentation: https://pandas.pydata.org/pandas-docs/stable/user_guide/indexing.html#returning-a-view-versus-a-copy\n",
      "  direct[key] = val\n",
      "/home/isha/PopulationSelectionEffects/cogwheel_population_inference/cogwheel/cogwheel/population_inference/population_models.py:245: SettingWithCopyWarning: \n",
      "A value is trying to be set on a copy of a slice from a DataFrame.\n",
      "Try using .loc[row_indexer,col_indexer] = value instead\n",
      "\n",
      "See the caveats in the documentation: https://pandas.pydata.org/pandas-docs/stable/user_guide/indexing.html#returning-a-view-versus-a-copy\n",
      "  direct[key] = val\n",
      "/home/isha/PopulationSelectionEffects/cogwheel_population_inference/cogwheel/cogwheel/population_inference/population_models.py:245: SettingWithCopyWarning: \n",
      "A value is trying to be set on a copy of a slice from a DataFrame.\n",
      "Try using .loc[row_indexer,col_indexer] = value instead\n",
      "\n",
      "See the caveats in the documentation: https://pandas.pydata.org/pandas-docs/stable/user_guide/indexing.html#returning-a-view-versus-a-copy\n",
      "  direct[key] = val\n",
      "/home/isha/PopulationSelectionEffects/cogwheel_population_inference/cogwheel/cogwheel/population_inference/population_models.py:245: SettingWithCopyWarning: \n",
      "A value is trying to be set on a copy of a slice from a DataFrame.\n",
      "Try using .loc[row_indexer,col_indexer] = value instead\n",
      "\n",
      "See the caveats in the documentation: https://pandas.pydata.org/pandas-docs/stable/user_guide/indexing.html#returning-a-view-versus-a-copy\n",
      "  direct[key] = val\n",
      "/home/isha/PopulationSelectionEffects/cogwheel_population_inference/cogwheel/cogwheel/population_inference/population_models.py:245: SettingWithCopyWarning: \n",
      "A value is trying to be set on a copy of a slice from a DataFrame.\n",
      "Try using .loc[row_indexer,col_indexer] = value instead\n",
      "\n",
      "See the caveats in the documentation: https://pandas.pydata.org/pandas-docs/stable/user_guide/indexing.html#returning-a-view-versus-a-copy\n",
      "  direct[key] = val\n",
      "/home/isha/PopulationSelectionEffects/cogwheel_population_inference/cogwheel/cogwheel/population_inference/population_models.py:245: SettingWithCopyWarning: \n",
      "A value is trying to be set on a copy of a slice from a DataFrame.\n",
      "Try using .loc[row_indexer,col_indexer] = value instead\n",
      "\n",
      "See the caveats in the documentation: https://pandas.pydata.org/pandas-docs/stable/user_guide/indexing.html#returning-a-view-versus-a-copy\n",
      "  direct[key] = val\n",
      "/home/isha/PopulationSelectionEffects/cogwheel_population_inference/cogwheel/cogwheel/population_inference/population_models.py:245: SettingWithCopyWarning: \n",
      "A value is trying to be set on a copy of a slice from a DataFrame.\n",
      "Try using .loc[row_indexer,col_indexer] = value instead\n",
      "\n",
      "See the caveats in the documentation: https://pandas.pydata.org/pandas-docs/stable/user_guide/indexing.html#returning-a-view-versus-a-copy\n",
      "  direct[key] = val\n",
      "/home/isha/PopulationSelectionEffects/cogwheel_population_inference/cogwheel/cogwheel/population_inference/population_models.py:245: SettingWithCopyWarning: \n",
      "A value is trying to be set on a copy of a slice from a DataFrame.\n",
      "Try using .loc[row_indexer,col_indexer] = value instead\n",
      "\n",
      "See the caveats in the documentation: https://pandas.pydata.org/pandas-docs/stable/user_guide/indexing.html#returning-a-view-versus-a-copy\n",
      "  direct[key] = val\n",
      "/home/isha/PopulationSelectionEffects/cogwheel_population_inference/cogwheel/cogwheel/population_inference/population_models.py:245: SettingWithCopyWarning: \n",
      "A value is trying to be set on a copy of a slice from a DataFrame.\n",
      "Try using .loc[row_indexer,col_indexer] = value instead\n",
      "\n",
      "See the caveats in the documentation: https://pandas.pydata.org/pandas-docs/stable/user_guide/indexing.html#returning-a-view-versus-a-copy\n",
      "  direct[key] = val\n",
      "/home/isha/PopulationSelectionEffects/cogwheel_population_inference/cogwheel/cogwheel/population_inference/population_models.py:245: SettingWithCopyWarning: \n",
      "A value is trying to be set on a copy of a slice from a DataFrame.\n",
      "Try using .loc[row_indexer,col_indexer] = value instead\n",
      "\n",
      "See the caveats in the documentation: https://pandas.pydata.org/pandas-docs/stable/user_guide/indexing.html#returning-a-view-versus-a-copy\n",
      "  direct[key] = val\n",
      "/home/isha/PopulationSelectionEffects/cogwheel_population_inference/cogwheel/cogwheel/population_inference/population_models.py:245: SettingWithCopyWarning: \n",
      "A value is trying to be set on a copy of a slice from a DataFrame.\n",
      "Try using .loc[row_indexer,col_indexer] = value instead\n",
      "\n",
      "See the caveats in the documentation: https://pandas.pydata.org/pandas-docs/stable/user_guide/indexing.html#returning-a-view-versus-a-copy\n",
      "  direct[key] = val\n",
      "/home/isha/PopulationSelectionEffects/cogwheel_population_inference/cogwheel/cogwheel/population_inference/population_models.py:245: SettingWithCopyWarning: \n",
      "A value is trying to be set on a copy of a slice from a DataFrame.\n",
      "Try using .loc[row_indexer,col_indexer] = value instead\n",
      "\n",
      "See the caveats in the documentation: https://pandas.pydata.org/pandas-docs/stable/user_guide/indexing.html#returning-a-view-versus-a-copy\n",
      "  direct[key] = val\n",
      "/home/isha/PopulationSelectionEffects/cogwheel_population_inference/cogwheel/cogwheel/population_inference/population_models.py:245: SettingWithCopyWarning: \n",
      "A value is trying to be set on a copy of a slice from a DataFrame.\n",
      "Try using .loc[row_indexer,col_indexer] = value instead\n",
      "\n",
      "See the caveats in the documentation: https://pandas.pydata.org/pandas-docs/stable/user_guide/indexing.html#returning-a-view-versus-a-copy\n",
      "  direct[key] = val\n",
      "/home/isha/PopulationSelectionEffects/cogwheel_population_inference/cogwheel/cogwheel/population_inference/population_models.py:245: SettingWithCopyWarning: \n",
      "A value is trying to be set on a copy of a slice from a DataFrame.\n",
      "Try using .loc[row_indexer,col_indexer] = value instead\n",
      "\n",
      "See the caveats in the documentation: https://pandas.pydata.org/pandas-docs/stable/user_guide/indexing.html#returning-a-view-versus-a-copy\n",
      "  direct[key] = val\n",
      "/home/isha/PopulationSelectionEffects/cogwheel_population_inference/cogwheel/cogwheel/population_inference/population_models.py:245: SettingWithCopyWarning: \n",
      "A value is trying to be set on a copy of a slice from a DataFrame.\n",
      "Try using .loc[row_indexer,col_indexer] = value instead\n",
      "\n",
      "See the caveats in the documentation: https://pandas.pydata.org/pandas-docs/stable/user_guide/indexing.html#returning-a-view-versus-a-copy\n",
      "  direct[key] = val\n",
      "/home/isha/PopulationSelectionEffects/cogwheel_population_inference/cogwheel/cogwheel/population_inference/population_models.py:245: SettingWithCopyWarning: \n",
      "A value is trying to be set on a copy of a slice from a DataFrame.\n",
      "Try using .loc[row_indexer,col_indexer] = value instead\n",
      "\n",
      "See the caveats in the documentation: https://pandas.pydata.org/pandas-docs/stable/user_guide/indexing.html#returning-a-view-versus-a-copy\n",
      "  direct[key] = val\n",
      "/home/isha/PopulationSelectionEffects/cogwheel_population_inference/cogwheel/cogwheel/population_inference/population_models.py:245: SettingWithCopyWarning: \n",
      "A value is trying to be set on a copy of a slice from a DataFrame.\n",
      "Try using .loc[row_indexer,col_indexer] = value instead\n",
      "\n",
      "See the caveats in the documentation: https://pandas.pydata.org/pandas-docs/stable/user_guide/indexing.html#returning-a-view-versus-a-copy\n",
      "  direct[key] = val\n",
      "/home/isha/PopulationSelectionEffects/cogwheel_population_inference/cogwheel/cogwheel/population_inference/population_models.py:245: SettingWithCopyWarning: \n",
      "A value is trying to be set on a copy of a slice from a DataFrame.\n",
      "Try using .loc[row_indexer,col_indexer] = value instead\n",
      "\n",
      "See the caveats in the documentation: https://pandas.pydata.org/pandas-docs/stable/user_guide/indexing.html#returning-a-view-versus-a-copy\n",
      "  direct[key] = val\n",
      "/home/isha/PopulationSelectionEffects/cogwheel_population_inference/cogwheel/cogwheel/population_inference/population_models.py:245: SettingWithCopyWarning: \n",
      "A value is trying to be set on a copy of a slice from a DataFrame.\n",
      "Try using .loc[row_indexer,col_indexer] = value instead\n",
      "\n",
      "See the caveats in the documentation: https://pandas.pydata.org/pandas-docs/stable/user_guide/indexing.html#returning-a-view-versus-a-copy\n",
      "  direct[key] = val\n",
      "/home/isha/PopulationSelectionEffects/cogwheel_population_inference/cogwheel/cogwheel/population_inference/population_models.py:245: SettingWithCopyWarning: \n",
      "A value is trying to be set on a copy of a slice from a DataFrame.\n",
      "Try using .loc[row_indexer,col_indexer] = value instead\n",
      "\n",
      "See the caveats in the documentation: https://pandas.pydata.org/pandas-docs/stable/user_guide/indexing.html#returning-a-view-versus-a-copy\n",
      "  direct[key] = val\n",
      "/home/isha/PopulationSelectionEffects/cogwheel_population_inference/cogwheel/cogwheel/population_inference/population_models.py:245: SettingWithCopyWarning: \n",
      "A value is trying to be set on a copy of a slice from a DataFrame.\n",
      "Try using .loc[row_indexer,col_indexer] = value instead\n",
      "\n",
      "See the caveats in the documentation: https://pandas.pydata.org/pandas-docs/stable/user_guide/indexing.html#returning-a-view-versus-a-copy\n",
      "  direct[key] = val\n",
      "/home/isha/PopulationSelectionEffects/cogwheel_population_inference/cogwheel/cogwheel/population_inference/population_models.py:245: SettingWithCopyWarning: \n",
      "A value is trying to be set on a copy of a slice from a DataFrame.\n",
      "Try using .loc[row_indexer,col_indexer] = value instead\n",
      "\n",
      "See the caveats in the documentation: https://pandas.pydata.org/pandas-docs/stable/user_guide/indexing.html#returning-a-view-versus-a-copy\n",
      "  direct[key] = val\n",
      "/home/isha/PopulationSelectionEffects/cogwheel_population_inference/cogwheel/cogwheel/population_inference/population_models.py:245: SettingWithCopyWarning: \n",
      "A value is trying to be set on a copy of a slice from a DataFrame.\n",
      "Try using .loc[row_indexer,col_indexer] = value instead\n",
      "\n",
      "See the caveats in the documentation: https://pandas.pydata.org/pandas-docs/stable/user_guide/indexing.html#returning-a-view-versus-a-copy\n",
      "  direct[key] = val\n",
      "/home/isha/PopulationSelectionEffects/cogwheel_population_inference/cogwheel/cogwheel/population_inference/population_models.py:245: SettingWithCopyWarning: \n",
      "A value is trying to be set on a copy of a slice from a DataFrame.\n",
      "Try using .loc[row_indexer,col_indexer] = value instead\n",
      "\n",
      "See the caveats in the documentation: https://pandas.pydata.org/pandas-docs/stable/user_guide/indexing.html#returning-a-view-versus-a-copy\n",
      "  direct[key] = val\n",
      "/home/isha/PopulationSelectionEffects/cogwheel_population_inference/cogwheel/cogwheel/population_inference/population_models.py:245: SettingWithCopyWarning: \n",
      "A value is trying to be set on a copy of a slice from a DataFrame.\n",
      "Try using .loc[row_indexer,col_indexer] = value instead\n",
      "\n",
      "See the caveats in the documentation: https://pandas.pydata.org/pandas-docs/stable/user_guide/indexing.html#returning-a-view-versus-a-copy\n",
      "  direct[key] = val\n",
      "/home/isha/PopulationSelectionEffects/cogwheel_population_inference/cogwheel/cogwheel/population_inference/population_models.py:245: SettingWithCopyWarning: \n",
      "A value is trying to be set on a copy of a slice from a DataFrame.\n",
      "Try using .loc[row_indexer,col_indexer] = value instead\n",
      "\n",
      "See the caveats in the documentation: https://pandas.pydata.org/pandas-docs/stable/user_guide/indexing.html#returning-a-view-versus-a-copy\n",
      "  direct[key] = val\n",
      "/home/isha/PopulationSelectionEffects/cogwheel_population_inference/cogwheel/cogwheel/population_inference/population_models.py:245: SettingWithCopyWarning: \n",
      "A value is trying to be set on a copy of a slice from a DataFrame.\n",
      "Try using .loc[row_indexer,col_indexer] = value instead\n",
      "\n",
      "See the caveats in the documentation: https://pandas.pydata.org/pandas-docs/stable/user_guide/indexing.html#returning-a-view-versus-a-copy\n",
      "  direct[key] = val\n",
      "/home/isha/PopulationSelectionEffects/cogwheel_population_inference/cogwheel/cogwheel/population_inference/population_models.py:245: SettingWithCopyWarning: \n",
      "A value is trying to be set on a copy of a slice from a DataFrame.\n",
      "Try using .loc[row_indexer,col_indexer] = value instead\n",
      "\n",
      "See the caveats in the documentation: https://pandas.pydata.org/pandas-docs/stable/user_guide/indexing.html#returning-a-view-versus-a-copy\n",
      "  direct[key] = val\n",
      "/home/isha/PopulationSelectionEffects/cogwheel_population_inference/cogwheel/cogwheel/population_inference/population_models.py:245: SettingWithCopyWarning: \n",
      "A value is trying to be set on a copy of a slice from a DataFrame.\n",
      "Try using .loc[row_indexer,col_indexer] = value instead\n",
      "\n",
      "See the caveats in the documentation: https://pandas.pydata.org/pandas-docs/stable/user_guide/indexing.html#returning-a-view-versus-a-copy\n",
      "  direct[key] = val\n",
      "/home/isha/PopulationSelectionEffects/cogwheel_population_inference/cogwheel/cogwheel/population_inference/population_models.py:245: SettingWithCopyWarning: \n",
      "A value is trying to be set on a copy of a slice from a DataFrame.\n",
      "Try using .loc[row_indexer,col_indexer] = value instead\n",
      "\n",
      "See the caveats in the documentation: https://pandas.pydata.org/pandas-docs/stable/user_guide/indexing.html#returning-a-view-versus-a-copy\n",
      "  direct[key] = val\n",
      "/home/isha/PopulationSelectionEffects/cogwheel_population_inference/cogwheel/cogwheel/population_inference/population_models.py:245: SettingWithCopyWarning: \n",
      "A value is trying to be set on a copy of a slice from a DataFrame.\n",
      "Try using .loc[row_indexer,col_indexer] = value instead\n",
      "\n",
      "See the caveats in the documentation: https://pandas.pydata.org/pandas-docs/stable/user_guide/indexing.html#returning-a-view-versus-a-copy\n",
      "  direct[key] = val\n",
      "/home/isha/PopulationSelectionEffects/cogwheel_population_inference/cogwheel/cogwheel/population_inference/population_models.py:245: SettingWithCopyWarning: \n",
      "A value is trying to be set on a copy of a slice from a DataFrame.\n",
      "Try using .loc[row_indexer,col_indexer] = value instead\n",
      "\n",
      "See the caveats in the documentation: https://pandas.pydata.org/pandas-docs/stable/user_guide/indexing.html#returning-a-view-versus-a-copy\n",
      "  direct[key] = val\n",
      "/home/isha/PopulationSelectionEffects/cogwheel_population_inference/cogwheel/cogwheel/population_inference/population_models.py:245: SettingWithCopyWarning: \n",
      "A value is trying to be set on a copy of a slice from a DataFrame.\n",
      "Try using .loc[row_indexer,col_indexer] = value instead\n",
      "\n",
      "See the caveats in the documentation: https://pandas.pydata.org/pandas-docs/stable/user_guide/indexing.html#returning-a-view-versus-a-copy\n",
      "  direct[key] = val\n",
      "/home/isha/PopulationSelectionEffects/cogwheel_population_inference/cogwheel/cogwheel/population_inference/population_models.py:245: SettingWithCopyWarning: \n",
      "A value is trying to be set on a copy of a slice from a DataFrame.\n",
      "Try using .loc[row_indexer,col_indexer] = value instead\n",
      "\n",
      "See the caveats in the documentation: https://pandas.pydata.org/pandas-docs/stable/user_guide/indexing.html#returning-a-view-versus-a-copy\n",
      "  direct[key] = val\n",
      "/home/isha/PopulationSelectionEffects/cogwheel_population_inference/cogwheel/cogwheel/population_inference/population_models.py:245: SettingWithCopyWarning: \n",
      "A value is trying to be set on a copy of a slice from a DataFrame.\n",
      "Try using .loc[row_indexer,col_indexer] = value instead\n",
      "\n",
      "See the caveats in the documentation: https://pandas.pydata.org/pandas-docs/stable/user_guide/indexing.html#returning-a-view-versus-a-copy\n",
      "  direct[key] = val\n",
      "/home/isha/PopulationSelectionEffects/cogwheel_population_inference/cogwheel/cogwheel/population_inference/population_models.py:245: SettingWithCopyWarning: \n",
      "A value is trying to be set on a copy of a slice from a DataFrame.\n",
      "Try using .loc[row_indexer,col_indexer] = value instead\n",
      "\n",
      "See the caveats in the documentation: https://pandas.pydata.org/pandas-docs/stable/user_guide/indexing.html#returning-a-view-versus-a-copy\n",
      "  direct[key] = val\n",
      "/home/isha/PopulationSelectionEffects/cogwheel_population_inference/cogwheel/cogwheel/population_inference/population_models.py:245: SettingWithCopyWarning: \n",
      "A value is trying to be set on a copy of a slice from a DataFrame.\n",
      "Try using .loc[row_indexer,col_indexer] = value instead\n",
      "\n",
      "See the caveats in the documentation: https://pandas.pydata.org/pandas-docs/stable/user_guide/indexing.html#returning-a-view-versus-a-copy\n",
      "  direct[key] = val\n",
      "/home/isha/PopulationSelectionEffects/cogwheel_population_inference/cogwheel/cogwheel/population_inference/population_models.py:245: SettingWithCopyWarning: \n",
      "A value is trying to be set on a copy of a slice from a DataFrame.\n",
      "Try using .loc[row_indexer,col_indexer] = value instead\n",
      "\n",
      "See the caveats in the documentation: https://pandas.pydata.org/pandas-docs/stable/user_guide/indexing.html#returning-a-view-versus-a-copy\n",
      "  direct[key] = val\n",
      "/home/isha/PopulationSelectionEffects/cogwheel_population_inference/cogwheel/cogwheel/population_inference/population_models.py:245: SettingWithCopyWarning: \n",
      "A value is trying to be set on a copy of a slice from a DataFrame.\n",
      "Try using .loc[row_indexer,col_indexer] = value instead\n",
      "\n",
      "See the caveats in the documentation: https://pandas.pydata.org/pandas-docs/stable/user_guide/indexing.html#returning-a-view-versus-a-copy\n",
      "  direct[key] = val\n",
      "/home/isha/PopulationSelectionEffects/cogwheel_population_inference/cogwheel/cogwheel/population_inference/population_models.py:245: SettingWithCopyWarning: \n",
      "A value is trying to be set on a copy of a slice from a DataFrame.\n",
      "Try using .loc[row_indexer,col_indexer] = value instead\n",
      "\n",
      "See the caveats in the documentation: https://pandas.pydata.org/pandas-docs/stable/user_guide/indexing.html#returning-a-view-versus-a-copy\n",
      "  direct[key] = val\n",
      "/home/isha/PopulationSelectionEffects/cogwheel_population_inference/cogwheel/cogwheel/population_inference/population_models.py:245: SettingWithCopyWarning: \n",
      "A value is trying to be set on a copy of a slice from a DataFrame.\n",
      "Try using .loc[row_indexer,col_indexer] = value instead\n",
      "\n",
      "See the caveats in the documentation: https://pandas.pydata.org/pandas-docs/stable/user_guide/indexing.html#returning-a-view-versus-a-copy\n",
      "  direct[key] = val\n",
      "/home/isha/PopulationSelectionEffects/cogwheel_population_inference/cogwheel/cogwheel/population_inference/population_models.py:245: SettingWithCopyWarning: \n",
      "A value is trying to be set on a copy of a slice from a DataFrame.\n",
      "Try using .loc[row_indexer,col_indexer] = value instead\n",
      "\n",
      "See the caveats in the documentation: https://pandas.pydata.org/pandas-docs/stable/user_guide/indexing.html#returning-a-view-versus-a-copy\n",
      "  direct[key] = val\n",
      "/home/isha/PopulationSelectionEffects/cogwheel_population_inference/cogwheel/cogwheel/population_inference/population_models.py:245: SettingWithCopyWarning: \n",
      "A value is trying to be set on a copy of a slice from a DataFrame.\n",
      "Try using .loc[row_indexer,col_indexer] = value instead\n",
      "\n",
      "See the caveats in the documentation: https://pandas.pydata.org/pandas-docs/stable/user_guide/indexing.html#returning-a-view-versus-a-copy\n",
      "  direct[key] = val\n",
      "/home/isha/PopulationSelectionEffects/cogwheel_population_inference/cogwheel/cogwheel/population_inference/population_models.py:245: SettingWithCopyWarning: \n",
      "A value is trying to be set on a copy of a slice from a DataFrame.\n",
      "Try using .loc[row_indexer,col_indexer] = value instead\n",
      "\n",
      "See the caveats in the documentation: https://pandas.pydata.org/pandas-docs/stable/user_guide/indexing.html#returning-a-view-versus-a-copy\n",
      "  direct[key] = val\n",
      "/home/isha/PopulationSelectionEffects/cogwheel_population_inference/cogwheel/cogwheel/population_inference/population_models.py:245: SettingWithCopyWarning: \n",
      "A value is trying to be set on a copy of a slice from a DataFrame.\n",
      "Try using .loc[row_indexer,col_indexer] = value instead\n",
      "\n",
      "See the caveats in the documentation: https://pandas.pydata.org/pandas-docs/stable/user_guide/indexing.html#returning-a-view-versus-a-copy\n",
      "  direct[key] = val\n",
      "/home/isha/PopulationSelectionEffects/cogwheel_population_inference/cogwheel/cogwheel/population_inference/population_models.py:245: SettingWithCopyWarning: \n",
      "A value is trying to be set on a copy of a slice from a DataFrame.\n",
      "Try using .loc[row_indexer,col_indexer] = value instead\n",
      "\n",
      "See the caveats in the documentation: https://pandas.pydata.org/pandas-docs/stable/user_guide/indexing.html#returning-a-view-versus-a-copy\n",
      "  direct[key] = val\n",
      "/home/isha/PopulationSelectionEffects/cogwheel_population_inference/cogwheel/cogwheel/population_inference/population_models.py:245: SettingWithCopyWarning: \n",
      "A value is trying to be set on a copy of a slice from a DataFrame.\n",
      "Try using .loc[row_indexer,col_indexer] = value instead\n",
      "\n",
      "See the caveats in the documentation: https://pandas.pydata.org/pandas-docs/stable/user_guide/indexing.html#returning-a-view-versus-a-copy\n",
      "  direct[key] = val\n",
      "/home/isha/PopulationSelectionEffects/cogwheel_population_inference/cogwheel/cogwheel/population_inference/population_models.py:245: SettingWithCopyWarning: \n",
      "A value is trying to be set on a copy of a slice from a DataFrame.\n",
      "Try using .loc[row_indexer,col_indexer] = value instead\n",
      "\n",
      "See the caveats in the documentation: https://pandas.pydata.org/pandas-docs/stable/user_guide/indexing.html#returning-a-view-versus-a-copy\n",
      "  direct[key] = val\n",
      "/home/isha/PopulationSelectionEffects/cogwheel_population_inference/cogwheel/cogwheel/population_inference/population_models.py:245: SettingWithCopyWarning: \n",
      "A value is trying to be set on a copy of a slice from a DataFrame.\n",
      "Try using .loc[row_indexer,col_indexer] = value instead\n",
      "\n",
      "See the caveats in the documentation: https://pandas.pydata.org/pandas-docs/stable/user_guide/indexing.html#returning-a-view-versus-a-copy\n",
      "  direct[key] = val\n",
      "/home/isha/PopulationSelectionEffects/cogwheel_population_inference/cogwheel/cogwheel/population_inference/population_models.py:245: SettingWithCopyWarning: \n",
      "A value is trying to be set on a copy of a slice from a DataFrame.\n",
      "Try using .loc[row_indexer,col_indexer] = value instead\n",
      "\n",
      "See the caveats in the documentation: https://pandas.pydata.org/pandas-docs/stable/user_guide/indexing.html#returning-a-view-versus-a-copy\n",
      "  direct[key] = val\n",
      "/home/isha/PopulationSelectionEffects/cogwheel_population_inference/cogwheel/cogwheel/population_inference/population_models.py:245: SettingWithCopyWarning: \n",
      "A value is trying to be set on a copy of a slice from a DataFrame.\n",
      "Try using .loc[row_indexer,col_indexer] = value instead\n",
      "\n",
      "See the caveats in the documentation: https://pandas.pydata.org/pandas-docs/stable/user_guide/indexing.html#returning-a-view-versus-a-copy\n",
      "  direct[key] = val\n",
      "/home/isha/PopulationSelectionEffects/cogwheel_population_inference/cogwheel/cogwheel/population_inference/population_models.py:245: SettingWithCopyWarning: \n",
      "A value is trying to be set on a copy of a slice from a DataFrame.\n",
      "Try using .loc[row_indexer,col_indexer] = value instead\n",
      "\n",
      "See the caveats in the documentation: https://pandas.pydata.org/pandas-docs/stable/user_guide/indexing.html#returning-a-view-versus-a-copy\n",
      "  direct[key] = val\n",
      "/home/isha/PopulationSelectionEffects/cogwheel_population_inference/cogwheel/cogwheel/population_inference/population_models.py:245: SettingWithCopyWarning: \n",
      "A value is trying to be set on a copy of a slice from a DataFrame.\n",
      "Try using .loc[row_indexer,col_indexer] = value instead\n",
      "\n",
      "See the caveats in the documentation: https://pandas.pydata.org/pandas-docs/stable/user_guide/indexing.html#returning-a-view-versus-a-copy\n",
      "  direct[key] = val\n",
      "/home/isha/PopulationSelectionEffects/cogwheel_population_inference/cogwheel/cogwheel/population_inference/population_models.py:245: SettingWithCopyWarning: \n",
      "A value is trying to be set on a copy of a slice from a DataFrame.\n",
      "Try using .loc[row_indexer,col_indexer] = value instead\n",
      "\n",
      "See the caveats in the documentation: https://pandas.pydata.org/pandas-docs/stable/user_guide/indexing.html#returning-a-view-versus-a-copy\n",
      "  direct[key] = val\n",
      "/home/isha/PopulationSelectionEffects/cogwheel_population_inference/cogwheel/cogwheel/population_inference/population_models.py:245: SettingWithCopyWarning: \n",
      "A value is trying to be set on a copy of a slice from a DataFrame.\n",
      "Try using .loc[row_indexer,col_indexer] = value instead\n",
      "\n",
      "See the caveats in the documentation: https://pandas.pydata.org/pandas-docs/stable/user_guide/indexing.html#returning-a-view-versus-a-copy\n",
      "  direct[key] = val\n",
      "/home/isha/PopulationSelectionEffects/cogwheel_population_inference/cogwheel/cogwheel/population_inference/population_models.py:245: SettingWithCopyWarning: \n",
      "A value is trying to be set on a copy of a slice from a DataFrame.\n",
      "Try using .loc[row_indexer,col_indexer] = value instead\n",
      "\n",
      "See the caveats in the documentation: https://pandas.pydata.org/pandas-docs/stable/user_guide/indexing.html#returning-a-view-versus-a-copy\n",
      "  direct[key] = val\n",
      "/home/isha/PopulationSelectionEffects/cogwheel_population_inference/cogwheel/cogwheel/population_inference/population_models.py:245: SettingWithCopyWarning: \n",
      "A value is trying to be set on a copy of a slice from a DataFrame.\n",
      "Try using .loc[row_indexer,col_indexer] = value instead\n",
      "\n",
      "See the caveats in the documentation: https://pandas.pydata.org/pandas-docs/stable/user_guide/indexing.html#returning-a-view-versus-a-copy\n",
      "  direct[key] = val\n",
      "/home/isha/PopulationSelectionEffects/cogwheel_population_inference/cogwheel/cogwheel/population_inference/population_models.py:245: SettingWithCopyWarning: \n",
      "A value is trying to be set on a copy of a slice from a DataFrame.\n",
      "Try using .loc[row_indexer,col_indexer] = value instead\n",
      "\n",
      "See the caveats in the documentation: https://pandas.pydata.org/pandas-docs/stable/user_guide/indexing.html#returning-a-view-versus-a-copy\n",
      "  direct[key] = val\n",
      "/home/isha/PopulationSelectionEffects/cogwheel_population_inference/cogwheel/cogwheel/population_inference/population_models.py:245: SettingWithCopyWarning: \n",
      "A value is trying to be set on a copy of a slice from a DataFrame.\n",
      "Try using .loc[row_indexer,col_indexer] = value instead\n",
      "\n",
      "See the caveats in the documentation: https://pandas.pydata.org/pandas-docs/stable/user_guide/indexing.html#returning-a-view-versus-a-copy\n",
      "  direct[key] = val\n",
      "/home/isha/PopulationSelectionEffects/cogwheel_population_inference/cogwheel/cogwheel/population_inference/population_models.py:245: SettingWithCopyWarning: \n",
      "A value is trying to be set on a copy of a slice from a DataFrame.\n",
      "Try using .loc[row_indexer,col_indexer] = value instead\n",
      "\n",
      "See the caveats in the documentation: https://pandas.pydata.org/pandas-docs/stable/user_guide/indexing.html#returning-a-view-versus-a-copy\n",
      "  direct[key] = val\n",
      "/home/isha/PopulationSelectionEffects/cogwheel_population_inference/cogwheel/cogwheel/population_inference/population_models.py:245: SettingWithCopyWarning: \n",
      "A value is trying to be set on a copy of a slice from a DataFrame.\n",
      "Try using .loc[row_indexer,col_indexer] = value instead\n",
      "\n",
      "See the caveats in the documentation: https://pandas.pydata.org/pandas-docs/stable/user_guide/indexing.html#returning-a-view-versus-a-copy\n",
      "  direct[key] = val\n",
      "/home/isha/PopulationSelectionEffects/cogwheel_population_inference/cogwheel/cogwheel/population_inference/population_models.py:245: SettingWithCopyWarning: \n",
      "A value is trying to be set on a copy of a slice from a DataFrame.\n",
      "Try using .loc[row_indexer,col_indexer] = value instead\n",
      "\n",
      "See the caveats in the documentation: https://pandas.pydata.org/pandas-docs/stable/user_guide/indexing.html#returning-a-view-versus-a-copy\n",
      "  direct[key] = val\n",
      "/home/isha/PopulationSelectionEffects/cogwheel_population_inference/cogwheel/cogwheel/population_inference/population_models.py:245: SettingWithCopyWarning: \n",
      "A value is trying to be set on a copy of a slice from a DataFrame.\n",
      "Try using .loc[row_indexer,col_indexer] = value instead\n",
      "\n",
      "See the caveats in the documentation: https://pandas.pydata.org/pandas-docs/stable/user_guide/indexing.html#returning-a-view-versus-a-copy\n",
      "  direct[key] = val\n",
      "/home/isha/PopulationSelectionEffects/cogwheel_population_inference/cogwheel/cogwheel/population_inference/population_models.py:245: SettingWithCopyWarning: \n",
      "A value is trying to be set on a copy of a slice from a DataFrame.\n",
      "Try using .loc[row_indexer,col_indexer] = value instead\n",
      "\n",
      "See the caveats in the documentation: https://pandas.pydata.org/pandas-docs/stable/user_guide/indexing.html#returning-a-view-versus-a-copy\n",
      "  direct[key] = val\n",
      "/home/isha/PopulationSelectionEffects/cogwheel_population_inference/cogwheel/cogwheel/population_inference/population_models.py:245: SettingWithCopyWarning: \n",
      "A value is trying to be set on a copy of a slice from a DataFrame.\n",
      "Try using .loc[row_indexer,col_indexer] = value instead\n",
      "\n",
      "See the caveats in the documentation: https://pandas.pydata.org/pandas-docs/stable/user_guide/indexing.html#returning-a-view-versus-a-copy\n",
      "  direct[key] = val\n",
      "/home/isha/PopulationSelectionEffects/cogwheel_population_inference/cogwheel/cogwheel/population_inference/population_models.py:245: SettingWithCopyWarning: \n",
      "A value is trying to be set on a copy of a slice from a DataFrame.\n",
      "Try using .loc[row_indexer,col_indexer] = value instead\n",
      "\n",
      "See the caveats in the documentation: https://pandas.pydata.org/pandas-docs/stable/user_guide/indexing.html#returning-a-view-versus-a-copy\n",
      "  direct[key] = val\n"
     ]
    }
   ],
   "source": [
    "time_taken = np.zeros(40)\n",
    "for i in range(40):\n",
    "    t0 = time.time()\n",
    "    zz = likelihood_object.parametrized_population.lnprior_and_transform_samples(mydf[0:length_arr[i]], **test_hyp_dic, force_update=False)\n",
    "    t1 = time.time()\n",
    "    time_taken[i] = t1-t0"
   ]
  },
  {
   "cell_type": "code",
   "execution_count": 50,
   "id": "3b030197-4dc2-4c62-b382-a432d4f9a5ef",
   "metadata": {},
   "outputs": [
    {
     "data": {
      "text/plain": [
       "Text(0, 0.5, 'Time taken in seconds')"
      ]
     },
     "execution_count": 50,
     "metadata": {},
     "output_type": "execute_result"
    },
    {
     "data": {
      "image/png": "[encoded data removed]",
      "text/plain": [
       "<Figure size 640x480 with 1 Axes>"
      ]
     },
     "metadata": {},
     "output_type": "display_data"
    }
   ],
   "source": [
    "plt.scatter(length_arr, time_taken, marker='x')\n",
    "#plt.plot(length_arr, time_taken, c='red', linestyle='dashed')\n",
    "plt.axvline(5000, c='black', linestyle='dashed')\n",
    "plt.xlabel(\"Length of PE samples used\")\n",
    "plt.ylabel(\"Time taken in seconds\")"
   ]
  },
  {
   "cell_type": "code",
   "execution_count": 34,
   "id": "48e12e08-6a7d-4a14-962d-719ae7f461ed",
   "metadata": {},
   "outputs": [
    {
     "data": {
      "text/plain": [
       "0.5552034378051758"
      ]
     },
     "execution_count": 34,
     "metadata": {},
     "output_type": "execute_result"
    }
   ],
   "source": [
    "time_taken[-1]"
   ]
  },
  {
   "cell_type": "code",
   "execution_count": 36,
   "id": "3b6dd86e-0ca6-489a-b1f4-d3b407ae768b",
   "metadata": {
    "scrolled": true
   },
   "outputs": [
    {
     "name": "stderr",
     "output_type": "stream",
     "text": [
      "/home/isha/PopulationSelectionEffects/cogwheel_population_inference/cogwheel/cogwheel/population_inference/population_models.py:245: SettingWithCopyWarning: \n",
      "A value is trying to be set on a copy of a slice from a DataFrame.\n",
      "Try using .loc[row_indexer,col_indexer] = value instead\n",
      "\n",
      "See the caveats in the documentation: https://pandas.pydata.org/pandas-docs/stable/user_guide/indexing.html#returning-a-view-versus-a-copy\n",
      "  direct[key] = val\n",
      "/home/isha/PopulationSelectionEffects/cogwheel_population_inference/cogwheel/cogwheel/population_inference/population_models.py:245: SettingWithCopyWarning: \n",
      "A value is trying to be set on a copy of a slice from a DataFrame.\n",
      "Try using .loc[row_indexer,col_indexer] = value instead\n",
      "\n",
      "See the caveats in the documentation: https://pandas.pydata.org/pandas-docs/stable/user_guide/indexing.html#returning-a-view-versus-a-copy\n",
      "  direct[key] = val\n",
      "/home/isha/PopulationSelectionEffects/cogwheel_population_inference/cogwheel/cogwheel/population_inference/population_models.py:245: SettingWithCopyWarning: \n",
      "A value is trying to be set on a copy of a slice from a DataFrame.\n",
      "Try using .loc[row_indexer,col_indexer] = value instead\n",
      "\n",
      "See the caveats in the documentation: https://pandas.pydata.org/pandas-docs/stable/user_guide/indexing.html#returning-a-view-versus-a-copy\n",
      "  direct[key] = val\n"
     ]
    },
    {
     "name": "stdout",
     "output_type": "stream",
     "text": [
      " "
     ]
    },
    {
     "data": {
      "text/plain": [
       "         1088200 function calls (1087991 primitive calls) in 0.751 seconds\n",
       "\n",
       "   Ordered by: internal time\n",
       "\n",
       "   ncalls  tottime  percall  cumtime  percall filename:lineno(function)\n",
       "   120006    0.191    0.000    0.704    0.000 function_base.py:2356(func)\n",
       "    99737    0.147    0.000    0.444    0.000 prior.py:811(lnprior)\n",
       "    99776    0.113    0.000    0.113    0.000 {method 'reduce' of 'numpy.ufunc' objects}\n",
       "    99737    0.078    0.000    0.229    0.000 fromnumeric.py:71(_wrapreduction)\n",
       "    99737    0.058    0.000    0.287    0.000 fromnumeric.py:2979(prod)\n",
       "    20001    0.037    0.000    0.037    0.000 test_combined_priors.py:129(lnprior)\n",
       "    99737    0.029    0.000    0.029    0.000 fromnumeric.py:72(<dictcomp>)\n",
       "       10    0.029    0.003    0.739    0.074 function_base.py:2443(_vectorize_call)\n",
       "   120006    0.024    0.000    0.024    0.000 {method 'update' of 'dict' objects}\n",
       "    99737    0.010    0.000    0.010    0.000 fromnumeric.py:2974(_prod_dispatcher)\n",
       "    99741    0.009    0.000    0.009    0.000 {method 'items' of 'dict' objects}\n",
       "120572/120380    0.008    0.000    0.008    0.000 {built-in method builtins.len}\n",
       "  158/141    0.004    0.000    0.004    0.000 {built-in method numpy.asarray}\n",
       "       10    0.002    0.000    0.742    0.074 function_base.py:2337(_call_as_normal)\n",
       "       35    0.001    0.000    0.006    0.000 {built-in method numpy.asanyarray}\n",
       "       32    0.001    0.000    0.001    0.000 take.py:120(_take_nd_ndarray)\n",
       "        1    0.000    0.000    0.750    0.750 population_models.py:227(lnprior_and_transform_samples)\n",
       "     1948    0.000    0.000    0.001    0.000 {built-in method builtins.isinstance}\n",
       "       11    0.000    0.000    0.002    0.000 managers.py:708(_slice_take_blocks_ax0)\n",
       "       17    0.000    0.000    0.000    0.000 cast.py:1157(maybe_infer_to_datetimelike)\n",
       "       21    0.000    0.000    0.001    0.000 base.py:475(__new__)\n",
       "       29    0.000    0.000    0.007    0.000 frame.py:4050(__getitem__)\n",
       "       28    0.000    0.000    0.000    0.000 common.py:231(asarray_tuplesafe)\n",
       "       24    0.000    0.000    0.001    0.000 construction.py:517(sanitize_array)\n",
       "       14    0.000    0.000    0.000    0.000 base.py:3955(_get_indexer)\n",
       "       47    0.000    0.000    0.000    0.000 base.py:649(_simple_new)\n",
       "        3    0.000    0.000    0.000    0.000 {method 'fill' of 'numpy.ndarray' objects}\n",
       "       68    0.000    0.000    0.001    0.000 generic.py:6281(__getattr__)\n",
       "       29    0.000    0.000    0.000    0.000 generic.py:6233(__finalize__)\n",
       "       15    0.000    0.000    0.000    0.000 base.py:2744(inferred_type)\n",
       "       68    0.000    0.000    0.000    0.000 base.py:5437(_can_hold_identifiers_and_holds_name)\n",
       "       14    0.000    0.000    0.000    0.000 base.py:842(_engine)\n",
       "       22    0.000    0.000    0.002    0.000 base.py:3820(get_indexer)\n",
       "       11    0.000    0.000    0.000    0.000 utils.py:239(maybe_convert_indices)\n",
       "       17    0.000    0.000    0.000    0.000 managers.py:1012(iget)\n",
       "      267    0.000    0.000    0.000    0.000 generic.py:37(_check)\n",
       "       11    0.000    0.000    0.003    0.000 base.py:6186(_get_indexer_strict)\n",
       "       22    0.000    0.000    0.000    0.000 base.py:1146(take)\n",
       "       29    0.000    0.000    0.000    0.000 generic.py:278(__init__)\n",
       "       11    0.000    0.000    0.003    0.000 generic.py:4024(take)\n",
       "       20    0.000    0.000    0.000    0.000 numeric.py:274(full)\n",
       "      267    0.000    0.000    0.000    0.000 generic.py:42(_instancecheck)\n",
       "       80    0.000    0.000    0.000    0.000 generic.py:6298(__setattr__)\n",
       "       20    0.000    0.000    0.000    0.000 base.py:5323(__contains__)\n",
       "      100    0.000    0.000    0.000    0.000 common.py:1434(_is_dtype_type)\n",
       "       11    0.000    0.000    0.002    0.000 managers.py:623(reindex_indexer)\n",
       "       10    0.000    0.000    0.001    0.000 blocks.py:1287(take_nd)\n",
       "       82    0.000    0.000    0.000    0.000 common.py:137(is_object_dtype)\n",
       "       31    0.000    0.000    0.000    0.000 managers.py:180(blknos)\n",
       "      431    0.000    0.000    0.000    0.000 {built-in method builtins.getattr}\n",
       "       68    0.000    0.000    0.000    0.000 common.py:572(condition)\n",
       "       31    0.000    0.000    0.000    0.000 warnings.py:458(__enter__)\n",
       "       32    0.000    0.000    0.001    0.000 take.py:59(take_nd)\n",
       "       11    0.000    0.000    0.000    0.000 base.py:6219(_raise_if_missing)\n",
       "       11    0.000    0.000    0.002    0.000 managers.py:869(take)\n",
       "       30    0.000    0.000    0.000    0.000 base.py:82(shape)\n",
       "        6    0.000    0.000    0.001    0.000 function_base.py:2374(_get_ufunc_and_otypes)\n",
       "       17    0.000    0.000    0.001    0.000 frame.py:4614(_get_item_cache)\n",
       "       10    0.000    0.000    0.000    0.000 function_base.py:2285(__init__)\n",
       "        3    0.000    0.000    0.000    0.000 function_base.py:5369(insert)\n",
       "       58    0.000    0.000    0.000    0.000 {built-in method numpy.empty}\n",
       "       82    0.000    0.000    0.000    0.000 common.py:1375(_is_dtype)\n",
       "       11    0.000    0.000    0.001    0.000 base.py:4323(reindex)\n",
       "        3    0.000    0.000    0.001    0.000 managers.py:1347(insert)\n",
       "        1    0.000    0.000    0.751    0.751 {built-in method builtins.exec}\n",
       "       11    0.000    0.000    0.003    0.000 generic.py:4139(_take_with_is_copy)\n",
       "       34    0.000    0.000    0.004    0.000 series.py:974(__array__)\n",
       "       68    0.000    0.000    0.000    0.000 common.py:536(is_string_dtype)\n",
       "        3    0.000    0.000    0.000    0.000 base.py:6956(insert)\n",
       "       17    0.000    0.000    0.001    0.000 frame.py:3971(_ixs)\n",
       "      144    0.000    0.000    0.000    0.000 base.py:909(__len__)\n",
       "       36    0.000    0.000    0.000    0.000 base.py:5552(equals)\n",
       "       18    0.000    0.000    0.000    0.000 inspect.py:655(getfile)\n",
       "       38    0.000    0.000    0.000    0.000 base.py:5373(__getitem__)\n",
       "      180    0.000    0.000    0.000    0.000 {built-in method builtins.hasattr}\n",
       "       98    0.000    0.000    0.000    0.000 __init__.py:34(using_copy_on_write)\n",
       "       28    0.000    0.000    0.000    0.000 base.py:5170(_get_engine_target)\n",
       "        6    0.000    0.000    0.000    0.000 function_base.py:5563(append)\n",
       "       20    0.000    0.000    0.000    0.000 base.py:3777(get_loc)\n",
       "       22    0.000    0.000    0.000    0.000 cast.py:551(maybe_promote)\n",
       "       29    0.000    0.000    0.001    0.000 base.py:7593(ensure_index)\n",
       "       17    0.000    0.000    0.000    0.000 frame.py:4596(_box_col_values)\n",
       "       10    0.000    0.000    0.000    0.000 blocks.py:292(make_block_same_class)\n",
       "       22    0.000    0.000    0.000    0.000 algorithms.py:1131(take)\n",
       "        3    0.000    0.000    0.000    0.000 {built-in method _warnings.warn}\n",
       "        3    0.000    0.000    0.000    0.000 iostream.py:655(write)\n",
       "       73    0.000    0.000    0.000    0.000 {built-in method _abc._abc_instancecheck}\n",
       "       18    0.000    0.000    0.000    0.000 common.py:1081(is_numeric_dtype)\n",
       "        3    0.000    0.000    0.000    0.000 _exceptions.py:34(find_stack_level)\n",
       "       32    0.000    0.000    0.000    0.000 take.py:564(_take_preprocess_indexer_and_fill_value)\n",
       "        7    0.000    0.000    0.000    0.000 base.py:2313(is_unique)\n",
       "       15    0.000    0.000    0.000    0.000 _dtype.py:346(_name_get)\n",
       "       11    0.000    0.000    0.000    0.000 base.py:836(__iter__)\n",
       "       22    0.000    0.000    0.000    0.000 base.py:3996(_check_indexing_method)\n",
       "        3    0.000    0.000    0.000    0.000 generic.py:4399(_check_setitem_copy)\n",
       "       84    0.000    0.000    0.000    0.000 generic.py:666(_info_axis)\n",
       "       14    0.000    0.000    0.000    0.000 base.py:6394(_should_compare)\n",
       "       31    0.000    0.000    0.000    0.000 warnings.py:437(__init__)\n",
       "       29    0.000    0.000    0.000    0.000 generic.py:339(_from_mgr)\n",
       "       68    0.000    0.000    0.000    0.000 common.py:529(is_string_or_object_np_dtype)\n",
       "       22    0.000    0.000    0.000    0.000 {method 'take' of 'numpy.ndarray' objects}\n",
       "        1    0.000    0.000    0.000    0.000 generic.py:4358(_slice)\n",
       "      178    0.000    0.000    0.000    0.000 {built-in method builtins.issubclass}\n",
       "        6    0.000    0.000    0.000    0.000 {built-in method numpy.frompyfunc}\n",
       "       11    0.000    0.000    0.000    0.000 managers.py:2318(_preprocess_slice_or_indexer)\n",
       "       50    0.000    0.000    0.000    0.000 inference.py:334(is_hashable)\n",
       "       14    0.000    0.000    0.000    0.000 base.py:6324(_maybe_downcast_for_indexing)\n",
       "        3    0.000    0.000    0.001    0.000 frame.py:4469(_set_item_mgr)\n",
       "        3    0.000    0.000    0.000    0.000 cast.py:775(infer_dtype_from_scalar)\n",
       "       10    0.000    0.000    0.742    0.074 function_base.py:2367(__call__)\n",
       "       29    0.000    0.000    0.000    0.000 indexing.py:2765(check_dict_or_set_indexers)\n",
       "       21    0.000    0.000    0.000    0.000 construction.py:693(_sanitize_ndim)\n",
       "       82    0.000    0.000    0.000    0.000 common.py:1399(_get_dtype)\n",
       "       31    0.000    0.000    0.000    0.000 warnings.py:477(__exit__)\n",
       "        1    0.000    0.000    0.751    0.751 <string>:1(<module>)\n",
       "       11    0.000    0.000    0.000    0.000 common.py:97(is_bool_indexer)\n",
       "       90    0.000    0.000    0.000    0.000 base.py:84(<genexpr>)\n",
       "        3    0.000    0.000    0.002    0.001 frame.py:4259(__setitem__)\n",
       "      146    0.000    0.000    0.000    0.000 base.py:5144(_values)\n",
       "       42    0.000    0.000    0.000    0.000 common.py:1331(is_ea_or_datetimelike_dtype)\n",
       "       36    0.000    0.000    0.000    0.000 base.py:791(is_)\n",
       "       32    0.000    0.000    0.000    0.000 take.py:325(_get_take_nd_function)\n",
       "        3    0.000    0.000    0.000    0.000 base.py:674(_with_infer)\n",
       "       11    0.000    0.000    0.000    0.000 managers.py:948(from_blocks)\n",
       "      205    0.000    0.000    0.000    0.000 range.py:376(dtype)\n",
       "       29    0.000    0.000    0.000    0.000 flags.py:51(__init__)\n",
       "       29    0.000    0.000    0.000    0.000 flags.py:87(allows_duplicate_labels)\n",
       "        3    0.000    0.000    0.000    0.000 numeric.py:1393(moveaxis)\n",
       "       11    0.000    0.000    0.000    0.000 managers.py:241(is_single_block)\n",
       "       70    0.000    0.000    0.000    0.000 {built-in method builtins.hash}\n",
       "       12    0.000    0.000    0.000    0.000 frame.py:659(_constructor_from_mgr)\n",
       "       34    0.000    0.000    0.000    0.000 managers.py:2002(internal_values)\n",
       "       73    0.000    0.000    0.000    0.000 abc.py:117(__instancecheck__)\n",
       "       82    0.000    0.000    0.000    0.000 common.py:123(<lambda>)\n",
       "       21    0.000    0.000    0.000    0.000 base.py:591(_ensure_array)\n",
       "       77    0.000    0.000    0.000    0.000 {built-in method __new__ of type object at 0x560ebf966380}\n",
       "       55    0.000    0.000    0.000    0.000 base.py:6312(_index_as_unique)\n",
       "        3    0.000    0.000    0.000    0.000 warnings.py:35(_formatwarnmsg_impl)\n",
       "       17    0.000    0.000    0.000    0.000 {built-in method numpy.array}\n",
       "       10    0.000    0.000    0.000    0.000 utils.py:32(__get__)\n",
       "       17    0.000    0.000    0.000    0.000 frame.py:672(_constructor_sliced_from_mgr)\n",
       "        3    0.000    0.000    0.000    0.000 warnings.py:130(filterwarnings)\n",
       "       22    0.000    0.000    0.000    0.000 generic.py:585(_get_axis)\n",
       "       21    0.000    0.000    0.000    0.000 base.py:7688(maybe_extract_name)\n",
       "        6    0.000    0.000    0.000    0.000 numeric.py:1330(normalize_axis_tuple)\n",
       "       48    0.000    0.000    0.000    0.000 base.py:831(_reset_identity)\n",
       "       82    0.000    0.000    0.000    0.000 common.py:121(classes)\n",
       "       34    0.000    0.000    0.000    0.000 series.py:827(_values)\n",
       "       11    0.000    0.000    0.001    0.000 base.py:6162(get_indexer_for)\n",
       "       45    0.000    0.000    0.000    0.000 range.py:999(__len__)\n",
       "       17    0.000    0.000    0.000    0.000 series.py:1462(_set_as_cached)\n",
       "       14    0.000    0.000    0.000    0.000 base.py:456(_engine_type)\n",
       "       21    0.000    0.000    0.000    0.000 base.py:609(_dtype_to_subclass)\n",
       "        3    0.000    0.000    0.000    0.000 managers.py:2309(_fast_count_smallints)\n",
       "       22    0.000    0.000    0.000    0.000 {method 'any' of 'numpy.ndarray' objects}\n",
       "       14    0.000    0.000    0.000    0.000 base.py:7723(_unpack_nested_dtype)\n",
       "        3    0.000    0.000    0.000    0.000 cast.py:1516(construct_1d_arraylike_from_scalar)\n",
       "       24    0.000    0.000    0.000    0.000 construction.py:481(ensure_wrapped_if_datetimelike)\n",
       "       11    0.000    0.000    0.000    0.000 base.py:4440(_maybe_preserve_names)\n",
       "        3    0.000    0.000    0.000    0.000 frame.py:5229(_sanitize_column)\n",
       "       10    0.000    0.000    0.000    0.000 prior.py:131(sampled_params)\n",
       "        6    0.000    0.000    0.000    0.000 function_base.py:2409(<listcomp>)\n",
       "       12    0.000    0.000    0.000    0.000 generic.py:4376(_set_is_copy)\n",
       "        3    0.000    0.000    0.000    0.000 managers.py:1402(_insert_update_mgr_locs)\n",
       "        3    0.000    0.000    0.000    0.000 managers.py:1412(_insert_update_blklocs_and_blknos)\n",
       "       10    0.000    0.000    0.000    0.000 function_base.py:348(iterable)\n",
       "        3    0.000    0.000    0.002    0.001 frame.py:4502(_set_item)\n",
       "        4    0.000    0.000    0.000    0.000 base.py:5425(_getitem_slice)\n",
       "       24    0.000    0.000    0.000    0.000 construction.py:416(extract_array)\n",
       "       20    0.000    0.000    0.000    0.000 __init__.py:55(using_pyarrow_string_dtype)\n",
       "       34    0.000    0.000    0.000    0.000 generic.py:571(_get_axis_number)\n",
       "       14    0.000    0.000    0.000    0.000 base.py:6415(_is_comparable_dtype)\n",
       "       22    0.000    0.000    0.001    0.000 base.py:6679(_maybe_cast_listlike_indexer)\n",
       "       17    0.000    0.000    0.000    0.000 blocks.py:1253(iget)\n",
       "       14    0.000    0.000    0.000    0.000 common.py:1040(needs_i8_conversion)\n",
       "        3    0.000    0.000    0.000    0.000 posixpath.py:150(dirname)\n",
       "       21    0.000    0.000    0.000    0.000 construction.py:732(_sanitize_str_dtypes)\n",
       "       41    0.000    0.000    0.000    0.000 {method 'get' of 'dict' objects}\n",
       "       32    0.000    0.000    0.000    0.000 common.py:372(apply_if_callable)\n",
       "       34    0.000    0.000    0.000    0.000 common.py:152(cast_scalar_indexer)\n",
       "        9    0.000    0.000    0.000    0.000 {built-in method builtins.any}\n",
       "       12    0.000    0.000    0.000    0.000 generic.py:591(_get_block_manager_axis)\n",
       "       17    0.000    0.000    0.000    0.000 frame.py:669(_sliced_from_mgr)\n",
       "        1    0.000    0.000    0.000    0.000 generic.py:4339(_getitem_slice)\n",
       "       22    0.000    0.000    0.000    0.000 inference.py:195(is_array_like)\n",
       "        5    0.000    0.000    0.000    0.000 blocks.py:253(fill_value)\n",
       "        3    0.000    0.000    0.000    0.000 posixpath.py:71(join)\n",
       "        6    0.000    0.000    0.004    0.001 function_base.py:2453(<listcomp>)\n",
       "       31    0.000    0.000    0.000    0.000 managers.py:196(blklocs)\n",
       "       18    0.000    0.000    0.000    0.000 common.py:131(<lambda>)\n",
       "       10    0.000    0.000    0.000    0.000 {method 'max' of 'numpy.ndarray' objects}\n",
       "        1    0.000    0.000    0.000    0.000 socket.py:621(send)\n",
       "       58    0.000    0.000    0.000    0.000 generic.py:404(flags)\n",
       "        5    0.000    0.000    0.000    0.000 missing.py:673(na_value_for_dtype)\n",
       "       22    0.000    0.000    0.000    0.000 _methods.py:55(_any)\n",
       "       15    0.000    0.000    0.000    0.000 managers.py:1392(<genexpr>)\n",
       "        3    0.000    0.000    0.000    0.000 warnings.py:181(_add_filter)\n",
       "       10    0.000    0.000    0.000    0.000 {built-in method builtins.iter}\n",
       "       10    0.000    0.000    0.000    0.000 {built-in method builtins.max}\n",
       "       47    0.000    0.000    0.000    0.000 base.py:1671(name)\n",
       "        3    0.000    0.000    0.000    0.000 config.py:127(_get_single_key)\n",
       "       65    0.000    0.000    0.000    0.000 {built-in method _warnings._filters_mutated}\n",
       "        3    0.000    0.000    0.000    0.000 blocks.py:2703(new_block_2d)\n",
       "        7    0.000    0.000    0.000    0.000 {method 'sum' of 'numpy.ndarray' objects}\n",
       "       17    0.000    0.000    0.000    0.000 managers.py:1835(__init__)\n",
       "       39    0.000    0.000    0.000    0.000 base.py:974(dtype)\n",
       "        3    0.000    0.000    0.000    0.000 re.py:289(_compile)\n",
       "        6    0.000    0.000    0.000    0.000 missing.py:184(_isna)\n",
       "        1    0.000    0.000    0.000    0.000 base.py:4201(_convert_slice_indexer)\n",
       "        6    0.000    0.000    0.000    0.000 warnings.py:403(__init__)\n",
       "        3    0.000    0.000    0.000    0.000 {method 'remove' of 'list' objects}\n",
       "        3    0.000    0.000    0.000    0.000 inference.py:273(is_dict_like)\n",
       "        3    0.000    0.000    0.000    0.000 warnings.py:20(_showwarnmsg_impl)\n",
       "        3    0.000    0.000    0.000    0.000 blocks.py:2811(ensure_block_shape)\n",
       "       20    0.000    0.000    0.000    0.000 __init__.py:42(warn_copy_on_write)\n",
       "        6    0.000    0.000    0.000    0.000 fromnumeric.py:1768(ravel)\n",
       "        7    0.000    0.000    0.000    0.000 blocks.py:214(is_extension)\n",
       "       27    0.000    0.000    0.000    0.000 base.py:3809(<genexpr>)\n",
       "       10    0.000    0.000    0.000    0.000 _methods.py:39(_amax)\n",
       "       45    0.000    0.000    0.000    0.000 {built-in method builtins.callable}\n",
       "       11    0.000    0.000    0.000    0.000 base.py:4436(_wrap_reindex_result)\n",
       "        3    0.000    0.000    0.000    0.000 logger.py:202(_showwarning)\n",
       "       18    0.000    0.000    0.000    0.000 common.py:126(_classes_and_not_datetimelike)\n",
       "       18    0.000    0.000    0.000    0.000 inspect.py:64(ismodule)\n",
       "       36    0.000    0.000    0.000    0.000 {method 'startswith' of 'str' objects}\n",
       "        3    0.000    0.000    0.000    0.000 warnings.py:96(_showwarnmsg)\n",
       "       29    0.000    0.000    0.000    0.000 generic.py:362(attrs)\n",
       "       29    0.000    0.000    0.000    0.000 flags.py:55(allows_duplicate_labels)\n",
       "        1    0.000    0.000    0.000    0.000 range.py:201(_simple_new)\n",
       "        6    0.000    0.000    0.000    0.000 function_base.py:2433(<listcomp>)\n",
       "       23    0.000    0.000    0.000    0.000 function_base.py:2405(<genexpr>)\n",
       "        3    0.000    0.000    0.000    0.000 blocks.py:2645(maybe_coerce_values)\n",
       "       17    0.000    0.000    0.000    0.000 base.py:2776(_is_multi)\n",
       "       15    0.000    0.000    0.000    0.000 _dtype.py:24(_kind_name)\n",
       "        3    0.000    0.000    0.000    0.000 config.py:635(_get_root)\n",
       "        6    0.000    0.000    0.000    0.000 function_base.py:2404(<listcomp>)\n",
       "        1    0.000    0.000    0.000    0.000 range.py:1032(_getitem_slice)\n",
       "        7    0.000    0.000    0.000    0.000 _methods.py:47(_sum)\n",
       "       10    0.000    0.000    0.000    0.000 generic.py:2034(keys)\n",
       "        3    0.000    0.000    0.000    0.000 linecache.py:26(getline)\n",
       "       22    0.000    0.000    0.000    0.000 missing.py:1073(clean_reindex_fill_method)\n",
       "        3    0.000    0.000    0.000    0.000 base.py:5295(_validate_fill_value)\n",
       "       38    0.000    0.000    0.000    0.000 typing.py:1375(cast)\n",
       "        6    0.000    0.000    0.000    0.000 config.py:649(_get_deprecated_option)\n",
       "       15    0.000    0.000    0.000    0.000 _dtype.py:330(_name_includes_bit_suffix)\n",
       "       18    0.000    0.000    0.000    0.000 inspect.py:247(isframe)\n",
       "        5    0.000    0.000    0.000    0.000 blocks.py:219(_can_consolidate)\n",
       "        3    0.000    0.000    0.000    0.000 {built-in method builtins.sum}\n",
       "        3    0.000    0.000    0.000    0.000 config.py:145(_get_option)\n",
       "       20    0.000    0.000    0.000    0.000 multiarray.py:1080(copyto)\n",
       "       18    0.000    0.000    0.000    0.000 inspect.py:73(isclass)\n",
       "       18    0.000    0.000    0.000    0.000 inspect.py:237(istraceback)\n",
       "        3    0.000    0.000    0.000    0.000 blocks.py:2674(get_block_type)\n",
       "       22    0.000    0.000    0.000    0.000 base.py:1176(_maybe_disallow_fill)\n",
       "       21    0.000    0.000    0.000    0.000 construction.py:752(_maybe_repeat)\n",
       "        1    0.000    0.000    0.000    0.000 iostream.py:259(schedule)\n",
       "       11    0.000    0.000    0.000    0.000 base.py:7652(ensure_has_len)\n",
       "        3    0.000    0.000    0.000    0.000 linecache.py:36(getlines)\n",
       "        6    0.000    0.000    0.000    0.000 frame.py:1036(shape)\n",
       "       11    0.000    0.000    0.000    0.000 function.py:64(__call__)\n",
       "        3    0.000    0.000    0.000    0.000 iostream.py:505(parent_header)\n",
       "       14    0.000    0.000    0.000    0.000 common.py:1122(<lambda>)\n",
       "        6    0.000    0.000    0.000    0.000 numeric.py:1380(<listcomp>)\n",
       "       18    0.000    0.000    0.000    0.000 inspect.py:159(isfunction)\n",
       "       18    0.000    0.000    0.000    0.000 inspect.py:81(ismethod)\n",
       "        6    0.000    0.000    0.000    0.000 missing.py:101(isna)\n",
       "       17    0.000    0.000    0.000    0.000 managers.py:1938(_block)\n",
       "       12    0.000    0.000    0.000    0.000 frame.py:655(_constructor)\n",
       "        3    0.000    0.000    0.000    0.000 warnings.py:10(showwarning)\n",
       "       18    0.000    0.000    0.000    0.000 inspect.py:261(iscode)\n",
       "        3    0.000    0.000    0.000    0.000 {built-in method builtins.sorted}\n",
       "       11    0.000    0.000    0.000    0.000 generic.py:695(ndim)\n",
       "        3    0.000    0.000    0.000    0.000 warnings.py:117(_formatwarnmsg)\n",
       "        3    0.000    0.000    0.000    0.000 iostream.py:550(_is_master_process)\n",
       "        3    0.000    0.000    0.000    0.000 inspect.py:1548(currentframe)\n",
       "        3    0.000    0.000    0.000    0.000 {method 'reshape' of 'numpy.ndarray' objects}\n",
       "        6    0.000    0.000    0.000    0.000 function_base.py:2352(<listcomp>)\n",
       "        3    0.000    0.000    0.000    0.000 config.py:273(__call__)\n",
       "        3    0.000    0.000    0.000    0.000 frame.py:4573(_ensure_valid_index)\n",
       "        3    0.000    0.000    0.000    0.000 types.py:171(__get__)\n",
       "        3    0.000    0.000    0.000    0.000 missing.py:728(is_valid_na_for_dtype)\n",
       "        3    0.000    0.000    0.000    0.000 {method 'nonzero' of 'numpy.ndarray' objects}\n",
       "       20    0.000    0.000    0.000    0.000 base.py:6672(_maybe_cast_indexer)\n",
       "        3    0.000    0.000    0.000    0.000 {method 'transpose' of 'numpy.ndarray' objects}\n",
       "        6    0.000    0.000    0.000    0.000 posixpath.py:41(_get_sep)\n",
       "        6    0.000    0.000    0.000    0.000 inference.py:300(<genexpr>)\n",
       "        3    0.000    0.000    0.000    0.000 re.py:250(compile)\n",
       "        3    0.000    0.000    0.000    0.000 config.py:688(_warn_if_deprecated)\n",
       "        3    0.000    0.000    0.000    0.000 {built-in method posix.getpid}\n",
       "        6    0.000    0.000    0.000    0.000 function_base.py:2363(<listcomp>)\n",
       "        3    0.000    0.000    0.000    0.000 frame.py:1631(__len__)\n",
       "        1    0.000    0.000    0.000    0.000 threading.py:1133(is_alive)\n",
       "        6    0.000    0.000    0.000    0.000 {method 'ravel' of 'numpy.ndarray' objects}\n",
       "        3    0.000    0.000    0.000    0.000 config.py:617(_select_options)\n",
       "       12    0.000    0.000    0.000    0.000 managers.py:913(__init__)\n",
       "        3    0.000    0.000    0.000    0.000 {built-in method gc.get_referents}\n",
       "        3    0.000    0.000    0.000    0.000 iostream.py:577(_schedule_flush)\n",
       "        6    0.000    0.000    0.000    0.000 {method 'insert' of 'list' objects}\n",
       "       10    0.000    0.000    0.000    0.000 {method 'append' of 'list' objects}\n",
       "        3    0.000    0.000    0.000    0.000 {built-in method builtins.all}\n",
       "       11    0.000    0.000    0.000    0.000 base.py:1979(nlevels)\n",
       "        5    0.000    0.000    0.000    0.000 blocks.py:718(dtype)\n",
       "        3    0.000    0.000    0.000    0.000 {method 'split' of 'str' objects}\n",
       "        1    0.000    0.000    0.000    0.000 utils.py:38(is_valid_positional_slice)\n",
       "        3    0.000    0.000    0.000    0.000 {method 'rfind' of 'str' objects}\n",
       "        6    0.000    0.000    0.000    0.000 {built-in method numpy.core._multiarray_umath.normalize_axis_index}\n",
       "        1    0.000    0.000    0.000    0.000 threading.py:1066(_wait_for_tstate_lock)\n",
       "        3    0.000    0.000    0.000    0.000 cast.py:1760(np_can_hold_element)\n",
       "        1    0.000    0.000    0.000    0.000 base.py:2794(_na_value)\n",
       "        3    0.000    0.000    0.000    0.000 enum.py:792(value)\n",
       "        6    0.000    0.000    0.000    0.000 {method 'join' of 'str' objects}\n",
       "        3    0.000    0.000    0.000    0.000 common.py:1270(is_1d_only_ea_dtype)\n",
       "        6    0.000    0.000    0.000    0.000 {method 'extend' of 'list' objects}\n",
       "        6    0.000    0.000    0.000    0.000 function_base.py:2362(<listcomp>)\n",
       "        3    0.000    0.000    0.000    0.000 managers.py:246(items)\n",
       "        3    0.000    0.000    0.000    0.000 config.py:676(_translate_key)\n",
       "        3    0.000    0.000    0.000    0.000 {method 'endswith' of 'str' objects}\n",
       "        3    0.000    0.000    0.000    0.000 {method 'item' of 'numpy.ndarray' objects}\n",
       "        6    0.000    0.000    0.000    0.000 function_base.py:2353(<listcomp>)\n",
       "        6    0.000    0.000    0.000    0.000 multiarray.py:153(concatenate)\n",
       "        3    0.000    0.000    0.000    0.000 {method 'strip' of 'str' objects}\n",
       "        6    0.000    0.000    0.000    0.000 {built-in method _operator.index}\n",
       "        6    0.000    0.000    0.000    0.000 {built-in method posix.fspath}\n",
       "        4    0.000    0.000    0.000    0.000 prior.py:779(lnprior)\n",
       "        3    0.000    0.000    0.000    0.000 numeric.py:1455(<listcomp>)\n",
       "        6    0.000    0.000    0.000    0.000 function_base.py:5559(_append_dispatcher)\n",
       "        3    0.000    0.000    0.000    0.000 {method 'write' of '_io.StringIO' objects}\n",
       "        6    0.000    0.000    0.000    0.000 fromnumeric.py:1764(_ravel_dispatcher)\n",
       "        3    0.000    0.000    0.000    0.000 {built-in method sys._getframe}\n",
       "        3    0.000    0.000    0.000    0.000 {method 'rstrip' of 'str' objects}\n",
       "        3    0.000    0.000    0.000    0.000 function_base.py:5365(_insert_dispatcher)\n",
       "        1    0.000    0.000    0.000    0.000 iostream.py:138(_event_pipe)\n",
       "        3    0.000    0.000    0.000    0.000 {method '__exit__' of '_thread.RLock' objects}\n",
       "        3    0.000    0.000    0.000    0.000 numeric.py:1389(_moveaxis_dispatcher)\n",
       "        1    0.000    0.000    0.000    0.000 {method 'acquire' of '_thread.lock' objects}\n",
       "        3    0.000    0.000    0.000    0.000 multiarray.py:892(bincount)\n",
       "        3    0.000    0.000    0.000    0.000 {method 'get' of 'ContextVar' objects}\n",
       "        3    0.000    0.000    0.000    0.000 {built-in method sys.getrefcount}\n",
       "        1    0.000    0.000    0.000    0.000 {method 'append' of 'collections.deque' objects}\n",
       "        1    0.000    0.000    0.000    0.000 base.py:692(_constructor)\n",
       "        1    0.000    0.000    0.000    0.000 {method 'disable' of '_lsprof.Profiler' objects}\n",
       "        1    0.000    0.000    0.000    0.000 threading.py:536(is_set)\n",
       "        1    0.000    0.000    0.000    0.000 tz.py:74(utcoffset)"
      ]
     },
     "metadata": {},
     "output_type": "display_data"
    }
   ],
   "source": [
    "%%prun\n",
    "zz = likelihood_object.parametrized_population.lnprior_and_transform_samples(mydf[0:20000], **test_hyp_dic, force_update=False)"
   ]
  },
  {
   "cell_type": "code",
   "execution_count": 17,
   "id": "1fe34945-c906-4e62-89f4-90ed0db704f0",
   "metadata": {},
   "outputs": [
    {
     "data": {
      "text/plain": [
       "['chieff_mean', 'chieff_sigma']"
      ]
     },
     "execution_count": 17,
     "metadata": {},
     "output_type": "execute_result"
    }
   ],
   "source": [
    "likelihood_object.parametrized_population.subpriors[5].__dict__['hyper_params']"
   ]
  },
  {
   "cell_type": "code",
   "execution_count": 12,
   "id": "354ed5af-e33f-4749-974a-b1d21db0aed2",
   "metadata": {},
   "outputs": [
    {
     "data": {
      "text/plain": [
       "<cogwheel.population_inference.population_likelihood.PopulationLikelihood at 0x7f2f8c16f370>"
      ]
     },
     "execution_count": 12,
     "metadata": {},
     "output_type": "execute_result"
    }
   ],
   "source": [
    "likelihood_object"
   ]
  },
  {
   "cell_type": "code",
   "execution_count": 13,
   "id": "4292bbc5-0650-4efd-84d3-30e86bf0370b",
   "metadata": {
    "scrolled": true
   },
   "outputs": [
    {
     "name": "stderr",
     "output_type": "stream",
     "text": [
      "/home/isha/PopulationSelectionEffects/cogwheel_population_inference/cogwheel/cogwheel/population_inference/population_likelihood.py:90: SettingWithCopyWarning: \n",
      "A value is trying to be set on a copy of a slice from a DataFrame.\n",
      "Try using .loc[row_indexer,col_indexer] = value instead\n",
      "\n",
      "See the caveats in the documentation: https://pandas.pydata.org/pandas-docs/stable/user_guide/indexing.html#returning-a-view-versus-a-copy\n",
      "  params_df[hyper_param] = np.full(len(params_df), hyperparams_dic[hyper_param])\n",
      "/home/isha/PopulationSelectionEffects/cogwheel_population_inference/cogwheel/cogwheel/population_inference/population_likelihood.py:90: SettingWithCopyWarning: \n",
      "A value is trying to be set on a copy of a slice from a DataFrame.\n",
      "Try using .loc[row_indexer,col_indexer] = value instead\n",
      "\n",
      "See the caveats in the documentation: https://pandas.pydata.org/pandas-docs/stable/user_guide/indexing.html#returning-a-view-versus-a-copy\n",
      "  params_df[hyper_param] = np.full(len(params_df), hyperparams_dic[hyper_param])\n",
      "/home/isha/PopulationSelectionEffects/cogwheel_population_inference/cogwheel/cogwheel/population_inference/population_likelihood.py:90: SettingWithCopyWarning: \n",
      "A value is trying to be set on a copy of a slice from a DataFrame.\n",
      "Try using .loc[row_indexer,col_indexer] = value instead\n",
      "\n",
      "See the caveats in the documentation: https://pandas.pydata.org/pandas-docs/stable/user_guide/indexing.html#returning-a-view-versus-a-copy\n",
      "  params_df[hyper_param] = np.full(len(params_df), hyperparams_dic[hyper_param])\n",
      "/home/isha/PopulationSelectionEffects/cogwheel_population_inference/cogwheel/cogwheel/population_inference/population_likelihood.py:68: SettingWithCopyWarning: \n",
      "A value is trying to be set on a copy of a slice from a DataFrame.\n",
      "Try using .loc[row_indexer,col_indexer] = value instead\n",
      "\n",
      "See the caveats in the documentation: https://pandas.pydata.org/pandas-docs/stable/user_guide/indexing.html#returning-a-view-versus-a-copy\n",
      "  pe_model_params_df[hyper_param] = np.full(len(pe_model_params_df), hyperparams_dic[hyper_param])\n",
      "/home/isha/PopulationSelectionEffects/cogwheel_population_inference/cogwheel/cogwheel/population_inference/population_likelihood.py:68: SettingWithCopyWarning: \n",
      "A value is trying to be set on a copy of a slice from a DataFrame.\n",
      "Try using .loc[row_indexer,col_indexer] = value instead\n",
      "\n",
      "See the caveats in the documentation: https://pandas.pydata.org/pandas-docs/stable/user_guide/indexing.html#returning-a-view-versus-a-copy\n",
      "  pe_model_params_df[hyper_param] = np.full(len(pe_model_params_df), hyperparams_dic[hyper_param])\n",
      "/home/isha/PopulationSelectionEffects/cogwheel_population_inference/cogwheel/cogwheel/population_inference/population_likelihood.py:68: SettingWithCopyWarning: \n",
      "A value is trying to be set on a copy of a slice from a DataFrame.\n",
      "Try using .loc[row_indexer,col_indexer] = value instead\n",
      "\n",
      "See the caveats in the documentation: https://pandas.pydata.org/pandas-docs/stable/user_guide/indexing.html#returning-a-view-versus-a-copy\n",
      "  pe_model_params_df[hyper_param] = np.full(len(pe_model_params_df), hyperparams_dic[hyper_param])\n",
      "/home/isha/PopulationSelectionEffects/cogwheel_population_inference/cogwheel/cogwheel/population_inference/population_likelihood.py:68: SettingWithCopyWarning: \n",
      "A value is trying to be set on a copy of a slice from a DataFrame.\n",
      "Try using .loc[row_indexer,col_indexer] = value instead\n",
      "\n",
      "See the caveats in the documentation: https://pandas.pydata.org/pandas-docs/stable/user_guide/indexing.html#returning-a-view-versus-a-copy\n",
      "  pe_model_params_df[hyper_param] = np.full(len(pe_model_params_df), hyperparams_dic[hyper_param])\n",
      "/home/isha/PopulationSelectionEffects/cogwheel_population_inference/cogwheel/cogwheel/population_inference/population_likelihood.py:68: SettingWithCopyWarning: \n",
      "A value is trying to be set on a copy of a slice from a DataFrame.\n",
      "Try using .loc[row_indexer,col_indexer] = value instead\n",
      "\n",
      "See the caveats in the documentation: https://pandas.pydata.org/pandas-docs/stable/user_guide/indexing.html#returning-a-view-versus-a-copy\n",
      "  pe_model_params_df[hyper_param] = np.full(len(pe_model_params_df), hyperparams_dic[hyper_param])\n",
      "/home/isha/PopulationSelectionEffects/cogwheel_population_inference/cogwheel/cogwheel/population_inference/population_likelihood.py:68: SettingWithCopyWarning: \n",
      "A value is trying to be set on a copy of a slice from a DataFrame.\n",
      "Try using .loc[row_indexer,col_indexer] = value instead\n",
      "\n",
      "See the caveats in the documentation: https://pandas.pydata.org/pandas-docs/stable/user_guide/indexing.html#returning-a-view-versus-a-copy\n",
      "  pe_model_params_df[hyper_param] = np.full(len(pe_model_params_df), hyperparams_dic[hyper_param])\n"
     ]
    },
    {
     "ename": "KeyboardInterrupt",
     "evalue": "",
     "output_type": "error",
     "traceback": [
      "\u001b[0;31m---------------------------------------------------------------------------\u001b[0m",
      "\u001b[0;31mKeyboardInterrupt\u001b[0m                         Traceback (most recent call last)",
      "Cell \u001b[0;32mIn[13], line 1\u001b[0m\n\u001b[0;32m----> 1\u001b[0m \u001b[43mlikelihood_object\u001b[49m\u001b[38;5;241;43m.\u001b[39;49m\u001b[43mlnlike\u001b[49m\u001b[43m(\u001b[49m\u001b[43mhyperparams_dic\u001b[49m\u001b[38;5;241;43m=\u001b[39;49m\u001b[43mtest_hyp_dic\u001b[49m\u001b[43m)\u001b[49m\n",
      "File \u001b[0;32m~/PopulationSelectionEffects/cogwheel_population_inference/cogwheel/cogwheel/population_inference/population_likelihood.py:39\u001b[0m, in \u001b[0;36mPopulationLikelihood.lnlike\u001b[0;34m(self, hyperparams_dic)\u001b[0m\n\u001b[1;32m     34\u001b[0m \u001b[38;5;28;01mdef\u001b[39;00m \u001b[38;5;21mlnlike\u001b[39m(\u001b[38;5;28mself\u001b[39m, hyperparams_dic):\n\u001b[1;32m     35\u001b[0m \u001b[38;5;250m    \u001b[39m\u001b[38;5;124;03m\"\"\"\u001b[39;00m\n\u001b[1;32m     36\u001b[0m \u001b[38;5;124;03m    Returns the log likelihood of population model (Eq. 16)\u001b[39;00m\n\u001b[1;32m     37\u001b[0m \u001b[38;5;124;03m    \"\"\"\u001b[39;00m\n\u001b[1;32m     38\u001b[0m     lnlike \u001b[38;5;241m=\u001b[39m (\u001b[38;5;241m-\u001b[39m hyperparams_dic[\u001b[38;5;124m'\u001b[39m\u001b[38;5;124mR\u001b[39m\u001b[38;5;124m'\u001b[39m]\u001b[38;5;241m*\u001b[39m\u001b[38;5;28mself\u001b[39m\u001b[38;5;241m.\u001b[39mVT(hyperparams_dic) \u001b[38;5;241m+\u001b[39m \n\u001b[0;32m---> 39\u001b[0m               np\u001b[38;5;241m.\u001b[39msum(np\u001b[38;5;241m.\u001b[39mlog((hyperparams_dic[\u001b[38;5;124m'\u001b[39m\u001b[38;5;124mR\u001b[39m\u001b[38;5;124m'\u001b[39m]\u001b[38;5;241m/\u001b[39m\u001b[38;5;28mself\u001b[39m\u001b[38;5;241m.\u001b[39mR0)\u001b[38;5;241m*\u001b[39m\u001b[38;5;28;43mself\u001b[39;49m\u001b[38;5;241;43m.\u001b[39;49m\u001b[43mw_i\u001b[49m\u001b[43m(\u001b[49m\u001b[43mhyperparams_dic\u001b[49m\u001b[43m)\u001b[49m\u001b[38;5;241m*\u001b[39m\u001b[38;5;28mself\u001b[39m\u001b[38;5;241m.\u001b[39mpastro_func) \n\u001b[1;32m     40\u001b[0m                     \u001b[38;5;241m+\u001b[39m (\u001b[38;5;241m1\u001b[39m\u001b[38;5;241m-\u001b[39m\u001b[38;5;28mself\u001b[39m\u001b[38;5;241m.\u001b[39mpastro_func)))\n\u001b[1;32m     41\u001b[0m     \u001b[38;5;28;01mreturn\u001b[39;00m lnlike\n",
      "File \u001b[0;32m~/PopulationSelectionEffects/cogwheel_population_inference/cogwheel/cogwheel/population_inference/population_likelihood.py:73\u001b[0m, in \u001b[0;36mPopulationLikelihood.w_i\u001b[0;34m(self, hyperparams_dic)\u001b[0m\n\u001b[1;32m     68\u001b[0m         pe_model_params_df[hyper_param] \u001b[38;5;241m=\u001b[39m np\u001b[38;5;241m.\u001b[39mfull(\u001b[38;5;28mlen\u001b[39m(pe_model_params_df), hyperparams_dic[hyper_param])\n\u001b[1;32m     70\u001b[0m     \u001b[38;5;66;03m# pe_inj_params_df = pe_samples[inj_param_keys]\u001b[39;00m\n\u001b[1;32m     71\u001b[0m     \u001b[38;5;66;03m# inj_params_dict = {col: pe_inj_params_df[col].to_numpy() for col in pe_inj_params_df.columns}\u001b[39;00m\n\u001b[0;32m---> 73\u001b[0m     w_arr[i] \u001b[38;5;241m=\u001b[39m (np\u001b[38;5;241m.\u001b[39msum(np\u001b[38;5;241m.\u001b[39mexp(\u001b[43mvectorized_population_lnprior\u001b[49m\u001b[43m(\u001b[49m\u001b[38;5;241;43m*\u001b[39;49m\u001b[38;5;241;43m*\u001b[39;49m\u001b[43mpe_model_params_df\u001b[49m\u001b[43m)\u001b[49m \u001b[38;5;241m-\u001b[39m \n\u001b[1;32m     74\u001b[0m                           pe_samples[\u001b[38;5;124m'\u001b[39m\u001b[38;5;124mlnl\u001b[39m\u001b[38;5;124m'\u001b[39m]))\u001b[38;5;241m/\u001b[39m\n\u001b[1;32m     75\u001b[0m              np\u001b[38;5;241m.\u001b[39msum(np\u001b[38;5;241m.\u001b[39mexp(vectorized_injection_population_lnprior(\u001b[38;5;241m*\u001b[39m\u001b[38;5;241m*\u001b[39mpe_inj_params_df) \u001b[38;5;241m-\u001b[39m \n\u001b[1;32m     76\u001b[0m                           pe_samples[\u001b[38;5;124m'\u001b[39m\u001b[38;5;124mlnl\u001b[39m\u001b[38;5;124m'\u001b[39m])))\n\u001b[1;32m     77\u001b[0m \u001b[38;5;28;01mreturn\u001b[39;00m w_arr\n",
      "File \u001b[0;32m~/miniconda3/envs/cogwheel_pop_latest/lib/python3.9/site-packages/numpy/lib/function_base.py:2372\u001b[0m, in \u001b[0;36mvectorize.__call__\u001b[0;34m(self, *args, **kwargs)\u001b[0m\n\u001b[1;32m   2369\u001b[0m     \u001b[38;5;28mself\u001b[39m\u001b[38;5;241m.\u001b[39m_init_stage_2(\u001b[38;5;241m*\u001b[39margs, \u001b[38;5;241m*\u001b[39m\u001b[38;5;241m*\u001b[39mkwargs)\n\u001b[1;32m   2370\u001b[0m     \u001b[38;5;28;01mreturn\u001b[39;00m \u001b[38;5;28mself\u001b[39m\n\u001b[0;32m-> 2372\u001b[0m \u001b[38;5;28;01mreturn\u001b[39;00m \u001b[38;5;28;43mself\u001b[39;49m\u001b[38;5;241;43m.\u001b[39;49m\u001b[43m_call_as_normal\u001b[49m\u001b[43m(\u001b[49m\u001b[38;5;241;43m*\u001b[39;49m\u001b[43margs\u001b[49m\u001b[43m,\u001b[49m\u001b[43m \u001b[49m\u001b[38;5;241;43m*\u001b[39;49m\u001b[38;5;241;43m*\u001b[39;49m\u001b[43mkwargs\u001b[49m\u001b[43m)\u001b[49m\n",
      "File \u001b[0;32m~/miniconda3/envs/cogwheel_pop_latest/lib/python3.9/site-packages/numpy/lib/function_base.py:2365\u001b[0m, in \u001b[0;36mvectorize._call_as_normal\u001b[0;34m(self, *args, **kwargs)\u001b[0m\n\u001b[1;32m   2362\u001b[0m     vargs \u001b[38;5;241m=\u001b[39m [args[_i] \u001b[38;5;28;01mfor\u001b[39;00m _i \u001b[38;5;129;01min\u001b[39;00m inds]\n\u001b[1;32m   2363\u001b[0m     vargs\u001b[38;5;241m.\u001b[39mextend([kwargs[_n] \u001b[38;5;28;01mfor\u001b[39;00m _n \u001b[38;5;129;01min\u001b[39;00m names])\n\u001b[0;32m-> 2365\u001b[0m \u001b[38;5;28;01mreturn\u001b[39;00m \u001b[38;5;28;43mself\u001b[39;49m\u001b[38;5;241;43m.\u001b[39;49m\u001b[43m_vectorize_call\u001b[49m\u001b[43m(\u001b[49m\u001b[43mfunc\u001b[49m\u001b[38;5;241;43m=\u001b[39;49m\u001b[43mfunc\u001b[49m\u001b[43m,\u001b[49m\u001b[43m \u001b[49m\u001b[43margs\u001b[49m\u001b[38;5;241;43m=\u001b[39;49m\u001b[43mvargs\u001b[49m\u001b[43m)\u001b[49m\n",
      "File \u001b[0;32m~/miniconda3/envs/cogwheel_pop_latest/lib/python3.9/site-packages/numpy/lib/function_base.py:2455\u001b[0m, in \u001b[0;36mvectorize._vectorize_call\u001b[0;34m(self, func, args)\u001b[0m\n\u001b[1;32m   2452\u001b[0m \u001b[38;5;66;03m# Convert args to object arrays first\u001b[39;00m\n\u001b[1;32m   2453\u001b[0m inputs \u001b[38;5;241m=\u001b[39m [asanyarray(a, dtype\u001b[38;5;241m=\u001b[39m\u001b[38;5;28mobject\u001b[39m) \u001b[38;5;28;01mfor\u001b[39;00m a \u001b[38;5;129;01min\u001b[39;00m args]\n\u001b[0;32m-> 2455\u001b[0m outputs \u001b[38;5;241m=\u001b[39m \u001b[43mufunc\u001b[49m\u001b[43m(\u001b[49m\u001b[38;5;241;43m*\u001b[39;49m\u001b[43minputs\u001b[49m\u001b[43m)\u001b[49m\n\u001b[1;32m   2457\u001b[0m \u001b[38;5;28;01mif\u001b[39;00m ufunc\u001b[38;5;241m.\u001b[39mnout \u001b[38;5;241m==\u001b[39m \u001b[38;5;241m1\u001b[39m:\n\u001b[1;32m   2458\u001b[0m     res \u001b[38;5;241m=\u001b[39m asanyarray(outputs, dtype\u001b[38;5;241m=\u001b[39motypes[\u001b[38;5;241m0\u001b[39m])\n",
      "File \u001b[0;32m~/miniconda3/envs/cogwheel_pop_latest/lib/python3.9/site-packages/numpy/lib/function_base.py:2360\u001b[0m, in \u001b[0;36mvectorize._call_as_normal.<locals>.func\u001b[0;34m(*vargs)\u001b[0m\n\u001b[1;32m   2358\u001b[0m     the_args[_i] \u001b[38;5;241m=\u001b[39m vargs[_n]\n\u001b[1;32m   2359\u001b[0m kwargs\u001b[38;5;241m.\u001b[39mupdate(\u001b[38;5;28mzip\u001b[39m(names, vargs[\u001b[38;5;28mlen\u001b[39m(inds):]))\n\u001b[0;32m-> 2360\u001b[0m \u001b[38;5;28;01mreturn\u001b[39;00m \u001b[38;5;28;43mself\u001b[39;49m\u001b[38;5;241;43m.\u001b[39;49m\u001b[43mpyfunc\u001b[49m\u001b[43m(\u001b[49m\u001b[38;5;241;43m*\u001b[39;49m\u001b[43mthe_args\u001b[49m\u001b[43m,\u001b[49m\u001b[43m \u001b[49m\u001b[38;5;241;43m*\u001b[39;49m\u001b[38;5;241;43m*\u001b[39;49m\u001b[43mkwargs\u001b[49m\u001b[43m)\u001b[49m\n",
      "File \u001b[0;32m~/PopulationSelectionEffects/cogwheel_population_inference/cogwheel/cogwheel/population_inference/population_models.py:229\u001b[0m, in \u001b[0;36mCombinedParametrizedPrior.__init_subclass__.<locals>.lnprior\u001b[0;34m(self, *par_vals, **par_dic)\u001b[0m\n\u001b[1;32m    223\u001b[0m \u001b[38;5;28;01mdef\u001b[39;00m \u001b[38;5;21mlnprior\u001b[39m(\u001b[38;5;28mself\u001b[39m, \u001b[38;5;241m*\u001b[39mpar_vals, \u001b[38;5;241m*\u001b[39m\u001b[38;5;241m*\u001b[39mpar_dic):\n\u001b[1;32m    224\u001b[0m \u001b[38;5;250m    \u001b[39m\u001b[38;5;124;03m\"\"\"\u001b[39;00m\n\u001b[1;32m    225\u001b[0m \u001b[38;5;124;03m    Natural logarithm of the prior probability density.\u001b[39;00m\n\u001b[1;32m    226\u001b[0m \u001b[38;5;124;03m    Take `self.sampled_params + self.conditioned_on` parameters\u001b[39;00m\n\u001b[1;32m    227\u001b[0m \u001b[38;5;124;03m    and return a float.\u001b[39;00m\n\u001b[1;32m    228\u001b[0m \u001b[38;5;124;03m    \"\"\"\u001b[39;00m\n\u001b[0;32m--> 229\u001b[0m     \u001b[38;5;28;01mreturn\u001b[39;00m \u001b[38;5;28;43mself\u001b[39;49m\u001b[38;5;241;43m.\u001b[39;49m\u001b[43mlnprior_and_transform\u001b[49m\u001b[43m(\u001b[49m\u001b[38;5;241;43m*\u001b[39;49m\u001b[43mpar_vals\u001b[49m\u001b[43m,\u001b[49m\u001b[43m \u001b[49m\u001b[38;5;241;43m*\u001b[39;49m\u001b[38;5;241;43m*\u001b[39;49m\u001b[43mpar_dic\u001b[49m\u001b[43m)\u001b[49m[\u001b[38;5;241m0\u001b[39m]\n",
      "File \u001b[0;32m~/PopulationSelectionEffects/cogwheel_population_inference/cogwheel/cogwheel/population_inference/population_models.py:207\u001b[0m, in \u001b[0;36mCombinedParametrizedPrior.__init_subclass__.<locals>.lnprior_and_transform\u001b[0;34m(self, *par_vals, **par_dic)\u001b[0m\n\u001b[1;32m    198\u001b[0m \u001b[38;5;250m\u001b[39m\u001b[38;5;124;03m\"\"\"\u001b[39;00m\n\u001b[1;32m    199\u001b[0m \u001b[38;5;124;03mTake sampled and conditioned-on parameters, and return a\u001b[39;00m\n\u001b[1;32m    200\u001b[0m \u001b[38;5;124;03m2-element tuple with the log of the prior and a dictionary\u001b[39;00m\n\u001b[0;32m   (...)\u001b[0m\n\u001b[1;32m    204\u001b[0m \u001b[38;5;124;03mboth are wanted it is efficient to compute them at once.\u001b[39;00m\n\u001b[1;32m    205\u001b[0m \u001b[38;5;124;03m\"\"\"\u001b[39;00m\n\u001b[1;32m    206\u001b[0m par_dic\u001b[38;5;241m.\u001b[39mupdate(\u001b[38;5;28mdict\u001b[39m(\u001b[38;5;28mzip\u001b[39m(direct_params, par_vals)))\n\u001b[0;32m--> 207\u001b[0m standard_par_dic \u001b[38;5;241m=\u001b[39m \u001b[38;5;28;43mself\u001b[39;49m\u001b[38;5;241;43m.\u001b[39;49m\u001b[43mtransform\u001b[49m\u001b[43m(\u001b[49m\u001b[38;5;241;43m*\u001b[39;49m\u001b[38;5;241;43m*\u001b[39;49m\u001b[43mpar_dic\u001b[49m\u001b[43m)\u001b[49m\n\u001b[1;32m    208\u001b[0m par_dic\u001b[38;5;241m.\u001b[39mupdate(standard_par_dic)\n\u001b[1;32m    210\u001b[0m lnp \u001b[38;5;241m=\u001b[39m \u001b[38;5;241m0\u001b[39m\n",
      "File \u001b[0;32m~/PopulationSelectionEffects/cogwheel_population_inference/cogwheel/cogwheel/population_inference/population_models.py:178\u001b[0m, in \u001b[0;36mCombinedParametrizedPrior.__init_subclass__.<locals>.transform\u001b[0;34m(self, *par_vals, **par_dic)\u001b[0m\n\u001b[1;32m    174\u001b[0m \u001b[38;5;28;01mfor\u001b[39;00m subprior \u001b[38;5;129;01min\u001b[39;00m \u001b[38;5;28mself\u001b[39m\u001b[38;5;241m.\u001b[39msubpriors:\n\u001b[1;32m    175\u001b[0m     input_dic \u001b[38;5;241m=\u001b[39m {par: par_dic[par]\n\u001b[1;32m    176\u001b[0m                  \u001b[38;5;28;01mfor\u001b[39;00m par \u001b[38;5;129;01min\u001b[39;00m (subprior\u001b[38;5;241m.\u001b[39msampled_params\n\u001b[1;32m    177\u001b[0m                              \u001b[38;5;241m+\u001b[39m subprior\u001b[38;5;241m.\u001b[39mconditioned_on)}\n\u001b[0;32m--> 178\u001b[0m     par_dic\u001b[38;5;241m.\u001b[39mupdate(\u001b[43msubprior\u001b[49m\u001b[38;5;241;43m.\u001b[39;49m\u001b[43mtransform\u001b[49m\u001b[43m(\u001b[49m\u001b[38;5;241;43m*\u001b[39;49m\u001b[38;5;241;43m*\u001b[39;49m\u001b[43minput_dic\u001b[49m\u001b[43m)\u001b[49m)\n\u001b[1;32m    179\u001b[0m \u001b[38;5;28;01mreturn\u001b[39;00m {par: par_dic[par] \u001b[38;5;28;01mfor\u001b[39;00m par \u001b[38;5;129;01min\u001b[39;00m \u001b[38;5;28mself\u001b[39m\u001b[38;5;241m.\u001b[39mstandard_params}\n",
      "File \u001b[0;32m~/PopulationSelectionEffects/cogwheel_population_inference/cogwheel/cogwheel/gw_prior/extrinsic.py:104\u001b[0m, in \u001b[0;36mUniformPhasePrior.transform\u001b[0;34m(self, phi_ref_hat, iota, ra, dec, psi, t_geocenter)\u001b[0m\n\u001b[1;32m    101\u001b[0m \u001b[38;5;129m@utils\u001b[39m\u001b[38;5;241m.\u001b[39mlru_cache()\n\u001b[1;32m    102\u001b[0m \u001b[38;5;28;01mdef\u001b[39;00m \u001b[38;5;21mtransform\u001b[39m(\u001b[38;5;28mself\u001b[39m, phi_ref_hat, iota, ra, dec, psi, t_geocenter):\n\u001b[1;32m    103\u001b[0m \u001b[38;5;250m    \u001b[39m\u001b[38;5;124;03m\"\"\"phi_ref_hat to phi_ref.\"\"\"\u001b[39;00m\n\u001b[0;32m--> 104\u001b[0m     phase_refdet \u001b[38;5;241m=\u001b[39m \u001b[38;5;28;43mself\u001b[39;49m\u001b[38;5;241;43m.\u001b[39;49m\u001b[43m_phase_refdet\u001b[49m\u001b[43m(\u001b[49m\u001b[43miota\u001b[49m\u001b[43m,\u001b[49m\u001b[43m \u001b[49m\u001b[43mra\u001b[49m\u001b[43m,\u001b[49m\u001b[43m \u001b[49m\u001b[43mdec\u001b[49m\u001b[43m,\u001b[49m\u001b[43m \u001b[49m\u001b[43mpsi\u001b[49m\u001b[43m,\u001b[49m\u001b[43m \u001b[49m\u001b[43mt_geocenter\u001b[49m\u001b[43m,\u001b[49m\n\u001b[1;32m    105\u001b[0m \u001b[43m                                      \u001b[49m\u001b[43mphi_ref\u001b[49m\u001b[38;5;241;43m=\u001b[39;49m\u001b[38;5;241;43m0\u001b[39;49m\u001b[43m)\u001b[49m\n\u001b[1;32m    106\u001b[0m     phi_ref \u001b[38;5;241m=\u001b[39m (phi_ref_hat\n\u001b[1;32m    107\u001b[0m                \u001b[38;5;241m-\u001b[39m (phase_refdet \u001b[38;5;241m-\u001b[39m \u001b[38;5;28mself\u001b[39m\u001b[38;5;241m.\u001b[39m_phase_refdet_0) \u001b[38;5;241m/\u001b[39m \u001b[38;5;241m2\u001b[39m) \u001b[38;5;241m%\u001b[39m (\u001b[38;5;241m2\u001b[39m\u001b[38;5;241m*\u001b[39mnp\u001b[38;5;241m.\u001b[39mpi)\n\u001b[1;32m    108\u001b[0m     \u001b[38;5;28;01mreturn\u001b[39;00m {\u001b[38;5;124m'\u001b[39m\u001b[38;5;124mphi_ref\u001b[39m\u001b[38;5;124m'\u001b[39m: phi_ref}\n",
      "File \u001b[0;32m~/PopulationSelectionEffects/cogwheel_population_inference/cogwheel/cogwheel/gw_prior/extrinsic.py:99\u001b[0m, in \u001b[0;36mUniformPhasePrior._phase_refdet\u001b[0;34m(self, iota, ra, dec, psi, t_geocenter, phi_ref)\u001b[0m\n\u001b[1;32m     91\u001b[0m \u001b[38;5;250m\u001b[39m\u001b[38;5;124;03m\"\"\"\u001b[39;00m\n\u001b[1;32m     92\u001b[0m \u001b[38;5;124;03mReturn the well-measurable overall phase at the reference\u001b[39;00m\n\u001b[1;32m     93\u001b[0m \u001b[38;5;124;03mdetector. The intuition is that all allowed values of\u001b[39;00m\n\u001b[1;32m     94\u001b[0m \u001b[38;5;124;03m(phi_ref, iota, ra, dec, psi, t_geocenter) would have a\u001b[39;00m\n\u001b[1;32m     95\u001b[0m \u001b[38;5;124;03mconsistent value of phase_refdet.\u001b[39;00m\n\u001b[1;32m     96\u001b[0m \u001b[38;5;124;03m\"\"\"\u001b[39;00m\n\u001b[1;32m     97\u001b[0m t_refdet \u001b[38;5;241m=\u001b[39m t_geocenter \u001b[38;5;241m+\u001b[39m \u001b[38;5;28mself\u001b[39m\u001b[38;5;241m.\u001b[39mtime_delay_refdet(ra, dec)\n\u001b[1;32m     98\u001b[0m \u001b[38;5;28;01mreturn\u001b[39;00m (np\u001b[38;5;241m.\u001b[39mangle(\u001b[38;5;28mself\u001b[39m\u001b[38;5;241m.\u001b[39mgeometric_factor_refdet(ra, dec, psi, iota))\n\u001b[0;32m---> 99\u001b[0m         \u001b[38;5;241m+\u001b[39m \u001b[38;5;241m2\u001b[39m\u001b[38;5;241m*\u001b[39mphi_ref \u001b[38;5;241m-\u001b[39m \u001b[38;5;241;43m2\u001b[39;49m\u001b[38;5;241;43m*\u001b[39;49m\u001b[43mnp\u001b[49m\u001b[38;5;241;43m.\u001b[39;49m\u001b[43mpi\u001b[49m\u001b[38;5;241m*\u001b[39m\u001b[38;5;28mself\u001b[39m\u001b[38;5;241m.\u001b[39mf_avg\u001b[38;5;241m*\u001b[39mt_refdet) \u001b[38;5;241m%\u001b[39m (\u001b[38;5;241m2\u001b[39m\u001b[38;5;241m*\u001b[39mnp\u001b[38;5;241m.\u001b[39mpi)\n",
      "\u001b[0;31mKeyboardInterrupt\u001b[0m: "
     ]
    }
   ],
   "source": [
    "likelihood_object.lnlike(hyperparams_dic=test_hyp_dic)"
   ]
  },
  {
   "cell_type": "code",
   "execution_count": 24,
   "id": "b5158abb-e7b2-42a1-9831-f9ae2befbc1a",
   "metadata": {},
   "outputs": [
    {
     "name": "stdout",
     "output_type": "stream",
     "text": [
      "> \u001b[0;32m/home/isha/PopulationSelectionEffects/cogwheel_population_inference/cogwheel/cogwheel/gw_prior/extrinsic.py\u001b[0m(33)\u001b[0;36mtime_delay_refdet\u001b[0;34m()\u001b[0m\n",
      "\u001b[0;32m     31 \u001b[0;31m    \u001b[0;32mdef\u001b[0m \u001b[0mtime_delay_refdet\u001b[0m\u001b[0;34m(\u001b[0m\u001b[0mself\u001b[0m\u001b[0;34m,\u001b[0m \u001b[0mra\u001b[0m\u001b[0;34m,\u001b[0m \u001b[0mdec\u001b[0m\u001b[0;34m)\u001b[0m\u001b[0;34m:\u001b[0m\u001b[0;34m\u001b[0m\u001b[0;34m\u001b[0m\u001b[0m\n",
      "\u001b[0m\u001b[0;32m     32 \u001b[0;31m        \u001b[0;34m\"\"\"Time delay from Earth center to the reference detector.\"\"\"\u001b[0m\u001b[0;34m\u001b[0m\u001b[0;34m\u001b[0m\u001b[0m\n",
      "\u001b[0m\u001b[0;32m---> 33 \u001b[0;31m        return lal.TimeDelayFromEarthCenter(self.ref_det_location, ra, dec,\n",
      "\u001b[0m\u001b[0;32m     34 \u001b[0;31m                                            self.tgps)\n",
      "\u001b[0m\u001b[0;32m     35 \u001b[0;31m\u001b[0;34m\u001b[0m\u001b[0m\n",
      "\u001b[0m\n"
     ]
    },
    {
     "name": "stdin",
     "output_type": "stream",
     "text": [
      "ipdb>  len(ra)\n"
     ]
    },
    {
     "name": "stdout",
     "output_type": "stream",
     "text": [
      "5547\n"
     ]
    },
    {
     "name": "stdin",
     "output_type": "stream",
     "text": [
      "ipdb>  type(ra)\n"
     ]
    },
    {
     "name": "stdout",
     "output_type": "stream",
     "text": [
      "<class 'tuple'>\n",
      "--KeyboardInterrupt--\n",
      "\n",
      "KeyboardInterrupt: Interrupted by user\n"
     ]
    }
   ],
   "source": [
    "%debug"
   ]
  },
  {
   "cell_type": "code",
   "execution_count": 15,
   "id": "43b47b2e-a6f6-4e15-9354-35888213cae2",
   "metadata": {},
   "outputs": [
    {
     "data": {
      "text/plain": [
       "['R', 'lambda1', 'lambda2']"
      ]
     },
     "execution_count": 15,
     "metadata": {},
     "output_type": "execute_result"
    }
   ],
   "source": [
    "combined_pop_prior.hyper_prior_class().standard_params"
   ]
  },
  {
   "cell_type": "code",
   "execution_count": 13,
   "id": "0fd9f243-9a77-4a4e-89df-dc2e924c3cd2",
   "metadata": {},
   "outputs": [
    {
     "data": {
      "text/plain": [
       "FixedTestPopulationPrior(m1, m2) → [iota, ra, dec, t_geocenter, psi, phi_ref, m1, m2, s1z, s2z, s1x_n, s1y_n, s2x_n, s2y_n, l1, l2, f_ref, d_luminosity]"
      ]
     },
     "execution_count": 13,
     "metadata": {},
     "output_type": "execute_result"
    }
   ],
   "source": [
    "combined_pop_prior"
   ]
  },
  {
   "cell_type": "code",
   "execution_count": null,
   "id": "77e686ab-1f98-46ce-a72d-40b410fbe650",
   "metadata": {},
   "outputs": [
    {
     "name": "stdout",
     "output_type": "stream",
     "text": [
      "> \u001b[0;32m/home/isha/PopulationSelectionEffects/cogwheel_population_inference/cogwheel/cogwheel/population_inference/population_models.py\u001b[0m(217)\u001b[0;36mlnprior_and_transform\u001b[0;34m()\u001b[0m\n",
      "\u001b[0;32m    215 \u001b[0;31m                                         \u001b[0;34m+\u001b[0m \u001b[0msubprior\u001b[0m\u001b[0;34m.\u001b[0m\u001b[0mconditioned_on\u001b[0m\u001b[0;34m\u001b[0m\u001b[0;34m\u001b[0m\u001b[0m\n",
      "\u001b[0m\u001b[0;32m    216 \u001b[0;31m                                         + hyperparam_list)}\n",
      "\u001b[0m\u001b[0;32m--> 217 \u001b[0;31m                \u001b[0mlnp\u001b[0m \u001b[0;34m+=\u001b[0m \u001b[0msubprior\u001b[0m\u001b[0;34m.\u001b[0m\u001b[0mlnprior\u001b[0m\u001b[0;34m(\u001b[0m\u001b[0;34m**\u001b[0m\u001b[0minput_dic\u001b[0m\u001b[0;34m)\u001b[0m\u001b[0;34m\u001b[0m\u001b[0;34m\u001b[0m\u001b[0m\n",
      "\u001b[0m\u001b[0;32m    218 \u001b[0;31m            \u001b[0;32mreturn\u001b[0m \u001b[0mlnp\u001b[0m\u001b[0;34m,\u001b[0m \u001b[0mstandard_par_dic\u001b[0m\u001b[0;34m\u001b[0m\u001b[0;34m\u001b[0m\u001b[0m\n",
      "\u001b[0m\u001b[0;32m    219 \u001b[0;31m\u001b[0;34m\u001b[0m\u001b[0m\n",
      "\u001b[0m\n"
     ]
    },
    {
     "name": "stdin",
     "output_type": "stream",
     "text": [
      "ipdb>  input_dic\n"
     ]
    },
    {
     "name": "stdout",
     "output_type": "stream",
     "text": [
      "{'m1': 5.431003254248099, 'm2': 5.417386225076431}\n"
     ]
    }
   ],
   "source": [
    "%debug"
   ]
  },
  {
   "cell_type": "markdown",
   "id": "5f77c795-755a-424d-9c4a-a6c119afa066",
   "metadata": {},
   "source": [
    "## Test sampling posterior"
   ]
  },
  {
   "cell_type": "code",
   "execution_count": null,
   "id": "44e3dd1d-4fe8-419a-b794-daa8b5186065",
   "metadata": {
    "scrolled": true
   },
   "outputs": [
    {
     "name": "stdout",
     "output_type": "stream",
     "text": [
      " *****************************************************\n",
      " MultiNest v3.10\n",
      " Copyright Farhan Feroz & Mike Hobson\n",
      " Release Jul 2015\n",
      "\n",
      " no. of live points =  256\n",
      " dimensionality =    3\n",
      " resuming from previous job\n",
      " *****************************************************\n"
     ]
    }
   ],
   "source": [
    "parentdir = '/home/isha/PopulationSelectionEffects/output/'\n",
    "output_file_path = os.path.join(parentdir, 'test_population_sampler')\n",
    "\n",
    "likelihood_object = PopulationLikelihood(test_gaussian_chieff_model, injections_summary_dict, all_events_pe, R0, injection_population_model=inj_prior)\n",
    "post = PopulationPosterior(test_gaussian_chieff_model, likelihood_object)\n",
    "pym = sampling.PyMultiNest(post)\n",
    "pym.run_kwargs = {'n_iter_before_update': 1000,'n_live_points': 256,'evidence_tolerance': 0.25}\n",
    "# perform the pe now\n",
    "pym.run(output_file_path)"
   ]
  },
  {
   "cell_type": "code",
   "execution_count": 10,
   "id": "67033185-d5a5-413b-a3d2-4cacbafb247d",
   "metadata": {
    "scrolled": true
   },
   "outputs": [
    {
     "name": "stdout",
     "output_type": "stream",
     "text": [
      "> \u001b[0;32m/home/isha/miniconda3/envs/cogwheel_pop_latest/lib/python3.9/json/encoder.py\u001b[0m(179)\u001b[0;36mdefault\u001b[0;34m()\u001b[0m\n",
      "\u001b[0;32m    177 \u001b[0;31m\u001b[0;34m\u001b[0m\u001b[0m\n",
      "\u001b[0m\u001b[0;32m    178 \u001b[0;31m        \"\"\"\n",
      "\u001b[0m\u001b[0;32m--> 179 \u001b[0;31m        raise TypeError(f'Object of type {o.__class__.__name__} '\n",
      "\u001b[0m\u001b[0;32m    180 \u001b[0;31m                        f'is not JSON serializable')\n",
      "\u001b[0m\u001b[0;32m    181 \u001b[0;31m\u001b[0;34m\u001b[0m\u001b[0m\n",
      "\u001b[0m\n"
     ]
    },
    {
     "name": "stdin",
     "output_type": "stream",
     "text": [
      "ipdb>  o\n"
     ]
    },
    {
     "name": "stdout",
     "output_type": "stream",
     "text": [
      "          mchirp       lnq    chieff  cumchidiff  costheta_jn  phi_jl_hat  \\\n",
      "0      27.217838 -0.326421 -0.420744    0.473716     0.860835    2.808493   \n",
      "1      27.883631 -1.415661 -0.047662    0.580546    -0.772647    2.123236   \n",
      "2      31.593108 -1.652429  0.409053    0.808564    -0.872931    0.525684   \n",
      "3      31.710681 -1.125810  0.261255    0.167585    -0.653827    0.520674   \n",
      "4      39.650934 -0.516392  0.710368    0.106841     0.709171    4.964519   \n",
      "...          ...       ...       ...         ...          ...         ...   \n",
      "23611  31.321167 -0.168206 -0.039410    0.734120    -0.993314    3.515591   \n",
      "23612  30.754612 -0.239442 -0.106582    0.975725    -0.996696    3.442664   \n",
      "23613  30.764703 -0.122053 -0.086201    0.807027    -0.993592    4.396144   \n",
      "23614  31.127652 -0.177470 -0.055071    0.974054    -0.994969    3.914445   \n",
      "23615  30.733179 -0.197216 -0.109078    0.847996    -0.996324    2.816425   \n",
      "\n",
      "          phi12  cums1r_s1z  cums2r_s2z       psi  ...  l1  l2  d_luminosity  \\\n",
      "0      5.150784    0.565569    0.074162  0.502546  ...   0   0  14538.618015   \n",
      "1      2.051186    0.975445    0.002229  1.001872  ...   0   0  13415.883071   \n",
      "2      6.065270    0.997342    0.260092  0.118174  ...   0   0  14599.554121   \n",
      "3      4.756114    0.573338    0.380377  0.048449  ...   0   0  10633.162410   \n",
      "4      1.726666    0.073706    0.683266  2.826287  ...   0   0  13260.487511   \n",
      "...         ...         ...         ...       ...  ...  ..  ..           ...   \n",
      "23611  6.116571    0.141961    0.886428  1.330929  ...   0   0    607.589720   \n",
      "23612  2.276741    0.789857    0.258393  2.526999  ...   0   0    594.525710   \n",
      "23613  2.752131    0.716839    0.471320  2.029780  ...   0   0    550.488794   \n",
      "23614  5.213009    0.436141    0.341418  0.056544  ...   0   0    597.365393   \n",
      "23615  4.157678    0.926127    0.225286  2.760224  ...   0   0    566.616780   \n",
      "\n",
      "              lnl   lnl_aux_H  lnl_aux_L   cosiota  m1_source     cum_q  \\\n",
      "0       17.651377   -7.535559   0.022812  0.842408  12.920480  0.698139   \n",
      "1       19.889506   -5.116327  -0.867061 -0.871645  24.866374  0.211037   \n",
      "2       19.515602   -1.369294  -4.347512 -0.846788  30.805049  0.164461   \n",
      "3       19.911462   -2.531102  -5.078593 -0.751559  27.027378  0.298432   \n",
      "4       19.405925   -5.496525  -1.040660  0.643362  21.805644  0.577284   \n",
      "...           ...         ...        ...       ...        ...       ...   \n",
      "23611  331.464841  206.905589  91.566152 -0.905386  34.793476  0.840598   \n",
      "23612  330.972273  206.888833  91.459439 -0.944176  35.507481  0.780897   \n",
      "23613  331.072754  206.275338  91.763860 -0.959566  33.713850  0.881589   \n",
      "23614  330.950127  206.527253  91.807596 -0.953271  34.802380  0.832575   \n",
      "23615  331.257776  206.792686  91.975992 -0.946404  34.892399  0.815732   \n",
      "\n",
      "             d_hat  \n",
      "0      1486.386272  \n",
      "1      1535.442089  \n",
      "2      1455.800048  \n",
      "3       904.401148  \n",
      "4      1644.651767  \n",
      "...            ...  \n",
      "23611    43.832044  \n",
      "23612    39.940432  \n",
      "23613    37.180899  \n",
      "23614    40.868306  \n",
      "23615    39.451008  \n",
      "\n",
      "[23616 rows x 39 columns]\n",
      "--KeyboardInterrupt--\n",
      "\n",
      "KeyboardInterrupt: Interrupted by user\n"
     ]
    }
   ],
   "source": [
    "%debug"
   ]
  },
  {
   "cell_type": "code",
   "execution_count": 6,
   "id": "a7e0f7b1-ad9b-4bba-9ddf-ccbae57352ed",
   "metadata": {},
   "outputs": [],
   "source": [
    "import pandas as pd\n",
    "import os\n",
    "parentdir = '/home/isha/PopulationSelectionEffects/output/'\n",
    "output_file_path = os.path.join(parentdir, 'test_astrophysical_population9')\n",
    "samples = pd.read_feather(output_file_path+\"/samples.feather\")"
   ]
  },
  {
   "cell_type": "code",
   "execution_count": 8,
   "id": "f888e472-8dfc-4797-9c91-9fb2772728d1",
   "metadata": {},
   "outputs": [
    {
     "data": {
      "image/png": "[encoded data removed]",
      "text/plain": [
       "<Figure size 760x760 with 9 Axes>"
      ]
     },
     "metadata": {},
     "output_type": "display_data"
    }
   ],
   "source": [
    "import corner\n",
    "corner.corner(samples);"
   ]
  },
  {
   "cell_type": "code",
   "execution_count": 9,
   "id": "088439a8-a5b7-45d5-9486-157c3ce945f8",
   "metadata": {},
   "outputs": [
    {
     "data": {
      "text/plain": [
       "606"
      ]
     },
     "execution_count": 9,
     "metadata": {},
     "output_type": "execute_result"
    }
   ],
   "source": [
    "len(samples)"
   ]
  },
  {
   "cell_type": "code",
   "execution_count": 10,
   "id": "f0fe1581-f1d4-4469-a054-9919d956006c",
   "metadata": {},
   "outputs": [
    {
     "data": {
      "text/html": [
       "<div>\n",
       "<style scoped>\n",
       "    .dataframe tbody tr th:only-of-type {\n",
       "        vertical-align: middle;\n",
       "    }\n",
       "\n",
       "    .dataframe tbody tr th {\n",
       "        vertical-align: top;\n",
       "    }\n",
       "\n",
       "    .dataframe thead th {\n",
       "        text-align: right;\n",
       "    }\n",
       "</style>\n",
       "<table border=\"1\" class=\"dataframe\">\n",
       "  <thead>\n",
       "    <tr style=\"text-align: right;\">\n",
       "      <th></th>\n",
       "      <th>R</th>\n",
       "      <th>chieff_mean</th>\n",
       "      <th>chieff_sigma</th>\n",
       "    </tr>\n",
       "  </thead>\n",
       "  <tbody>\n",
       "    <tr>\n",
       "      <th>0</th>\n",
       "      <td>925.028607</td>\n",
       "      <td>-0.083924</td>\n",
       "      <td>0.256041</td>\n",
       "    </tr>\n",
       "    <tr>\n",
       "      <th>1</th>\n",
       "      <td>955.077876</td>\n",
       "      <td>-0.094554</td>\n",
       "      <td>0.354451</td>\n",
       "    </tr>\n",
       "    <tr>\n",
       "      <th>2</th>\n",
       "      <td>960.225317</td>\n",
       "      <td>-0.075945</td>\n",
       "      <td>0.326260</td>\n",
       "    </tr>\n",
       "    <tr>\n",
       "      <th>3</th>\n",
       "      <td>958.191259</td>\n",
       "      <td>-0.226904</td>\n",
       "      <td>0.356225</td>\n",
       "    </tr>\n",
       "    <tr>\n",
       "      <th>4</th>\n",
       "      <td>999.305644</td>\n",
       "      <td>-0.384784</td>\n",
       "      <td>0.252616</td>\n",
       "    </tr>\n",
       "    <tr>\n",
       "      <th>...</th>\n",
       "      <td>...</td>\n",
       "      <td>...</td>\n",
       "      <td>...</td>\n",
       "    </tr>\n",
       "    <tr>\n",
       "      <th>601</th>\n",
       "      <td>999.498084</td>\n",
       "      <td>-0.170308</td>\n",
       "      <td>0.287582</td>\n",
       "    </tr>\n",
       "    <tr>\n",
       "      <th>602</th>\n",
       "      <td>997.991109</td>\n",
       "      <td>-0.171375</td>\n",
       "      <td>0.282046</td>\n",
       "    </tr>\n",
       "    <tr>\n",
       "      <th>603</th>\n",
       "      <td>998.993523</td>\n",
       "      <td>-0.207863</td>\n",
       "      <td>0.265248</td>\n",
       "    </tr>\n",
       "    <tr>\n",
       "      <th>604</th>\n",
       "      <td>999.201951</td>\n",
       "      <td>-0.217547</td>\n",
       "      <td>0.276911</td>\n",
       "    </tr>\n",
       "    <tr>\n",
       "      <th>605</th>\n",
       "      <td>997.394535</td>\n",
       "      <td>-0.199014</td>\n",
       "      <td>0.247963</td>\n",
       "    </tr>\n",
       "  </tbody>\n",
       "</table>\n",
       "<p>606 rows × 3 columns</p>\n",
       "</div>"
      ],
      "text/plain": [
       "              R  chieff_mean  chieff_sigma\n",
       "0    925.028607    -0.083924      0.256041\n",
       "1    955.077876    -0.094554      0.354451\n",
       "2    960.225317    -0.075945      0.326260\n",
       "3    958.191259    -0.226904      0.356225\n",
       "4    999.305644    -0.384784      0.252616\n",
       "..          ...          ...           ...\n",
       "601  999.498084    -0.170308      0.287582\n",
       "602  997.991109    -0.171375      0.282046\n",
       "603  998.993523    -0.207863      0.265248\n",
       "604  999.201951    -0.217547      0.276911\n",
       "605  997.394535    -0.199014      0.247963\n",
       "\n",
       "[606 rows x 3 columns]"
      ]
     },
     "execution_count": 10,
     "metadata": {},
     "output_type": "execute_result"
    }
   ],
   "source": [
    "samples"
   ]
  },
  {
   "cell_type": "code",
   "execution_count": null,
   "id": "6c7e5b8c-78e4-4133-be39-877c7bc52b29",
   "metadata": {},
   "outputs": [],
   "source": []
  },
  {
   "cell_type": "code",
   "execution_count": 11,
   "id": "186bcbee-364f-4a37-8bbf-a66bb44bb237",
   "metadata": {},
   "outputs": [
    {
     "data": {
      "text/html": [
       "<div>\n",
       "<style scoped>\n",
       "    .dataframe tbody tr th:only-of-type {\n",
       "        vertical-align: middle;\n",
       "    }\n",
       "\n",
       "    .dataframe tbody tr th {\n",
       "        vertical-align: top;\n",
       "    }\n",
       "\n",
       "    .dataframe thead th {\n",
       "        text-align: right;\n",
       "    }\n",
       "</style>\n",
       "<table border=\"1\" class=\"dataframe\">\n",
       "  <thead>\n",
       "    <tr style=\"text-align: right;\">\n",
       "      <th></th>\n",
       "      <th>t_rec_h</th>\n",
       "      <th>t_rec_l</th>\n",
       "      <th>rhosq_rec_h</th>\n",
       "      <th>rhosq_rec_l</th>\n",
       "      <th>normfac_h</th>\n",
       "      <th>normfac_l</th>\n",
       "      <th>dphi_rec</th>\n",
       "      <th>sb_rec</th>\n",
       "      <th>inds</th>\n",
       "      <th>cosiota</th>\n",
       "      <th>...</th>\n",
       "      <th>phi_H</th>\n",
       "      <th>tgps</th>\n",
       "      <th>mchirp_id</th>\n",
       "      <th>dt_linfree</th>\n",
       "      <th>ln_pdet_fid</th>\n",
       "      <th>campaign</th>\n",
       "      <th>pdet_fid</th>\n",
       "      <th>dt_closest_inj</th>\n",
       "      <th>ifar</th>\n",
       "      <th>ifar_no_coherent_score</th>\n",
       "    </tr>\n",
       "  </thead>\n",
       "  <tbody>\n",
       "    <tr>\n",
       "      <th>0</th>\n",
       "      <td>1.238473e+09</td>\n",
       "      <td>1.238473e+09</td>\n",
       "      <td>27.628481</td>\n",
       "      <td>37.071438</td>\n",
       "      <td>0.037273</td>\n",
       "      <td>0.046349</td>\n",
       "      <td>3.875179</td>\n",
       "      <td>0</td>\n",
       "      <td>501</td>\n",
       "      <td>-0.888970</td>\n",
       "      <td>...</td>\n",
       "      <td>3.227641</td>\n",
       "      <td>1.238473e+09</td>\n",
       "      <td>0</td>\n",
       "      <td>0.368423</td>\n",
       "      <td>10.445774</td>\n",
       "      <td>0</td>\n",
       "      <td>34398.684274</td>\n",
       "      <td>67.405310</td>\n",
       "      <td>0.023304</td>\n",
       "      <td>0.003070</td>\n",
       "    </tr>\n",
       "    <tr>\n",
       "      <th>1</th>\n",
       "      <td>1.239072e+09</td>\n",
       "      <td>1.239072e+09</td>\n",
       "      <td>91.873562</td>\n",
       "      <td>65.671602</td>\n",
       "      <td>0.036534</td>\n",
       "      <td>0.047152</td>\n",
       "      <td>3.674844</td>\n",
       "      <td>0</td>\n",
       "      <td>352</td>\n",
       "      <td>0.771037</td>\n",
       "      <td>...</td>\n",
       "      <td>1.264148</td>\n",
       "      <td>1.239072e+09</td>\n",
       "      <td>0</td>\n",
       "      <td>0.438106</td>\n",
       "      <td>8.512938</td>\n",
       "      <td>0</td>\n",
       "      <td>4978.767394</td>\n",
       "      <td>17.933630</td>\n",
       "      <td>2000.000000</td>\n",
       "      <td>2000.000000</td>\n",
       "    </tr>\n",
       "    <tr>\n",
       "      <th>2</th>\n",
       "      <td>1.239073e+09</td>\n",
       "      <td>1.239073e+09</td>\n",
       "      <td>193.084556</td>\n",
       "      <td>436.210652</td>\n",
       "      <td>0.035091</td>\n",
       "      <td>0.044498</td>\n",
       "      <td>2.759989</td>\n",
       "      <td>0</td>\n",
       "      <td>379</td>\n",
       "      <td>0.887409</td>\n",
       "      <td>...</td>\n",
       "      <td>6.001210</td>\n",
       "      <td>1.239073e+09</td>\n",
       "      <td>0</td>\n",
       "      <td>0.341748</td>\n",
       "      <td>7.952215</td>\n",
       "      <td>0</td>\n",
       "      <td>2841.863114</td>\n",
       "      <td>310.085190</td>\n",
       "      <td>2000.000000</td>\n",
       "      <td>2000.000000</td>\n",
       "    </tr>\n",
       "    <tr>\n",
       "      <th>3</th>\n",
       "      <td>1.238469e+09</td>\n",
       "      <td>1.238469e+09</td>\n",
       "      <td>41.169508</td>\n",
       "      <td>43.882219</td>\n",
       "      <td>0.038072</td>\n",
       "      <td>0.046100</td>\n",
       "      <td>2.802608</td>\n",
       "      <td>0</td>\n",
       "      <td>9</td>\n",
       "      <td>-0.402780</td>\n",
       "      <td>...</td>\n",
       "      <td>0.644813</td>\n",
       "      <td>1.238469e+09</td>\n",
       "      <td>0</td>\n",
       "      <td>0.475330</td>\n",
       "      <td>7.606454</td>\n",
       "      <td>0</td>\n",
       "      <td>2011.134375</td>\n",
       "      <td>27.957068</td>\n",
       "      <td>30.303030</td>\n",
       "      <td>17.391304</td>\n",
       "    </tr>\n",
       "    <tr>\n",
       "      <th>4</th>\n",
       "      <td>1.239153e+09</td>\n",
       "      <td>1.239153e+09</td>\n",
       "      <td>148.298027</td>\n",
       "      <td>215.183088</td>\n",
       "      <td>0.034462</td>\n",
       "      <td>0.045157</td>\n",
       "      <td>3.657669</td>\n",
       "      <td>0</td>\n",
       "      <td>242</td>\n",
       "      <td>-0.219944</td>\n",
       "      <td>...</td>\n",
       "      <td>0.377044</td>\n",
       "      <td>1.239153e+09</td>\n",
       "      <td>0</td>\n",
       "      <td>0.514418</td>\n",
       "      <td>6.589522</td>\n",
       "      <td>0</td>\n",
       "      <td>727.433317</td>\n",
       "      <td>654.664123</td>\n",
       "      <td>2000.000000</td>\n",
       "      <td>2000.000000</td>\n",
       "    </tr>\n",
       "    <tr>\n",
       "      <th>...</th>\n",
       "      <td>...</td>\n",
       "      <td>...</td>\n",
       "      <td>...</td>\n",
       "      <td>...</td>\n",
       "      <td>...</td>\n",
       "      <td>...</td>\n",
       "      <td>...</td>\n",
       "      <td>...</td>\n",
       "      <td>...</td>\n",
       "      <td>...</td>\n",
       "      <td>...</td>\n",
       "      <td>...</td>\n",
       "      <td>...</td>\n",
       "      <td>...</td>\n",
       "      <td>...</td>\n",
       "      <td>...</td>\n",
       "      <td>...</td>\n",
       "      <td>...</td>\n",
       "      <td>...</td>\n",
       "      <td>...</td>\n",
       "      <td>...</td>\n",
       "    </tr>\n",
       "    <tr>\n",
       "      <th>1084</th>\n",
       "      <td>1.247676e+09</td>\n",
       "      <td>1.247676e+09</td>\n",
       "      <td>97.277315</td>\n",
       "      <td>181.830835</td>\n",
       "      <td>0.030357</td>\n",
       "      <td>0.044557</td>\n",
       "      <td>2.719269</td>\n",
       "      <td>7</td>\n",
       "      <td>12809</td>\n",
       "      <td>0.837646</td>\n",
       "      <td>...</td>\n",
       "      <td>5.212108</td>\n",
       "      <td>1.247676e+09</td>\n",
       "      <td>4</td>\n",
       "      <td>0.211836</td>\n",
       "      <td>8.243538</td>\n",
       "      <td>0</td>\n",
       "      <td>3802.972087</td>\n",
       "      <td>312.888192</td>\n",
       "      <td>500.000000</td>\n",
       "      <td>500.000000</td>\n",
       "    </tr>\n",
       "    <tr>\n",
       "      <th>1085</th>\n",
       "      <td>1.250341e+09</td>\n",
       "      <td>1.250341e+09</td>\n",
       "      <td>34.889917</td>\n",
       "      <td>25.704204</td>\n",
       "      <td>0.030042</td>\n",
       "      <td>0.044269</td>\n",
       "      <td>3.546493</td>\n",
       "      <td>7</td>\n",
       "      <td>9156</td>\n",
       "      <td>0.778787</td>\n",
       "      <td>...</td>\n",
       "      <td>0.412975</td>\n",
       "      <td>1.250341e+09</td>\n",
       "      <td>3</td>\n",
       "      <td>0.221310</td>\n",
       "      <td>7.309628</td>\n",
       "      <td>0</td>\n",
       "      <td>1494.620351</td>\n",
       "      <td>344.791194</td>\n",
       "      <td>0.489237</td>\n",
       "      <td>0.102260</td>\n",
       "    </tr>\n",
       "    <tr>\n",
       "      <th>1086</th>\n",
       "      <td>1.253612e+09</td>\n",
       "      <td>1.253612e+09</td>\n",
       "      <td>27.638619</td>\n",
       "      <td>46.924558</td>\n",
       "      <td>0.031741</td>\n",
       "      <td>0.043900</td>\n",
       "      <td>3.032013</td>\n",
       "      <td>7</td>\n",
       "      <td>20304</td>\n",
       "      <td>0.938999</td>\n",
       "      <td>...</td>\n",
       "      <td>0.659670</td>\n",
       "      <td>1.253612e+09</td>\n",
       "      <td>4</td>\n",
       "      <td>0.236611</td>\n",
       "      <td>8.714073</td>\n",
       "      <td>0</td>\n",
       "      <td>6087.985779</td>\n",
       "      <td>444.139942</td>\n",
       "      <td>1.434720</td>\n",
       "      <td>0.102844</td>\n",
       "    </tr>\n",
       "    <tr>\n",
       "      <th>1087</th>\n",
       "      <td>1.253933e+09</td>\n",
       "      <td>1.253933e+09</td>\n",
       "      <td>26.597797</td>\n",
       "      <td>41.193520</td>\n",
       "      <td>0.031277</td>\n",
       "      <td>0.045055</td>\n",
       "      <td>3.009324</td>\n",
       "      <td>7</td>\n",
       "      <td>18920</td>\n",
       "      <td>0.893897</td>\n",
       "      <td>...</td>\n",
       "      <td>3.350288</td>\n",
       "      <td>1.253933e+09</td>\n",
       "      <td>4</td>\n",
       "      <td>0.230194</td>\n",
       "      <td>9.495659</td>\n",
       "      <td>0</td>\n",
       "      <td>13301.852741</td>\n",
       "      <td>183.436154</td>\n",
       "      <td>0.507357</td>\n",
       "      <td>0.095584</td>\n",
       "    </tr>\n",
       "    <tr>\n",
       "      <th>1088</th>\n",
       "      <td>1.253740e+09</td>\n",
       "      <td>1.253740e+09</td>\n",
       "      <td>26.985224</td>\n",
       "      <td>32.644970</td>\n",
       "      <td>0.031483</td>\n",
       "      <td>0.044644</td>\n",
       "      <td>3.606568</td>\n",
       "      <td>7</td>\n",
       "      <td>13237</td>\n",
       "      <td>0.905405</td>\n",
       "      <td>...</td>\n",
       "      <td>5.085215</td>\n",
       "      <td>1.253740e+09</td>\n",
       "      <td>4</td>\n",
       "      <td>0.273117</td>\n",
       "      <td>9.073512</td>\n",
       "      <td>0</td>\n",
       "      <td>8721.194739</td>\n",
       "      <td>17.793058</td>\n",
       "      <td>0.682827</td>\n",
       "      <td>0.091308</td>\n",
       "    </tr>\n",
       "  </tbody>\n",
       "</table>\n",
       "<p>5547 rows × 64 columns</p>\n",
       "</div>"
      ],
      "text/plain": [
       "           t_rec_h       t_rec_l  rhosq_rec_h  rhosq_rec_l  normfac_h  \\\n",
       "0     1.238473e+09  1.238473e+09    27.628481    37.071438   0.037273   \n",
       "1     1.239072e+09  1.239072e+09    91.873562    65.671602   0.036534   \n",
       "2     1.239073e+09  1.239073e+09   193.084556   436.210652   0.035091   \n",
       "3     1.238469e+09  1.238469e+09    41.169508    43.882219   0.038072   \n",
       "4     1.239153e+09  1.239153e+09   148.298027   215.183088   0.034462   \n",
       "...            ...           ...          ...          ...        ...   \n",
       "1084  1.247676e+09  1.247676e+09    97.277315   181.830835   0.030357   \n",
       "1085  1.250341e+09  1.250341e+09    34.889917    25.704204   0.030042   \n",
       "1086  1.253612e+09  1.253612e+09    27.638619    46.924558   0.031741   \n",
       "1087  1.253933e+09  1.253933e+09    26.597797    41.193520   0.031277   \n",
       "1088  1.253740e+09  1.253740e+09    26.985224    32.644970   0.031483   \n",
       "\n",
       "      normfac_l  dphi_rec  sb_rec   inds   cosiota  ...     phi_H  \\\n",
       "0      0.046349  3.875179       0    501 -0.888970  ...  3.227641   \n",
       "1      0.047152  3.674844       0    352  0.771037  ...  1.264148   \n",
       "2      0.044498  2.759989       0    379  0.887409  ...  6.001210   \n",
       "3      0.046100  2.802608       0      9 -0.402780  ...  0.644813   \n",
       "4      0.045157  3.657669       0    242 -0.219944  ...  0.377044   \n",
       "...         ...       ...     ...    ...       ...  ...       ...   \n",
       "1084   0.044557  2.719269       7  12809  0.837646  ...  5.212108   \n",
       "1085   0.044269  3.546493       7   9156  0.778787  ...  0.412975   \n",
       "1086   0.043900  3.032013       7  20304  0.938999  ...  0.659670   \n",
       "1087   0.045055  3.009324       7  18920  0.893897  ...  3.350288   \n",
       "1088   0.044644  3.606568       7  13237  0.905405  ...  5.085215   \n",
       "\n",
       "              tgps  mchirp_id  dt_linfree  ln_pdet_fid  campaign  \\\n",
       "0     1.238473e+09          0    0.368423    10.445774         0   \n",
       "1     1.239072e+09          0    0.438106     8.512938         0   \n",
       "2     1.239073e+09          0    0.341748     7.952215         0   \n",
       "3     1.238469e+09          0    0.475330     7.606454         0   \n",
       "4     1.239153e+09          0    0.514418     6.589522         0   \n",
       "...            ...        ...         ...          ...       ...   \n",
       "1084  1.247676e+09          4    0.211836     8.243538         0   \n",
       "1085  1.250341e+09          3    0.221310     7.309628         0   \n",
       "1086  1.253612e+09          4    0.236611     8.714073         0   \n",
       "1087  1.253933e+09          4    0.230194     9.495659         0   \n",
       "1088  1.253740e+09          4    0.273117     9.073512         0   \n",
       "\n",
       "          pdet_fid  dt_closest_inj         ifar  ifar_no_coherent_score  \n",
       "0     34398.684274       67.405310     0.023304                0.003070  \n",
       "1      4978.767394       17.933630  2000.000000             2000.000000  \n",
       "2      2841.863114      310.085190  2000.000000             2000.000000  \n",
       "3      2011.134375       27.957068    30.303030               17.391304  \n",
       "4       727.433317      654.664123  2000.000000             2000.000000  \n",
       "...            ...             ...          ...                     ...  \n",
       "1084   3802.972087      312.888192   500.000000              500.000000  \n",
       "1085   1494.620351      344.791194     0.489237                0.102260  \n",
       "1086   6087.985779      444.139942     1.434720                0.102844  \n",
       "1087  13301.852741      183.436154     0.507357                0.095584  \n",
       "1088   8721.194739       17.793058     0.682827                0.091308  \n",
       "\n",
       "[5547 rows x 64 columns]"
      ]
     },
     "execution_count": 11,
     "metadata": {},
     "output_type": "execute_result"
    }
   ],
   "source": [
    "injs_summary"
   ]
  },
  {
   "cell_type": "markdown",
   "id": "83d6ffdc-2ad9-4f45-ae0b-aa0da0390636",
   "metadata": {},
   "source": [
    "## List manipulation test"
   ]
  },
  {
   "cell_type": "code",
   "execution_count": null,
   "id": "8bdc3333-9370-4ca6-8bf4-c1c2a0bd7545",
   "metadata": {},
   "outputs": [],
   "source": []
  },
  {
   "cell_type": "code",
   "execution_count": null,
   "id": "4ce35e6b-2b3e-41c2-b7a3-6cfb92978a00",
   "metadata": {},
   "outputs": [],
   "source": []
  },
  {
   "cell_type": "code",
   "execution_count": 10,
   "id": "96c21ed5-fbac-40a9-95be-13b4bd69687c",
   "metadata": {},
   "outputs": [],
   "source": [
    "import copy\n",
    "ex = ['m', 'var', 'R']\n",
    "ex_copy = copy.deepcopy(ex)"
   ]
  },
  {
   "cell_type": "code",
   "execution_count": 11,
   "id": "f1e70059-848b-4f39-b37e-39715f6434ba",
   "metadata": {},
   "outputs": [],
   "source": [
    "ex_copy.remove('R')"
   ]
  },
  {
   "cell_type": "code",
   "execution_count": 12,
   "id": "027e4221-1200-4c79-bc2e-804d71ca1f51",
   "metadata": {},
   "outputs": [
    {
     "data": {
      "text/plain": [
       "['m', 'var']"
      ]
     },
     "execution_count": 12,
     "metadata": {},
     "output_type": "execute_result"
    }
   ],
   "source": [
    "ex_copy"
   ]
  },
  {
   "cell_type": "code",
   "execution_count": 13,
   "id": "ef48af18-d290-43c5-bae6-1191cd22d631",
   "metadata": {},
   "outputs": [
    {
     "data": {
      "text/plain": [
       "True"
      ]
     },
     "execution_count": 13,
     "metadata": {},
     "output_type": "execute_result"
    }
   ],
   "source": [
    "set(ex_copy) != set(ex)"
   ]
  },
  {
   "cell_type": "code",
   "execution_count": 14,
   "id": "b6360dc9-1158-474a-a6b0-ca1566798ac2",
   "metadata": {},
   "outputs": [
    {
     "ename": "ValueError",
     "evalue": "list.remove(x): x not in list",
     "output_type": "error",
     "traceback": [
      "\u001b[0;31m---------------------------------------------------------------------------\u001b[0m",
      "\u001b[0;31mValueError\u001b[0m                                Traceback (most recent call last)",
      "Cell \u001b[0;32mIn[14], line 1\u001b[0m\n\u001b[0;32m----> 1\u001b[0m \u001b[43mex_copy\u001b[49m\u001b[38;5;241;43m.\u001b[39;49m\u001b[43mremove\u001b[49m\u001b[43m(\u001b[49m\u001b[38;5;124;43m'\u001b[39;49m\u001b[38;5;124;43mR\u001b[39;49m\u001b[38;5;124;43m'\u001b[39;49m\u001b[43m)\u001b[49m\n",
      "\u001b[0;31mValueError\u001b[0m: list.remove(x): x not in list"
     ]
    }
   ],
   "source": [
    "ex_copy.remove('R')"
   ]
  },
  {
   "cell_type": "code",
   "execution_count": null,
   "id": "869963f1-11d1-492d-8fe3-a157feb3625c",
   "metadata": {},
   "outputs": [],
   "source": []
  }
 ],
 "metadata": {
  "kernelspec": {
   "display_name": "Python 3 (ipykernel)",
   "language": "python",
   "name": "python3"
  },
  "language_info": {
   "codemirror_mode": {
    "name": "ipython",
    "version": 3
   },
   "file_extension": ".py",
   "mimetype": "text/x-python",
   "name": "python",
   "nbconvert_exporter": "python",
   "pygments_lexer": "ipython3",
   "version": "3.9.19"
  }
 },
 "nbformat": 4,
 "nbformat_minor": 5
}
