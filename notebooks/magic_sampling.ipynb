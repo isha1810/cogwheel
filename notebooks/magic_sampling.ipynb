{
 "cells": [
  {
   "cell_type": "code",
   "execution_count": null,
   "id": "82a93fd0",
   "metadata": {},
   "outputs": [],
   "source": [
    "import os\n",
    "os.environ[\"OMP_NUM_THREADS\"] = \"1\"\n",
    "\n",
    "%matplotlib notebook\n",
    "\n",
    "import sys\n",
    "sys.path.append('..')\n",
    "\n",
    "from cogwheel.fast_marginalization import adaptive, marginalized_extrinsic, intrinsic_prior\n",
    "\n",
    "import numpy as np\n",
    "import scipy\n",
    "import pandas as pd\n",
    "from cProfile import Profile\n",
    "from pstats import Stats\n",
    "\n",
    "import cogwheel\n",
    "from cogwheel import gw_prior\n",
    "from cogwheel.posterior import Posterior\n",
    "from cogwheel import likelihood\n",
    "from cogwheel import utils\n",
    "from cogwheel import sampling\n",
    "from cogwheel import gw_plotting\n",
    "from cogwheel import data\n",
    "\n",
    "from importlib import reload\n",
    "\n",
    "import lal\n",
    "import lalsimulation\n",
    "\n",
    "import matplotlib.pyplot as plt\n",
    "import multiprocessing\n",
    "from pathlib import Path"
   ]
  },
  {
   "cell_type": "code",
   "execution_count": null,
   "id": "751057eb",
   "metadata": {},
   "outputs": [],
   "source": [
    "parentdir = NotImplemented  # SET ME"
   ]
  },
  {
   "cell_type": "code",
   "execution_count": null,
   "id": "39cc8a4c",
   "metadata": {},
   "outputs": [],
   "source": [
    "metadata = pd.read_csv(data.DATADIR/'events_metadata.csv', index_col=0)  # Chirp mass guesses"
   ]
  },
  {
   "cell_type": "code",
   "execution_count": null,
   "id": "c508973d",
   "metadata": {},
   "outputs": [],
   "source": [
    "def run_pymultinest(eventname, log2nfast=10, n_live_points=512,\n",
    "                    evidence_tolerance=.5):\n",
    "    mchirp_guess = metadata['mchirp'][eventname]\n",
    "\n",
    "    lookup_table = likelihood.LookupTable()\n",
    "    aux_posterior = Posterior.from_event(eventname, mchirp_guess,\n",
    "                                         approximant='IMRPhenomXPHM',\n",
    "                                         prior_class='LinearFreeIASPrior',\n",
    "                                         likelihood_class=likelihood.MarginalizedDistanceLikelihood,\n",
    "                                         likelihood_kwargs={'lookup_table': lookup_table})\n",
    "    like = marginalized_extrinsic.MarginalizedExtrinsicLikelihood.from_aux_posterior(\n",
    "        aux_posterior, log2nfast)\n",
    "    prior = gw_prior.prior_registry['IntrinsicIASPrior'](\n",
    "        **aux_posterior.prior.get_init_dict()\n",
    "#         | dict(symmetrize_lnq=True)\n",
    "        )\n",
    "    post = Posterior(prior, like)\n",
    "\n",
    "    sampler = sampling.PyMultiNest(post)\n",
    "\n",
    "    parentdir = 'pe'\n",
    "\n",
    "    sampler.run_kwargs['n_live_points'] = n_live_points\n",
    "    sampler.run_kwargs['evidence_tolerance'] = evidence_tolerance\n",
    "\n",
    "    rundir = sampler.get_rundir(parentdir)\n",
    "\n",
    "    sampler.run(rundir)\n",
    "\n",
    "    samples_fname = rundir/'samples.feather'\n",
    "    samples = pd.read_feather(samples_fname)\n",
    "\n",
    "    sampler.posterior.prior.transform_samples(samples)\n",
    "    sampler.posterior.likelihood.postprocess_samples(samples)\n",
    "\n",
    "    aux_posterior.prior.inverse_transform_samples(samples)\n",
    "\n",
    "    samples.to_feather(samples_fname)"
   ]
  },
  {
   "cell_type": "code",
   "execution_count": null,
   "id": "8edf6759",
   "metadata": {},
   "outputs": [],
   "source": [
    "eventnames = metadata.index.intersection(path.name.removesuffix('.npz')\n",
    "                                         for path in data.DATADIR.glob('*.npz'))"
   ]
  },
  {
   "cell_type": "code",
   "execution_count": null,
   "id": "79745dd4",
   "metadata": {
    "scrolled": false
   },
   "outputs": [],
   "source": [
    "ncores = multiprocessing.cpu_count() - 1\n",
    "\n",
    "with multiprocessing.Pool(ncores) as pool:\n",
    "    pool.map(run_pymultinest, eventnames)"
   ]
  },
  {
   "cell_type": "code",
   "execution_count": null,
   "id": "09d02b63",
   "metadata": {},
   "outputs": [],
   "source": [
    "eventname = eventnames[0]"
   ]
  },
  {
   "cell_type": "code",
   "execution_count": null,
   "id": "a1c1024e",
   "metadata": {},
   "outputs": [],
   "source": [
    "def plot_samples(eventname):\n",
    "    rundir = sorted(utils.get_eventdir(parentdir,\n",
    "                                       'IntrinsicIASPrior',\n",
    "                                       eventname\n",
    "                                      ).glob('run_*')\n",
    "                   )[-1]\n",
    "    stats = Stats(str(rundir/'profiling')).strip_dirs().sort_stats('tottime')\n",
    "\n",
    "    print(f'{stats.total_tt / 60:.2f} minutes')\n",
    "    samples = pd.read_feather(rundir/'samples.feather')\n",
    "    print(len(samples), 'samples')\n",
    "    gw_plotting.CornerPlot(samples[adaptive.LinearFreeIASPrior.sampled_params]).plot(title=eventname)"
   ]
  },
  {
   "cell_type": "code",
   "execution_count": null,
   "id": "63827a54",
   "metadata": {
    "scrolled": false
   },
   "outputs": [],
   "source": [
    "for eventname in eventnames:\n",
    "    plot_samples(eventname)"
   ]
  },
  {
   "cell_type": "markdown",
   "id": "f60ee2ec",
   "metadata": {},
   "source": [
    "Timing"
   ]
  },
  {
   "cell_type": "code",
   "execution_count": null,
   "id": "0c04f615",
   "metadata": {
    "scrolled": true
   },
   "outputs": [],
   "source": [
    "stats = Stats(str(rundir/'profiling')).strip_dirs().sort_stats('tottime')\n",
    "\n",
    "print(f'{stats.total_tt / 60:.2f} minutes')\n",
    "stats.print_stats()"
   ]
  },
  {
   "cell_type": "code",
   "execution_count": null,
   "id": "5cc1bf7c",
   "metadata": {},
   "outputs": [],
   "source": [
    "sampler = utils.read_json(rundir/'Sampler.json')"
   ]
  },
  {
   "cell_type": "code",
   "execution_count": null,
   "id": "7e320478",
   "metadata": {},
   "outputs": [],
   "source": [
    "sampler.posterior.likelihood.fast_parameter_slice = slice(2**11)"
   ]
  },
  {
   "cell_type": "code",
   "execution_count": null,
   "id": "753d193d",
   "metadata": {},
   "outputs": [],
   "source": [
    "def gen_random(prior):\n",
    "    return prior.transform(*(prior.cubemin + np.random.uniform(0, prior.cubesize)))\n",
    "\n",
    "with Profile() as p:\n",
    "    for _ in range(100):\n",
    "        par_dic = gen_random(sampler.posterior.prior)\n",
    "        sampler.posterior.likelihood.lnlike(par_dic)\n",
    "\n",
    "p.print_stats('tottime')"
   ]
  },
  {
   "cell_type": "code",
   "execution_count": null,
   "id": "fbf8efa6",
   "metadata": {},
   "outputs": [],
   "source": [
    "prior = sampler.posterior.prior"
   ]
  },
  {
   "cell_type": "code",
   "execution_count": null,
   "id": "86ffdd45",
   "metadata": {},
   "outputs": [],
   "source": [
    "with Profile() as p:\n",
    "    for _ in range(100):\n",
    "        sampler._get_lnprobs(*(prior.cubemin + np.random.uniform(0, prior.cubesize)))\n",
    "\n",
    "p.print_stats('tottime')"
   ]
  }
 ],
 "metadata": {
  "kernelspec": {
   "display_name": "Python 3 (ipykernel)",
   "language": "python",
   "name": "python3"
  },
  "language_info": {
   "codemirror_mode": {
    "name": "ipython",
    "version": 3
   },
   "file_extension": ".py",
   "mimetype": "text/x-python",
   "name": "python",
   "nbconvert_exporter": "python",
   "pygments_lexer": "ipython3",
   "version": "3.9.7"
  }
 },
 "nbformat": 4,
 "nbformat_minor": 5
}
