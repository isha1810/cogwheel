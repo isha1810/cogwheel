{
 "cells": [
  {
   "cell_type": "code",
   "execution_count": null,
   "id": "82a93fd0",
   "metadata": {
    "ExecuteTime": {
     "end_time": "2022-11-04T00:52:11.302362Z",
     "start_time": "2022-11-04T00:52:06.187464Z"
    }
   },
   "outputs": [],
   "source": [
    "import os\n",
    "os.environ[\"OMP_NUM_THREADS\"] = \"1\"\n",
    "\n",
    "import sys\n",
    "sys.path.append('..')\n",
    "\n",
    "import pandas as pd\n",
    "\n",
    "from cogwheel import posterior\n",
    "from cogwheel import utils\n",
    "from cogwheel import sampling\n",
    "from cogwheel import data\n",
    "from cogwheel import coherent_score\n",
    "\n",
    "from pathlib import Path"
   ]
  },
  {
   "cell_type": "code",
   "execution_count": null,
   "id": "751057eb",
   "metadata": {
    "ExecuteTime": {
     "end_time": "2022-11-04T00:52:13.815915Z",
     "start_time": "2022-11-04T00:52:13.813672Z"
    }
   },
   "outputs": [],
   "source": [
    "parentdir = Path('/data/jroulet/GW/cogwheel/')  # SET ME"
   ]
  },
  {
   "cell_type": "code",
   "execution_count": null,
   "id": "39cc8a4c",
   "metadata": {
    "ExecuteTime": {
     "end_time": "2022-11-04T00:52:15.429064Z",
     "start_time": "2022-11-04T00:52:15.423558Z"
    }
   },
   "outputs": [],
   "source": [
    "metadata = pd.read_csv(data.DATADIR/'events_metadata.csv', index_col=0)  # Chirp mass guesses"
   ]
  },
  {
   "cell_type": "code",
   "execution_count": null,
   "id": "5b9f7e23",
   "metadata": {
    "ExecuteTime": {
     "end_time": "2022-11-04T00:52:17.937591Z",
     "start_time": "2022-11-04T00:52:17.887997Z"
    }
   },
   "outputs": [],
   "source": [
    "eventnames = metadata.index.intersection(\n",
    "    path.parent.name for path in (parentdir/'IASPrior').glob('*/Posterior.json'))"
   ]
  },
  {
   "cell_type": "code",
   "execution_count": null,
   "id": "f57f2cca",
   "metadata": {
    "ExecuteTime": {
     "end_time": "2022-11-04T00:46:28.382129Z",
     "start_time": "2022-11-04T00:17:49.625212Z"
    },
    "scrolled": true
   },
   "outputs": [],
   "source": [
    "for eventname in eventnames:\n",
    "    old_post = utils.read_json(\n",
    "        f'/data/jroulet/GW/cogwheel/IASPrior/{eventname}/Posterior.json')\n",
    "\n",
    "    prior = coherent_score.intrinsic_prior.IntrinsicIASPrior(\n",
    "        **old_post.prior.get_init_dict())\n",
    "    \n",
    "    like = coherent_score.CoherentScoreLikelihood(\n",
    "        **old_post.likelihood.get_init_dict())\n",
    "\n",
    "    post = posterior.Posterior(prior, like)\n",
    "    pym = sampling.PyMultiNest(post)\n",
    "    pym.run_kwargs['n_live_points'] = 1024\n",
    "    rundir = pym.get_rundir(parentdir)\n",
    "    pym.submit_slurm(rundir)"
   ]
  }
 ],
 "metadata": {
  "kernelspec": {
   "display_name": "Python 3",
   "language": "python",
   "name": "python3"
  },
  "language_info": {
   "codemirror_mode": {
    "name": "ipython",
    "version": 3
   },
   "file_extension": ".py",
   "mimetype": "text/x-python",
   "name": "python",
   "nbconvert_exporter": "python",
   "pygments_lexer": "ipython3",
   "version": "3.9.7"
  }
 },
 "nbformat": 4,
 "nbformat_minor": 5
}
