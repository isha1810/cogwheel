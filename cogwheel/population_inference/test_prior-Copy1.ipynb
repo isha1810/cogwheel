{
 "cells": [
  {
   "cell_type": "markdown",
   "id": "4d43d430-d5f1-43e6-adca-2f477e2b203e",
   "metadata": {},
   "source": [
    "## Imports"
   ]
  },
  {
   "cell_type": "code",
   "execution_count": 1,
   "id": "344e5052",
   "metadata": {
    "scrolled": true
   },
   "outputs": [
    {
     "name": "stderr",
     "output_type": "stream",
     "text": [
      "/home/isha/miniconda3/envs/cogwheel_pop_latest/lib/python3.9/site-packages/gwpy/time/__init__.py:36: UserWarning: Wswiglal-redir-stdio:\n",
      "\n",
      "SWIGLAL standard output/error redirection is enabled in IPython.\n",
      "This may lead to performance penalties. To disable locally, use:\n",
      "\n",
      "with lal.no_swig_redirect_standard_output_error():\n",
      "    ...\n",
      "\n",
      "To disable globally, use:\n",
      "\n",
      "lal.swig_redirect_standard_output_error(False)\n",
      "\n",
      "Note however that this will likely lead to error messages from\n",
      "LAL functions being either misdirected or lost when called from\n",
      "Jupyter notebooks.\n",
      "\n",
      "To suppress this warning, use:\n",
      "\n",
      "import warnings\n",
      "warnings.filterwarnings(\"ignore\", \"Wswiglal-redir-stdio\")\n",
      "import lal\n",
      "\n",
      "  from lal import LIGOTimeGPS\n",
      "/tmp/ipykernel_1694326/2061227732.py:17: DeprecationWarning: \n",
      "The `factorized_qas` subpackage is deprecated.\n",
      "The preferred way of marginalizing extrinsic parameters is now\n",
      "`cogwheel.likelihood.MarginalizedExtrinsicLikelihoodQAS`\n",
      "coupled to e.g. `gw_prior.IntrinsicAlignedSpinIASPrior`.\n",
      "See  `tutorials/factorized_qas.ipynb` for an example.\n",
      "  from cogwheel.factorized_qas import IntrinsicParametersPrior, MarginalizedRelativeBinningLikelihood\n"
     ]
    }
   ],
   "source": [
    "import sys, os, glob, time , corner\n",
    "import numpy as np\n",
    "import pandas as pd\n",
    "import matplotlib.pyplot as plt\n",
    "\n",
    "sys.path.insert(0,'/home/isha/gw_detection_ias')\n",
    "import utils as pipeline_utils\n",
    "import time\n",
    "\n",
    "from importlib import reload\n",
    "\n",
    "# cogwheel imports\n",
    "sys.path.append('/home/isha/PopulationSelectionEffects/cogwheel_population_inference/cogwheel')\n",
    "import cogwheel\n",
    "from cogwheel import utils , data, sampling, gw_plotting, posterior, prior\n",
    "\n",
    "from cogwheel.factorized_qas import IntrinsicParametersPrior, MarginalizedRelativeBinningLikelihood\n",
    "from cogwheel.population_inference.test_combined_priors import TestPrior\n",
    "from cogwheel.population_inference.test_combined_priors import FixedTestPopulationPrior, FixedTestPrior\n",
    "from cogwheel.population_inference.test_combined_priors import FixedDistancePrior, FixedInclinationPrior, GaussianTestPrior\n",
    "\n",
    "from cogwheel.population_inference.injection_priors import InjectionPrior, InjectionMassPrior\n",
    "from cogwheel.population_inference.population_models import ParametrizedPrior, CombinedParametrizedPrior, HyperPrior\n",
    "from cogwheel.population_inference.population_likelihood import PopulationLikelihood\n",
    "from cogwheel.gw_prior import extrinsic\n",
    "\n",
    "from cogwheel.prior import Prior, UniformPriorMixin, IdentityTransformMixin, CombinedPrior"
   ]
  },
  {
   "cell_type": "code",
   "execution_count": 9,
   "id": "991f60d7-ecd1-4353-b57d-59ea91edc980",
   "metadata": {},
   "outputs": [],
   "source": [
    "# import os\n",
    "# print(os.environ['CONDA_DEFAULT_ENV'])"
   ]
  },
  {
   "cell_type": "markdown",
   "id": "6f17e8ea-a620-4acb-b3b0-fccd9e4e6f62",
   "metadata": {},
   "source": [
    "## Load injection summary data"
   ]
  },
  {
   "cell_type": "code",
   "execution_count": 2,
   "id": "cf089165",
   "metadata": {},
   "outputs": [],
   "source": [
    "injs_summary = pd.read_pickle('injections_summary.pkl')"
   ]
  },
  {
   "cell_type": "code",
   "execution_count": 3,
   "id": "a680819f",
   "metadata": {},
   "outputs": [
    {
     "data": {
      "text/plain": [
       "Index(['t_rec_h', 't_rec_l', 'rhosq_rec_h', 'rhosq_rec_l', 'normfac_h',\n",
       "       'normfac_l', 'dphi_rec', 'sb_rec', 'inds', 'cosiota', 'costhetanet',\n",
       "       'phinet_hat', 't_refdet', 'psi', 'phi_ref_hat', 'm1_source', 'cum_q',\n",
       "       'd_hat', 'chieff', 'cumchidiff', 'iota', 'ra', 'dec', 't_geocenter',\n",
       "       'phi_ref', 'm1', 'm2', 'd_luminosity', 's1z', 's2z', 's1x', 's1y',\n",
       "       's2x', 's2y', 'l1', 'l2', 'f_ref', 'm2_source', 'q', 'mchirp', 'mtot',\n",
       "       'lnq', 'q1', 'eta', 'chia', 's1', 's1costheta', 's1theta', 's1phi',\n",
       "       's2', 's2costheta', 's2theta', 's2phi', 'chip', 'phi_H', 'tgps',\n",
       "       'mchirp_id', 'dt_linfree', 'ln_pdet_fid', 'campaign', 'pdet_fid',\n",
       "       'dt_closest_inj', 'ifar', 'ifar_no_coherent_score'],\n",
       "      dtype='object')"
      ]
     },
     "execution_count": 3,
     "metadata": {},
     "output_type": "execute_result"
    }
   ],
   "source": [
    "injs_summary.keys()"
   ]
  },
  {
   "cell_type": "markdown",
   "id": "ecba012b-12dd-41a4-84a2-51a430e7abcb",
   "metadata": {
    "jp-MarkdownHeadingCollapsed": true
   },
   "source": [
    "### testing dataframe -> dictionary "
   ]
  },
  {
   "cell_type": "code",
   "execution_count": 4,
   "id": "fd2f4741",
   "metadata": {},
   "outputs": [
    {
     "data": {
      "text/html": [
       "<div>\n",
       "<style scoped>\n",
       "    .dataframe tbody tr th:only-of-type {\n",
       "        vertical-align: middle;\n",
       "    }\n",
       "\n",
       "    .dataframe tbody tr th {\n",
       "        vertical-align: top;\n",
       "    }\n",
       "\n",
       "    .dataframe thead th {\n",
       "        text-align: right;\n",
       "    }\n",
       "</style>\n",
       "<table border=\"1\" class=\"dataframe\">\n",
       "  <thead>\n",
       "    <tr style=\"text-align: right;\">\n",
       "      <th></th>\n",
       "      <th>a</th>\n",
       "      <th>b</th>\n",
       "      <th>c</th>\n",
       "    </tr>\n",
       "  </thead>\n",
       "  <tbody>\n",
       "    <tr>\n",
       "      <th>0</th>\n",
       "      <td>1</td>\n",
       "      <td>6</td>\n",
       "      <td>11</td>\n",
       "    </tr>\n",
       "    <tr>\n",
       "      <th>1</th>\n",
       "      <td>2</td>\n",
       "      <td>7</td>\n",
       "      <td>12</td>\n",
       "    </tr>\n",
       "    <tr>\n",
       "      <th>2</th>\n",
       "      <td>3</td>\n",
       "      <td>8</td>\n",
       "      <td>13</td>\n",
       "    </tr>\n",
       "    <tr>\n",
       "      <th>3</th>\n",
       "      <td>4</td>\n",
       "      <td>9</td>\n",
       "      <td>14</td>\n",
       "    </tr>\n",
       "    <tr>\n",
       "      <th>4</th>\n",
       "      <td>5</td>\n",
       "      <td>10</td>\n",
       "      <td>15</td>\n",
       "    </tr>\n",
       "  </tbody>\n",
       "</table>\n",
       "</div>"
      ],
      "text/plain": [
       "   a   b   c\n",
       "0  1   6  11\n",
       "1  2   7  12\n",
       "2  3   8  13\n",
       "3  4   9  14\n",
       "4  5  10  15"
      ]
     },
     "metadata": {},
     "output_type": "display_data"
    },
    {
     "name": "stdout",
     "output_type": "stream",
     "text": [
      "{'a': array([1, 2, 3, 4, 5]), 'b': array([ 6,  7,  8,  9, 10]), 'c': array([11, 12, 13, 14, 15])}\n"
     ]
    }
   ],
   "source": [
    "dict_example = {'a':np.asarray([1,2,3,4,5]), 'b':np.asarray([6,7,8,9,10]), 'c':np.asarray([11,12,13,14, 15])}\n",
    "df_example = pd.DataFrame(dict_example)\n",
    "df_example[np.array(['a','b'])]\n",
    "\n",
    "dict_of_arrays = {col: df_example[col].to_numpy() for col in df_example.columns}\n",
    "display(df_example)\n",
    "print(dict_of_arrays)"
   ]
  },
  {
   "cell_type": "markdown",
   "id": "4558da7e-8897-4f5d-a89e-4600e4dbb523",
   "metadata": {
    "jp-MarkdownHeadingCollapsed": true
   },
   "source": [
    "## Creating Prior Class Instances"
   ]
  },
  {
   "cell_type": "code",
   "execution_count": 5,
   "id": "b52f454a",
   "metadata": {},
   "outputs": [],
   "source": [
    "parentdir = '/home/isha/PopulationSelectionEffects/output/'\n",
    "\n",
    "# grab the psds from any exisiting event - we will chnage the event name later\n",
    "eventname = 'GW190521'\n",
    "\n",
    "combined_pop_prior = FixedTestPopulationPrior(f_ref=20) # combined prior\n",
    "pop_prior = GaussianTestPopulationPrior() # population prior\n",
    "#test_prior = TestPrior(detector_pair='HL', tgps=0.0, ref_det_name='H1', f_avg='10',f_ref=20)\n",
    "#fixed_test_prior = FixedTestPrior(f_ref=20)\n",
    "#inj_prior=InjectionPrior(detector_pair='HL', tgps=0.0, ref_det_name='H1', f_avg='10', m1_source_range=(3,10))\n",
    "#,f_ref=20)\n",
    "#inj_mass_prior = InjectionMassPrior(tgps=0.0, ref_det_name='H1',m1_source_range=(3,10))\n",
    "inj_prior=InjectionPrior(detector_pair='HL', tgps=0.0, ref_det_name='H', f_avg=10, m1_source_range=(3,10),f_ref=20)"
   ]
  },
  {
   "cell_type": "code",
   "execution_count": 6,
   "id": "230e3b89",
   "metadata": {},
   "outputs": [
    {
     "data": {
      "text/plain": [
       "{'lambda1': (10, 10), 'lambda2': (-10, 10)}"
      ]
     },
     "execution_count": 6,
     "metadata": {},
     "output_type": "execute_result"
    }
   ],
   "source": [
    "pop_prior.hyperparam_range_dic"
   ]
  },
  {
   "cell_type": "code",
   "execution_count": 7,
   "id": "a69aa8c6",
   "metadata": {},
   "outputs": [
    {
     "data": {
      "text/plain": [
       "(FixedTestPopulationPrior(m1, m2) → [iota, ra, dec, t_geocenter, psi, phi_ref, m1, m2, s1z, s2z, s1x_n, s1y_n, s2x_n, s2y_n, l1, l2, f_ref, d_luminosity],\n",
       " GaussianTestPopulationPrior(m1, m2) → [m1, m2])"
      ]
     },
     "execution_count": 7,
     "metadata": {},
     "output_type": "execute_result"
    }
   ],
   "source": [
    "# display the pop objects\n",
    "combined_pop_prior, pop_prior"
   ]
  },
  {
   "cell_type": "code",
   "execution_count": 8,
   "id": "e0286598-1d76-499c-b2c3-6cc9cef525ab",
   "metadata": {},
   "outputs": [
    {
     "data": {
      "text/plain": [
       "[IsotropicInclinationPrior(cosiota) → [iota],\n",
       " IsotropicSkyLocationPrior(costhetanet, phinet_hat | iota) → [ra, dec],\n",
       " UniformTimePrior(t_refdet | ra, dec) → [t_geocenter],\n",
       " UniformPolarizationPrior(psi) → [psi],\n",
       " UniformPhasePrior(phi_ref_hat | iota, ra, dec, psi, t_geocenter) → [phi_ref],\n",
       " InjectionMassPrior(m1_source, cum_q, d_hat | ra, dec, psi, iota) → [m1, m2, d_luminosity],\n",
       " UniformEffectiveSpinPrior(chieff, cumchidiff | m1, m2) → [s1z, s2z],\n",
       " ZeroInplaneSpinsPrior() → [s1x_n, s1y_n, s2x_n, s2y_n],\n",
       " ZeroTidalDeformabilityPrior() → [l1, l2],\n",
       " FixedReferenceFrequencyPrior() → [f_ref]]"
      ]
     },
     "execution_count": 8,
     "metadata": {},
     "output_type": "execute_result"
    }
   ],
   "source": [
    "inj_prior.subpriors"
   ]
  },
  {
   "cell_type": "markdown",
   "id": "b8cbcc83-9c74-495c-b159-e6546f4796ed",
   "metadata": {},
   "source": [
    "## Load PE samples"
   ]
  },
  {
   "cell_type": "raw",
   "id": "66ebd90f-77cd-41c3-8c43-c31cef93b695",
   "metadata": {
    "scrolled": true
   },
   "source": [
    "#load pe samples data\n",
    "samples_root_dir = \"/home/teja/Work/MarginalizedDistanceIASPrior\"\n",
    "list_events = ['GW150914', 'GW151012', 'GW151216', 'GW151226', 'GW170104', 'GW170121', 'GW170202', 'GW170304', 'GW170403', 'GW170425']\n",
    "\n",
    "t1 = time.time()\n",
    "all_events_pe = []\n",
    "for event in list_events:\n",
    "    event_dir = os.path.join(samples_root_dir, event)\n",
    "    latest_run_dir_path = os.path.join(event_dir, 'run_0') # only picking the 0th run right now!!!!\n",
    "    samples = pd.read_feather(os.path.join(latest_run_dir_path, 'samples.feather'))\n",
    "    #Add columns of sampled params\n",
    "    inj_prior.subpriors[0].inverse_transform_samples(samples) #(cosiota)\n",
    "    inj_prior.subpriors[1].inverse_transform_samples(samples) #(costhetanet, phinet_hat)\n",
    "    inj_prior.subpriors[2].inverse_transform_samples(samples) #(t_refdet)\n",
    "    inj_prior.subpriors[4].inverse_transform_samples(samples) #(phi_ref_hat)\n",
    "    inj_prior.subpriors[5].inverse_transform_samples(samples) #(m1_source, cum_q, d_hat)\n",
    "    inj_prior.subpriors[6].inverse_transform_samples(samples) #(chieff, cumchidiff)\n",
    "    #append to list\n",
    "    all_events_pe.append(samples)\n",
    "t2=time.time()\n",
    "\n",
    "print((t2 - t1)/60)"
   ]
  },
  {
   "cell_type": "code",
   "execution_count": 4,
   "id": "9a0b9a7a-a881-43bb-b964-58ae095b1021",
   "metadata": {},
   "outputs": [],
   "source": [
    "#read pe samples from saved \n",
    "samples_root_dir = '/home/isha/PopulationSelectionEffects/cogwheel_population_inference/cogwheel/cogwheel/population_inference/PE_samples10'\n",
    "list_events = ['GW150914', 'GW151012', 'GW151216', \n",
    "               'GW151226', 'GW170104', 'GW170121', 'GW170202', 'GW170304', 'GW170403', 'GW170425']\n",
    "all_events_pe = []\n",
    "for event in list_events:\n",
    "    event_file_name = os.path.join(samples_root_dir, event+'.feather')\n",
    "    samples = pd.read_feather(event_file_name)\n",
    "    all_events_pe.append(samples)"
   ]
  },
  {
   "cell_type": "code",
   "execution_count": 5,
   "id": "5a65e170-89f4-4dea-ad68-a02400af1e0e",
   "metadata": {},
   "outputs": [
    {
     "data": {
      "text/plain": [
       "Index(['mchirp', 'lnq', 'chieff', 'cumchidiff', 'costheta_jn', 'phi_jl_hat',\n",
       "       'phi12', 'cums1r_s1z', 'cums2r_s2z', 'psi', 'costhetanet', 'phinet_hat',\n",
       "       't_refdet', 'phi_ref_hat', 'weights', 'f_ref', 'm1', 'm2', 's1z', 's2z',\n",
       "       'iota', 's1x_n', 's1y_n', 's2x_n', 's2y_n', 'ra', 'dec', 't_geocenter',\n",
       "       'phi_ref', 'l1', 'l2', 'd_luminosity', 'lnl', 'lnl_aux_H', 'lnl_aux_L',\n",
       "       'cosiota', 'm1_source', 'cum_q', 'd_hat'],\n",
       "      dtype='object')"
      ]
     },
     "execution_count": 5,
     "metadata": {},
     "output_type": "execute_result"
    }
   ],
   "source": [
    "all_events_pe[0].keys()\n",
    "#all_events_pe[0]['lnl']"
   ]
  },
  {
   "cell_type": "markdown",
   "id": "5858c00a-84d7-410f-9c6e-91a53fcfb5df",
   "metadata": {},
   "source": [
    "## Compute Likelihood"
   ]
  },
  {
   "cell_type": "code",
   "execution_count": 17,
   "id": "531015e4-a3fa-4903-b097-da08fe141298",
   "metadata": {},
   "outputs": [],
   "source": [
    "# now compute likelihood\n",
    "injections_summary_dict = {'Ninj':20000, 'recovered_injections':injs_summary, 'pastro_func':np.ones(10)}\n",
    "R0 = 70\n",
    "\n",
    "likelihood_object = PopulationLikelihood(combined_pop_prior, injections_summary_dict, all_events_pe, R0, injection_population_model=inj_prior)"
   ]
  },
  {
   "cell_type": "code",
   "execution_count": 19,
   "id": "5af40882-d277-4c0f-a856-b74c824372fa",
   "metadata": {
    "scrolled": true
   },
   "outputs": [
    {
     "ename": "KeyboardInterrupt",
     "evalue": "",
     "output_type": "error",
     "traceback": [
      "\u001b[0;31m---------------------------------------------------------------------------\u001b[0m",
      "\u001b[0;31mKeyboardInterrupt\u001b[0m                         Traceback (most recent call last)",
      "Cell \u001b[0;32mIn[19], line 1\u001b[0m\n\u001b[0;32m----> 1\u001b[0m \u001b[43mlikelihood_object\u001b[49m\u001b[38;5;241;43m.\u001b[39;49m\u001b[43mw_i\u001b[49m\u001b[43m(\u001b[49m\u001b[43mhyperparams_dic\u001b[49m\u001b[38;5;241;43m=\u001b[39;49m\u001b[43m{\u001b[49m\u001b[38;5;124;43m'\u001b[39;49m\u001b[38;5;124;43mlambda1\u001b[39;49m\u001b[38;5;124;43m'\u001b[39;49m\u001b[43m:\u001b[49m\u001b[38;5;241;43m1\u001b[39;49m\u001b[43m,\u001b[49m\u001b[43m \u001b[49m\u001b[38;5;124;43m'\u001b[39;49m\u001b[38;5;124;43mlambda2\u001b[39;49m\u001b[38;5;124;43m'\u001b[39;49m\u001b[43m:\u001b[49m\u001b[38;5;241;43m1\u001b[39;49m\u001b[43m,\u001b[49m\u001b[43m \u001b[49m\u001b[38;5;124;43m'\u001b[39;49m\u001b[38;5;124;43mR\u001b[39;49m\u001b[38;5;124;43m'\u001b[39;49m\u001b[43m:\u001b[49m\u001b[38;5;241;43m100\u001b[39;49m\u001b[43m}\u001b[49m\u001b[43m)\u001b[49m\n",
      "File \u001b[0;32m~/PopulationSelectionEffects/cogwheel_population_inference/cogwheel/cogwheel/population_inference/population_likelihood.py:69\u001b[0m, in \u001b[0;36mPopulationLikelihood.w_i\u001b[0;34m(self, hyperparams_dic)\u001b[0m\n\u001b[1;32m     64\u001b[0m     pe_inj_params_df \u001b[38;5;241m=\u001b[39m pe_samples[inj_param_keys]\n\u001b[1;32m     65\u001b[0m     inj_params_dict \u001b[38;5;241m=\u001b[39m {col: pe_inj_params_df[col]\u001b[38;5;241m.\u001b[39mto_numpy() \u001b[38;5;28;01mfor\u001b[39;00m col \u001b[38;5;129;01min\u001b[39;00m pe_inj_params_df\u001b[38;5;241m.\u001b[39mcolumns}\n\u001b[1;32m     67\u001b[0m     w_arr[i] \u001b[38;5;241m=\u001b[39m (np\u001b[38;5;241m.\u001b[39msum(np\u001b[38;5;241m.\u001b[39mexp(vectorized_population_lnprior(\u001b[38;5;241m*\u001b[39m\u001b[38;5;241m*\u001b[39mmodel_params_dict) \u001b[38;5;241m-\u001b[39m \n\u001b[1;32m     68\u001b[0m                           pe_samples[\u001b[38;5;124m'\u001b[39m\u001b[38;5;124mlnl\u001b[39m\u001b[38;5;124m'\u001b[39m]))\u001b[38;5;241m/\u001b[39m\n\u001b[0;32m---> 69\u001b[0m              np\u001b[38;5;241m.\u001b[39msum(np\u001b[38;5;241m.\u001b[39mexp(\u001b[43mvectorized_injection_population_lnprior\u001b[49m\u001b[43m(\u001b[49m\u001b[38;5;241;43m*\u001b[39;49m\u001b[38;5;241;43m*\u001b[39;49m\u001b[43minj_params_dict\u001b[49m\u001b[43m)\u001b[49m \u001b[38;5;241m-\u001b[39m \n\u001b[1;32m     70\u001b[0m                           pe_samples[\u001b[38;5;124m'\u001b[39m\u001b[38;5;124mlnl\u001b[39m\u001b[38;5;124m'\u001b[39m])))\n\u001b[1;32m     71\u001b[0m \u001b[38;5;28;01mreturn\u001b[39;00m w_arr\n",
      "File \u001b[0;32m~/miniconda3/envs/cogwheel_pop_latest/lib/python3.9/site-packages/numpy/lib/function_base.py:2372\u001b[0m, in \u001b[0;36mvectorize.__call__\u001b[0;34m(self, *args, **kwargs)\u001b[0m\n\u001b[1;32m   2369\u001b[0m     \u001b[38;5;28mself\u001b[39m\u001b[38;5;241m.\u001b[39m_init_stage_2(\u001b[38;5;241m*\u001b[39margs, \u001b[38;5;241m*\u001b[39m\u001b[38;5;241m*\u001b[39mkwargs)\n\u001b[1;32m   2370\u001b[0m     \u001b[38;5;28;01mreturn\u001b[39;00m \u001b[38;5;28mself\u001b[39m\n\u001b[0;32m-> 2372\u001b[0m \u001b[38;5;28;01mreturn\u001b[39;00m \u001b[38;5;28;43mself\u001b[39;49m\u001b[38;5;241;43m.\u001b[39;49m\u001b[43m_call_as_normal\u001b[49m\u001b[43m(\u001b[49m\u001b[38;5;241;43m*\u001b[39;49m\u001b[43margs\u001b[49m\u001b[43m,\u001b[49m\u001b[43m \u001b[49m\u001b[38;5;241;43m*\u001b[39;49m\u001b[38;5;241;43m*\u001b[39;49m\u001b[43mkwargs\u001b[49m\u001b[43m)\u001b[49m\n",
      "File \u001b[0;32m~/miniconda3/envs/cogwheel_pop_latest/lib/python3.9/site-packages/numpy/lib/function_base.py:2365\u001b[0m, in \u001b[0;36mvectorize._call_as_normal\u001b[0;34m(self, *args, **kwargs)\u001b[0m\n\u001b[1;32m   2362\u001b[0m     vargs \u001b[38;5;241m=\u001b[39m [args[_i] \u001b[38;5;28;01mfor\u001b[39;00m _i \u001b[38;5;129;01min\u001b[39;00m inds]\n\u001b[1;32m   2363\u001b[0m     vargs\u001b[38;5;241m.\u001b[39mextend([kwargs[_n] \u001b[38;5;28;01mfor\u001b[39;00m _n \u001b[38;5;129;01min\u001b[39;00m names])\n\u001b[0;32m-> 2365\u001b[0m \u001b[38;5;28;01mreturn\u001b[39;00m \u001b[38;5;28;43mself\u001b[39;49m\u001b[38;5;241;43m.\u001b[39;49m\u001b[43m_vectorize_call\u001b[49m\u001b[43m(\u001b[49m\u001b[43mfunc\u001b[49m\u001b[38;5;241;43m=\u001b[39;49m\u001b[43mfunc\u001b[49m\u001b[43m,\u001b[49m\u001b[43m \u001b[49m\u001b[43margs\u001b[49m\u001b[38;5;241;43m=\u001b[39;49m\u001b[43mvargs\u001b[49m\u001b[43m)\u001b[49m\n",
      "File \u001b[0;32m~/miniconda3/envs/cogwheel_pop_latest/lib/python3.9/site-packages/numpy/lib/function_base.py:2455\u001b[0m, in \u001b[0;36mvectorize._vectorize_call\u001b[0;34m(self, func, args)\u001b[0m\n\u001b[1;32m   2452\u001b[0m \u001b[38;5;66;03m# Convert args to object arrays first\u001b[39;00m\n\u001b[1;32m   2453\u001b[0m inputs \u001b[38;5;241m=\u001b[39m [asanyarray(a, dtype\u001b[38;5;241m=\u001b[39m\u001b[38;5;28mobject\u001b[39m) \u001b[38;5;28;01mfor\u001b[39;00m a \u001b[38;5;129;01min\u001b[39;00m args]\n\u001b[0;32m-> 2455\u001b[0m outputs \u001b[38;5;241m=\u001b[39m \u001b[43mufunc\u001b[49m\u001b[43m(\u001b[49m\u001b[38;5;241;43m*\u001b[39;49m\u001b[43minputs\u001b[49m\u001b[43m)\u001b[49m\n\u001b[1;32m   2457\u001b[0m \u001b[38;5;28;01mif\u001b[39;00m ufunc\u001b[38;5;241m.\u001b[39mnout \u001b[38;5;241m==\u001b[39m \u001b[38;5;241m1\u001b[39m:\n\u001b[1;32m   2458\u001b[0m     res \u001b[38;5;241m=\u001b[39m asanyarray(outputs, dtype\u001b[38;5;241m=\u001b[39motypes[\u001b[38;5;241m0\u001b[39m])\n",
      "File \u001b[0;32m~/miniconda3/envs/cogwheel_pop_latest/lib/python3.9/site-packages/numpy/lib/function_base.py:2360\u001b[0m, in \u001b[0;36mvectorize._call_as_normal.<locals>.func\u001b[0;34m(*vargs)\u001b[0m\n\u001b[1;32m   2358\u001b[0m     the_args[_i] \u001b[38;5;241m=\u001b[39m vargs[_n]\n\u001b[1;32m   2359\u001b[0m kwargs\u001b[38;5;241m.\u001b[39mupdate(\u001b[38;5;28mzip\u001b[39m(names, vargs[\u001b[38;5;28mlen\u001b[39m(inds):]))\n\u001b[0;32m-> 2360\u001b[0m \u001b[38;5;28;01mreturn\u001b[39;00m \u001b[38;5;28;43mself\u001b[39;49m\u001b[38;5;241;43m.\u001b[39;49m\u001b[43mpyfunc\u001b[49m\u001b[43m(\u001b[49m\u001b[38;5;241;43m*\u001b[39;49m\u001b[43mthe_args\u001b[49m\u001b[43m,\u001b[49m\u001b[43m \u001b[49m\u001b[38;5;241;43m*\u001b[39;49m\u001b[38;5;241;43m*\u001b[39;49m\u001b[43mkwargs\u001b[49m\u001b[43m)\u001b[49m\n",
      "File \u001b[0;32m~/PopulationSelectionEffects/cogwheel_population_inference/cogwheel/cogwheel/prior.py:564\u001b[0m, in \u001b[0;36mCombinedPrior.__init_subclass__.<locals>.lnprior\u001b[0;34m(self, *par_vals, **par_dic)\u001b[0m\n\u001b[1;32m    558\u001b[0m \u001b[38;5;28;01mdef\u001b[39;00m \u001b[38;5;21mlnprior\u001b[39m(\u001b[38;5;28mself\u001b[39m, \u001b[38;5;241m*\u001b[39mpar_vals, \u001b[38;5;241m*\u001b[39m\u001b[38;5;241m*\u001b[39mpar_dic):\n\u001b[1;32m    559\u001b[0m \u001b[38;5;250m    \u001b[39m\u001b[38;5;124;03m\"\"\"\u001b[39;00m\n\u001b[1;32m    560\u001b[0m \u001b[38;5;124;03m    Natural logarithm of the prior probability density.\u001b[39;00m\n\u001b[1;32m    561\u001b[0m \u001b[38;5;124;03m    Take `self.sampled_params + self.conditioned_on` parameters\u001b[39;00m\n\u001b[1;32m    562\u001b[0m \u001b[38;5;124;03m    and return a float.\u001b[39;00m\n\u001b[1;32m    563\u001b[0m \u001b[38;5;124;03m    \"\"\"\u001b[39;00m\n\u001b[0;32m--> 564\u001b[0m     \u001b[38;5;28;01mreturn\u001b[39;00m \u001b[38;5;28;43mself\u001b[39;49m\u001b[38;5;241;43m.\u001b[39;49m\u001b[43mlnprior_and_transform\u001b[49m\u001b[43m(\u001b[49m\u001b[38;5;241;43m*\u001b[39;49m\u001b[43mpar_vals\u001b[49m\u001b[43m,\u001b[49m\u001b[43m \u001b[49m\u001b[38;5;241;43m*\u001b[39;49m\u001b[38;5;241;43m*\u001b[39;49m\u001b[43mpar_dic\u001b[49m\u001b[43m)\u001b[49m[\u001b[38;5;241m0\u001b[39m]\n",
      "File \u001b[0;32m~/PopulationSelectionEffects/cogwheel_population_inference/cogwheel/cogwheel/prior.py:547\u001b[0m, in \u001b[0;36mCombinedPrior.__init_subclass__.<locals>.lnprior_and_transform\u001b[0;34m(self, *par_vals, **par_dic)\u001b[0m\n\u001b[1;32m    538\u001b[0m \u001b[38;5;250m\u001b[39m\u001b[38;5;124;03m\"\"\"\u001b[39;00m\n\u001b[1;32m    539\u001b[0m \u001b[38;5;124;03mTake sampled and conditioned-on parameters, and return a\u001b[39;00m\n\u001b[1;32m    540\u001b[0m \u001b[38;5;124;03m2-element tuple with the log of the prior and a dictionary\u001b[39;00m\n\u001b[0;32m   (...)\u001b[0m\n\u001b[1;32m    544\u001b[0m \u001b[38;5;124;03mboth are wanted it is efficient to compute them at once.\u001b[39;00m\n\u001b[1;32m    545\u001b[0m \u001b[38;5;124;03m\"\"\"\u001b[39;00m\n\u001b[1;32m    546\u001b[0m par_dic\u001b[38;5;241m.\u001b[39mupdate(\u001b[38;5;28mdict\u001b[39m(\u001b[38;5;28mzip\u001b[39m(direct_params, par_vals)))\n\u001b[0;32m--> 547\u001b[0m standard_par_dic \u001b[38;5;241m=\u001b[39m \u001b[38;5;28;43mself\u001b[39;49m\u001b[38;5;241;43m.\u001b[39;49m\u001b[43mtransform\u001b[49m\u001b[43m(\u001b[49m\u001b[38;5;241;43m*\u001b[39;49m\u001b[38;5;241;43m*\u001b[39;49m\u001b[43mpar_dic\u001b[49m\u001b[43m)\u001b[49m\n\u001b[1;32m    548\u001b[0m par_dic\u001b[38;5;241m.\u001b[39mupdate(standard_par_dic)\n\u001b[1;32m    550\u001b[0m lnp \u001b[38;5;241m=\u001b[39m \u001b[38;5;241m0\u001b[39m\n",
      "File \u001b[0;32m~/PopulationSelectionEffects/cogwheel_population_inference/cogwheel/cogwheel/prior.py:520\u001b[0m, in \u001b[0;36mCombinedPrior.__init_subclass__.<locals>.transform\u001b[0;34m(self, *par_vals, **par_dic)\u001b[0m\n\u001b[1;32m    516\u001b[0m \u001b[38;5;28;01mfor\u001b[39;00m subprior \u001b[38;5;129;01min\u001b[39;00m \u001b[38;5;28mself\u001b[39m\u001b[38;5;241m.\u001b[39msubpriors:\n\u001b[1;32m    517\u001b[0m     input_dic \u001b[38;5;241m=\u001b[39m {par: par_dic[par]\n\u001b[1;32m    518\u001b[0m                  \u001b[38;5;28;01mfor\u001b[39;00m par \u001b[38;5;129;01min\u001b[39;00m (subprior\u001b[38;5;241m.\u001b[39msampled_params\n\u001b[1;32m    519\u001b[0m                              \u001b[38;5;241m+\u001b[39m subprior\u001b[38;5;241m.\u001b[39mconditioned_on)}\n\u001b[0;32m--> 520\u001b[0m     par_dic\u001b[38;5;241m.\u001b[39mupdate(\u001b[43msubprior\u001b[49m\u001b[38;5;241;43m.\u001b[39;49m\u001b[43mtransform\u001b[49m\u001b[43m(\u001b[49m\u001b[38;5;241;43m*\u001b[39;49m\u001b[38;5;241;43m*\u001b[39;49m\u001b[43minput_dic\u001b[49m\u001b[43m)\u001b[49m)\n\u001b[1;32m    521\u001b[0m \u001b[38;5;28;01mreturn\u001b[39;00m {par: par_dic[par] \u001b[38;5;28;01mfor\u001b[39;00m par \u001b[38;5;129;01min\u001b[39;00m \u001b[38;5;28mself\u001b[39m\u001b[38;5;241m.\u001b[39mstandard_params}\n",
      "File \u001b[0;32m~/PopulationSelectionEffects/cogwheel_population_inference/cogwheel/cogwheel/gw_prior/extrinsic.py:104\u001b[0m, in \u001b[0;36mUniformPhasePrior.transform\u001b[0;34m(self, phi_ref_hat, iota, ra, dec, psi, t_geocenter)\u001b[0m\n\u001b[1;32m    101\u001b[0m \u001b[38;5;129m@utils\u001b[39m\u001b[38;5;241m.\u001b[39mlru_cache()\n\u001b[1;32m    102\u001b[0m \u001b[38;5;28;01mdef\u001b[39;00m \u001b[38;5;21mtransform\u001b[39m(\u001b[38;5;28mself\u001b[39m, phi_ref_hat, iota, ra, dec, psi, t_geocenter):\n\u001b[1;32m    103\u001b[0m \u001b[38;5;250m    \u001b[39m\u001b[38;5;124;03m\"\"\"phi_ref_hat to phi_ref.\"\"\"\u001b[39;00m\n\u001b[0;32m--> 104\u001b[0m     phase_refdet \u001b[38;5;241m=\u001b[39m \u001b[38;5;28;43mself\u001b[39;49m\u001b[38;5;241;43m.\u001b[39;49m\u001b[43m_phase_refdet\u001b[49m\u001b[43m(\u001b[49m\u001b[43miota\u001b[49m\u001b[43m,\u001b[49m\u001b[43m \u001b[49m\u001b[43mra\u001b[49m\u001b[43m,\u001b[49m\u001b[43m \u001b[49m\u001b[43mdec\u001b[49m\u001b[43m,\u001b[49m\u001b[43m \u001b[49m\u001b[43mpsi\u001b[49m\u001b[43m,\u001b[49m\u001b[43m \u001b[49m\u001b[43mt_geocenter\u001b[49m\u001b[43m,\u001b[49m\n\u001b[1;32m    105\u001b[0m \u001b[43m                                      \u001b[49m\u001b[43mphi_ref\u001b[49m\u001b[38;5;241;43m=\u001b[39;49m\u001b[38;5;241;43m0\u001b[39;49m\u001b[43m)\u001b[49m\n\u001b[1;32m    106\u001b[0m     phi_ref \u001b[38;5;241m=\u001b[39m (phi_ref_hat\n\u001b[1;32m    107\u001b[0m                \u001b[38;5;241m-\u001b[39m (phase_refdet \u001b[38;5;241m-\u001b[39m \u001b[38;5;28mself\u001b[39m\u001b[38;5;241m.\u001b[39m_phase_refdet_0) \u001b[38;5;241m/\u001b[39m \u001b[38;5;241m2\u001b[39m) \u001b[38;5;241m%\u001b[39m (\u001b[38;5;241m2\u001b[39m\u001b[38;5;241m*\u001b[39mnp\u001b[38;5;241m.\u001b[39mpi)\n\u001b[1;32m    108\u001b[0m     \u001b[38;5;28;01mreturn\u001b[39;00m {\u001b[38;5;124m'\u001b[39m\u001b[38;5;124mphi_ref\u001b[39m\u001b[38;5;124m'\u001b[39m: phi_ref}\n",
      "File \u001b[0;32m~/PopulationSelectionEffects/cogwheel_population_inference/cogwheel/cogwheel/gw_prior/extrinsic.py:98\u001b[0m, in \u001b[0;36mUniformPhasePrior._phase_refdet\u001b[0;34m(self, iota, ra, dec, psi, t_geocenter, phi_ref)\u001b[0m\n\u001b[1;32m     91\u001b[0m \u001b[38;5;250m\u001b[39m\u001b[38;5;124;03m\"\"\"\u001b[39;00m\n\u001b[1;32m     92\u001b[0m \u001b[38;5;124;03mReturn the well-measurable overall phase at the reference\u001b[39;00m\n\u001b[1;32m     93\u001b[0m \u001b[38;5;124;03mdetector. The intuition is that all allowed values of\u001b[39;00m\n\u001b[1;32m     94\u001b[0m \u001b[38;5;124;03m(phi_ref, iota, ra, dec, psi, t_geocenter) would have a\u001b[39;00m\n\u001b[1;32m     95\u001b[0m \u001b[38;5;124;03mconsistent value of phase_refdet.\u001b[39;00m\n\u001b[1;32m     96\u001b[0m \u001b[38;5;124;03m\"\"\"\u001b[39;00m\n\u001b[1;32m     97\u001b[0m t_refdet \u001b[38;5;241m=\u001b[39m t_geocenter \u001b[38;5;241m+\u001b[39m \u001b[38;5;28mself\u001b[39m\u001b[38;5;241m.\u001b[39mtime_delay_refdet(ra, dec)\n\u001b[0;32m---> 98\u001b[0m \u001b[38;5;28;01mreturn\u001b[39;00m (np\u001b[38;5;241m.\u001b[39mangle(\u001b[38;5;28;43mself\u001b[39;49m\u001b[38;5;241;43m.\u001b[39;49m\u001b[43mgeometric_factor_refdet\u001b[49m\u001b[43m(\u001b[49m\u001b[43mra\u001b[49m\u001b[43m,\u001b[49m\u001b[43m \u001b[49m\u001b[43mdec\u001b[49m\u001b[43m,\u001b[49m\u001b[43m \u001b[49m\u001b[43mpsi\u001b[49m\u001b[43m,\u001b[49m\u001b[43m \u001b[49m\u001b[43miota\u001b[49m\u001b[43m)\u001b[49m)\n\u001b[1;32m     99\u001b[0m         \u001b[38;5;241m+\u001b[39m \u001b[38;5;241m2\u001b[39m\u001b[38;5;241m*\u001b[39mphi_ref \u001b[38;5;241m-\u001b[39m \u001b[38;5;241m2\u001b[39m\u001b[38;5;241m*\u001b[39mnp\u001b[38;5;241m.\u001b[39mpi\u001b[38;5;241m*\u001b[39m\u001b[38;5;28mself\u001b[39m\u001b[38;5;241m.\u001b[39mf_avg\u001b[38;5;241m*\u001b[39mt_refdet) \u001b[38;5;241m%\u001b[39m (\u001b[38;5;241m2\u001b[39m\u001b[38;5;241m*\u001b[39mnp\u001b[38;5;241m.\u001b[39mpi)\n",
      "File \u001b[0;32m~/PopulationSelectionEffects/cogwheel_population_inference/cogwheel/cogwheel/gw_prior/extrinsic.py:50\u001b[0m, in \u001b[0;36mReferenceDetectorMixin.geometric_factor_refdet\u001b[0;34m(self, ra, dec, psi, iota)\u001b[0m\n\u001b[1;32m     41\u001b[0m \u001b[38;5;129m@utils\u001b[39m\u001b[38;5;241m.\u001b[39mlru_cache()\n\u001b[1;32m     42\u001b[0m \u001b[38;5;28;01mdef\u001b[39;00m \u001b[38;5;21mgeometric_factor_refdet\u001b[39m(\u001b[38;5;28mself\u001b[39m, ra, dec, psi, iota):\n\u001b[1;32m     43\u001b[0m \u001b[38;5;250m    \u001b[39m\u001b[38;5;124;03m\"\"\"\u001b[39;00m\n\u001b[1;32m     44\u001b[0m \u001b[38;5;124;03m    Return the complex geometric factor\u001b[39;00m\n\u001b[1;32m     45\u001b[0m \u001b[38;5;124;03m        R = (1+cos^2(iota)) Fp / 2 - i cos(iota) Fc\u001b[39;00m\n\u001b[0;32m   (...)\u001b[0m\n\u001b[1;32m     48\u001b[0m \u001b[38;5;124;03m    Note that the amplitude |R| is between 0 and 1.\u001b[39;00m\n\u001b[1;32m     49\u001b[0m \u001b[38;5;124;03m    \"\"\"\u001b[39;00m\n\u001b[0;32m---> 50\u001b[0m     fplus, fcross \u001b[38;5;241m=\u001b[39m \u001b[38;5;28;43mself\u001b[39;49m\u001b[38;5;241;43m.\u001b[39;49m\u001b[43mfplus_fcross_refdet\u001b[49m\u001b[43m(\u001b[49m\u001b[43mra\u001b[49m\u001b[43m,\u001b[49m\u001b[43m \u001b[49m\u001b[43mdec\u001b[49m\u001b[43m,\u001b[49m\u001b[43m \u001b[49m\u001b[43mpsi\u001b[49m\u001b[43m)\u001b[49m\n\u001b[1;32m     51\u001b[0m     cosiota \u001b[38;5;241m=\u001b[39m np\u001b[38;5;241m.\u001b[39mcos(iota)\n\u001b[1;32m     52\u001b[0m     \u001b[38;5;28;01mreturn\u001b[39;00m (\u001b[38;5;241m1\u001b[39m \u001b[38;5;241m+\u001b[39m cosiota\u001b[38;5;241m*\u001b[39m\u001b[38;5;241m*\u001b[39m\u001b[38;5;241m2\u001b[39m) \u001b[38;5;241m/\u001b[39m \u001b[38;5;241m2\u001b[39m \u001b[38;5;241m*\u001b[39m fplus \u001b[38;5;241m-\u001b[39m \u001b[38;5;241m1\u001b[39mj \u001b[38;5;241m*\u001b[39m cosiota \u001b[38;5;241m*\u001b[39m fcross\n",
      "File \u001b[0;32m~/PopulationSelectionEffects/cogwheel_population_inference/cogwheel/cogwheel/gw_prior/extrinsic.py:38\u001b[0m, in \u001b[0;36mReferenceDetectorMixin.fplus_fcross_refdet\u001b[0;34m(self, ra, dec, psi)\u001b[0m\n\u001b[1;32m     36\u001b[0m \u001b[38;5;28;01mdef\u001b[39;00m \u001b[38;5;21mfplus_fcross_refdet\u001b[39m(\u001b[38;5;28mself\u001b[39m, ra, dec, psi):\n\u001b[1;32m     37\u001b[0m \u001b[38;5;250m    \u001b[39m\u001b[38;5;124;03m\"\"\"Antenna coefficients (F+, Fx) at the reference detector.\"\"\"\u001b[39;00m\n\u001b[0;32m---> 38\u001b[0m     \u001b[38;5;28;01mreturn\u001b[39;00m \u001b[43mgw_utils\u001b[49m\u001b[38;5;241;43m.\u001b[39;49m\u001b[43mfplus_fcross\u001b[49m\u001b[43m(\u001b[49m\u001b[38;5;28;43mself\u001b[39;49m\u001b[38;5;241;43m.\u001b[39;49m\u001b[43mref_det_name\u001b[49m\u001b[43m,\u001b[49m\u001b[43m \u001b[49m\u001b[43mra\u001b[49m\u001b[43m,\u001b[49m\u001b[43m \u001b[49m\u001b[43mdec\u001b[49m\u001b[43m,\u001b[49m\u001b[43m \u001b[49m\u001b[43mpsi\u001b[49m\u001b[43m,\u001b[49m\n\u001b[1;32m     39\u001b[0m \u001b[43m                                 \u001b[49m\u001b[38;5;28;43mself\u001b[39;49m\u001b[38;5;241;43m.\u001b[39;49m\u001b[43mtgps\u001b[49m\u001b[43m)\u001b[49m[:, \u001b[38;5;241m0\u001b[39m]\n",
      "File \u001b[0;32m~/PopulationSelectionEffects/cogwheel_population_inference/cogwheel/cogwheel/gw_utils.py:47\u001b[0m, in \u001b[0;36mfplus_fcross\u001b[0;34m(detector_names, ra, dec, psi, tgps)\u001b[0m\n\u001b[1;32m     40\u001b[0m \u001b[38;5;129m@utils\u001b[39m\u001b[38;5;241m.\u001b[39mlru_cache()\n\u001b[1;32m     41\u001b[0m \u001b[38;5;28;01mdef\u001b[39;00m \u001b[38;5;21mfplus_fcross\u001b[39m(detector_names, ra, dec, psi, tgps):\n\u001b[1;32m     42\u001b[0m \u001b[38;5;250m    \u001b[39m\u001b[38;5;124;03m\"\"\"\u001b[39;00m\n\u001b[1;32m     43\u001b[0m \u001b[38;5;124;03m    Return a (2 x n_detectors) array with F+, Fx antenna coefficients.\u001b[39;00m\n\u001b[1;32m     44\u001b[0m \u001b[38;5;124;03m    Note: For caching, ``detector_names`` has to be hashable, e.g. a\u001b[39;00m\n\u001b[1;32m     45\u001b[0m \u001b[38;5;124;03m    string like ``'HLV'`` or a tuple ``('H', 'L', 'V')`` but not a list.\u001b[39;00m\n\u001b[1;32m     46\u001b[0m \u001b[38;5;124;03m    \"\"\"\u001b[39;00m\n\u001b[0;32m---> 47\u001b[0m     gmst \u001b[38;5;241m=\u001b[39m \u001b[43mlal\u001b[49m\u001b[38;5;241;43m.\u001b[39;49m\u001b[43mGreenwichMeanSiderealTime\u001b[49m\u001b[43m(\u001b[49m\u001b[43mtgps\u001b[49m\u001b[43m)\u001b[49m  \u001b[38;5;66;03m# [radians]\u001b[39;00m\n\u001b[1;32m     48\u001b[0m     \u001b[38;5;28;01mreturn\u001b[39;00m np\u001b[38;5;241m.\u001b[39mtranspose([\n\u001b[1;32m     49\u001b[0m         lal\u001b[38;5;241m.\u001b[39mComputeDetAMResponse(DETECTORS[det]\u001b[38;5;241m.\u001b[39mresponse, ra, dec, psi, gmst)\n\u001b[1;32m     50\u001b[0m         \u001b[38;5;28;01mfor\u001b[39;00m det \u001b[38;5;129;01min\u001b[39;00m detector_names])\n",
      "\u001b[0;31mKeyboardInterrupt\u001b[0m: "
     ]
    }
   ],
   "source": [
    "likelihood_object.w_i(hyperparams_dic={'lambda1':1, 'lambda2':1, 'R':100})"
   ]
  },
  {
   "cell_type": "code",
   "execution_count": 18,
   "id": "612a270f-4061-47d2-8d2c-9ddd9ed6c256",
   "metadata": {
    "scrolled": true
   },
   "outputs": [
    {
     "ename": "KeyboardInterrupt",
     "evalue": "",
     "output_type": "error",
     "traceback": [
      "\u001b[0;31m---------------------------------------------------------------------------\u001b[0m",
      "\u001b[0;31mKeyboardInterrupt\u001b[0m                         Traceback (most recent call last)",
      "Cell \u001b[0;32mIn[18], line 1\u001b[0m\n\u001b[0;32m----> 1\u001b[0m \u001b[43mlikelihood_object\u001b[49m\u001b[38;5;241;43m.\u001b[39;49m\u001b[43mlnlike\u001b[49m\u001b[43m(\u001b[49m\u001b[43mhyperparams_dic\u001b[49m\u001b[38;5;241;43m=\u001b[39;49m\u001b[43m{\u001b[49m\u001b[38;5;124;43m'\u001b[39;49m\u001b[38;5;124;43mlambda1\u001b[39;49m\u001b[38;5;124;43m'\u001b[39;49m\u001b[43m:\u001b[49m\u001b[38;5;241;43m1\u001b[39;49m\u001b[43m,\u001b[49m\u001b[43m \u001b[49m\u001b[38;5;124;43m'\u001b[39;49m\u001b[38;5;124;43mlambda2\u001b[39;49m\u001b[38;5;124;43m'\u001b[39;49m\u001b[43m:\u001b[49m\u001b[38;5;241;43m1\u001b[39;49m\u001b[43m,\u001b[49m\u001b[43m \u001b[49m\u001b[38;5;124;43m'\u001b[39;49m\u001b[38;5;124;43mR\u001b[39;49m\u001b[38;5;124;43m'\u001b[39;49m\u001b[43m:\u001b[49m\u001b[38;5;241;43m100\u001b[39;49m\u001b[43m}\u001b[49m\u001b[43m)\u001b[49m\n",
      "File \u001b[0;32m~/PopulationSelectionEffects/cogwheel_population_inference/cogwheel/cogwheel/population_inference/population_likelihood.py:39\u001b[0m, in \u001b[0;36mPopulationLikelihood.lnlike\u001b[0;34m(self, hyperparams_dic)\u001b[0m\n\u001b[1;32m     34\u001b[0m \u001b[38;5;28;01mdef\u001b[39;00m \u001b[38;5;21mlnlike\u001b[39m(\u001b[38;5;28mself\u001b[39m, hyperparams_dic):\n\u001b[1;32m     35\u001b[0m \u001b[38;5;250m    \u001b[39m\u001b[38;5;124;03m\"\"\"\u001b[39;00m\n\u001b[1;32m     36\u001b[0m \u001b[38;5;124;03m    Returns the log likelihood of population model (Eq. 16)\u001b[39;00m\n\u001b[1;32m     37\u001b[0m \u001b[38;5;124;03m    \"\"\"\u001b[39;00m\n\u001b[1;32m     38\u001b[0m     lnlike \u001b[38;5;241m=\u001b[39m (\u001b[38;5;241m-\u001b[39m hyperparams_dic[\u001b[38;5;124m'\u001b[39m\u001b[38;5;124mR\u001b[39m\u001b[38;5;124m'\u001b[39m]\u001b[38;5;241m*\u001b[39m\u001b[38;5;28mself\u001b[39m\u001b[38;5;241m.\u001b[39mVT(hyperparams_dic) \u001b[38;5;241m+\u001b[39m \n\u001b[0;32m---> 39\u001b[0m               np\u001b[38;5;241m.\u001b[39msum(np\u001b[38;5;241m.\u001b[39mlog((hyperparams_dic[\u001b[38;5;124m'\u001b[39m\u001b[38;5;124mR\u001b[39m\u001b[38;5;124m'\u001b[39m]\u001b[38;5;241m/\u001b[39m\u001b[38;5;28mself\u001b[39m\u001b[38;5;241m.\u001b[39mR0)\u001b[38;5;241m*\u001b[39m\u001b[38;5;28;43mself\u001b[39;49m\u001b[38;5;241;43m.\u001b[39;49m\u001b[43mw_i\u001b[49m\u001b[43m(\u001b[49m\u001b[43mhyperparams_dic\u001b[49m\u001b[43m)\u001b[49m\u001b[38;5;241m*\u001b[39m\u001b[38;5;28mself\u001b[39m\u001b[38;5;241m.\u001b[39mpastro_func) \n\u001b[1;32m     40\u001b[0m                     \u001b[38;5;241m+\u001b[39m (\u001b[38;5;241m1\u001b[39m\u001b[38;5;241m-\u001b[39m\u001b[38;5;28mself\u001b[39m\u001b[38;5;241m.\u001b[39mpastro_func)))\n\u001b[1;32m     41\u001b[0m     \u001b[38;5;28;01mreturn\u001b[39;00m lnlike\n",
      "File \u001b[0;32m~/PopulationSelectionEffects/cogwheel_population_inference/cogwheel/cogwheel/population_inference/population_likelihood.py:69\u001b[0m, in \u001b[0;36mPopulationLikelihood.w_i\u001b[0;34m(self, hyperparams_dic)\u001b[0m\n\u001b[1;32m     64\u001b[0m     pe_inj_params_df \u001b[38;5;241m=\u001b[39m pe_samples[inj_param_keys]\n\u001b[1;32m     65\u001b[0m     inj_params_dict \u001b[38;5;241m=\u001b[39m {col: pe_inj_params_df[col]\u001b[38;5;241m.\u001b[39mto_numpy() \u001b[38;5;28;01mfor\u001b[39;00m col \u001b[38;5;129;01min\u001b[39;00m pe_inj_params_df\u001b[38;5;241m.\u001b[39mcolumns}\n\u001b[1;32m     67\u001b[0m     w_arr[i] \u001b[38;5;241m=\u001b[39m (np\u001b[38;5;241m.\u001b[39msum(np\u001b[38;5;241m.\u001b[39mexp(vectorized_population_lnprior(\u001b[38;5;241m*\u001b[39m\u001b[38;5;241m*\u001b[39mmodel_params_dict) \u001b[38;5;241m-\u001b[39m \n\u001b[1;32m     68\u001b[0m                           pe_samples[\u001b[38;5;124m'\u001b[39m\u001b[38;5;124mlnl\u001b[39m\u001b[38;5;124m'\u001b[39m]))\u001b[38;5;241m/\u001b[39m\n\u001b[0;32m---> 69\u001b[0m              np\u001b[38;5;241m.\u001b[39msum(np\u001b[38;5;241m.\u001b[39mexp(\u001b[43mvectorized_injection_population_lnprior\u001b[49m\u001b[43m(\u001b[49m\u001b[38;5;241;43m*\u001b[39;49m\u001b[38;5;241;43m*\u001b[39;49m\u001b[43minj_params_dict\u001b[49m\u001b[43m)\u001b[49m \u001b[38;5;241m-\u001b[39m \n\u001b[1;32m     70\u001b[0m                           pe_samples[\u001b[38;5;124m'\u001b[39m\u001b[38;5;124mlnl\u001b[39m\u001b[38;5;124m'\u001b[39m])))\n\u001b[1;32m     71\u001b[0m \u001b[38;5;28;01mreturn\u001b[39;00m w_arr\n",
      "File \u001b[0;32m~/miniconda3/envs/cogwheel_pop_latest/lib/python3.9/site-packages/numpy/lib/function_base.py:2372\u001b[0m, in \u001b[0;36mvectorize.__call__\u001b[0;34m(self, *args, **kwargs)\u001b[0m\n\u001b[1;32m   2369\u001b[0m     \u001b[38;5;28mself\u001b[39m\u001b[38;5;241m.\u001b[39m_init_stage_2(\u001b[38;5;241m*\u001b[39margs, \u001b[38;5;241m*\u001b[39m\u001b[38;5;241m*\u001b[39mkwargs)\n\u001b[1;32m   2370\u001b[0m     \u001b[38;5;28;01mreturn\u001b[39;00m \u001b[38;5;28mself\u001b[39m\n\u001b[0;32m-> 2372\u001b[0m \u001b[38;5;28;01mreturn\u001b[39;00m \u001b[38;5;28;43mself\u001b[39;49m\u001b[38;5;241;43m.\u001b[39;49m\u001b[43m_call_as_normal\u001b[49m\u001b[43m(\u001b[49m\u001b[38;5;241;43m*\u001b[39;49m\u001b[43margs\u001b[49m\u001b[43m,\u001b[49m\u001b[43m \u001b[49m\u001b[38;5;241;43m*\u001b[39;49m\u001b[38;5;241;43m*\u001b[39;49m\u001b[43mkwargs\u001b[49m\u001b[43m)\u001b[49m\n",
      "File \u001b[0;32m~/miniconda3/envs/cogwheel_pop_latest/lib/python3.9/site-packages/numpy/lib/function_base.py:2365\u001b[0m, in \u001b[0;36mvectorize._call_as_normal\u001b[0;34m(self, *args, **kwargs)\u001b[0m\n\u001b[1;32m   2362\u001b[0m     vargs \u001b[38;5;241m=\u001b[39m [args[_i] \u001b[38;5;28;01mfor\u001b[39;00m _i \u001b[38;5;129;01min\u001b[39;00m inds]\n\u001b[1;32m   2363\u001b[0m     vargs\u001b[38;5;241m.\u001b[39mextend([kwargs[_n] \u001b[38;5;28;01mfor\u001b[39;00m _n \u001b[38;5;129;01min\u001b[39;00m names])\n\u001b[0;32m-> 2365\u001b[0m \u001b[38;5;28;01mreturn\u001b[39;00m \u001b[38;5;28;43mself\u001b[39;49m\u001b[38;5;241;43m.\u001b[39;49m\u001b[43m_vectorize_call\u001b[49m\u001b[43m(\u001b[49m\u001b[43mfunc\u001b[49m\u001b[38;5;241;43m=\u001b[39;49m\u001b[43mfunc\u001b[49m\u001b[43m,\u001b[49m\u001b[43m \u001b[49m\u001b[43margs\u001b[49m\u001b[38;5;241;43m=\u001b[39;49m\u001b[43mvargs\u001b[49m\u001b[43m)\u001b[49m\n",
      "File \u001b[0;32m~/miniconda3/envs/cogwheel_pop_latest/lib/python3.9/site-packages/numpy/lib/function_base.py:2455\u001b[0m, in \u001b[0;36mvectorize._vectorize_call\u001b[0;34m(self, func, args)\u001b[0m\n\u001b[1;32m   2452\u001b[0m \u001b[38;5;66;03m# Convert args to object arrays first\u001b[39;00m\n\u001b[1;32m   2453\u001b[0m inputs \u001b[38;5;241m=\u001b[39m [asanyarray(a, dtype\u001b[38;5;241m=\u001b[39m\u001b[38;5;28mobject\u001b[39m) \u001b[38;5;28;01mfor\u001b[39;00m a \u001b[38;5;129;01min\u001b[39;00m args]\n\u001b[0;32m-> 2455\u001b[0m outputs \u001b[38;5;241m=\u001b[39m \u001b[43mufunc\u001b[49m\u001b[43m(\u001b[49m\u001b[38;5;241;43m*\u001b[39;49m\u001b[43minputs\u001b[49m\u001b[43m)\u001b[49m\n\u001b[1;32m   2457\u001b[0m \u001b[38;5;28;01mif\u001b[39;00m ufunc\u001b[38;5;241m.\u001b[39mnout \u001b[38;5;241m==\u001b[39m \u001b[38;5;241m1\u001b[39m:\n\u001b[1;32m   2458\u001b[0m     res \u001b[38;5;241m=\u001b[39m asanyarray(outputs, dtype\u001b[38;5;241m=\u001b[39motypes[\u001b[38;5;241m0\u001b[39m])\n",
      "File \u001b[0;32m~/miniconda3/envs/cogwheel_pop_latest/lib/python3.9/site-packages/numpy/lib/function_base.py:2360\u001b[0m, in \u001b[0;36mvectorize._call_as_normal.<locals>.func\u001b[0;34m(*vargs)\u001b[0m\n\u001b[1;32m   2358\u001b[0m     the_args[_i] \u001b[38;5;241m=\u001b[39m vargs[_n]\n\u001b[1;32m   2359\u001b[0m kwargs\u001b[38;5;241m.\u001b[39mupdate(\u001b[38;5;28mzip\u001b[39m(names, vargs[\u001b[38;5;28mlen\u001b[39m(inds):]))\n\u001b[0;32m-> 2360\u001b[0m \u001b[38;5;28;01mreturn\u001b[39;00m \u001b[38;5;28;43mself\u001b[39;49m\u001b[38;5;241;43m.\u001b[39;49m\u001b[43mpyfunc\u001b[49m\u001b[43m(\u001b[49m\u001b[38;5;241;43m*\u001b[39;49m\u001b[43mthe_args\u001b[49m\u001b[43m,\u001b[49m\u001b[43m \u001b[49m\u001b[38;5;241;43m*\u001b[39;49m\u001b[38;5;241;43m*\u001b[39;49m\u001b[43mkwargs\u001b[49m\u001b[43m)\u001b[49m\n",
      "File \u001b[0;32m~/PopulationSelectionEffects/cogwheel_population_inference/cogwheel/cogwheel/prior.py:564\u001b[0m, in \u001b[0;36mCombinedPrior.__init_subclass__.<locals>.lnprior\u001b[0;34m(self, *par_vals, **par_dic)\u001b[0m\n\u001b[1;32m    558\u001b[0m \u001b[38;5;28;01mdef\u001b[39;00m \u001b[38;5;21mlnprior\u001b[39m(\u001b[38;5;28mself\u001b[39m, \u001b[38;5;241m*\u001b[39mpar_vals, \u001b[38;5;241m*\u001b[39m\u001b[38;5;241m*\u001b[39mpar_dic):\n\u001b[1;32m    559\u001b[0m \u001b[38;5;250m    \u001b[39m\u001b[38;5;124;03m\"\"\"\u001b[39;00m\n\u001b[1;32m    560\u001b[0m \u001b[38;5;124;03m    Natural logarithm of the prior probability density.\u001b[39;00m\n\u001b[1;32m    561\u001b[0m \u001b[38;5;124;03m    Take `self.sampled_params + self.conditioned_on` parameters\u001b[39;00m\n\u001b[1;32m    562\u001b[0m \u001b[38;5;124;03m    and return a float.\u001b[39;00m\n\u001b[1;32m    563\u001b[0m \u001b[38;5;124;03m    \"\"\"\u001b[39;00m\n\u001b[0;32m--> 564\u001b[0m     \u001b[38;5;28;01mreturn\u001b[39;00m \u001b[38;5;28;43mself\u001b[39;49m\u001b[38;5;241;43m.\u001b[39;49m\u001b[43mlnprior_and_transform\u001b[49m\u001b[43m(\u001b[49m\u001b[38;5;241;43m*\u001b[39;49m\u001b[43mpar_vals\u001b[49m\u001b[43m,\u001b[49m\u001b[43m \u001b[49m\u001b[38;5;241;43m*\u001b[39;49m\u001b[38;5;241;43m*\u001b[39;49m\u001b[43mpar_dic\u001b[49m\u001b[43m)\u001b[49m[\u001b[38;5;241m0\u001b[39m]\n",
      "File \u001b[0;32m~/PopulationSelectionEffects/cogwheel_population_inference/cogwheel/cogwheel/prior.py:547\u001b[0m, in \u001b[0;36mCombinedPrior.__init_subclass__.<locals>.lnprior_and_transform\u001b[0;34m(self, *par_vals, **par_dic)\u001b[0m\n\u001b[1;32m    538\u001b[0m \u001b[38;5;250m\u001b[39m\u001b[38;5;124;03m\"\"\"\u001b[39;00m\n\u001b[1;32m    539\u001b[0m \u001b[38;5;124;03mTake sampled and conditioned-on parameters, and return a\u001b[39;00m\n\u001b[1;32m    540\u001b[0m \u001b[38;5;124;03m2-element tuple with the log of the prior and a dictionary\u001b[39;00m\n\u001b[0;32m   (...)\u001b[0m\n\u001b[1;32m    544\u001b[0m \u001b[38;5;124;03mboth are wanted it is efficient to compute them at once.\u001b[39;00m\n\u001b[1;32m    545\u001b[0m \u001b[38;5;124;03m\"\"\"\u001b[39;00m\n\u001b[1;32m    546\u001b[0m par_dic\u001b[38;5;241m.\u001b[39mupdate(\u001b[38;5;28mdict\u001b[39m(\u001b[38;5;28mzip\u001b[39m(direct_params, par_vals)))\n\u001b[0;32m--> 547\u001b[0m standard_par_dic \u001b[38;5;241m=\u001b[39m \u001b[38;5;28;43mself\u001b[39;49m\u001b[38;5;241;43m.\u001b[39;49m\u001b[43mtransform\u001b[49m\u001b[43m(\u001b[49m\u001b[38;5;241;43m*\u001b[39;49m\u001b[38;5;241;43m*\u001b[39;49m\u001b[43mpar_dic\u001b[49m\u001b[43m)\u001b[49m\n\u001b[1;32m    548\u001b[0m par_dic\u001b[38;5;241m.\u001b[39mupdate(standard_par_dic)\n\u001b[1;32m    550\u001b[0m lnp \u001b[38;5;241m=\u001b[39m \u001b[38;5;241m0\u001b[39m\n",
      "File \u001b[0;32m~/PopulationSelectionEffects/cogwheel_population_inference/cogwheel/cogwheel/prior.py:520\u001b[0m, in \u001b[0;36mCombinedPrior.__init_subclass__.<locals>.transform\u001b[0;34m(self, *par_vals, **par_dic)\u001b[0m\n\u001b[1;32m    516\u001b[0m \u001b[38;5;28;01mfor\u001b[39;00m subprior \u001b[38;5;129;01min\u001b[39;00m \u001b[38;5;28mself\u001b[39m\u001b[38;5;241m.\u001b[39msubpriors:\n\u001b[1;32m    517\u001b[0m     input_dic \u001b[38;5;241m=\u001b[39m {par: par_dic[par]\n\u001b[1;32m    518\u001b[0m                  \u001b[38;5;28;01mfor\u001b[39;00m par \u001b[38;5;129;01min\u001b[39;00m (subprior\u001b[38;5;241m.\u001b[39msampled_params\n\u001b[1;32m    519\u001b[0m                              \u001b[38;5;241m+\u001b[39m subprior\u001b[38;5;241m.\u001b[39mconditioned_on)}\n\u001b[0;32m--> 520\u001b[0m     par_dic\u001b[38;5;241m.\u001b[39mupdate(\u001b[43msubprior\u001b[49m\u001b[38;5;241;43m.\u001b[39;49m\u001b[43mtransform\u001b[49m\u001b[43m(\u001b[49m\u001b[38;5;241;43m*\u001b[39;49m\u001b[38;5;241;43m*\u001b[39;49m\u001b[43minput_dic\u001b[49m\u001b[43m)\u001b[49m)\n\u001b[1;32m    521\u001b[0m \u001b[38;5;28;01mreturn\u001b[39;00m {par: par_dic[par] \u001b[38;5;28;01mfor\u001b[39;00m par \u001b[38;5;129;01min\u001b[39;00m \u001b[38;5;28mself\u001b[39m\u001b[38;5;241m.\u001b[39mstandard_params}\n",
      "File \u001b[0;32m~/PopulationSelectionEffects/cogwheel_population_inference/cogwheel/cogwheel/gw_prior/extrinsic.py:104\u001b[0m, in \u001b[0;36mUniformPhasePrior.transform\u001b[0;34m(self, phi_ref_hat, iota, ra, dec, psi, t_geocenter)\u001b[0m\n\u001b[1;32m    101\u001b[0m \u001b[38;5;129m@utils\u001b[39m\u001b[38;5;241m.\u001b[39mlru_cache()\n\u001b[1;32m    102\u001b[0m \u001b[38;5;28;01mdef\u001b[39;00m \u001b[38;5;21mtransform\u001b[39m(\u001b[38;5;28mself\u001b[39m, phi_ref_hat, iota, ra, dec, psi, t_geocenter):\n\u001b[1;32m    103\u001b[0m \u001b[38;5;250m    \u001b[39m\u001b[38;5;124;03m\"\"\"phi_ref_hat to phi_ref.\"\"\"\u001b[39;00m\n\u001b[0;32m--> 104\u001b[0m     phase_refdet \u001b[38;5;241m=\u001b[39m \u001b[38;5;28;43mself\u001b[39;49m\u001b[38;5;241;43m.\u001b[39;49m\u001b[43m_phase_refdet\u001b[49m\u001b[43m(\u001b[49m\u001b[43miota\u001b[49m\u001b[43m,\u001b[49m\u001b[43m \u001b[49m\u001b[43mra\u001b[49m\u001b[43m,\u001b[49m\u001b[43m \u001b[49m\u001b[43mdec\u001b[49m\u001b[43m,\u001b[49m\u001b[43m \u001b[49m\u001b[43mpsi\u001b[49m\u001b[43m,\u001b[49m\u001b[43m \u001b[49m\u001b[43mt_geocenter\u001b[49m\u001b[43m,\u001b[49m\n\u001b[1;32m    105\u001b[0m \u001b[43m                                      \u001b[49m\u001b[43mphi_ref\u001b[49m\u001b[38;5;241;43m=\u001b[39;49m\u001b[38;5;241;43m0\u001b[39;49m\u001b[43m)\u001b[49m\n\u001b[1;32m    106\u001b[0m     phi_ref \u001b[38;5;241m=\u001b[39m (phi_ref_hat\n\u001b[1;32m    107\u001b[0m                \u001b[38;5;241m-\u001b[39m (phase_refdet \u001b[38;5;241m-\u001b[39m \u001b[38;5;28mself\u001b[39m\u001b[38;5;241m.\u001b[39m_phase_refdet_0) \u001b[38;5;241m/\u001b[39m \u001b[38;5;241m2\u001b[39m) \u001b[38;5;241m%\u001b[39m (\u001b[38;5;241m2\u001b[39m\u001b[38;5;241m*\u001b[39mnp\u001b[38;5;241m.\u001b[39mpi)\n\u001b[1;32m    108\u001b[0m     \u001b[38;5;28;01mreturn\u001b[39;00m {\u001b[38;5;124m'\u001b[39m\u001b[38;5;124mphi_ref\u001b[39m\u001b[38;5;124m'\u001b[39m: phi_ref}\n",
      "File \u001b[0;32m~/PopulationSelectionEffects/cogwheel_population_inference/cogwheel/cogwheel/gw_prior/extrinsic.py:97\u001b[0m, in \u001b[0;36mUniformPhasePrior._phase_refdet\u001b[0;34m(self, iota, ra, dec, psi, t_geocenter, phi_ref)\u001b[0m\n\u001b[1;32m     90\u001b[0m \u001b[38;5;28;01mdef\u001b[39;00m \u001b[38;5;21m_phase_refdet\u001b[39m(\u001b[38;5;28mself\u001b[39m, iota, ra, dec, psi, t_geocenter, phi_ref):\n\u001b[1;32m     91\u001b[0m \u001b[38;5;250m    \u001b[39m\u001b[38;5;124;03m\"\"\"\u001b[39;00m\n\u001b[1;32m     92\u001b[0m \u001b[38;5;124;03m    Return the well-measurable overall phase at the reference\u001b[39;00m\n\u001b[1;32m     93\u001b[0m \u001b[38;5;124;03m    detector. The intuition is that all allowed values of\u001b[39;00m\n\u001b[1;32m     94\u001b[0m \u001b[38;5;124;03m    (phi_ref, iota, ra, dec, psi, t_geocenter) would have a\u001b[39;00m\n\u001b[1;32m     95\u001b[0m \u001b[38;5;124;03m    consistent value of phase_refdet.\u001b[39;00m\n\u001b[1;32m     96\u001b[0m \u001b[38;5;124;03m    \"\"\"\u001b[39;00m\n\u001b[0;32m---> 97\u001b[0m     t_refdet \u001b[38;5;241m=\u001b[39m t_geocenter \u001b[38;5;241m+\u001b[39m \u001b[38;5;28;43mself\u001b[39;49m\u001b[38;5;241;43m.\u001b[39;49m\u001b[43mtime_delay_refdet\u001b[49m\u001b[43m(\u001b[49m\u001b[43mra\u001b[49m\u001b[43m,\u001b[49m\u001b[43m \u001b[49m\u001b[43mdec\u001b[49m\u001b[43m)\u001b[49m\n\u001b[1;32m     98\u001b[0m     \u001b[38;5;28;01mreturn\u001b[39;00m (np\u001b[38;5;241m.\u001b[39mangle(\u001b[38;5;28mself\u001b[39m\u001b[38;5;241m.\u001b[39mgeometric_factor_refdet(ra, dec, psi, iota))\n\u001b[1;32m     99\u001b[0m             \u001b[38;5;241m+\u001b[39m \u001b[38;5;241m2\u001b[39m\u001b[38;5;241m*\u001b[39mphi_ref \u001b[38;5;241m-\u001b[39m \u001b[38;5;241m2\u001b[39m\u001b[38;5;241m*\u001b[39mnp\u001b[38;5;241m.\u001b[39mpi\u001b[38;5;241m*\u001b[39m\u001b[38;5;28mself\u001b[39m\u001b[38;5;241m.\u001b[39mf_avg\u001b[38;5;241m*\u001b[39mt_refdet) \u001b[38;5;241m%\u001b[39m (\u001b[38;5;241m2\u001b[39m\u001b[38;5;241m*\u001b[39mnp\u001b[38;5;241m.\u001b[39mpi)\n",
      "File \u001b[0;32m~/PopulationSelectionEffects/cogwheel_population_inference/cogwheel/cogwheel/gw_prior/extrinsic.py:33\u001b[0m, in \u001b[0;36mReferenceDetectorMixin.time_delay_refdet\u001b[0;34m(self, ra, dec)\u001b[0m\n\u001b[1;32m     31\u001b[0m \u001b[38;5;28;01mdef\u001b[39;00m \u001b[38;5;21mtime_delay_refdet\u001b[39m(\u001b[38;5;28mself\u001b[39m, ra, dec):\n\u001b[1;32m     32\u001b[0m \u001b[38;5;250m    \u001b[39m\u001b[38;5;124;03m\"\"\"Time delay from Earth center to the reference detector.\"\"\"\u001b[39;00m\n\u001b[0;32m---> 33\u001b[0m     \u001b[38;5;28;01mreturn\u001b[39;00m \u001b[43mlal\u001b[49m\u001b[38;5;241;43m.\u001b[39;49m\u001b[43mTimeDelayFromEarthCenter\u001b[49m\u001b[43m(\u001b[49m\u001b[38;5;28;43mself\u001b[39;49m\u001b[38;5;241;43m.\u001b[39;49m\u001b[43mref_det_location\u001b[49m\u001b[43m,\u001b[49m\u001b[43m \u001b[49m\u001b[43mra\u001b[49m\u001b[43m,\u001b[49m\u001b[43m \u001b[49m\u001b[43mdec\u001b[49m\u001b[43m,\u001b[49m\n\u001b[1;32m     34\u001b[0m \u001b[43m                                        \u001b[49m\u001b[38;5;28;43mself\u001b[39;49m\u001b[38;5;241;43m.\u001b[39;49m\u001b[43mtgps\u001b[49m\u001b[43m)\u001b[49m\n",
      "\u001b[0;31mKeyboardInterrupt\u001b[0m: "
     ]
    }
   ],
   "source": [
    "likelihood_object.lnlike(hyperparams_dic={'lambda1':1, 'lambda2':1, 'R':100})"
   ]
  },
  {
   "cell_type": "markdown",
   "id": "1fc388c0-0cb7-4d63-9ecc-e7ed3f7b18ab",
   "metadata": {
    "jp-MarkdownHeadingCollapsed": true
   },
   "source": [
    "## Testing functions to create classes "
   ]
  },
  {
   "cell_type": "code",
   "execution_count": 52,
   "id": "d728149b-5614-46aa-bd6a-5a8a2ee89ad9",
   "metadata": {},
   "outputs": [],
   "source": [
    "def create_uniform_hyperparam_prior_class(hyperparam_range_dic):\n",
    "    class UniformHyperparamPrior(UniformPriorMixin, IdentityTransformMixin, Prior):\n",
    "        def __init__(self):\n",
    "            self.standard_params = list(hyperparam_range_dic)\n",
    "            self.range_dic = hyperparam_range_dic\n",
    "        def get_init_dict():\n",
    "            return hyperparam_range_dic\n",
    "    return UniformHyperparamPrior"
   ]
  },
  {
   "cell_type": "code",
   "execution_count": 53,
   "id": "bedd15b8-5bbf-48a1-ad81-6d23eb90b5cd",
   "metadata": {},
   "outputs": [],
   "source": [
    "UniformHyperparamPrior1 = create_uniform_hyperparam_prior_class(pop_prior.hyperparam_range_dic)"
   ]
  },
  {
   "cell_type": "code",
   "execution_count": 54,
   "id": "2dd796dd-28b5-4f1c-87ad-9d0698583413",
   "metadata": {},
   "outputs": [
    {
     "data": {
      "text/plain": [
       "['lambda1', 'lambda2']"
      ]
     },
     "execution_count": 54,
     "metadata": {},
     "output_type": "execute_result"
    }
   ],
   "source": [
    "uniform_prior = UniformHyperparamPrior1()\n",
    "uniform_prior.standard_params"
   ]
  },
  {
   "cell_type": "code",
   "execution_count": 68,
   "id": "70ac79a0-068c-405d-945f-9f696dfb6ccd",
   "metadata": {},
   "outputs": [],
   "source": [
    "def create_combined_hyperparam_class(hyperparam_prior_class_list):\n",
    "    class CombinedHyperparamPrior(CombinedPrior):\n",
    "        prior_classes = hyperparam_prior_class_list\n",
    "    return CombinedHyperparamPrior"
   ]
  },
  {
   "cell_type": "code",
   "execution_count": 69,
   "id": "c70cdc72-7720-41f9-b51e-90a03100a640",
   "metadata": {},
   "outputs": [],
   "source": [
    "combined_prior_class = create_combined_hyperparam_class([FixedDistancePrior, FixedInclinationPrior, GaussianTestPrior])"
   ]
  },
  {
   "cell_type": "code",
   "execution_count": 65,
   "id": "a3ea341b-77f1-4402-8f72-3e052692290b",
   "metadata": {},
   "outputs": [
    {
     "data": {
      "text/plain": [
       "CombinedHyperparamPrior(m1, m2) → [d_luminosity, iota, m1, m2]"
      ]
     },
     "execution_count": 65,
     "metadata": {},
     "output_type": "execute_result"
    }
   ],
   "source": [
    "combined_prior_class()"
   ]
  },
  {
   "cell_type": "code",
   "execution_count": 61,
   "id": "84a04428-e00f-4089-b7c8-0a391d7b79a1",
   "metadata": {},
   "outputs": [
    {
     "name": "stdout",
     "output_type": "stream",
     "text": [
      "> \u001b[0;32m/home/isha/PopulationSelectionEffects/cogwheel_population_inference/cogwheel/cogwheel/prior.py\u001b[0m(600)\u001b[0;36m_set_params\u001b[0;34m()\u001b[0m\n",
      "\u001b[0;32m    598 \u001b[0;31m        \"\"\"\n",
      "\u001b[0m\u001b[0;32m    599 \u001b[0;31m        \u001b[0mcls\u001b[0m\u001b[0;34m.\u001b[0m\u001b[0mrange_dic\u001b[0m \u001b[0;34m=\u001b[0m \u001b[0;34m{\u001b[0m\u001b[0;34m}\u001b[0m\u001b[0;34m\u001b[0m\u001b[0;34m\u001b[0m\u001b[0m\n",
      "\u001b[0m\u001b[0;32m--> 600 \u001b[0;31m        \u001b[0;32mfor\u001b[0m \u001b[0mprior_class\u001b[0m \u001b[0;32min\u001b[0m \u001b[0mcls\u001b[0m\u001b[0;34m.\u001b[0m\u001b[0mprior_classes\u001b[0m\u001b[0;34m:\u001b[0m\u001b[0;34m\u001b[0m\u001b[0;34m\u001b[0m\u001b[0m\n",
      "\u001b[0m\u001b[0;32m    601 \u001b[0;31m            \u001b[0mcls\u001b[0m\u001b[0;34m.\u001b[0m\u001b[0mrange_dic\u001b[0m\u001b[0;34m.\u001b[0m\u001b[0mupdate\u001b[0m\u001b[0;34m(\u001b[0m\u001b[0mprior_class\u001b[0m\u001b[0;34m.\u001b[0m\u001b[0mrange_dic\u001b[0m\u001b[0;34m)\u001b[0m\u001b[0;34m\u001b[0m\u001b[0;34m\u001b[0m\u001b[0m\n",
      "\u001b[0m\u001b[0;32m    602 \u001b[0;31m\u001b[0;34m\u001b[0m\u001b[0m\n",
      "\u001b[0m\n"
     ]
    },
    {
     "name": "stdin",
     "output_type": "stream",
     "text": [
      "ipdb>  cls.prior_classes\n"
     ]
    },
    {
     "name": "stdout",
     "output_type": "stream",
     "text": [
      "<property object at 0x7f0498660400>\n"
     ]
    },
    {
     "name": "stdin",
     "output_type": "stream",
     "text": [
      "ipdb>  prior_class\n"
     ]
    },
    {
     "name": "stdout",
     "output_type": "stream",
     "text": [
      "*** NameError: name 'prior_class' is not defined\n",
      "--KeyboardInterrupt--\n",
      "\n",
      "KeyboardInterrupt: Interrupted by user\n"
     ]
    }
   ],
   "source": [
    "%debug"
   ]
  },
  {
   "cell_type": "markdown",
   "id": "5336547d-e980-4c56-87fd-57722cbfe3f9",
   "metadata": {
    "jp-MarkdownHeadingCollapsed": true
   },
   "source": [
    "## Testing vecrtorized functions"
   ]
  },
  {
   "cell_type": "code",
   "execution_count": null,
   "id": "013b71ab",
   "metadata": {},
   "outputs": [],
   "source": [
    "par_dict2 = {'m1':np.array([5,4,3,2,1]), 'm2':np.array([5,4,3,2,1]), 'lambda1':5, 'lambda2':5}\n",
    "lnprior_func1 = np.vectorize(pop_prior.lnprior)\n",
    "lnprior_func2 = np.vectorize(pop_prior2.lnprior)\n",
    "lnprior_func1(**par_dict)"
   ]
  },
  {
   "cell_type": "code",
   "execution_count": 12,
   "id": "40e92081",
   "metadata": {},
   "outputs": [
    {
     "data": {
      "text/plain": [
       "array([ 4.15358748e+00, -3.95846413e+02, -1.59584641e+03,\n",
       "       -3.59584641e+03, -6.39584641e+03])"
      ]
     },
     "execution_count": 12,
     "metadata": {},
     "output_type": "execute_result"
    }
   ],
   "source": [
    "lnprior_func2(**par_dict2)"
   ]
  },
  {
   "cell_type": "code",
   "execution_count": 11,
   "id": "472158ad",
   "metadata": {},
   "outputs": [
    {
     "data": {
      "text/plain": [
       "4.153587480698636"
      ]
     },
     "execution_count": 11,
     "metadata": {},
     "output_type": "execute_result"
    }
   ],
   "source": [
    "pop_prior2.lnprior(m1=5, m2=5, lambda1=5, lambda2=5)"
   ]
  },
  {
   "cell_type": "code",
   "execution_count": 17,
   "id": "ddcb8969",
   "metadata": {},
   "outputs": [
    {
     "data": {
      "text/plain": [
       "['m1_source', 'cum_q', 'd_hat']"
      ]
     },
     "execution_count": 17,
     "metadata": {},
     "output_type": "execute_result"
    }
   ],
   "source": [
    "inj_mass_prior.sampled_params"
   ]
  },
  {
   "cell_type": "code",
   "execution_count": 22,
   "id": "315706b1",
   "metadata": {},
   "outputs": [
    {
     "data": {
      "text/plain": [
       "True"
      ]
     },
     "execution_count": 22,
     "metadata": {},
     "output_type": "execute_result"
    }
   ],
   "source": [
    "issubclass(GaussianTestPopulationPrior, prior.Prior)"
   ]
  },
  {
   "cell_type": "markdown",
   "id": "068b3e09-b11b-4486-8aaf-50598cf98536",
   "metadata": {
    "jp-MarkdownHeadingCollapsed": true
   },
   "source": [
    "## Test creating ParametrizedPrior class"
   ]
  },
  {
   "cell_type": "code",
   "execution_count": 13,
   "id": "a3bbcdf6-d791-4dd7-bb27-578d77404419",
   "metadata": {},
   "outputs": [],
   "source": [
    "obj = GaussianHyperparams()"
   ]
  },
  {
   "cell_type": "code",
   "execution_count": 14,
   "id": "918edb32-2de3-466b-a208-92a00117b8b7",
   "metadata": {},
   "outputs": [
    {
     "data": {
      "text/plain": [
       "['lambda1', 'lambda2']"
      ]
     },
     "execution_count": 14,
     "metadata": {},
     "output_type": "execute_result"
    }
   ],
   "source": [
    "obj.standard_params"
   ]
  },
  {
   "cell_type": "code",
   "execution_count": 31,
   "id": "c266656f-70d2-4ea1-b109-976cd137b6a5",
   "metadata": {},
   "outputs": [
    {
     "name": "stdout",
     "output_type": "stream",
     "text": [
      "['abc', 'b']\n",
      "[['abc', 'b']]\n",
      "abc\n",
      "[['abc', 'b'], 'abc']\n",
      "b\n",
      "[['abc', 'b'], 'abc', 'b']\n"
     ]
    },
    {
     "data": {
      "text/plain": [
       "[['abc', 'b'], 'abc', 'b']"
      ]
     },
     "execution_count": 31,
     "metadata": {},
     "output_type": "execute_result"
    }
   ],
   "source": [
    "ex = []\n",
    "for i in [['abc','b'], 'abc', 'b']:\n",
    "    print(i)\n",
    "    ex.append(i)\n",
    "    print(ex)\n",
    "ex"
   ]
  },
  {
   "cell_type": "code",
   "execution_count": 32,
   "id": "5658c826-ceb6-468a-8371-1cb8eb3e8f54",
   "metadata": {},
   "outputs": [
    {
     "ename": "TypeError",
     "evalue": "unhashable type: 'list'",
     "output_type": "error",
     "traceback": [
      "\u001b[0;31m---------------------------------------------------------------------------\u001b[0m",
      "\u001b[0;31mTypeError\u001b[0m                                 Traceback (most recent call last)",
      "Cell \u001b[0;32mIn[32], line 1\u001b[0m\n\u001b[0;32m----> 1\u001b[0m \u001b[38;5;28;43mset\u001b[39;49m\u001b[43m(\u001b[49m\u001b[43mex\u001b[49m\u001b[43m)\u001b[49m\n",
      "\u001b[0;31mTypeError\u001b[0m: unhashable type: 'list'"
     ]
    }
   ],
   "source": [
    "set(ex)"
   ]
  },
  {
   "cell_type": "markdown",
   "id": "8e4a24a4-ba14-4c4f-b463-235e2dbb5ae7",
   "metadata": {},
   "source": [
    "## Test new CombinedParametrizedPrior class"
   ]
  },
  {
   "cell_type": "code",
   "execution_count": 7,
   "id": "deefaba3-3c40-4a4e-92ab-8de3ddeb2411",
   "metadata": {},
   "outputs": [],
   "source": [
    "combined_pop_prior = FixedTestPopulationPrior(f_ref=20) # combined prior\n",
    "#pop_prior = GaussianTestParametrizedPrior() # population prior"
   ]
  },
  {
   "cell_type": "code",
   "execution_count": 8,
   "id": "aab2a218-b550-4f49-a8dd-8c1f449fea6b",
   "metadata": {},
   "outputs": [],
   "source": [
    "inj_prior=InjectionPrior(detector_pair='HL', tgps=0.0, ref_det_name='H', f_avg=10, \n",
    "                         m1_source_range=(3,10),f_ref=20)"
   ]
  },
  {
   "cell_type": "code",
   "execution_count": 9,
   "id": "bdbbf1f9-dca2-43c6-84a6-3360035e93cf",
   "metadata": {},
   "outputs": [],
   "source": [
    "# now compute likelihood\n",
    "injections_summary_dict = {'Ninj':20000, 'recovered_injections':injs_summary, 'pastro_func':np.ones(10)}\n",
    "R0 = 70\n",
    "\n",
    "likelihood_object = PopulationLikelihood(combined_pop_prior, injections_summary_dict, \n",
    "                                         all_events_pe, R0, injection_population_model=inj_prior)"
   ]
  },
  {
   "cell_type": "code",
   "execution_count": 12,
   "id": "4292bbc5-0650-4efd-84d3-30e86bf0370b",
   "metadata": {},
   "outputs": [
    {
     "ename": "TypeError",
     "evalue": "lnprior() missing 2 required positional arguments: 'lambda1' and 'lambda2'",
     "output_type": "error",
     "traceback": [
      "\u001b[0;31m---------------------------------------------------------------------------\u001b[0m",
      "\u001b[0;31mTypeError\u001b[0m                                 Traceback (most recent call last)",
      "Cell \u001b[0;32mIn[12], line 1\u001b[0m\n\u001b[0;32m----> 1\u001b[0m \u001b[43mlikelihood_object\u001b[49m\u001b[38;5;241;43m.\u001b[39;49m\u001b[43mlnlike\u001b[49m\u001b[43m(\u001b[49m\u001b[43mhyperparams_dic\u001b[49m\u001b[38;5;241;43m=\u001b[39;49m\u001b[43m{\u001b[49m\u001b[38;5;124;43m'\u001b[39;49m\u001b[38;5;124;43mlambda1\u001b[39;49m\u001b[38;5;124;43m'\u001b[39;49m\u001b[43m:\u001b[49m\u001b[38;5;241;43m1\u001b[39;49m\u001b[43m,\u001b[49m\u001b[43m \u001b[49m\u001b[38;5;124;43m'\u001b[39;49m\u001b[38;5;124;43mlambda2\u001b[39;49m\u001b[38;5;124;43m'\u001b[39;49m\u001b[43m:\u001b[49m\u001b[38;5;241;43m1\u001b[39;49m\u001b[43m,\u001b[49m\u001b[43m \u001b[49m\u001b[38;5;124;43m'\u001b[39;49m\u001b[38;5;124;43mR\u001b[39;49m\u001b[38;5;124;43m'\u001b[39;49m\u001b[43m:\u001b[49m\u001b[38;5;241;43m100\u001b[39;49m\u001b[43m}\u001b[49m\u001b[43m)\u001b[49m\n",
      "File \u001b[0;32m~/PopulationSelectionEffects/cogwheel_population_inference/cogwheel/cogwheel/population_inference/population_likelihood.py:38\u001b[0m, in \u001b[0;36mPopulationLikelihood.lnlike\u001b[0;34m(self, hyperparams_dic)\u001b[0m\n\u001b[1;32m     34\u001b[0m \u001b[38;5;28;01mdef\u001b[39;00m \u001b[38;5;21mlnlike\u001b[39m(\u001b[38;5;28mself\u001b[39m, hyperparams_dic):\n\u001b[1;32m     35\u001b[0m \u001b[38;5;250m    \u001b[39m\u001b[38;5;124;03m\"\"\"\u001b[39;00m\n\u001b[1;32m     36\u001b[0m \u001b[38;5;124;03m    Returns the log likelihood of population model (Eq. 16)\u001b[39;00m\n\u001b[1;32m     37\u001b[0m \u001b[38;5;124;03m    \"\"\"\u001b[39;00m\n\u001b[0;32m---> 38\u001b[0m     lnlike \u001b[38;5;241m=\u001b[39m (\u001b[38;5;241m-\u001b[39m hyperparams_dic[\u001b[38;5;124m'\u001b[39m\u001b[38;5;124mR\u001b[39m\u001b[38;5;124m'\u001b[39m]\u001b[38;5;241m*\u001b[39m\u001b[38;5;28;43mself\u001b[39;49m\u001b[38;5;241;43m.\u001b[39;49m\u001b[43mVT\u001b[49m\u001b[43m(\u001b[49m\u001b[43mhyperparams_dic\u001b[49m\u001b[43m)\u001b[49m \u001b[38;5;241m+\u001b[39m \n\u001b[1;32m     39\u001b[0m               np\u001b[38;5;241m.\u001b[39msum(np\u001b[38;5;241m.\u001b[39mlog((hyperparams_dic[\u001b[38;5;124m'\u001b[39m\u001b[38;5;124mR\u001b[39m\u001b[38;5;124m'\u001b[39m]\u001b[38;5;241m/\u001b[39m\u001b[38;5;28mself\u001b[39m\u001b[38;5;241m.\u001b[39mR0)\u001b[38;5;241m*\u001b[39m\u001b[38;5;28mself\u001b[39m\u001b[38;5;241m.\u001b[39mw_i(hyperparams_dic)\u001b[38;5;241m*\u001b[39m\u001b[38;5;28mself\u001b[39m\u001b[38;5;241m.\u001b[39mpastro_func) \n\u001b[1;32m     40\u001b[0m                     \u001b[38;5;241m+\u001b[39m (\u001b[38;5;241m1\u001b[39m\u001b[38;5;241m-\u001b[39m\u001b[38;5;28mself\u001b[39m\u001b[38;5;241m.\u001b[39mpastro_func)))\n\u001b[1;32m     41\u001b[0m     \u001b[38;5;28;01mreturn\u001b[39;00m lnlike\n",
      "File \u001b[0;32m~/PopulationSelectionEffects/cogwheel_population_inference/cogwheel/cogwheel/population_inference/population_likelihood.py:87\u001b[0m, in \u001b[0;36mPopulationLikelihood.VT\u001b[0;34m(self, hyperparams_dic)\u001b[0m\n\u001b[1;32m     84\u001b[0m vectorized_population_lnprior \u001b[38;5;241m=\u001b[39m np\u001b[38;5;241m.\u001b[39mvectorize(\u001b[38;5;28mself\u001b[39m\u001b[38;5;241m.\u001b[39mpopulation_model\u001b[38;5;241m.\u001b[39mlnprior)\n\u001b[1;32m     85\u001b[0m \u001b[38;5;66;03m#vectorized_injection_population_lnprior = np.vectorize(self.injection_population_model.lnprior)\u001b[39;00m\n\u001b[0;32m---> 87\u001b[0m VT \u001b[38;5;241m=\u001b[39m (\u001b[38;5;241m1\u001b[39m\u001b[38;5;241m/\u001b[39m\u001b[38;5;28mself\u001b[39m\u001b[38;5;241m.\u001b[39mNinj) \u001b[38;5;241m*\u001b[39m np\u001b[38;5;241m.\u001b[39msum(np\u001b[38;5;241m.\u001b[39mexp(\u001b[43mvectorized_population_lnprior\u001b[49m\u001b[43m(\u001b[49m\u001b[38;5;241;43m*\u001b[39;49m\u001b[38;5;241;43m*\u001b[39;49m\u001b[43mall_params_dict\u001b[49m\u001b[43m)\u001b[49m \u001b[38;5;241m-\u001b[39m \n\u001b[1;32m     88\u001b[0m                             \u001b[38;5;28mself\u001b[39m\u001b[38;5;241m.\u001b[39mrecovered_injections[\u001b[38;5;124m'\u001b[39m\u001b[38;5;124mln_pdet_fid\u001b[39m\u001b[38;5;124m'\u001b[39m]\u001b[38;5;241m*\u001b[39mnorm_fac))\n\u001b[1;32m     89\u001b[0m \u001b[38;5;28;01mreturn\u001b[39;00m VT\n",
      "File \u001b[0;32m~/miniconda3/envs/cogwheel_pop_latest/lib/python3.9/site-packages/numpy/lib/function_base.py:2372\u001b[0m, in \u001b[0;36mvectorize.__call__\u001b[0;34m(self, *args, **kwargs)\u001b[0m\n\u001b[1;32m   2369\u001b[0m     \u001b[38;5;28mself\u001b[39m\u001b[38;5;241m.\u001b[39m_init_stage_2(\u001b[38;5;241m*\u001b[39margs, \u001b[38;5;241m*\u001b[39m\u001b[38;5;241m*\u001b[39mkwargs)\n\u001b[1;32m   2370\u001b[0m     \u001b[38;5;28;01mreturn\u001b[39;00m \u001b[38;5;28mself\u001b[39m\n\u001b[0;32m-> 2372\u001b[0m \u001b[38;5;28;01mreturn\u001b[39;00m \u001b[38;5;28;43mself\u001b[39;49m\u001b[38;5;241;43m.\u001b[39;49m\u001b[43m_call_as_normal\u001b[49m\u001b[43m(\u001b[49m\u001b[38;5;241;43m*\u001b[39;49m\u001b[43margs\u001b[49m\u001b[43m,\u001b[49m\u001b[43m \u001b[49m\u001b[38;5;241;43m*\u001b[39;49m\u001b[38;5;241;43m*\u001b[39;49m\u001b[43mkwargs\u001b[49m\u001b[43m)\u001b[49m\n",
      "File \u001b[0;32m~/miniconda3/envs/cogwheel_pop_latest/lib/python3.9/site-packages/numpy/lib/function_base.py:2365\u001b[0m, in \u001b[0;36mvectorize._call_as_normal\u001b[0;34m(self, *args, **kwargs)\u001b[0m\n\u001b[1;32m   2362\u001b[0m     vargs \u001b[38;5;241m=\u001b[39m [args[_i] \u001b[38;5;28;01mfor\u001b[39;00m _i \u001b[38;5;129;01min\u001b[39;00m inds]\n\u001b[1;32m   2363\u001b[0m     vargs\u001b[38;5;241m.\u001b[39mextend([kwargs[_n] \u001b[38;5;28;01mfor\u001b[39;00m _n \u001b[38;5;129;01min\u001b[39;00m names])\n\u001b[0;32m-> 2365\u001b[0m \u001b[38;5;28;01mreturn\u001b[39;00m \u001b[38;5;28;43mself\u001b[39;49m\u001b[38;5;241;43m.\u001b[39;49m\u001b[43m_vectorize_call\u001b[49m\u001b[43m(\u001b[49m\u001b[43mfunc\u001b[49m\u001b[38;5;241;43m=\u001b[39;49m\u001b[43mfunc\u001b[49m\u001b[43m,\u001b[49m\u001b[43m \u001b[49m\u001b[43margs\u001b[49m\u001b[38;5;241;43m=\u001b[39;49m\u001b[43mvargs\u001b[49m\u001b[43m)\u001b[49m\n",
      "File \u001b[0;32m~/miniconda3/envs/cogwheel_pop_latest/lib/python3.9/site-packages/numpy/lib/function_base.py:2450\u001b[0m, in \u001b[0;36mvectorize._vectorize_call\u001b[0;34m(self, func, args)\u001b[0m\n\u001b[1;32m   2448\u001b[0m     res \u001b[38;5;241m=\u001b[39m func()\n\u001b[1;32m   2449\u001b[0m \u001b[38;5;28;01melse\u001b[39;00m:\n\u001b[0;32m-> 2450\u001b[0m     ufunc, otypes \u001b[38;5;241m=\u001b[39m \u001b[38;5;28;43mself\u001b[39;49m\u001b[38;5;241;43m.\u001b[39;49m\u001b[43m_get_ufunc_and_otypes\u001b[49m\u001b[43m(\u001b[49m\u001b[43mfunc\u001b[49m\u001b[38;5;241;43m=\u001b[39;49m\u001b[43mfunc\u001b[49m\u001b[43m,\u001b[49m\u001b[43m \u001b[49m\u001b[43margs\u001b[49m\u001b[38;5;241;43m=\u001b[39;49m\u001b[43margs\u001b[49m\u001b[43m)\u001b[49m\n\u001b[1;32m   2452\u001b[0m     \u001b[38;5;66;03m# Convert args to object arrays first\u001b[39;00m\n\u001b[1;32m   2453\u001b[0m     inputs \u001b[38;5;241m=\u001b[39m [asanyarray(a, dtype\u001b[38;5;241m=\u001b[39m\u001b[38;5;28mobject\u001b[39m) \u001b[38;5;28;01mfor\u001b[39;00m a \u001b[38;5;129;01min\u001b[39;00m args]\n",
      "File \u001b[0;32m~/miniconda3/envs/cogwheel_pop_latest/lib/python3.9/site-packages/numpy/lib/function_base.py:2410\u001b[0m, in \u001b[0;36mvectorize._get_ufunc_and_otypes\u001b[0;34m(self, func, args)\u001b[0m\n\u001b[1;32m   2406\u001b[0m     \u001b[38;5;28;01mraise\u001b[39;00m \u001b[38;5;167;01mValueError\u001b[39;00m(\u001b[38;5;124m'\u001b[39m\u001b[38;5;124mcannot call `vectorize` on size 0 inputs \u001b[39m\u001b[38;5;124m'\u001b[39m\n\u001b[1;32m   2407\u001b[0m                      \u001b[38;5;124m'\u001b[39m\u001b[38;5;124munless `otypes` is set\u001b[39m\u001b[38;5;124m'\u001b[39m)\n\u001b[1;32m   2409\u001b[0m inputs \u001b[38;5;241m=\u001b[39m [arg\u001b[38;5;241m.\u001b[39mflat[\u001b[38;5;241m0\u001b[39m] \u001b[38;5;28;01mfor\u001b[39;00m arg \u001b[38;5;129;01min\u001b[39;00m args]\n\u001b[0;32m-> 2410\u001b[0m outputs \u001b[38;5;241m=\u001b[39m \u001b[43mfunc\u001b[49m\u001b[43m(\u001b[49m\u001b[38;5;241;43m*\u001b[39;49m\u001b[43minputs\u001b[49m\u001b[43m)\u001b[49m\n\u001b[1;32m   2412\u001b[0m \u001b[38;5;66;03m# Performance note: profiling indicates that -- for simple\u001b[39;00m\n\u001b[1;32m   2413\u001b[0m \u001b[38;5;66;03m# functions at least -- this wrapping can almost double the\u001b[39;00m\n\u001b[1;32m   2414\u001b[0m \u001b[38;5;66;03m# execution time.\u001b[39;00m\n\u001b[1;32m   2415\u001b[0m \u001b[38;5;66;03m# Hence we make it optional.\u001b[39;00m\n\u001b[1;32m   2416\u001b[0m \u001b[38;5;28;01mif\u001b[39;00m \u001b[38;5;28mself\u001b[39m\u001b[38;5;241m.\u001b[39mcache:\n",
      "File \u001b[0;32m~/miniconda3/envs/cogwheel_pop_latest/lib/python3.9/site-packages/numpy/lib/function_base.py:2360\u001b[0m, in \u001b[0;36mvectorize._call_as_normal.<locals>.func\u001b[0;34m(*vargs)\u001b[0m\n\u001b[1;32m   2358\u001b[0m     the_args[_i] \u001b[38;5;241m=\u001b[39m vargs[_n]\n\u001b[1;32m   2359\u001b[0m kwargs\u001b[38;5;241m.\u001b[39mupdate(\u001b[38;5;28mzip\u001b[39m(names, vargs[\u001b[38;5;28mlen\u001b[39m(inds):]))\n\u001b[0;32m-> 2360\u001b[0m \u001b[38;5;28;01mreturn\u001b[39;00m \u001b[38;5;28;43mself\u001b[39;49m\u001b[38;5;241;43m.\u001b[39;49m\u001b[43mpyfunc\u001b[49m\u001b[43m(\u001b[49m\u001b[38;5;241;43m*\u001b[39;49m\u001b[43mthe_args\u001b[49m\u001b[43m,\u001b[49m\u001b[43m \u001b[49m\u001b[38;5;241;43m*\u001b[39;49m\u001b[38;5;241;43m*\u001b[39;49m\u001b[43mkwargs\u001b[49m\u001b[43m)\u001b[49m\n",
      "File \u001b[0;32m~/PopulationSelectionEffects/cogwheel_population_inference/cogwheel/cogwheel/population_inference/population_models.py:226\u001b[0m, in \u001b[0;36mCombinedParametrizedPrior.__init_subclass__.<locals>.lnprior\u001b[0;34m(self, *par_vals, **par_dic)\u001b[0m\n\u001b[1;32m    220\u001b[0m \u001b[38;5;28;01mdef\u001b[39;00m \u001b[38;5;21mlnprior\u001b[39m(\u001b[38;5;28mself\u001b[39m, \u001b[38;5;241m*\u001b[39mpar_vals, \u001b[38;5;241m*\u001b[39m\u001b[38;5;241m*\u001b[39mpar_dic):\n\u001b[1;32m    221\u001b[0m \u001b[38;5;250m    \u001b[39m\u001b[38;5;124;03m\"\"\"\u001b[39;00m\n\u001b[1;32m    222\u001b[0m \u001b[38;5;124;03m    Natural logarithm of the prior probability density.\u001b[39;00m\n\u001b[1;32m    223\u001b[0m \u001b[38;5;124;03m    Take `self.sampled_params + self.conditioned_on` parameters\u001b[39;00m\n\u001b[1;32m    224\u001b[0m \u001b[38;5;124;03m    and return a float.\u001b[39;00m\n\u001b[1;32m    225\u001b[0m \u001b[38;5;124;03m    \"\"\"\u001b[39;00m\n\u001b[0;32m--> 226\u001b[0m     \u001b[38;5;28;01mreturn\u001b[39;00m \u001b[38;5;28;43mself\u001b[39;49m\u001b[38;5;241;43m.\u001b[39;49m\u001b[43mlnprior_and_transform\u001b[49m\u001b[43m(\u001b[49m\u001b[38;5;241;43m*\u001b[39;49m\u001b[43mpar_vals\u001b[49m\u001b[43m,\u001b[49m\u001b[43m \u001b[49m\u001b[38;5;241;43m*\u001b[39;49m\u001b[38;5;241;43m*\u001b[39;49m\u001b[43mpar_dic\u001b[49m\u001b[43m)\u001b[49m[\u001b[38;5;241m0\u001b[39m]\n",
      "File \u001b[0;32m~/PopulationSelectionEffects/cogwheel_population_inference/cogwheel/cogwheel/population_inference/population_models.py:217\u001b[0m, in \u001b[0;36mCombinedParametrizedPrior.__init_subclass__.<locals>.lnprior_and_transform\u001b[0;34m(self, *par_vals, **par_dic)\u001b[0m\n\u001b[1;32m    212\u001b[0m         hyperparam_list\u001b[38;5;241m=\u001b[39m[]\n\u001b[1;32m    213\u001b[0m     input_dic \u001b[38;5;241m=\u001b[39m {par: par_dic[par]\n\u001b[1;32m    214\u001b[0m                  \u001b[38;5;28;01mfor\u001b[39;00m par \u001b[38;5;129;01min\u001b[39;00m (subprior\u001b[38;5;241m.\u001b[39msampled_params\n\u001b[1;32m    215\u001b[0m                              \u001b[38;5;241m+\u001b[39m subprior\u001b[38;5;241m.\u001b[39mconditioned_on\n\u001b[1;32m    216\u001b[0m                              \u001b[38;5;241m+\u001b[39m hyperparam_list)}\n\u001b[0;32m--> 217\u001b[0m     lnp \u001b[38;5;241m+\u001b[39m\u001b[38;5;241m=\u001b[39m \u001b[43msubprior\u001b[49m\u001b[38;5;241;43m.\u001b[39;49m\u001b[43mlnprior\u001b[49m\u001b[43m(\u001b[49m\u001b[38;5;241;43m*\u001b[39;49m\u001b[38;5;241;43m*\u001b[39;49m\u001b[43minput_dic\u001b[49m\u001b[43m)\u001b[49m\n\u001b[1;32m    218\u001b[0m \u001b[38;5;28;01mreturn\u001b[39;00m lnp, standard_par_dic\n",
      "\u001b[0;31mTypeError\u001b[0m: lnprior() missing 2 required positional arguments: 'lambda1' and 'lambda2'"
     ]
    }
   ],
   "source": [
    "likelihood_object.lnlike(hyperparams_dic={'lambda1':1, 'lambda2':1, 'R':100})"
   ]
  },
  {
   "cell_type": "code",
   "execution_count": null,
   "id": "77e686ab-1f98-46ce-a72d-40b410fbe650",
   "metadata": {},
   "outputs": [
    {
     "name": "stdout",
     "output_type": "stream",
     "text": [
      "> \u001b[0;32m/home/isha/PopulationSelectionEffects/cogwheel_population_inference/cogwheel/cogwheel/population_inference/population_models.py\u001b[0m(217)\u001b[0;36mlnprior_and_transform\u001b[0;34m()\u001b[0m\n",
      "\u001b[0;32m    215 \u001b[0;31m                                         \u001b[0;34m+\u001b[0m \u001b[0msubprior\u001b[0m\u001b[0;34m.\u001b[0m\u001b[0mconditioned_on\u001b[0m\u001b[0;34m\u001b[0m\u001b[0;34m\u001b[0m\u001b[0m\n",
      "\u001b[0m\u001b[0;32m    216 \u001b[0;31m                                         + hyperparam_list)}\n",
      "\u001b[0m\u001b[0;32m--> 217 \u001b[0;31m                \u001b[0mlnp\u001b[0m \u001b[0;34m+=\u001b[0m \u001b[0msubprior\u001b[0m\u001b[0;34m.\u001b[0m\u001b[0mlnprior\u001b[0m\u001b[0;34m(\u001b[0m\u001b[0;34m**\u001b[0m\u001b[0minput_dic\u001b[0m\u001b[0;34m)\u001b[0m\u001b[0;34m\u001b[0m\u001b[0;34m\u001b[0m\u001b[0m\n",
      "\u001b[0m\u001b[0;32m    218 \u001b[0;31m            \u001b[0;32mreturn\u001b[0m \u001b[0mlnp\u001b[0m\u001b[0;34m,\u001b[0m \u001b[0mstandard_par_dic\u001b[0m\u001b[0;34m\u001b[0m\u001b[0;34m\u001b[0m\u001b[0m\n",
      "\u001b[0m\u001b[0;32m    219 \u001b[0;31m\u001b[0;34m\u001b[0m\u001b[0m\n",
      "\u001b[0m\n"
     ]
    },
    {
     "name": "stdin",
     "output_type": "stream",
     "text": [
      "ipdb>  input_dic\n"
     ]
    },
    {
     "name": "stdout",
     "output_type": "stream",
     "text": [
      "{'m1': 5.431003254248099, 'm2': 5.417386225076431}\n"
     ]
    }
   ],
   "source": [
    "%debug"
   ]
  },
  {
   "cell_type": "code",
   "execution_count": null,
   "id": "feb29844-07af-46e4-8052-d08a37e288ac",
   "metadata": {},
   "outputs": [],
   "source": []
  }
 ],
 "metadata": {
  "kernelspec": {
   "display_name": "Python 3 (ipykernel)",
   "language": "python",
   "name": "python3"
  },
  "language_info": {
   "codemirror_mode": {
    "name": "ipython",
    "version": 3
   },
   "file_extension": ".py",
   "mimetype": "text/x-python",
   "name": "python",
   "nbconvert_exporter": "python",
   "pygments_lexer": "ipython3",
   "version": "3.9.19"
  }
 },
 "nbformat": 4,
 "nbformat_minor": 5
}
