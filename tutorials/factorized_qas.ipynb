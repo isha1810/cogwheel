{
 "cells": [
  {
   "cell_type": "markdown",
   "id": "2f1a96f7",
   "metadata": {},
   "source": [
    "# Factorized parameter estimation\n",
    "\n",
    "This tutorial shows how to run [factorized parameter estimation](https://arxiv.org/abs/2210.16278) (i.e., sampling over intrinsic parameters while marginalizing over extrinsic parameters, then reconstructing the full posterior in postprocessing). At this point, this method is restricted to quadrupolar, aligned-spin waveforms. It takes ~200 s on a single core for BBH, NSBH or BNS signals.\n"
   ]
  },
  {
   "cell_type": "code",
   "execution_count": null,
   "id": "7c1648d4",
   "metadata": {},
   "outputs": [],
   "source": [
    "# Ensure only one core is used\n",
    "import os\n",
    "os.environ[\"OMP_NUM_THREADS\"] = \"1\"\n",
    "os.environ[\"MKL_NUM_THREADS\"] = \"1\"\n",
    "\n",
    "import sys\n",
    "path_to_cogwheel = '..'\n",
    "sys.path.append(path_to_cogwheel)\n",
    "\n",
    "import numpy as np\n",
    "import pandas as pd\n",
    "import matplotlib.pyplot as plt\n",
    "\n",
    "from cogwheel import posterior, data, sampling, gw_plotting\n",
    "from cogwheel.factorized_qas import (IntrinsicParametersPrior,\n",
    "                                     IntrinsicTidalPrior,\n",
    "                                     MarginalizedRelativeBinningLikelihood)"
   ]
  },
  {
   "cell_type": "markdown",
   "id": "c1dba8fa",
   "metadata": {},
   "source": [
    "## Directory setup\n",
    "Edit these as desired:"
   ]
  },
  {
   "cell_type": "code",
   "execution_count": null,
   "id": "dd5091a7",
   "metadata": {},
   "outputs": [],
   "source": [
    "parentdir = 'example'  # Directory that will contain parameter estimation runs\n",
    "eventname = 'my_inj'"
   ]
  },
  {
   "cell_type": "markdown",
   "id": "2d3d685c",
   "metadata": {},
   "source": [
    "## Create an injection"
   ]
  },
  {
   "cell_type": "code",
   "execution_count": null,
   "id": "416a3aee",
   "metadata": {},
   "outputs": [],
   "source": [
    "# Instantiate synthetic Gaussian noise with duration, ASD functions and detector names\n",
    "event_data = data.EventData.gaussian_noise(\n",
    "    eventname=eventname, duration=8, detector_names='HLV',\n",
    "    asd_funcs=['asd_H_O3', 'asd_L_O3', 'asd_V_O3'], tgps=0.0)\n",
    "\n",
    "# Inject a signal on top\n",
    "par_dic = {'m1': 33.0,\n",
    "           'm2': 33.0,\n",
    "           'l1': 0,\n",
    "           'l2': 0,\n",
    "           'd_luminosity': 1000.0,\n",
    "           'iota': np.pi / 4,\n",
    "           'phi_ref': np.pi / 5,\n",
    "           'ra': 2.4,\n",
    "           'dec': 0.15,\n",
    "           'psi': 0.5,\n",
    "           's1z': 0.0,\n",
    "           's2z': 0.0,\n",
    "           's1x_n': 0.0,\n",
    "           's1y_n': 0.0,\n",
    "           's2x_n': 0.0,\n",
    "           's2y_n': 0.0,\n",
    "           't_geocenter': 0.0,\n",
    "           'f_ref': 105.0}\n",
    "\n",
    "event_data.inject_signal(par_dic=par_dic, approximant='IMRPhenomXAS')\n",
    "\n",
    "# Plot spectrogram\n",
    "event_data.specgram((-0.1, 0.1))"
   ]
  },
  {
   "cell_type": "markdown",
   "id": "2ba3105c",
   "metadata": {},
   "source": [
    "## Run parameter estimation"
   ]
  },
  {
   "cell_type": "code",
   "execution_count": null,
   "id": "258fda4e",
   "metadata": {
    "scrolled": false
   },
   "outputs": [],
   "source": [
    "%%time\n",
    "\n",
    "# Maximize likelihood, set up relative-binning summary data:\n",
    "post = posterior.Posterior.from_event(event=event_data, \n",
    "                                      mchirp_guess=28.8,\n",
    "                                      approximant='IMRPhenomXAS',\n",
    "                                      prior_class=IntrinsicParametersPrior, \n",
    "                                      likelihood_class=MarginalizedRelativeBinningLikelihood,\n",
    "                                      prior_kwargs={'symmetrize_lnq': True,\n",
    "                                                    'f_ref': par_dic['f_ref']})\n",
    "\n",
    "eventdir = post.get_eventdir(parentdir)"
   ]
  },
  {
   "cell_type": "code",
   "execution_count": null,
   "id": "9a6c41cc",
   "metadata": {},
   "outputs": [],
   "source": [
    "%%time\n",
    "\n",
    "# Run the sampler and postprocess:\n",
    "pym = sampling.PyMultiNest(post)\n",
    "pym.run_kwargs['n_live_points'] = 512\n",
    "\n",
    "rundir = pym.get_rundir(parentdir)\n",
    "print('PE rundir:', rundir)\n",
    "\n",
    "pym.run(rundir)"
   ]
  },
  {
   "cell_type": "markdown",
   "id": "305722be",
   "metadata": {},
   "source": [
    "### Plot posteriors"
   ]
  },
  {
   "cell_type": "code",
   "execution_count": null,
   "id": "7873a82d",
   "metadata": {},
   "outputs": [],
   "source": [
    "# Complete par_dic with derived quantities\n",
    "par_dic.update(post.prior.inverse_transform(**par_dic))\n",
    "par_dic['q'] = par_dic['m2'] / par_dic['m1']\n",
    "\n",
    "# Load samples\n",
    "samples = pd.read_feather(rundir/'samples.feather')\n",
    "samples['q'] = np.exp(-np.abs(samples['lnq']))\n",
    "samples['psi'] %= np.pi"
   ]
  },
  {
   "cell_type": "code",
   "execution_count": null,
   "id": "d5533d28",
   "metadata": {},
   "outputs": [],
   "source": [
    "plot_params = ['mchirp', 'q', 'chieff', 'd_luminosity', 'iota', \n",
    "               'ra', 'dec', 'psi', 'phi_ref']\n",
    "\n",
    "cp = gw_plotting.CornerPlot(samples[plot_params], bins=30)\n",
    "\n",
    "cp.plot(tightness=.999, max_n_ticks=3)\n",
    "cp.scatter_points(par_dic, colors=['C3'])"
   ]
  }
 ],
 "metadata": {
  "kernelspec": {
   "display_name": "Python 3 (ipykernel)",
   "language": "python",
   "name": "python3"
  },
  "language_info": {
   "codemirror_mode": {
    "name": "ipython",
    "version": 3
   },
   "file_extension": ".py",
   "mimetype": "text/x-python",
   "name": "python",
   "nbconvert_exporter": "python",
   "pygments_lexer": "ipython3",
   "version": "3.9.7"
  }
 },
 "nbformat": 4,
 "nbformat_minor": 5
}
